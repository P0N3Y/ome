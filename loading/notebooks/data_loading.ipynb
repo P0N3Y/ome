{
 "metadata": {
  "name": ""
 },
 "nbformat": 3,
 "nbformat_minor": 0,
 "worksheets": [
  {
   "cells": [
    {
     "cell_type": "code",
     "collapsed": false,
     "input": [
      "from om.orm import base\n",
      "from om.orm import data\n",
      "from om.orm.data import *\n",
      "from om.orm import components\n",
      "from om.orm.components import *\n",
      "from om.loading.load_data import *\n",
      "from om.lib import settings\n",
      "from sqlalchemy import func\n",
      "import simplejson as json\n",
      "import numpy as np\n",
      "import os\n",
      "import math\n",
      "import shutil\n",
      "import subprocess\n",
      "\n",
      "\n",
      "ome = base.Session()\n",
      "#genome_data = base.bigg_database.genome_data"
     ],
     "language": "python",
     "metadata": {},
     "outputs": [],
     "prompt_number": 1
    },
    {
     "cell_type": "heading",
     "level": 4,
     "metadata": {},
     "source": [
      "Reset the db for dev purposes (wipes ALL data!!!)"
     ]
    },
    {
     "cell_type": "code",
     "collapsed": false,
     "input": [
      "base.Base.metadata.drop_all()\n",
      "#base.omics_database.genome_data.drop()\n",
      "base.Base.metadata.create_all()"
     ],
     "language": "python",
     "metadata": {},
     "outputs": [],
     "prompt_number": 2
    },
    {
     "cell_type": "heading",
     "level": 4,
     "metadata": {},
     "source": [
      "Name based experiment loading"
     ]
    },
    {
     "cell_type": "code",
     "collapsed": false,
     "input": [
      "files_to_load = os.listdir(settings.dropbox_directory+'/crp/data/ChIP/bam') + \\\n",
      "                os.listdir(settings.dropbox_directory+'/crp/data/RNAseq/bam') + \\\n",
      "                os.listdir(settings.dropbox_directory+'/ome/data/Microarray/asv2') + \\\n",
      "                os.listdir(settings.dropbox_directory+'/ome/data/Microarray/ec2')\n",
      "\n",
      "for file_name in files_to_load:\n",
      "    if file_name[-3:] != 'bam' and file_name[-3:] != 'CEL': continue\n",
      "    #print file_name\n",
      "    name_based_experiment_loading(file_name, bulk_file_load=True)\n",
      "    \n",
      "\n",
      "#genome_data.create_index([(\"data_set_id\",ASCENDING), (\"leftpos\", ASCENDING)])\n",
      "\n",
      "rnaseq_exp_sets = ome.query(func.array_agg(RNASeqExperiment.name),func.array_agg(RNASeqExperiment.file_name)).\\\n",
      "                            group_by(RNASeqExperiment.strain_id, RNASeqExperiment.environment_id,\\\n",
      "                                     RNASeqExperiment.machine_ID,RNASeqExperiment.sequencing_type).all()\n",
      "\n",
      "array_exp_sets = ome.query(func.array_agg(ArrayExperiment.name),func.array_agg(ArrayExperiment.file_name)).\\\n",
      "                            group_by(ArrayExperiment.strain_id, ArrayExperiment.environment_id,\\\n",
      "                                     ArrayExperiment.platform).all()\n",
      "    \n",
      "chip_exp_sets = ome.query(func.array_agg(ChIPExperiment.name),func.array_agg(ChIPExperiment.file_name)).\\\n",
      "                          group_by(ChIPExperiment.strain_id, ChIPExperiment.environment_id,\\\n",
      "                                   ChIPExperiment.antibody, ChIPExperiment.protocol_type,\\\n",
      "                                   ChIPExperiment.target).all()\n"
     ],
     "language": "python",
     "metadata": {},
     "outputs": [
      {
       "output_type": "stream",
       "stream": "stdout",
       "text": [
        "chipExo-ArcA_ArcA8myc_glucose_NH4Cl_anaerobic_2_anti-myc_S3_L001_R1_001_sorted.bam\n",
        "chipExo-ArcA_ArcA8myc_glucose_NH4Cl_anaerobic_3_anti-myc_S4_L001_R1_001_sorted.bam"
       ]
      },
      {
       "output_type": "stream",
       "stream": "stdout",
       "text": [
        "\n",
        "chipExo-Crp-delCrp-glycerol-NH4Cl-O2-1-anti-crp.sorted.bam\n",
        "chipExo-Crp-delCrp-glycerol-NH4Cl-O2-2-anti-crp.sorted.bam\n",
        "chipExo-Crp-delCrp-glycerol-NH4Cl-O2-3-anti-crp.sorted.bam\n",
        "chipExo-Crp-wt-rif-glycerol-NH4Cl-O2-1-anti-crp.sorted.bam\n",
        "chipExo-Crp-wt-rif-glycerol-NH4Cl-O2-2-anti-crp.sorted.bam\n",
        "chipExo-Crp-wt-rif-glycerol-NH4Cl-O2-3-anti-crp.sorted.bam\n",
        "chipExo-Crp_Ar3_glycerol_NH4Cl_O2_1_anti-crp.sorted.bam\n",
        "chipExo-Crp_Ar3_glycerol_NH4Cl_O2_2_anti-crp.sorted.bam\n",
        "chipExo-Crp_Ar3_glycerol_NH4Cl_O2_3_anti-crp.sorted.bam\n",
        "chipExo-Crp_Crp8myc_fructose_NH4Cl_O2_1_anti-crp.sorted.bam"
       ]
      },
      {
       "output_type": "stream",
       "stream": "stdout",
       "text": [
        "\n",
        "chipExo-Crp_Crp8myc_fructose_NH4Cl_O2_1_anti-myc.sorted.bam\n",
        "chipExo-Crp_Crp8myc_fructose_NH4Cl_O2_2_anti-crp_S6_L001_R1_001_sorted.bam\n",
        "chipExo-Crp_Crp8myc_fructose_NH4Cl_O2_2_anti-myc_S1_L001_R1_001_sorted.bam\n",
        "chipExo-Crp_Crp8myc_fructose_NH4Cl_O2_3_anti-crp_S7_L001_R1_001_sorted.bam"
       ]
      },
      {
       "output_type": "stream",
       "stream": "stdout",
       "text": [
        "\n",
        "chipExo-Crp_Crp8myc_fructose_NH4Cl_O2_3_anti-myc_S2_L001_R1_001_sorted.bam\n",
        "chipExo-Crp_Crp8myc_glucose_NH4Cl_O2_1_anti-myc_S2_L001_R1_001_sorted.bam\n",
        "chipExo-Crp_Crp8myc_glucose_NH4Cl_O2_2_anti-myc_S3_L001_R1_001_sorted.bam\n",
        "chipExo-Crp_Crp8myc_glycerol_NH4Cl_O2_1_anti-crp.bam"
       ]
      },
      {
       "output_type": "stream",
       "stream": "stdout",
       "text": [
        "\n",
        "chipExo-Crp_Crp8myc_glycerol_NH4Cl_O2_1_anti-mock-crp.bam\n",
        "chipExo-Crp_Crp8myc_glycerol_NH4Cl_O2_1_anti-mock-myc.bam\n",
        "chipExo-Crp_Crp8myc_glycerol_NH4Cl_O2_1_anti-myc.bam\n",
        "chipExo-Crp_Crp8myc_glycerol_NH4Cl_O2_2_anti-crp_S4_L001_R1_001_sorted.bam\n",
        "chipExo-Crp_Crp8myc_glycerol_NH4Cl_O2_3_anti-myc_S5_L001_R1_001_sorted.bam"
       ]
      },
      {
       "output_type": "stream",
       "stream": "stdout",
       "text": [
        "\n",
        "chipExo-Crp_delAr1_glycerol_NH4Cl_O2_1_anti-crp.sorted.bam\n",
        "chipExo-Crp_delAr1_glycerol_NH4Cl_O2_2_anti-crp.sorted.bam\n",
        "chipExo-Crp_delAr1_glycerol_NH4Cl_O2_3_anti-crp.sorted.bam\n",
        "chipExo-Crp_delAr1delAr2_glycerol_NH4Cl_O2_1_anti-crp.sorted.bam"
       ]
      },
      {
       "output_type": "stream",
       "stream": "stdout",
       "text": [
        "\n",
        "chipExo-Crp_delAr1delAr2_glycerol_NH4Cl_O2_2_anti-crp.sorted.bam\n",
        "chipExo-Crp_delAr1delAr2_glycerol_NH4Cl_O2_3_anti-crp.sorted.bam\n",
        "chipExo-Crp_delAr2_glycerol_NH4Cl_O2_1_anti-crp.sorted.bam\n",
        "chipExo-Crp_delAr2_glycerol_NH4Cl_O2_2_anti-crp.sorted.bam"
       ]
      },
      {
       "output_type": "stream",
       "stream": "stdout",
       "text": [
        "\n",
        "chipExo-Crp_delAr2_glycerol_NH4Cl_O2_3_anti-crp.sorted.bam\n",
        "chipExo-Crp_wt_fructose_NH4Cl_O2_1_anti-crp.bam\n",
        "chipExo-Crp_wt_fructose_NH4Cl_O2_1_anti-mock-crp.bam\n",
        "chipExo-Crp_wt_fructose_NH4Cl_O2_2_anti-crp_S3_L001_R1_001_sorted.bam\n",
        "chipExo-Crp_wt_fructose_NH4Cl_O2_3_anti-crp.sorted.bam"
       ]
      },
      {
       "output_type": "stream",
       "stream": "stdout",
       "text": [
        "\n",
        "chipExo-Crp_wt_fructose_NH4Cl_O2_4_anti-crp.sorted.bam\n",
        "chipExo-Crp_wt_fructose_NH4Cl_O2_5_anti-crp.sorted.bam\n",
        "chipExo-Crp_wt_glucose_NH4Cl_O2_1_anti-crp_S4_L001_R1_001_sorted.bam\n",
        "chipExo-Crp_wt_glucose_NH4Cl_O2_2_anti-crp_1_10_S5_L001_R1_001_sorted.bam"
       ]
      },
      {
       "output_type": "stream",
       "stream": "stdout",
       "text": [
        "\n",
        "chipExo-Crp_wt_glycerol_NH4Cl_O2_1_anti-crp.bam\n",
        "chipExo-Crp_wt_glycerol_NH4Cl_O2_1_anti-mock-crp.bam\n",
        "chipExo-Crp_wt_glycerol_NH4Cl_O2_2_anti-crp_S1_L001_R1_001_sorted.bam\n",
        "chipExo-Crp_wt_glycerol_NH4Cl_O2_3_anti-crp_S2_L001_R1_001_sorted.bam\n",
        "chipExo-Crp_wt_glycerol_NH4Cl_O2_4_anti-crp.sorted.bam"
       ]
      },
      {
       "output_type": "stream",
       "stream": "stdout",
       "text": [
        "\n",
        "chipExo-Crp_wt_glycerol_NH4Cl_O2_5_anti-crp.sorted.bam\n",
        "chipExo-Crp_wt_glycerol_NH4Cl_O2_6_anti-crp.sorted.bam\n",
        "chipExo-Fnr_Fnr8myc_glucose_NH4Cl_anaerobic_2_anti-myc_S5_L001_R1_001_sorted.bam\n",
        "chipExo-Fnr_Fnr8myc_glucose_NH4Cl_anaerobic_3_anti-myc_S6_L001_R1_001_sorted.bam"
       ]
      },
      {
       "output_type": "stream",
       "stream": "stdout",
       "text": [
        "\n",
        "chipExo-RpoA_wt_glucose_NH4Cl_O2_1_anti-rpoA_S6_L001_R1_001_sorted.bam\n",
        "chipExo-RpoA_wt_glucose_NH4Cl_O2_2_anti-rpoA_S7_L001_R1_001_sorted.bam\n",
        "chipExo-RpoD_wt_fructose_NH4Cl_O2_1_anti-rpod.sorted.bam\n",
        "chipExo-RpoD_wt_fructose_NH4Cl_O2_2_anti-rpod.sorted.bam\n",
        "chipExo-RpoD_wt_fructose_NH4Cl_O2_3_anti-rpod.sorted.bam"
       ]
      },
      {
       "output_type": "stream",
       "stream": "stdout",
       "text": [
        "\n",
        "chipExo-RpoD_wt_glucose_NH4Cl_O2_1_anti-rpod.sorted.bam\n",
        "chipExo-RpoD_wt_glucose_NH4Cl_O2_2_anti-rpod.sorted.bam\n",
        "chipExo-RpoD_wt_glucose_NH4Cl_O2_3_anti-rpod.sorted.bam\n",
        "chipExo-RpoD_wt_glycerol_NH4Cl_O2_1_anti-rpod.sorted.bam"
       ]
      },
      {
       "output_type": "stream",
       "stream": "stdout",
       "text": [
        "\n",
        "chipExo-RpoD_wt_glycerol_NH4Cl_O2_2_anti-rpod.sorted.bam\n",
        "chipExo-RpoD_wt_glycerol_NH4Cl_O2_3_anti-rpod.sorted.bam\n",
        "RNAseq_Ar3_glycerol_NH4Cl_O2_1.sorted.bam\n",
        "RNAseq_Ar3_glycerol_NH4Cl_O2_2.sorted.bam\n",
        "RNAseq_Ar3_glycerol_NH4Cl_O2_3.sorted.bam"
       ]
      },
      {
       "output_type": "stream",
       "stream": "stdout",
       "text": [
        "\n",
        "RNAseq_delAr1_glycerol_NH4Cl_O2_1.sorted.bam\n",
        "RNAseq_delAr1_glycerol_NH4Cl_O2_2.sorted.bam\n",
        "RNAseq_delAr1_glycerol_NH4Cl_O2_3.sorted.bam\n",
        "RNAseq_delAr1delAr2_glycerol_NH4Cl_O2_1.sorted.bam"
       ]
      },
      {
       "output_type": "stream",
       "stream": "stdout",
       "text": [
        "\n",
        "RNAseq_delAr1delAr2_glycerol_NH4Cl_O2_2.sorted.bam\n",
        "RNAseq_delAr1delAr2_glycerol_NH4Cl_O2_3.sorted.bam\n",
        "RNAseq_delAr2_glycerol_NH4Cl_O2_1.sorted.bam\n",
        "RNAseq_delAr2_glycerol_NH4Cl_O2_2.sorted.bam"
       ]
      },
      {
       "output_type": "stream",
       "stream": "stdout",
       "text": [
        "\n",
        "RNAseq_delAr2_glycerol_NH4Cl_O2_3.sorted.bam\n",
        "RNAseq_delta-crp_fructose_NH4Cl_O2_1.sorted.bam\n",
        "RNAseq_delta-crp_fructose_NH4Cl_O2_2.sorted.bam\n",
        "RNAseq_delta-crp_fructose_NH4Cl_O2_3.sorted.bam\n",
        "RNAseq_delta-crp_glucose_NH4Cl_O2_1.sorted.bam"
       ]
      },
      {
       "output_type": "stream",
       "stream": "stdout",
       "text": [
        "\n",
        "RNAseq_delta-crp_glucose_NH4Cl_O2_2.sorted.bam\n",
        "RNAseq_delta-crp_glucose_NH4Cl_O2_3.sorted.bam\n",
        "RNAseq_delta-crp_glycerol_NH4Cl_O2_1.sorted.bam\n",
        "RNAseq_delta-crp_glycerol_NH4Cl_O2_2.sorted.bam"
       ]
      },
      {
       "output_type": "stream",
       "stream": "stdout",
       "text": [
        "\n",
        "RNAseq_delta-crp_glycerol_NH4Cl_O2_3.sorted.bam\n",
        "RNAseq_wt_fructose_NH4Cl_O2_1.sorted.bam\n",
        "RNAseq_wt_fructose_NH4Cl_O2_2.sorted.bam\n",
        "RNAseq_wt_glucose_NH4Cl_O2_1.bam\n",
        "RNAseq_wt_glucose_NH4Cl_O2_2.bam"
       ]
      },
      {
       "output_type": "stream",
       "stream": "stdout",
       "text": [
        "\n",
        "RNAseq_wt_glucose_NH4Cl_O2_3.bam\n",
        "RNAseq_wt_glycerol_NH4Cl_O2_1.sorted.bam\n",
        "RNAseq_wt_glycerol_NH4Cl_O2_2.sorted.bam\n",
        "affyexp_delta-arcA_glucose_NH4Cl_anaerobic_1_asv2.CEL\n",
        "affyexp_delta-arcA_glucose_NH4Cl_anaerobic_2_asv2.CEL"
       ]
      },
      {
       "output_type": "stream",
       "stream": "stdout",
       "text": [
        "\n",
        "affyexp_delta-arcA_glucose_NH4Cl_anaerobic_3_asv2.CEL\n",
        "affyexp_delta-arcA_glucose_NH4Cl_O2_1_asv2.CEL\n",
        "affyexp_delta-arcA_glucose_NH4Cl_O2_2_asv2.CEL\n",
        "affyexp_delta-arcA_glucose_NH4Cl_O2_3_asv2.CEL"
       ]
      },
      {
       "output_type": "stream",
       "stream": "stdout",
       "text": [
        "\n",
        "affyexp_delta-arcAfnr_glucose_NH4Cl_anaerobic_1_asv2.CEL\n",
        "affyexp_delta-arcAfnr_glucose_NH4Cl_anaerobic_2_asv2.CEL\n",
        "affyexp_delta-arcAfnr_glucose_NH4Cl_anaerobic_3_asv2.CEL\n",
        "affyexp_delta-arcAfnr_glucose_NH4Cl_O2_1_asv2.CEL\n",
        "affyexp_delta-arcAfnr_glucose_NH4Cl_O2_2_asv2.CEL"
       ]
      },
      {
       "output_type": "stream",
       "stream": "stdout",
       "text": [
        "\n",
        "affyexp_delta-arcAfnr_glucose_NH4Cl_O2_3_asv2.CEL\n",
        "affyexp_delta-fnr_glucose_NH4Cl_anaerobic_1_asv2.CEL\n",
        "affyexp_delta-fnr_glucose_NH4Cl_anaerobic_2_asv2.CEL\n",
        "affyexp_delta-fnr_glucose_NH4Cl_anaerobic_3_asv2.CEL\n",
        "affyexp_delta-fnr_glucose_NH4Cl_O2_1_asv2.CEL"
       ]
      },
      {
       "output_type": "stream",
       "stream": "stdout",
       "text": [
        "\n",
        "affyexp_delta-fnr_glucose_NH4Cl_O2_2_asv2.CEL\n",
        "affyexp_delta-fnr_glucose_NH4Cl_O2_3_asv2.CEL\n",
        "affyexp_delta-narL_glucose_NH4Cl_anaerobic_1_asv2.CEL\n",
        "affyexp_delta-narL_glucose_NH4Cl_anaerobic_2_asv2.CEL"
       ]
      },
      {
       "output_type": "stream",
       "stream": "stdout",
       "text": [
        "\n",
        "affyexp_delta-narL_glucose_NH4Cl_anaerobic_3_asv2.CEL\n",
        "affyexp_delta-narL_glucose_NH4Cl_NO3_1_asv2.CEL\n",
        "affyexp_delta-narL_glucose_NH4Cl_NO3_2_asv2.CEL\n",
        "affyexp_delta-narL_glucose_NH4Cl_NO3_3_asv2.CEL"
       ]
      },
      {
       "output_type": "stream",
       "stream": "stdout",
       "text": [
        "\n",
        "affyexp_delta-narLnarP_glucose_NH4Cl_anaerobic_1_asv2.CEL\n",
        "affyexp_delta-narLnarP_glucose_NH4Cl_anaerobic_2_asv2.CEL\n",
        "affyexp_delta-narLnarP_glucose_NH4Cl_anaerobic_3_asv2.CEL\n",
        "affyexp_delta-narLnarP_glucose_NH4Cl_NO3_1_asv2.CEL\n",
        "affyexp_delta-narLnarP_glucose_NH4Cl_NO3_2_asv2.CEL"
       ]
      },
      {
       "output_type": "stream",
       "stream": "stdout",
       "text": [
        "\n",
        "affyexp_delta-narLnarP_glucose_NH4Cl_NO3_3_asv2.CEL\n",
        "affyexp_delta-narP_glucose_NH4Cl_anaerobic_1_asv2.CEL\n",
        "affyexp_delta-narP_glucose_NH4Cl_anaerobic_2_asv2.CEL\n",
        "affyexp_delta-narP_glucose_NH4Cl_anaerobic_3_asv2.CEL\n",
        "affyexp_delta-narP_glucose_NH4Cl_NO3_2_asv2.CEL"
       ]
      },
      {
       "output_type": "stream",
       "stream": "stdout",
       "text": [
        "\n",
        "affyexp_delta-narP_glucose_NH4Cl_NO3_3_asv2.CEL\n",
        "affyexp_wt_glucose_NH4Cl_anaerobic_1_asv2.CEL\n",
        "affyexp_wt_glucose_NH4Cl_anaerobic_2_asv2.CEL\n",
        "affyexp_wt_glucose_NH4Cl_anaerobic_3_asv2.CEL"
       ]
      },
      {
       "output_type": "stream",
       "stream": "stdout",
       "text": [
        "\n",
        "affyexp_wt_glucose_NH4Cl_anaerobic_4_asv2.CEL\n",
        "affyexp_wt_glucose_NH4Cl_anaerobic_5_asv2.CEL\n",
        "affyexp_wt_glucose_NH4Cl_anaerobic_6_asv2.CEL\n",
        "affyexp_wt_glucose_NH4Cl_NO3_1_asv2.CEL\n",
        "affyexp_wt_glucose_NH4Cl_NO3_2_asv2.CEL"
       ]
      },
      {
       "output_type": "stream",
       "stream": "stdout",
       "text": [
        "\n",
        "affyexp_wt_glucose_NH4Cl_NO3_3_asv2.CEL\n",
        "affyexp_wt_glucose_NH4Cl_O2_1_asv2.CEL\n",
        "affyexp_wt_glucose_NH4Cl_O2_2_asv2.CEL\n",
        "affyexp_wt_glucose_NH4Cl_O2_3_asv2.CEL\n",
        "affyexp_delta-arcA_glucose_NH4Cl_NO3_1_ec2.CEL"
       ]
      },
      {
       "output_type": "stream",
       "stream": "stdout",
       "text": [
        "\n",
        "affyexp_delta-arcA_glucose_NH4Cl_NO3_2_ec2.CEL\n",
        "affyexp_delta-arcA_glucose_NH4Cl_NO3_3_ec2.CEL\n",
        "affyexp_delta-cra_acetate_NH4Cl_O2_1_ec2.CEL\n",
        "affyexp_delta-cra_acetate_NH4Cl_O2_2_ec2.CEL"
       ]
      },
      {
       "output_type": "stream",
       "stream": "stdout",
       "text": [
        "\n",
        "affyexp_delta-cra_acetate_NH4Cl_O2_3_ec2.CEL\n",
        "affyexp_delta-cra_glucose_NH4Cl_anaerobic_1_ec2.CEL\n",
        "affyexp_delta-cra_glucose_NH4Cl_anaerobic_2_ec2.CEL\n",
        "affyexp_delta-cra_glucose_NH4Cl_anaerobic_3_ec2.CEL\n",
        "affyexp_delta-cra_glucose_NH4Cl_O2_1_ec2.CEL"
       ]
      },
      {
       "output_type": "stream",
       "stream": "stdout",
       "text": [
        "\n",
        "affyexp_delta-cra_glucose_NH4Cl_O2_2_ec2.CEL\n",
        "affyexp_delta-cra_glucose_NH4Cl_O2_3_ec2.CEL\n",
        "affyexp_delta-crp_fructose_NH4Cl_O2_1_ec2.CEL\n",
        "affyexp_delta-crp_fructose_NH4Cl_O2_2_ec2.CEL\n",
        "affyexp_delta-crp_fructose_NH4Cl_O2_3_ec2.CEL"
       ]
      },
      {
       "output_type": "stream",
       "stream": "stdout",
       "text": [
        "\n",
        "affyexp_delta-crp_glucose_NH4Cl_O2_1_ec2.CEL\n",
        "affyexp_delta-crp_glucose_NH4Cl_O2_2_ec2.CEL\n",
        "affyexp_delta-crp_glucose_NH4Cl_O2_3_ec2.CEL"
       ]
      },
      {
       "output_type": "stream",
       "stream": "stdout",
       "text": [
        "\n",
        "affyexp_delta-fnr_glucose_NH4Cl_NO3_1_ec2.CEL\n",
        "affyexp_delta-fnr_glucose_NH4Cl_NO3_2_ec2.CEL\n",
        "affyexp_delta-fnr_glucose_NH4Cl_NO3_3_ec2.CEL\n",
        "affyexp_delta-lrp_glucose_leucine_O2_1_ec2.CEL\n",
        "affyexp_delta-lrp_glucose_leucine_O2_2_ec2.CEL"
       ]
      },
      {
       "output_type": "stream",
       "stream": "stdout",
       "text": [
        "\n",
        "affyexp_delta-lrp_glucose_leucine_O2_3_ec2.CEL\n",
        "affyexp_delta-lrp_glucose_NH4Cl_O2_1_ec2.CEL\n",
        "affyexp_delta-lrp_glucose_NH4Cl_O2_2_ec2.CEL\n",
        "affyexp_delta-lrp_glucose_NH4Cl_O2_3_ec2.CEL"
       ]
      },
      {
       "output_type": "stream",
       "stream": "stdout",
       "text": [
        "\n",
        "affyexp_delta-purR_glucose_adenine_O2_1_ec2.CEL\n",
        "affyexp_delta-purR_glucose_adenine_O2_2_ec2.CEL\n",
        "affyexp_delta-purR_glucose_NH4Cl_O2_1_ec2.CEL\n",
        "affyexp_delta-purR_glucose_NH4Cl_O2_2_ec2.CEL"
       ]
      },
      {
       "output_type": "stream",
       "stream": "stdout",
       "text": [
        "\n",
        "affyexp_wt_acetate_NH4Cl_O2_1_ec2.CEL\n",
        "affyexp_wt_acetate_NH4Cl_O2_2_ec2.CEL\n",
        "affyexp_wt_acetate_NH4Cl_O2_3_ec2.CEL\n",
        "affyexp_wt_fructose_NH4Cl_O2_1_ec2.CEL"
       ]
      },
      {
       "output_type": "stream",
       "stream": "stdout",
       "text": [
        "\n",
        "affyexp_wt_fructose_NH4Cl_O2_2_ec2.CEL\n",
        "affyexp_wt_fructose_NH4Cl_O2_3_ec2.CEL\n",
        "affyexp_wt_glucose_adenine_O2_1_ec2.CEL\n",
        "affyexp_wt_glucose_adenine_O2_2_ec2.CEL\n",
        "affyexp_wt_glucose_leucine_O2_1_ec2.CEL"
       ]
      },
      {
       "output_type": "stream",
       "stream": "stdout",
       "text": [
        "\n",
        "affyexp_wt_glucose_leucine_O2_2_ec2.CEL\n",
        "affyexp_wt_glucose_leucine_O2_3_ec2.CEL\n",
        "affyexp_wt_glucose_NH4Cl_anaerobic_1_ec2.CEL\n",
        "affyexp_wt_glucose_NH4Cl_anaerobic_2_ec2.CEL\n",
        "affyexp_wt_glucose_NH4Cl_anaerobic_3_ec2.CEL\n",
        "affyexp_wt_glucose_NH4Cl_NO3_1_ec2.CEL"
       ]
      },
      {
       "output_type": "stream",
       "stream": "stdout",
       "text": [
        "\n",
        "affyexp_wt_glucose_NH4Cl_NO3_2_ec2.CEL\n",
        "affyexp_wt_glucose_NH4Cl_NO3_3_ec2.CEL\n",
        "affyexp_wt_glucose_NH4Cl_O2_1_ec2.CEL\n",
        "affyexp_wt_glucose_NH4Cl_O2_2_ec2.CEL\n",
        "affyexp_wt_glucose_NH4Cl_O2_3_ec2.CEL\n"
       ]
      }
     ],
     "prompt_number": 3
    },
    {
     "cell_type": "code",
     "collapsed": false,
     "input": [],
     "language": "python",
     "metadata": {},
     "outputs": []
    },
    {
     "cell_type": "code",
     "collapsed": false,
     "input": [
      "for exp_group in rnaseq_exp_sets: \n",
      "    exp_group_name = '_'.join(exp_group[0][0].split('_')[:-1])\n",
      "    exp = ome.query(RNASeqExperiment).filter_by(name=exp_group[0][0]).one()\n",
      "    exp_analysis = ome.get_or_create(NormalizedExpression, name=exp_group_name, environment=exp.environment, strain=exp.strain)\n",
      "    for exp_name in exp_group[0]:\n",
      "        exp = ome.query(RNASeqExperiment).filter_by(name=exp_name).one()\n",
      "        ome.get_or_create(AnalysisComposition, analysis_id = exp_analysis.id, data_set_id = exp.id)\n",
      "\n",
      "for exp_group in array_exp_sets: \n",
      "    exp_group_name = '_'.join(exp_group[0][0].split('_')[:-1])\n",
      "    exp = ome.query(ArrayExperiment).filter_by(name=exp_group[0][0]).one()\n",
      "    exp_analysis = ome.get_or_create(NormalizedExpression, name=exp_group_name, environment=exp.environment, strain=exp.strain)\n",
      "    for exp_name in exp_group[0]:\n",
      "        exp = ome.query(ArrayExperiment).filter_by(name=exp_name).one()\n",
      "        ome.get_or_create(AnalysisComposition, analysis_id = exp_analysis.id, data_set_id = exp.id)\n",
      "\n",
      "        \n",
      "default_parameters = {'mrc':20, 'smooth':3, 'nrf':'', 'outNP':'', 'nf':''}\n",
      "\n",
      "for exp_group in chip_exp_sets:\n",
      "    parameters = {'mrc':20, 'smooth':3, 'nrf':'', 'outNP':'', 'nf':''}\n",
      "    if not set(parameters.items()) - set(default_parameters.items()): \n",
      "        parameter_name = 'default'\n",
      "    else: \n",
      "        parameter_name = '_'.join([y+'-'+str(z) for y,z in dict(set(parameters.items()) - set(default_parameters.items())).iteritems()])\n",
      "    \n",
      "    exp_group_name = '_'.join(exp_group[0][0].split('_')[0:5]+exp_group[0][0].split('_')[6:7]+[parameter_name,'peaks'])\n",
      "    exp = ome.query(ChIPExperiment).filter_by(name=exp_group[0][0]).one()\n",
      "\n",
      "    exp_analysis = ome.get_or_create(ChIPPeakAnalysis, name=exp_group_name, environment=exp.environment, strain=exp.strain,\\\n",
      "                                     parameters=json.dumps(parameters))\n",
      "    for exp_name in exp_group[0]:\n",
      "        exp = ome.query(ChIPExperiment).filter_by(name=exp_name).one()\n",
      "        ome.get_or_create(AnalysisComposition, analysis_id = exp_analysis.id, data_set_id = exp.id)\n"
     ],
     "language": "python",
     "metadata": {},
     "outputs": [],
     "prompt_number": 4
    },
    {
     "cell_type": "code",
     "collapsed": false,
     "input": [
      "ome.query(ChIPExperiment).join(Strain,InVivoEnvironment).filter(and_(Strain.name == 'wt',\\\n",
      "                                                                     InVivoEnvironment.carbon_source == 'glycerol',\n",
      "                                                                     ChIPExperiment.antibody == 'anti-crp')).first().name"
     ],
     "language": "python",
     "metadata": {},
     "outputs": []
    },
    {
     "cell_type": "heading",
     "level": 4,
     "metadata": {},
     "source": [
      "Sweeping parameters for Crp glycerol peak calling"
     ]
    },
    {
     "cell_type": "code",
     "collapsed": false,
     "input": [
      "exps = ome.query(ChIPExperiment).join(Strain,InVivoEnvironment).\\\n",
      "                                 filter(and_(Strain.name == 'wt',\\\n",
      "                                             InVivoEnvironment.carbon_source == 'glycerol',\n",
      "                                             ChIPExperiment.antibody == 'anti-crp')).all()\n",
      "\n",
      "default_parameters = {'mrc':20, 'smooth':3, 'nrf':'', 'outNP':''}\n",
      "parameters = {'mrc':20, 'smooth':3, 'nrf':'', 'outNP':'','nf':''}\n",
      "if not set(parameters.items()) - set(default_parameters.items()): \n",
      "    parameter_name = 'default'\n",
      "else: \n",
      "    parameter_name = '_'.join([y+'-'+str(z) for y,z in dict(set(parameters.items()) - set(default_parameters.items())).iteritems()])\n",
      "       \n",
      "exp_group_name = '_'.join(exps[0].name.split('_')[0:5]+exps[0].name.split('_')[6:7]+[parameter_name,'peaks'])\n",
      "\n",
      "peak_analysis = ome.get_or_create(ChIPPeakAnalysis, name=exp_group_name, environment=exps[0].environment, strain=exps[0].strain,\\\n",
      "                                     parameters=json.dumps(parameters))\n",
      "for exp in exps:\n",
      "    ome.get_or_create(AnalysisComposition, analysis_id = peak_analysis.id, data_set_id = exp.id)\n",
      "\n",
      "run_gem([peak_analysis])"
     ],
     "language": "python",
     "metadata": {},
     "outputs": [],
     "prompt_number": 3
    },
    {
     "cell_type": "code",
     "collapsed": false,
     "input": [
      "#from IPython.parallel import Client\n",
      "\n",
      "#c = Client()\n",
      "#c[:].execute('from PrototypeDB.loading import load_data')\n",
      "#v = c[:]\n",
      "#d = v.map(lambda x:load_data.run_cuffquant(x), [exp for exp in ome.query(RNASeqExperiment).all()])\n"
     ],
     "language": "python",
     "metadata": {},
     "outputs": [],
     "prompt_number": 3
    },
    {
     "cell_type": "code",
     "collapsed": false,
     "input": [
      "#run_cuffnorm(rnaseq_exp_sets)\n",
      "#run_cuffdiff(rnaseq_exp_sets)\n",
      "#run_gem(chip_exp_sets)\n",
      "\n",
      "#load_gem(ome.query(ChIPPeakAnalysis).all())\n",
      "load_cuffnorm()\n",
      "load_cuffdiff()\n",
      "load_arraydata(settings.dropbox_directory+'/ome/data/Microarray/formatted_asv2.txt')\n",
      "load_arraydata(settings.dropbox_directory+'/ome/data/Microarray/formatted_ec2.txt')\n"
     ],
     "language": "python",
     "metadata": {},
     "outputs": [
      {
       "output_type": "stream",
       "stream": "stdout",
       "text": [
        "['tracking_id', 'RNAseq_Ar3_glycerol_NH4Cl_O2_0', 'RNAseq_Ar3_glycerol_NH4Cl_O2_1', 'RNAseq_Ar3_glycerol_NH4Cl_O2_2', 'RNAseq_delAr1_glycerol_NH4Cl_O2_0', 'RNAseq_delAr1_glycerol_NH4Cl_O2_1', 'RNAseq_delAr1_glycerol_NH4Cl_O2_2', 'RNAseq_delAr1delAr2_glycerol_NH4Cl_O2_0', 'RNAseq_delAr1delAr2_glycerol_NH4Cl_O2_1', 'RNAseq_delAr1delAr2_glycerol_NH4Cl_O2_2', 'RNAseq_delAr2_glycerol_NH4Cl_O2_0', 'RNAseq_delAr2_glycerol_NH4Cl_O2_1', 'RNAseq_delAr2_glycerol_NH4Cl_O2_2', 'RNAseq_delta-crp_glycerol_NH4Cl_O2_0', 'RNAseq_delta-crp_glycerol_NH4Cl_O2_1', 'RNAseq_delta-crp_glycerol_NH4Cl_O2_2', 'RNAseq_delta-crp_fructose_NH4Cl_O2_0', 'RNAseq_delta-crp_fructose_NH4Cl_O2_1', 'RNAseq_delta-crp_fructose_NH4Cl_O2_2', 'RNAseq_delta-crp_glucose_NH4Cl_O2_0', 'RNAseq_delta-crp_glucose_NH4Cl_O2_1', 'RNAseq_delta-crp_glucose_NH4Cl_O2_2', 'RNAseq_wt_glycerol_NH4Cl_O2_0', 'RNAseq_wt_glycerol_NH4Cl_O2_1', 'RNAseq_wt_fructose_NH4Cl_O2_0', 'RNAseq_wt_fructose_NH4Cl_O2_1', 'RNAseq_wt_glucose_NH4Cl_O2_0', 'RNAseq_wt_glucose_NH4Cl_O2_1', 'RNAseq_wt_glucose_NH4Cl_O2_2']\n",
        "RNAseq_Ar3_glycerol_NH4Cl_O2\\RNAseq_delAr1_glycerol_NH4Cl_O2"
       ]
      },
      {
       "output_type": "stream",
       "stream": "stdout",
       "text": [
        "\n",
        "RNAseq_Ar3_glycerol_NH4Cl_O2\\RNAseq_delAr1delAr2_glycerol_NH4Cl_O2"
       ]
      },
      {
       "output_type": "stream",
       "stream": "stdout",
       "text": [
        "\n",
        "RNAseq_delAr1_glycerol_NH4Cl_O2\\RNAseq_delAr1delAr2_glycerol_NH4Cl_O2"
       ]
      },
      {
       "output_type": "stream",
       "stream": "stdout",
       "text": [
        "\n",
        "RNAseq_Ar3_glycerol_NH4Cl_O2\\RNAseq_delAr2_glycerol_NH4Cl_O2"
       ]
      },
      {
       "output_type": "stream",
       "stream": "stdout",
       "text": [
        "\n",
        "RNAseq_delAr1_glycerol_NH4Cl_O2\\RNAseq_delAr2_glycerol_NH4Cl_O2"
       ]
      },
      {
       "output_type": "stream",
       "stream": "stdout",
       "text": [
        "\n",
        "RNAseq_delAr1delAr2_glycerol_NH4Cl_O2\\RNAseq_delAr2_glycerol_NH4Cl_O2"
       ]
      },
      {
       "output_type": "stream",
       "stream": "stdout",
       "text": [
        "\n",
        "RNAseq_Ar3_glycerol_NH4Cl_O2\\RNAseq_delta-crp_glycerol_NH4Cl_O2"
       ]
      },
      {
       "output_type": "stream",
       "stream": "stdout",
       "text": [
        "\n",
        "RNAseq_delAr1_glycerol_NH4Cl_O2\\RNAseq_delta-crp_glycerol_NH4Cl_O2"
       ]
      },
      {
       "output_type": "stream",
       "stream": "stdout",
       "text": [
        "\n",
        "RNAseq_delAr1delAr2_glycerol_NH4Cl_O2\\RNAseq_delta-crp_glycerol_NH4Cl_O2"
       ]
      },
      {
       "output_type": "stream",
       "stream": "stdout",
       "text": [
        "\n",
        "RNAseq_delAr2_glycerol_NH4Cl_O2\\RNAseq_delta-crp_glycerol_NH4Cl_O2"
       ]
      },
      {
       "output_type": "stream",
       "stream": "stdout",
       "text": [
        "\n",
        "RNAseq_delta-crp_glycerol_NH4Cl_O2\\RNAseq_delta-crp_glucose_NH4Cl_O2"
       ]
      },
      {
       "output_type": "stream",
       "stream": "stdout",
       "text": [
        "\n",
        "RNAseq_delta-crp_fructose_NH4Cl_O2\\RNAseq_delta-crp_glucose_NH4Cl_O2"
       ]
      },
      {
       "output_type": "stream",
       "stream": "stdout",
       "text": [
        "\n",
        "RNAseq_Ar3_glycerol_NH4Cl_O2\\RNAseq_wt_glycerol_NH4Cl_O2"
       ]
      },
      {
       "output_type": "stream",
       "stream": "stdout",
       "text": [
        "\n",
        "RNAseq_delAr1_glycerol_NH4Cl_O2\\RNAseq_wt_glycerol_NH4Cl_O2"
       ]
      },
      {
       "output_type": "stream",
       "stream": "stdout",
       "text": [
        "\n",
        "RNAseq_delAr1delAr2_glycerol_NH4Cl_O2\\RNAseq_wt_glycerol_NH4Cl_O2"
       ]
      },
      {
       "output_type": "stream",
       "stream": "stdout",
       "text": [
        "\n",
        "RNAseq_delAr2_glycerol_NH4Cl_O2\\RNAseq_wt_glycerol_NH4Cl_O2"
       ]
      },
      {
       "output_type": "stream",
       "stream": "stdout",
       "text": [
        "\n",
        "RNAseq_delta-crp_glycerol_NH4Cl_O2\\RNAseq_wt_glycerol_NH4Cl_O2"
       ]
      },
      {
       "output_type": "stream",
       "stream": "stdout",
       "text": [
        "\n",
        "RNAseq_delta-crp_fructose_NH4Cl_O2\\RNAseq_wt_fructose_NH4Cl_O2"
       ]
      },
      {
       "output_type": "stream",
       "stream": "stdout",
       "text": [
        "\n",
        "RNAseq_wt_glycerol_NH4Cl_O2\\RNAseq_wt_fructose_NH4Cl_O2"
       ]
      },
      {
       "output_type": "stream",
       "stream": "stdout",
       "text": [
        "\n",
        "RNAseq_delta-crp_glucose_NH4Cl_O2\\RNAseq_wt_glucose_NH4Cl_O2"
       ]
      },
      {
       "output_type": "stream",
       "stream": "stdout",
       "text": [
        "\n",
        "RNAseq_wt_glycerol_NH4Cl_O2\\RNAseq_wt_glucose_NH4Cl_O2"
       ]
      },
      {
       "output_type": "stream",
       "stream": "stdout",
       "text": [
        "\n",
        "RNAseq_wt_fructose_NH4Cl_O2\\RNAseq_wt_glucose_NH4Cl_O2"
       ]
      },
      {
       "output_type": "stream",
       "stream": "stdout",
       "text": [
        "\n",
        "affyexp_wt_glucose_NH4CL_O2_10.CEL"
       ]
      },
      {
       "output_type": "stream",
       "stream": "stdout",
       "text": [
        "\n",
        "affyexp_wt_glucose_NH4CL_O2_11.CEL\n",
        "affyexp_wt_glucose_NH4CL_O2_12.CEL\n",
        "affyexp_wt_glucose_NH4CL_O2_13.CEL\n",
        "affyexp_wt_glucose_NH4CL_O2_14.CEL\n",
        "affyexp_wt_glucose_NH4CL_O2_15.CEL\n",
        "affyexp_wt_glucose_NH4CL_anaerobic_10.CEL\n",
        "affyexp_wt_glucose_NH4CL_anaerobic_7.CEL\n",
        "affyexp_wt_glucose_NH4CL_anaerobic_8.CEL\n",
        "affyexp_wt_glucose_NH4CL_anaerobic_9.CEL\n",
        "fuck  araH"
       ]
      },
      {
       "output_type": "stream",
       "stream": "stdout",
       "text": [
        "\n",
        "fuck  araH\n",
        "fuck   "
       ]
      },
      {
       "output_type": "stream",
       "stream": "stdout",
       "text": [
        "\n",
        "fuck   \n",
        "fuck   \n",
        "fuck   "
       ]
      },
      {
       "output_type": "stream",
       "stream": "stdout",
       "text": [
        "\n",
        "fuck   \n",
        "fuck   \n",
        "fuck   "
       ]
      },
      {
       "output_type": "stream",
       "stream": "stdout",
       "text": [
        "\n",
        "fuck   "
       ]
      },
      {
       "output_type": "stream",
       "stream": "stdout",
       "text": [
        "\n",
        "fuck   "
       ]
      },
      {
       "output_type": "stream",
       "stream": "stdout",
       "text": [
        "\n",
        "fuck   "
       ]
      },
      {
       "output_type": "stream",
       "stream": "stdout",
       "text": [
        "\n",
        "fuck   "
       ]
      },
      {
       "output_type": "stream",
       "stream": "stdout",
       "text": [
        "\n",
        "fuck   \n",
        "fuck   \n",
        "fuck   \n",
        "fuck   \n",
        "fuck   "
       ]
      },
      {
       "output_type": "stream",
       "stream": "stdout",
       "text": [
        "\n",
        "fuck   "
       ]
      },
      {
       "output_type": "stream",
       "stream": "stdout",
       "text": [
        "\n",
        "fuck   "
       ]
      },
      {
       "output_type": "stream",
       "stream": "stdout",
       "text": [
        "\n",
        "fuck   "
       ]
      },
      {
       "output_type": "stream",
       "stream": "stdout",
       "text": [
        "\n",
        "fuck   "
       ]
      },
      {
       "output_type": "stream",
       "stream": "stdout",
       "text": [
        "\n",
        "fuck   "
       ]
      },
      {
       "output_type": "stream",
       "stream": "stdout",
       "text": [
        "\n",
        "fuck   "
       ]
      },
      {
       "output_type": "stream",
       "stream": "stdout",
       "text": [
        "\n",
        "fuck   "
       ]
      },
      {
       "output_type": "stream",
       "stream": "stdout",
       "text": [
        "\n",
        "fuck   "
       ]
      },
      {
       "output_type": "stream",
       "stream": "stdout",
       "text": [
        "\n",
        "fuck   "
       ]
      },
      {
       "output_type": "stream",
       "stream": "stdout",
       "text": [
        "\n",
        "fuck   "
       ]
      },
      {
       "output_type": "stream",
       "stream": "stdout",
       "text": [
        "\n",
        "fuck   \n",
        "fuck   "
       ]
      },
      {
       "output_type": "stream",
       "stream": "stdout",
       "text": [
        "\n",
        "fuck   \n",
        "fuck   "
       ]
      },
      {
       "output_type": "stream",
       "stream": "stdout",
       "text": [
        "\n",
        "fuck   "
       ]
      },
      {
       "output_type": "stream",
       "stream": "stdout",
       "text": [
        "\n",
        "fuck   "
       ]
      },
      {
       "output_type": "stream",
       "stream": "stdout",
       "text": [
        "\n",
        "fuck   \n",
        "fuck   "
       ]
      },
      {
       "output_type": "stream",
       "stream": "stdout",
       "text": [
        "\n",
        "fuck   \n",
        "fuck   \n",
        "fuck   "
       ]
      },
      {
       "output_type": "stream",
       "stream": "stdout",
       "text": [
        "\n",
        "fuck   \n",
        "fuck   "
       ]
      },
      {
       "output_type": "stream",
       "stream": "stdout",
       "text": [
        "\n",
        "fuck   "
       ]
      },
      {
       "output_type": "stream",
       "stream": "stdout",
       "text": [
        "\n",
        "fuck   "
       ]
      },
      {
       "output_type": "stream",
       "stream": "stdout",
       "text": [
        "\n",
        "fuck   "
       ]
      },
      {
       "output_type": "stream",
       "stream": "stdout",
       "text": [
        "\n",
        "fuck   \n",
        "fuck   \n",
        "fuck   "
       ]
      },
      {
       "output_type": "stream",
       "stream": "stdout",
       "text": [
        "\n",
        "fuck  dgoA"
       ]
      },
      {
       "output_type": "stream",
       "stream": "stdout",
       "text": [
        "\n",
        "fuck  fruL"
       ]
      },
      {
       "output_type": "stream",
       "stream": "stdout",
       "text": [
        "\n",
        "fuck  glcF"
       ]
      },
      {
       "output_type": "stream",
       "stream": "stdout",
       "text": [
        "\n",
        "fuck  gntU"
       ]
      },
      {
       "output_type": "stream",
       "stream": "stdout",
       "text": [
        "\n",
        "fuck  gntU\n",
        "fuck  mcrD"
       ]
      },
      {
       "output_type": "stream",
       "stream": "stdout",
       "text": [
        "\n",
        "fuck  nmpC"
       ]
      },
      {
       "output_type": "stream",
       "stream": "stdout",
       "text": [
        "\n",
        "fuck  phnQ"
       ]
      },
      {
       "output_type": "stream",
       "stream": "stdout",
       "text": [
        "\n",
        "fuck  pssR"
       ]
      },
      {
       "output_type": "stream",
       "stream": "stdout",
       "text": [
        "\n",
        "fuck  rtcA"
       ]
      },
      {
       "output_type": "stream",
       "stream": "stdout",
       "text": [
        "\n",
        "fuck  smf"
       ]
      },
      {
       "output_type": "stream",
       "stream": "stdout",
       "text": [
        "\n",
        "fuck  smf\n",
        "fuck  ycdF"
       ]
      },
      {
       "output_type": "stream",
       "stream": "stdout",
       "text": [
        "\n",
        "fuck  ycdV"
       ]
      },
      {
       "output_type": "stream",
       "stream": "stdout",
       "text": [
        "\n",
        "fuck  yejO"
       ]
      },
      {
       "output_type": "stream",
       "stream": "stdout",
       "text": [
        "\n",
        "fuck  yfjD"
       ]
      },
      {
       "output_type": "stream",
       "stream": "stdout",
       "text": [
        "\n",
        "fuck  ygcU"
       ]
      },
      {
       "output_type": "stream",
       "stream": "stdout",
       "text": [
        "\n",
        "fuck  ygfQ"
       ]
      },
      {
       "output_type": "stream",
       "stream": "stdout",
       "text": [
        "\n",
        "fuck  ygfR\n",
        "fuck  yggP"
       ]
      },
      {
       "output_type": "stream",
       "stream": "stdout",
       "text": [
        "\n",
        "fuck  ygiR"
       ]
      },
      {
       "output_type": "stream",
       "stream": "stdout",
       "text": [
        "\n",
        "fuck  yhaM"
       ]
      },
      {
       "output_type": "stream",
       "stream": "stdout",
       "text": [
        "\n",
        "fuck  yhaN\n",
        "fuck  yhaP"
       ]
      },
      {
       "output_type": "stream",
       "stream": "stdout",
       "text": [
        "\n",
        "fuck  yhaQ\n",
        "fuck  yhdP"
       ]
      },
      {
       "output_type": "stream",
       "stream": "stdout",
       "text": [
        "\n",
        "fuck  yhdR\n",
        "fuck  yhfO"
       ]
      },
      {
       "output_type": "stream",
       "stream": "stdout",
       "text": [
        "\n",
        "fuck  yhfP\n",
        "fuck  yhgJ"
       ]
      },
      {
       "output_type": "stream",
       "stream": "stdout",
       "text": [
        "\n",
        "fuck  yi82"
       ]
      },
      {
       "output_type": "stream",
       "stream": "stdout",
       "text": [
        "\n",
        "fuck  yidW"
       ]
      },
      {
       "output_type": "stream",
       "stream": "stdout",
       "text": [
        "\n",
        "fuck  yifA"
       ]
      },
      {
       "output_type": "stream",
       "stream": "stdout",
       "text": [
        "\n",
        "fuck  yigE"
       ]
      },
      {
       "output_type": "stream",
       "stream": "stdout",
       "text": [
        "\n",
        "fuck  yigW"
       ]
      },
      {
       "output_type": "stream",
       "stream": "stdout",
       "text": [
        "\n",
        "fuck  yigW\n",
        "fuck  yijI"
       ]
      },
      {
       "output_type": "stream",
       "stream": "stdout",
       "text": [
        "\n",
        "fuck  yjgG"
       ]
      },
      {
       "output_type": "stream",
       "stream": "stdout",
       "text": [
        "\n",
        "fuck  yjiU"
       ]
      },
      {
       "output_type": "stream",
       "stream": "stdout",
       "text": [
        "\n",
        "fuck  ypjE"
       ]
      },
      {
       "output_type": "stream",
       "stream": "stdout",
       "text": [
        "\n",
        "fuck  yqiG"
       ]
      },
      {
       "output_type": "stream",
       "stream": "stdout",
       "text": [
        "\n",
        "fuck  yrhA"
       ]
      },
      {
       "output_type": "stream",
       "stream": "stdout",
       "text": [
        "\n",
        "fuck  ytfR"
       ]
      },
      {
       "output_type": "stream",
       "stream": "stdout",
       "text": [
        "\n",
        "fuck  ytfS\n",
        "affyexp_wt_glucose_NH4CL_O2_4.CEL"
       ]
      },
      {
       "output_type": "stream",
       "stream": "stdout",
       "text": [
        "\n",
        "affyexp_wt_glucose_NH4CL_O2_5.CEL\n",
        "affyexp_wt_glucose_NH4CL_O2_6.CEL\n",
        "affyexp_wt_glucose_NH4CL_O2_7.CEL\n",
        "affyexp_wt_glucose_NH4CL_O2_8.CEL\n",
        "affyexp_wt_glucose_NH4CL_O2_9.CEL\n",
        "fuck  "
       ]
      },
      {
       "output_type": "stream",
       "stream": "stdout",
       "text": [
        "\n",
        "fuck  "
       ]
      },
      {
       "output_type": "stream",
       "stream": "stdout",
       "text": [
        "\n",
        "fuck  "
       ]
      },
      {
       "output_type": "stream",
       "stream": "stdout",
       "text": [
        "\n",
        "fuck  "
       ]
      },
      {
       "output_type": "stream",
       "stream": "stdout",
       "text": [
        "\n",
        "fuck  "
       ]
      },
      {
       "output_type": "stream",
       "stream": "stdout",
       "text": [
        "\n",
        "fuck  "
       ]
      },
      {
       "output_type": "stream",
       "stream": "stdout",
       "text": [
        "\n",
        "fuck  "
       ]
      },
      {
       "output_type": "stream",
       "stream": "stdout",
       "text": [
        "\n",
        "fuck  "
       ]
      },
      {
       "output_type": "stream",
       "stream": "stdout",
       "text": [
        "\n",
        "fuck  "
       ]
      },
      {
       "output_type": "stream",
       "stream": "stdout",
       "text": [
        "\n",
        "fuck  "
       ]
      },
      {
       "output_type": "stream",
       "stream": "stdout",
       "text": [
        "\n",
        "fuck  "
       ]
      },
      {
       "output_type": "stream",
       "stream": "stdout",
       "text": [
        "\n",
        "fuck  "
       ]
      },
      {
       "output_type": "stream",
       "stream": "stdout",
       "text": [
        "\n",
        "fuck  "
       ]
      },
      {
       "output_type": "stream",
       "stream": "stdout",
       "text": [
        "\n",
        "fuck  nmpC"
       ]
      },
      {
       "output_type": "stream",
       "stream": "stdout",
       "text": [
        "\n",
        "fuck  "
       ]
      },
      {
       "output_type": "stream",
       "stream": "stdout",
       "text": [
        "\n",
        "fuck  "
       ]
      },
      {
       "output_type": "stream",
       "stream": "stdout",
       "text": [
        "\n",
        "fuck  yejO"
       ]
      },
      {
       "output_type": "stream",
       "stream": "stdout",
       "text": [
        "\n",
        "fuck  "
       ]
      },
      {
       "output_type": "stream",
       "stream": "stdout",
       "text": [
        "\n",
        "fuck  "
       ]
      },
      {
       "output_type": "stream",
       "stream": "stdout",
       "text": [
        "\n",
        "fuck  "
       ]
      },
      {
       "output_type": "stream",
       "stream": "stdout",
       "text": [
        "\n",
        "fuck  "
       ]
      },
      {
       "output_type": "stream",
       "stream": "stdout",
       "text": [
        "\n",
        "fuck  "
       ]
      },
      {
       "output_type": "stream",
       "stream": "stdout",
       "text": [
        "\n",
        "fuck  "
       ]
      },
      {
       "output_type": "stream",
       "stream": "stdout",
       "text": [
        "\n",
        "fuck  "
       ]
      },
      {
       "output_type": "stream",
       "stream": "stdout",
       "text": [
        "\n",
        "fuck  "
       ]
      },
      {
       "output_type": "stream",
       "stream": "stdout",
       "text": [
        "\n",
        "fuck  "
       ]
      },
      {
       "output_type": "stream",
       "stream": "stdout",
       "text": [
        "\n",
        "fuck  "
       ]
      },
      {
       "output_type": "stream",
       "stream": "stdout",
       "text": [
        "\n",
        "fuck  "
       ]
      },
      {
       "output_type": "stream",
       "stream": "stdout",
       "text": [
        "\n",
        "fuck  "
       ]
      },
      {
       "output_type": "stream",
       "stream": "stdout",
       "text": [
        "\n",
        "fuck  \n",
        "fuck  "
       ]
      },
      {
       "output_type": "stream",
       "stream": "stdout",
       "text": [
        "\n",
        "fuck  "
       ]
      },
      {
       "output_type": "stream",
       "stream": "stdout",
       "text": [
        "\n",
        "fuck  "
       ]
      },
      {
       "output_type": "stream",
       "stream": "stdout",
       "text": [
        "\n",
        "fuck  "
       ]
      },
      {
       "output_type": "stream",
       "stream": "stdout",
       "text": [
        "\n",
        "fuck  "
       ]
      },
      {
       "output_type": "stream",
       "stream": "stdout",
       "text": [
        "\n",
        "fuck  "
       ]
      },
      {
       "output_type": "stream",
       "stream": "stdout",
       "text": [
        "\n",
        "fuck  yqiG"
       ]
      },
      {
       "output_type": "stream",
       "stream": "stdout",
       "text": [
        "\n",
        "fuck  "
       ]
      },
      {
       "output_type": "stream",
       "stream": "stdout",
       "text": [
        "\n",
        "fuck  "
       ]
      },
      {
       "output_type": "stream",
       "stream": "stdout",
       "text": [
        "\n",
        "fuck  \n",
        "fuck  "
       ]
      },
      {
       "output_type": "stream",
       "stream": "stdout",
       "text": [
        "\n",
        "fuck  "
       ]
      },
      {
       "output_type": "stream",
       "stream": "stdout",
       "text": [
        "\n",
        "fuck  "
       ]
      },
      {
       "output_type": "stream",
       "stream": "stdout",
       "text": [
        "\n",
        "fuck  "
       ]
      },
      {
       "output_type": "stream",
       "stream": "stdout",
       "text": [
        "\n",
        "fuck  "
       ]
      },
      {
       "output_type": "stream",
       "stream": "stdout",
       "text": [
        "\n",
        "fuck  "
       ]
      },
      {
       "output_type": "stream",
       "stream": "stdout",
       "text": [
        "\n",
        "fuck  "
       ]
      },
      {
       "output_type": "stream",
       "stream": "stdout",
       "text": [
        "\n",
        "fuck  "
       ]
      },
      {
       "output_type": "stream",
       "stream": "stdout",
       "text": [
        "\n",
        "fuck  \n",
        "fuck  "
       ]
      },
      {
       "output_type": "stream",
       "stream": "stdout",
       "text": [
        "\n",
        "fuck  "
       ]
      },
      {
       "output_type": "stream",
       "stream": "stdout",
       "text": [
        "\n",
        "fuck  "
       ]
      },
      {
       "output_type": "stream",
       "stream": "stdout",
       "text": [
        "\n",
        "fuck  "
       ]
      },
      {
       "output_type": "stream",
       "stream": "stdout",
       "text": [
        "\n",
        "fuck  "
       ]
      },
      {
       "output_type": "stream",
       "stream": "stdout",
       "text": [
        "\n",
        "fuck  "
       ]
      },
      {
       "output_type": "stream",
       "stream": "stdout",
       "text": [
        "\n",
        "fuck  "
       ]
      },
      {
       "output_type": "stream",
       "stream": "stdout",
       "text": [
        "\n",
        "fuck  "
       ]
      },
      {
       "output_type": "stream",
       "stream": "stdout",
       "text": [
        "\n",
        "fuck  "
       ]
      },
      {
       "output_type": "stream",
       "stream": "stdout",
       "text": [
        "\n",
        "fuck  "
       ]
      },
      {
       "output_type": "stream",
       "stream": "stdout",
       "text": [
        "\n",
        "fuck  "
       ]
      },
      {
       "output_type": "stream",
       "stream": "stdout",
       "text": [
        "\n",
        "fuck  "
       ]
      },
      {
       "output_type": "stream",
       "stream": "stdout",
       "text": [
        "\n",
        "fuck  "
       ]
      },
      {
       "output_type": "stream",
       "stream": "stdout",
       "text": [
        "\n",
        "fuck  "
       ]
      },
      {
       "output_type": "stream",
       "stream": "stdout",
       "text": [
        "\n",
        "fuck  "
       ]
      },
      {
       "output_type": "stream",
       "stream": "stdout",
       "text": [
        "\n",
        "fuck  \n",
        "fuck  "
       ]
      },
      {
       "output_type": "stream",
       "stream": "stdout",
       "text": [
        "\n",
        "fuck  "
       ]
      },
      {
       "output_type": "stream",
       "stream": "stdout",
       "text": [
        "\n",
        "fuck  \n",
        "fuck  "
       ]
      },
      {
       "output_type": "stream",
       "stream": "stdout",
       "text": [
        "\n",
        "fuck  "
       ]
      },
      {
       "output_type": "stream",
       "stream": "stdout",
       "text": [
        "\n",
        "fuck  "
       ]
      },
      {
       "output_type": "stream",
       "stream": "stdout",
       "text": [
        "\n",
        "fuck  "
       ]
      },
      {
       "output_type": "stream",
       "stream": "stdout",
       "text": [
        "\n",
        "fuck  "
       ]
      },
      {
       "output_type": "stream",
       "stream": "stdout",
       "text": [
        "\n",
        "fuck  "
       ]
      },
      {
       "output_type": "stream",
       "stream": "stdout",
       "text": [
        "\n",
        "fuck  "
       ]
      },
      {
       "output_type": "stream",
       "stream": "stdout",
       "text": [
        "\n",
        "fuck  "
       ]
      },
      {
       "output_type": "stream",
       "stream": "stdout",
       "text": [
        "\n",
        "fuck  "
       ]
      },
      {
       "output_type": "stream",
       "stream": "stdout",
       "text": [
        "\n",
        "fuck  "
       ]
      },
      {
       "output_type": "stream",
       "stream": "stdout",
       "text": [
        "\n",
        "fuck  "
       ]
      },
      {
       "output_type": "stream",
       "stream": "stdout",
       "text": [
        "\n",
        "fuck  "
       ]
      },
      {
       "output_type": "stream",
       "stream": "stdout",
       "text": [
        "\n",
        "fuck  "
       ]
      },
      {
       "output_type": "stream",
       "stream": "stdout",
       "text": [
        "\n"
       ]
      }
     ],
     "prompt_number": 6
    },
    {
     "cell_type": "code",
     "collapsed": false,
     "input": [
      "ome.query(ChIPPeakAnalysis).all()"
     ],
     "language": "python",
     "metadata": {},
     "outputs": [
      {
       "metadata": {},
       "output_type": "pyout",
       "prompt_number": 5,
       "text": [
        "[ChIP Peak Analysis (#174, chipExo-Crp_wt_glycerol_NH4Cl_O2_anti-crp_default_peaks): None {\"outNP\": \"\", \"smooth\": 3, \"nrf\": \"\", \"mrc\": 20},\n",
        " ChIP Peak Analysis (#215, chipExo-ArcA_ArcA8myc_glucose_NH4Cl_anaerobic_anti-myc_default_peaks): None {\"outNP\": \"\", \"smooth\": 3, \"nrf\": \"\", \"mrc\": 20},\n",
        " ChIP Peak Analysis (#216, chipExo-Crp_Ar3_glycerol_NH4Cl_O2_anti-crp_default_peaks): None {\"outNP\": \"\", \"smooth\": 3, \"nrf\": \"\", \"mrc\": 20},\n",
        " ChIP Peak Analysis (#217, chipExo-Crp_Crp8myc_glycerol_NH4Cl_O2_anti-crp_default_peaks): None {\"outNP\": \"\", \"smooth\": 3, \"nrf\": \"\", \"mrc\": 20},\n",
        " ChIP Peak Analysis (#218, chipExo-Crp_Crp8myc_glycerol_NH4Cl_O2_anti-mock-crp_default_peaks): None {\"outNP\": \"\", \"smooth\": 3, \"nrf\": \"\", \"mrc\": 20},\n",
        " ChIP Peak Analysis (#219, chipExo-Crp_Crp8myc_glycerol_NH4Cl_O2_anti-mock-myc_default_peaks): None {\"outNP\": \"\", \"smooth\": 3, \"nrf\": \"\", \"mrc\": 20},\n",
        " ChIP Peak Analysis (#220, chipExo-Crp_Crp8myc_glycerol_NH4Cl_O2_anti-myc_default_peaks): None {\"outNP\": \"\", \"smooth\": 3, \"nrf\": \"\", \"mrc\": 20},\n",
        " ChIP Peak Analysis (#221, chipExo-Crp_Crp8myc_fructose_NH4Cl_O2_anti-crp_default_peaks): None {\"outNP\": \"\", \"smooth\": 3, \"nrf\": \"\", \"mrc\": 20},\n",
        " ChIP Peak Analysis (#222, chipExo-Crp_Crp8myc_fructose_NH4Cl_O2_anti-myc_default_peaks): None {\"outNP\": \"\", \"smooth\": 3, \"nrf\": \"\", \"mrc\": 20},\n",
        " ChIP Peak Analysis (#223, chipExo-Crp_Crp8myc_glucose_NH4Cl_O2_anti-myc_default_peaks): None {\"outNP\": \"\", \"smooth\": 3, \"nrf\": \"\", \"mrc\": 20},\n",
        " ChIP Peak Analysis (#224, chipExo-Crp_delAr1_glycerol_NH4Cl_O2_anti-crp_default_peaks): None {\"outNP\": \"\", \"smooth\": 3, \"nrf\": \"\", \"mrc\": 20},\n",
        " ChIP Peak Analysis (#225, chipExo-Crp_delAr1delAr2_glycerol_NH4Cl_O2_anti-crp_default_peaks): None {\"outNP\": \"\", \"smooth\": 3, \"nrf\": \"\", \"mrc\": 20},\n",
        " ChIP Peak Analysis (#226, chipExo-Crp_delAr2_glycerol_NH4Cl_O2_anti-crp_default_peaks): None {\"outNP\": \"\", \"smooth\": 3, \"nrf\": \"\", \"mrc\": 20},\n",
        " ChIP Peak Analysis (#227, chipExo-Crp_wt_glycerol_NH4Cl_O2_anti-mock-crp_default_peaks): None {\"outNP\": \"\", \"smooth\": 3, \"nrf\": \"\", \"mrc\": 20},\n",
        " ChIP Peak Analysis (#228, chipExo-RpoD_wt_glycerol_NH4Cl_O2_anti-rpod_default_peaks): None {\"outNP\": \"\", \"smooth\": 3, \"nrf\": \"\", \"mrc\": 20},\n",
        " ChIP Peak Analysis (#229, chipExo-Crp_wt_fructose_NH4Cl_O2_anti-crp_default_peaks): None {\"outNP\": \"\", \"smooth\": 3, \"nrf\": \"\", \"mrc\": 20},\n",
        " ChIP Peak Analysis (#230, chipExo-Crp_wt_fructose_NH4Cl_O2_anti-mock-crp_default_peaks): None {\"outNP\": \"\", \"smooth\": 3, \"nrf\": \"\", \"mrc\": 20},\n",
        " ChIP Peak Analysis (#231, chipExo-RpoD_wt_fructose_NH4Cl_O2_anti-rpod_default_peaks): None {\"outNP\": \"\", \"smooth\": 3, \"nrf\": \"\", \"mrc\": 20},\n",
        " ChIP Peak Analysis (#232, chipExo-Crp_wt_glucose_NH4Cl_O2_anti-crp_default_peaks): None {\"outNP\": \"\", \"smooth\": 3, \"nrf\": \"\", \"mrc\": 20},\n",
        " ChIP Peak Analysis (#233, chipExo-RpoA_wt_glucose_NH4Cl_O2_anti-rpoA_default_peaks): None {\"outNP\": \"\", \"smooth\": 3, \"nrf\": \"\", \"mrc\": 20},\n",
        " ChIP Peak Analysis (#234, chipExo-RpoD_wt_glucose_NH4Cl_O2_anti-rpod_default_peaks): None {\"outNP\": \"\", \"smooth\": 3, \"nrf\": \"\", \"mrc\": 20},\n",
        " ChIP Peak Analysis (#235, chipExo-Fnr_Fnr8myc_glucose_NH4Cl_anaerobic_anti-myc_default_peaks): None {\"outNP\": \"\", \"smooth\": 3, \"nrf\": \"\", \"mrc\": 20}]"
       ]
      }
     ],
     "prompt_number": 5
    },
    {
     "cell_type": "code",
     "collapsed": false,
     "input": [
      "ome.query(Analysis).join(AnalysisComposition).first()"
     ],
     "language": "python",
     "metadata": {},
     "outputs": [
      {
       "metadata": {},
       "output_type": "pyout",
       "prompt_number": 18,
       "text": [
        "Expression Data (#175):  RNAseq_Ar3_glycerol_NH4Cl_O2"
       ]
      }
     ],
     "prompt_number": 18
    },
    {
     "cell_type": "code",
     "collapsed": false,
     "input": [
      "ome.query(ChIPPeakData.eventpos).join(ChIPPeak).join(AnalysisComposition, ChIPPeak.id == AnalysisComposition.analysis_id).\\\n",
      "                                group_by(ChIPPeakData.eventpos).count()"
     ],
     "language": "python",
     "metadata": {},
     "outputs": [
      {
       "metadata": {},
       "output_type": "pyout",
       "prompt_number": 15,
       "text": [
        "4418L"
       ]
      }
     ],
     "prompt_number": 15
    },
    {
     "cell_type": "code",
     "collapsed": false,
     "input": [
      "[x.data for x in ome.query(GenomeRegion).filter(and_(GenomeRegion.leftpos > 20000, GenomeRegion.rightpos < 100000)).all()]"
     ],
     "language": "python",
     "metadata": {},
     "outputs": [
      {
       "metadata": {},
       "output_type": "pyout",
       "prompt_number": 22,
       "text": [
        "[[ChIP Peak: 41948-42149 1747.60 chipExo-Crp_Ar3_glycerol_NH4Cl_O2_anti-crp],\n",
        " [ChIP Peak: 41987-42188 1831.70 chipExo-Crp_Ar3_glycerol_NH4Cl_O2_anti-crp,\n",
        "  ChIP Peak: 41987-42188 1813.30 chipExo-Crp_Crp8myc_glycerol_NH4Cl_O2_anti-crp],\n",
        " [ChIP Peak: 41949-42150 6087.50 chipExo-Crp_delAr1_glycerol_NH4Cl_O2_anti-crp,\n",
        "  ChIP Peak: 41949-42150 8938.40 chipExo-Crp_wt_glycerol_NH4Cl_O2_anti-crp,\n",
        "  ChIP Peak: 41949-42150 3734.50 chipExo-Crp_Crp8myc_glycerol_NH4Cl_O2_anti-crp,\n",
        "  ChIP Peak: 41949-42150 3241.90 chipExo-Crp_Crp8myc_fructose_NH4Cl_O2_anti-crp],\n",
        " [ChIP Peak: 42007-42208 3461.80 chipExo-Crp_delAr1_glycerol_NH4Cl_O2_anti-crp,\n",
        "  ChIP Peak: 42007-42208 1530.80 chipExo-Crp_Crp8myc_fructose_NH4Cl_O2_anti-crp],\n",
        " [ChIP Peak: 42084-42285 3181.30 chipExo-Crp_delAr1_glycerol_NH4Cl_O2_anti-crp],\n",
        " [ChIP Peak: 41950-42151 3793.00 chipExo-Crp_delAr2_glycerol_NH4Cl_O2_anti-crp],\n",
        " [ChIP Peak: 41842-42043 4825.40 chipExo-Crp_wt_glycerol_NH4Cl_O2_anti-crp],\n",
        " [ChIP Peak: 42089-42290 7974.30 chipExo-Crp_wt_glycerol_NH4Cl_O2_anti-crp],\n",
        " [ChIP Peak: 21114-21315 33799.40 chipExo-RpoD_wt_glycerol_NH4Cl_O2_anti-rpod],\n",
        " [ChIP Peak: 58621-58822 3780.00 chipExo-RpoD_wt_glycerol_NH4Cl_O2_anti-rpod,\n",
        "  ChIP Peak: 58621-58822 4307.00 chipExo-RpoD_wt_glucose_NH4Cl_O2_anti-rpod],\n",
        " [ChIP Peak: 85506-85707 2616.00 chipExo-RpoD_wt_glycerol_NH4Cl_O2_anti-rpod,\n",
        "  ChIP Peak: 85506-85707 2615.00 chipExo-RpoD_wt_fructose_NH4Cl_O2_anti-rpod,\n",
        "  ChIP Peak: 85506-85707 3959.00 chipExo-RpoD_wt_glucose_NH4Cl_O2_anti-rpod],\n",
        " [ChIP Peak: 42142-42343 6361.90 chipExo-Crp_wt_glycerol_NH4Cl_O2_anti-crp],\n",
        " [ChIP Peak: 21738-21939 3972.00 chipExo-RpoD_wt_glycerol_NH4Cl_O2_anti-rpod],\n",
        " [ChIP Peak: 63257-63458 2165.00 chipExo-RpoD_wt_glycerol_NH4Cl_O2_anti-rpod],\n",
        " [ChIP Peak: 87888-88089 3638.00 chipExo-RpoD_wt_glycerol_NH4Cl_O2_anti-rpod,\n",
        "  ChIP Peak: 87888-88089 2857.00 chipExo-RpoD_wt_fructose_NH4Cl_O2_anti-rpod],\n",
        " [ChIP Peak: 28241-28442 1562.00 chipExo-RpoD_wt_glycerol_NH4Cl_O2_anti-rpod],\n",
        " [ChIP Peak: 83623-83824 33604.00 chipExo-RpoD_wt_glycerol_NH4Cl_O2_anti-rpod],\n",
        " [ChIP Peak: 89497-89698 11483.00 chipExo-RpoD_wt_glycerol_NH4Cl_O2_anti-rpod,\n",
        "  ChIP Peak: 89497-89698 11330.00 chipExo-RpoD_wt_glucose_NH4Cl_O2_anti-rpod],\n",
        " [ChIP Peak: 29454-29655 4321.00 chipExo-RpoD_wt_glycerol_NH4Cl_O2_anti-rpod,\n",
        "  ChIP Peak: 29454-29655 6495.60 chipExo-RpoD_wt_fructose_NH4Cl_O2_anti-rpod],\n",
        " [ChIP Peak: 83641-83842 16451.00 chipExo-RpoD_wt_glycerol_NH4Cl_O2_anti-rpod],\n",
        " [ChIP Peak: 42001-42202 5865.10 chipExo-Crp_wt_glycerol_NH4Cl_O2_anti-crp],\n",
        " [ChIP Peak: 21028-21229 18802.60 chipExo-RpoD_wt_glycerol_NH4Cl_O2_anti-rpod],\n",
        " [ChIP Peak: 57055-57256 6688.00 chipExo-RpoD_wt_glycerol_NH4Cl_O2_anti-rpod,\n",
        "  ChIP Peak: 57055-57256 2198.00 chipExo-RpoD_wt_glucose_NH4Cl_02_anti-rpod],\n",
        " [ChIP Peak: 84791-84992 1720.00 chipExo-RpoD_wt_glycerol_NH4Cl_O2_anti-rpod],\n",
        " [ChIP Peak: 42085-42286 8692.60 chipExo-Crp_wt_fructose_NH4Cl_O2_anti-crp],\n",
        " [ChIP Peak: 28242-28443 1329.00 chipExo-RpoD_wt_fructose_NH4Cl_O2_anti-rpod],\n",
        " [ChIP Peak: 49702-49903 1568.00 chipExo-RpoD_wt_fructose_NH4Cl_O2_anti-rpod],\n",
        " [ChIP Peak: 83630-83831 40071.00 chipExo-RpoD_wt_fructose_NH4Cl_O2_anti-rpod],\n",
        " [ChIP Peak: 42008-42209 7171.40 chipExo-Crp_wt_fructose_NH4Cl_O2_anti-crp],\n",
        " [ChIP Peak: 21739-21940 3204.00 chipExo-RpoD_wt_fructose_NH4Cl_O2_anti-rpod],\n",
        " [ChIP Peak: 29530-29731 1314.40 chipExo-RpoD_wt_fructose_NH4Cl_O2_anti-rpod],\n",
        " [ChIP Peak: 63256-63457 2532.00 chipExo-RpoD_wt_fructose_NH4Cl_O2_anti-rpod,\n",
        "  ChIP Peak: 63256-63457 2368.00 chipExo-RpoD_wt_glucose_NH4Cl_O2_anti-rpod],\n",
        " [ChIP Peak: 99272-99473 1430.00 chipExo-RpoD_wt_fructose_NH4Cl_O2_anti-rpod],\n",
        " [ChIP Peak: 42126-42327 9285.60 chipExo-Crp_wt_fructose_NH4Cl_O2_anti-crp],\n",
        " [ChIP Peak: 83621-83822 190.30 chipExo-Crp_wt_fructose_NH4Cl_O2_anti-mock-crp],\n",
        " [ChIP Peak: 57054-57255 3973.10 chipExo-RpoD_wt_fructose_NH4Cl_O2_anti-rpod,\n",
        "  ChIP Peak: 57054-57255 6279.00 chipExo-RpoD_wt_glucose_NH4Cl_O2_anti-rpod],\n",
        " [ChIP Peak: 84790-84991 1450.00 chipExo-RpoD_wt_fructose_NH4Cl_O2_anti-rpod],\n",
        " [ChIP Peak: 21115-21316 28101.40 chipExo-RpoD_wt_fructose_NH4Cl_O2_anti-rpod],\n",
        " [ChIP Peak: 58623-58824 4370.00 chipExo-RpoD_wt_fructose_NH4Cl_O2_anti-rpod],\n",
        " [ChIP Peak: 89496-89697 10196.00 chipExo-RpoD_wt_fructose_NH4Cl_O2_anti-rpod],\n",
        " [ChIP Peak: 21018-21219 20306.60 chipExo-RpoD_wt_fructose_NH4Cl_O2_anti-rpod,\n",
        "  ChIP Peak: 21018-21219 30245.30 chipExo-RpoD_wt_glucose_NH4Cl_O2_anti-rpod],\n",
        " [ChIP Peak: 57146-57347 1270.90 chipExo-RpoD_wt_fructose_NH4Cl_O2_anti-rpod],\n",
        " [ChIP Peak: 83631-83832 49435.50 chipExo-RpoD_wt_glucose_NH4Cl_O2_anti-rpod],\n",
        " [ChIP Peak: 21108-21309 58963.70 chipExo-RpoD_wt_glucose_NH4Cl_O2_anti-rpod],\n",
        " [ChIP Peak: 29455-29656 5992.00 chipExo-RpoD_wt_glucose_NH4Cl_O2_anti-rpod],\n",
        " [ChIP Peak: 83542-83743 7502.50 chipExo-RpoD_wt_glucose_NH4Cl_O2_anti-rpod],\n",
        " [ChIP Peak: 87885-88086 3560.00 chipExo-RpoD_wt_glucose_NH4Cl_O2_anti-rpod],\n",
        " [ChIP Peak: 83551-83752 4729.10 chipExo-RpoA_wt_glucose_NH4Cl_O2_anti-rpoA],\n",
        " [ChIP Peak: 28246-28447 3588.00 chipExo-RpoD_wt_glucose_NH4Cl_O2_anti-rpod],\n",
        " [ChIP Peak: 83498-83699 2658.50 chipExo-RpoA_wt_glucose_NH4Cl_O2_anti-rpoA],\n",
        " [ChIP Peak: 21737-21938 5986.00 chipExo-RpoD_wt_glucose_NH4Cl_O2_anti-rpod],\n",
        " [ChIP Peak: 21126-21327 10398.80 chipExo-RpoD_wt_glucose_NH4Cl_02_anti-rpod],\n",
        " [ChIP Peak: 83619-83820 5501.00 chipExo-RpoD_wt_glucose_NH4Cl_02_anti-rpod],\n",
        " [ChIP Peak: 21022-21223 4111.70 chipExo-RpoD_wt_glucose_NH4Cl_02_anti-rpod],\n",
        " [ChIP Peak: 41897-42098 260.10 chipExo-ArcA_ArcA8myc_glucose_NH4Cl_anaerobic_anti-myc],\n",
        " [ChIP Peak: 83528-83729 3066.60 chipExo-RpoD_wt_glucose_NH4Cl_02_anti-rpod],\n",
        " [ChIP Peak: 21093-21294 2676.80 chipExo-RpoD_wt_glucose_NH4Cl_02_anti-rpod],\n",
        " [ChIP Peak: 41875-42076 198.90 chipExo-ArcA_ArcA8myc_glucose_NH4Cl_anaerobic_anti-myc],\n",
        " [ChIP Peak: 42003-42204 1744.10 chipExo-Crp_Crp8myc_glycerol_NH4Cl_O2_anti-crp],\n",
        " [ChIP Peak: 83629-83830 814.00 chipExo-Crp_Crp8myc_glycerol_NH4Cl_O2_anti-mock-crp],\n",
        " [ChIP Peak: 21009-21210 6360.80 chipExo-RpoD_wt_glucose_NH4Cl_02_anti-rpod],\n",
        " [ChIP Peak: 83491-83692 3305.40 chipExo-RpoD_wt_glucose_NH4Cl_02_anti-rpod],\n",
        " [ChIP Peak: 83553-83754 3057.20 chipExo-RpoD_wt_glucose_NH4Cl_02_anti-rpod],\n",
        " [ChIP Peak: 21102-21303 6834.50 chipExo-RpoD_wt_glucose_NH4Cl_02_anti-rpod],\n",
        " [ChIP Peak: 83644-83845 5718.80 chipExo-RpoD_wt_glucose_NH4Cl_02_anti-rpod],\n",
        " [ChIP Peak: 21033-21234 3820.20 chipExo-RpoD_wt_glucose_NH4Cl_02_anti-rpod],\n",
        " [ChIP Peak: 89499-89700 2496.00 chipExo-RpoD_wt_glucose_NH4Cl_02_anti-rpod],\n",
        " [ChIP Peak: 42098-42299 3653.50 chipExo-Crp_Crp8myc_glycerol_NH4Cl_O2_anti-crp],\n",
        " [ChIP Peak: 42086-42287 2879.30 chipExo-Crp_Crp8myc_fructose_NH4Cl_O2_anti-crp],\n",
        " [ChIP Peak: 42281-42482 2135.60 chipExo-Crp_Crp8myc_fructose_NH4Cl_O2_anti-crp],\n",
        " [ChIP Peak: 83549-83750 1047.00 chipExo-Crp_Crp8myc_fructose_NH4Cl_O2_anti-crp],\n",
        " [ChIP Peak: 41932-42133 642.90 chipExo-Crp_Crp8myc_glucose_NH4Cl_O2_anti-myc],\n",
        " [ChIP Peak: 83627-83828 693.00 chipExo-Crp_Crp8myc_glycerol_NH4Cl_O2_anti-mock-myc],\n",
        " [ChIP Peak: 42185-42386 1551.00 chipExo-Crp_Crp8myc_fructose_NH4Cl_O2_anti-crp],\n",
        " [ChIP Peak: 42540-42741 462.80 chipExo-Crp_Crp8myc_fructose_NH4Cl_O2_anti-crp],\n",
        " [ChIP Peak: 41937-42138 2152.30 chipExo-Crp_Crp8myc_fructose_NH4Cl_O2_anti-crp],\n",
        " [ChIP Peak: 42125-42326 2139.10 chipExo-Crp_Crp8myc_fructose_NH4Cl_O2_anti-crp],\n",
        " [ChIP Peak: 42467-42668 585.90 chipExo-Crp_Crp8myc_fructose_NH4Cl_O2_anti-crp],\n",
        " [ChIP Peak: 42249-42450 1793.50 chipExo-Crp_Crp8myc_fructose_NH4Cl_O2_anti-crp],\n",
        " [ChIP Peak: 42605-42806 706.30 chipExo-Crp_Crp8myc_fructose_NH4Cl_O2_anti-crp],\n",
        " [ChIP Peak: 41968-42169 5932.00 chipExo-Crp_Crp8myc_fructose_NH4Cl_O2_anti-myc],\n",
        " [ChIP Peak: 42097-42298 922.60 chipExo-Crp_Crp8myc_glucose_NH4Cl_O2_anti-myc],\n",
        " [ChIP Peak: 41844-42045 2725.00 chipExo-Crp_Crp8myc_fructose_NH4Cl_O2_anti-crp],\n",
        " [ChIP Peak: 41986-42187 3297.10 chipExo-Crp_Crp8myc_fructose_NH4Cl_O2_anti-crp,\n",
        "  ChIP Peak: 41986-42187 988.50 chipExo-Crp_Crp8myc_glucose_NH4Cl_O2_anti-myc],\n",
        " [ChIP Peak: 42100-42301 1723.00 chipExo-Crp_Crp8myc_fructose_NH4Cl_O2_anti-crp],\n",
        " [ChIP Peak: 42342-42543 1841.90 chipExo-Crp_Crp8myc_fructose_NH4Cl_O2_anti-crp]]"
       ]
      }
     ],
     "prompt_number": 22
    },
    {
     "cell_type": "code",
     "collapsed": false,
     "input": [
      "ome.query(ChIPPeakData).join(ChIPPeak).join(AnalysisComposition, ChIPPeak.id == AnalysisComposition.analysis_id).\\\n",
      "                        order_by(ChIPPeakData.eventpos).all()"
     ],
     "language": "python",
     "metadata": {},
     "outputs": [
      {
       "metadata": {},
       "output_type": "pyout",
       "prompt_number": 12,
       "text": [
        "[ChIP Peak: -5-196 158.40 chipExo-Fnr_Fnr8myc_glucose_NH4Cl_anaerobic_anti-myc,\n",
        " ChIP Peak: 46-247 8570.60 chipExo-RpoD_wt_glucose_NH4Cl_02_anti-rpod,\n",
        " ChIP Peak: 49-250 266.80 chipExo-Fnr_Fnr8myc_glucose_NH4Cl_anaerobic_anti-myc,\n",
        " ChIP Peak: 54-255 23640.00 chipExo-RpoD_wt_fructose_NH4Cl_O2_anti-rpod,\n",
        " ChIP Peak: 60-261 17673.70 chipExo-RpoD_wt_glycerol_NH4Cl_O2_anti-rpod,\n",
        " ChIP Peak: 60-261 28318.50 chipExo-RpoD_wt_glucose_NH4Cl_O2_anti-rpod,\n",
        " ChIP Peak: 62-263 3896.10 chipExo-Crp_wt_glycerol_NH4Cl_O2_anti-crp,\n",
        " ChIP Peak: 66-267 541.60 chipExo-Fnr_Fnr8myc_glucose_NH4Cl_anaerobic_anti-myc,\n",
        " ChIP Peak: 67-268 592.20 chipExo-Crp_delAr1_glycerol_NH4Cl_O2_anti-crp,\n",
        " ChIP Peak: 69-270 660.30 chipExo-Crp_Crp8myc_fructose_NH4Cl_O2_anti-crp,\n",
        " ChIP Peak: 72-273 288.40 chipExo-Fnr_Fnr8myc_glucose_NH4Cl_anaerobic_anti-myc,\n",
        " ChIP Peak: 77-278 2587.70 chipExo-RpoA_wt_glucose_NH4Cl_O2_anti-rpoA,\n",
        " ChIP Peak: 147-348 8148.50 chipExo-RpoD_wt_glucose_NH4Cl_O2_anti-rpod,\n",
        " ChIP Peak: 152-353 4035.30 chipExo-RpoD_wt_glycerol_NH4Cl_O2_anti-rpod,\n",
        " ChIP Peak: 156-357 381.80 chipExo-Fnr_Fnr8myc_glucose_NH4Cl_anaerobic_anti-myc,\n",
        " ChIP Peak: 158-359 1131.00 chipExo-Crp_Crp8myc_glycerol_NH4Cl_O2_anti-crp,\n",
        " ChIP Peak: 159-360 255.80 chipExo-Crp_delAr1_glycerol_NH4Cl_O2_anti-crp,\n",
        " ChIP Peak: 169-370 487.70 chipExo-Crp_Crp8myc_fructose_NH4Cl_O2_anti-crp,\n",
        " ChIP Peak: 170-371 2903.90 chipExo-Crp_wt_glycerol_NH4Cl_O2_anti-crp,\n",
        " ChIP Peak: 186-387 3840.20 chipExo-RpoA_wt_glucose_NH4Cl_O2_anti-rpoA,\n",
        " ChIP Peak: 188-389 165.00 chipExo-Fnr_Fnr8myc_glucose_NH4Cl_anaerobic_anti-myc,\n",
        " ChIP Peak: 8091-8292 1532.00 chipExo-RpoD_wt_glucose_NH4Cl_02_anti-rpod,\n",
        " ChIP Peak: 8093-8294 4921.00 chipExo-RpoD_wt_glucose_NH4Cl_O2_anti-rpod,\n",
        " ChIP Peak: 8093-8294 4250.00 chipExo-RpoD_wt_glycerol_NH4Cl_O2_anti-rpod,\n",
        " ChIP Peak: 8094-8295 3898.00 chipExo-RpoD_wt_fructose_NH4Cl_O2_anti-rpod,\n",
        " ChIP Peak: 10461-10662 1192.00 chipExo-RpoD_wt_fructose_NH4Cl_O2_anti-rpod,\n",
        " ChIP Peak: 10461-10662 1246.00 chipExo-RpoD_wt_glycerol_NH4Cl_O2_anti-rpod,\n",
        " ChIP Peak: 10463-10664 1656.00 chipExo-RpoD_wt_glucose_NH4Cl_O2_anti-rpod,\n",
        " ChIP Peak: 16856-17057 10495.70 chipExo-RpoD_wt_glycerol_NH4Cl_O2_anti-rpod,\n",
        " ChIP Peak: 16856-17057 3848.00 chipExo-RpoD_wt_glucose_NH4Cl_02_anti-rpod,\n",
        " ChIP Peak: 16857-17058 12949.00 chipExo-RpoD_wt_glucose_NH4Cl_O2_anti-rpod,\n",
        " ChIP Peak: 16857-17058 8866.00 chipExo-RpoD_wt_fructose_NH4Cl_O2_anti-rpod,\n",
        " ChIP Peak: 16864-17065 4068.00 chipExo-RpoA_wt_glucose_NH4Cl_O2_anti-rpoA,\n",
        " ChIP Peak: 17353-17554 2879.00 chipExo-RpoD_wt_fructose_NH4Cl_O2_anti-rpod,\n",
        " ChIP Peak: 17355-17556 3038.30 chipExo-RpoD_wt_glycerol_NH4Cl_O2_anti-rpod,\n",
        " ChIP Peak: 17895-18096 1305.70 chipExo-RpoD_wt_fructose_NH4Cl_O2_anti-rpod,\n",
        " ChIP Peak: 18274-18475 1281.10 chipExo-RpoD_wt_fructose_NH4Cl_O2_anti-rpod,\n",
        " ChIP Peak: 18472-18673 1388.10 chipExo-RpoD_wt_fructose_NH4Cl_O2_anti-rpod,\n",
        " ChIP Peak: 18488-18689 1555.40 chipExo-RpoD_wt_glycerol_NH4Cl_O2_anti-rpod,\n",
        " ChIP Peak: 19557-19758 3349.00 chipExo-RpoD_wt_glucose_NH4Cl_O2_anti-rpod,\n",
        " ChIP Peak: 19668-19869 2665.00 chipExo-RpoD_wt_fructose_NH4Cl_O2_anti-rpod,\n",
        " ChIP Peak: 21009-21210 6360.80 chipExo-RpoD_wt_glucose_NH4Cl_02_anti-rpod,\n",
        " ChIP Peak: 21018-21219 20306.60 chipExo-RpoD_wt_fructose_NH4Cl_O2_anti-rpod,\n",
        " ChIP Peak: 21018-21219 30245.30 chipExo-RpoD_wt_glucose_NH4Cl_O2_anti-rpod,\n",
        " ChIP Peak: 21022-21223 4111.70 chipExo-RpoD_wt_glucose_NH4Cl_02_anti-rpod,\n",
        " ChIP Peak: 21028-21229 18802.60 chipExo-RpoD_wt_glycerol_NH4Cl_O2_anti-rpod,\n",
        " ChIP Peak: 21033-21234 3820.20 chipExo-RpoD_wt_glucose_NH4Cl_02_anti-rpod,\n",
        " ChIP Peak: 21093-21294 2676.80 chipExo-RpoD_wt_glucose_NH4Cl_02_anti-rpod,\n",
        " ChIP Peak: 21102-21303 6834.50 chipExo-RpoD_wt_glucose_NH4Cl_02_anti-rpod,\n",
        " ChIP Peak: 21108-21309 58963.70 chipExo-RpoD_wt_glucose_NH4Cl_O2_anti-rpod,\n",
        " ChIP Peak: 21114-21315 33799.40 chipExo-RpoD_wt_glycerol_NH4Cl_O2_anti-rpod,\n",
        " ChIP Peak: 21115-21316 28101.40 chipExo-RpoD_wt_fructose_NH4Cl_O2_anti-rpod,\n",
        " ChIP Peak: 21126-21327 10398.80 chipExo-RpoD_wt_glucose_NH4Cl_02_anti-rpod,\n",
        " ChIP Peak: 21737-21938 5986.00 chipExo-RpoD_wt_glucose_NH4Cl_O2_anti-rpod,\n",
        " ChIP Peak: 21738-21939 3972.00 chipExo-RpoD_wt_glycerol_NH4Cl_O2_anti-rpod,\n",
        " ChIP Peak: 21739-21940 3204.00 chipExo-RpoD_wt_fructose_NH4Cl_O2_anti-rpod,\n",
        " ChIP Peak: 28241-28442 1562.00 chipExo-RpoD_wt_glycerol_NH4Cl_O2_anti-rpod,\n",
        " ChIP Peak: 28242-28443 1329.00 chipExo-RpoD_wt_fructose_NH4Cl_O2_anti-rpod,\n",
        " ChIP Peak: 28246-28447 3588.00 chipExo-RpoD_wt_glucose_NH4Cl_O2_anti-rpod,\n",
        " ChIP Peak: 29454-29655 6495.60 chipExo-RpoD_wt_fructose_NH4Cl_O2_anti-rpod,\n",
        " ChIP Peak: 29454-29655 4321.00 chipExo-RpoD_wt_glycerol_NH4Cl_O2_anti-rpod,\n",
        " ChIP Peak: 29455-29656 5992.00 chipExo-RpoD_wt_glucose_NH4Cl_O2_anti-rpod,\n",
        " ChIP Peak: 29530-29731 1314.40 chipExo-RpoD_wt_fructose_NH4Cl_O2_anti-rpod,\n",
        " ChIP Peak: 41842-42043 4825.40 chipExo-Crp_wt_glycerol_NH4Cl_O2_anti-crp,\n",
        " ChIP Peak: 41844-42045 2725.00 chipExo-Crp_Crp8myc_fructose_NH4Cl_O2_anti-crp,\n",
        " ChIP Peak: 41875-42076 198.90 chipExo-ArcA_ArcA8myc_glucose_NH4Cl_anaerobic_anti-myc,\n",
        " ChIP Peak: 41897-42098 260.10 chipExo-ArcA_ArcA8myc_glucose_NH4Cl_anaerobic_anti-myc,\n",
        " ChIP Peak: 41932-42133 642.90 chipExo-Crp_Crp8myc_glucose_NH4Cl_O2_anti-myc,\n",
        " ChIP Peak: 41937-42138 2152.30 chipExo-Crp_Crp8myc_fructose_NH4Cl_O2_anti-crp,\n",
        " ChIP Peak: 41948-42149 1747.60 chipExo-Crp_Ar3_glycerol_NH4Cl_O2_anti-crp,\n",
        " ChIP Peak: 41949-42150 3734.50 chipExo-Crp_Crp8myc_glycerol_NH4Cl_O2_anti-crp,\n",
        " ChIP Peak: 41949-42150 8938.40 chipExo-Crp_wt_glycerol_NH4Cl_O2_anti-crp,\n",
        " ChIP Peak: 41949-42150 6087.50 chipExo-Crp_delAr1_glycerol_NH4Cl_O2_anti-crp,\n",
        " ChIP Peak: 41949-42150 3241.90 chipExo-Crp_Crp8myc_fructose_NH4Cl_O2_anti-crp,\n",
        " ChIP Peak: 41950-42151 3793.00 chipExo-Crp_delAr2_glycerol_NH4Cl_O2_anti-crp,\n",
        " ChIP Peak: 41968-42169 5932.00 chipExo-Crp_Crp8myc_fructose_NH4Cl_O2_anti-myc,\n",
        " ChIP Peak: 41986-42187 3297.10 chipExo-Crp_Crp8myc_fructose_NH4Cl_O2_anti-crp,\n",
        " ChIP Peak: 41986-42187 988.50 chipExo-Crp_Crp8myc_glucose_NH4Cl_O2_anti-myc,\n",
        " ChIP Peak: 41987-42188 1831.70 chipExo-Crp_Ar3_glycerol_NH4Cl_O2_anti-crp,\n",
        " ChIP Peak: 41987-42188 1813.30 chipExo-Crp_Crp8myc_glycerol_NH4Cl_O2_anti-crp,\n",
        " ChIP Peak: 42001-42202 5865.10 chipExo-Crp_wt_glycerol_NH4Cl_O2_anti-crp,\n",
        " ChIP Peak: 42003-42204 1744.10 chipExo-Crp_Crp8myc_glycerol_NH4Cl_O2_anti-crp,\n",
        " ChIP Peak: 42007-42208 3461.80 chipExo-Crp_delAr1_glycerol_NH4Cl_O2_anti-crp,\n",
        " ChIP Peak: 42007-42208 1530.80 chipExo-Crp_Crp8myc_fructose_NH4Cl_O2_anti-crp,\n",
        " ChIP Peak: 42008-42209 7171.40 chipExo-Crp_wt_fructose_NH4Cl_O2_anti-crp,\n",
        " ChIP Peak: 42084-42285 3181.30 chipExo-Crp_delAr1_glycerol_NH4Cl_O2_anti-crp,\n",
        " ChIP Peak: 42085-42286 8692.60 chipExo-Crp_wt_fructose_NH4Cl_O2_anti-crp,\n",
        " ChIP Peak: 42086-42287 2879.30 chipExo-Crp_Crp8myc_fructose_NH4Cl_O2_anti-crp,\n",
        " ChIP Peak: 42089-42290 7974.30 chipExo-Crp_wt_glycerol_NH4Cl_O2_anti-crp,\n",
        " ChIP Peak: 42097-42298 922.60 chipExo-Crp_Crp8myc_glucose_NH4Cl_O2_anti-myc,\n",
        " ChIP Peak: 42098-42299 3653.50 chipExo-Crp_Crp8myc_glycerol_NH4Cl_O2_anti-crp,\n",
        " ChIP Peak: 42100-42301 1723.00 chipExo-Crp_Crp8myc_fructose_NH4Cl_O2_anti-crp,\n",
        " ChIP Peak: 42125-42326 2139.10 chipExo-Crp_Crp8myc_fructose_NH4Cl_O2_anti-crp,\n",
        " ChIP Peak: 42126-42327 9285.60 chipExo-Crp_wt_fructose_NH4Cl_O2_anti-crp,\n",
        " ChIP Peak: 42142-42343 6361.90 chipExo-Crp_wt_glycerol_NH4Cl_O2_anti-crp,\n",
        " ChIP Peak: 42185-42386 1551.00 chipExo-Crp_Crp8myc_fructose_NH4Cl_O2_anti-crp,\n",
        " ChIP Peak: 42249-42450 1793.50 chipExo-Crp_Crp8myc_fructose_NH4Cl_O2_anti-crp,\n",
        " ChIP Peak: 42281-42482 2135.60 chipExo-Crp_Crp8myc_fructose_NH4Cl_O2_anti-crp,\n",
        " ChIP Peak: 42342-42543 1841.90 chipExo-Crp_Crp8myc_fructose_NH4Cl_O2_anti-crp,\n",
        " ChIP Peak: 42467-42668 585.90 chipExo-Crp_Crp8myc_fructose_NH4Cl_O2_anti-crp,\n",
        " ChIP Peak: 42540-42741 462.80 chipExo-Crp_Crp8myc_fructose_NH4Cl_O2_anti-crp,\n",
        " ChIP Peak: 42605-42806 706.30 chipExo-Crp_Crp8myc_fructose_NH4Cl_O2_anti-crp,\n",
        " ChIP Peak: 49702-49903 1568.00 chipExo-RpoD_wt_fructose_NH4Cl_O2_anti-rpod,\n",
        " ChIP Peak: 57054-57255 3973.10 chipExo-RpoD_wt_fructose_NH4Cl_O2_anti-rpod,\n",
        " ChIP Peak: 57054-57255 6279.00 chipExo-RpoD_wt_glucose_NH4Cl_O2_anti-rpod,\n",
        " ChIP Peak: 57055-57256 6688.00 chipExo-RpoD_wt_glycerol_NH4Cl_O2_anti-rpod,\n",
        " ChIP Peak: 57055-57256 2198.00 chipExo-RpoD_wt_glucose_NH4Cl_02_anti-rpod,\n",
        " ChIP Peak: 57146-57347 1270.90 chipExo-RpoD_wt_fructose_NH4Cl_O2_anti-rpod,\n",
        " ChIP Peak: 58621-58822 4307.00 chipExo-RpoD_wt_glucose_NH4Cl_O2_anti-rpod,\n",
        " ChIP Peak: 58621-58822 3780.00 chipExo-RpoD_wt_glycerol_NH4Cl_O2_anti-rpod,\n",
        " ChIP Peak: 58623-58824 4370.00 chipExo-RpoD_wt_fructose_NH4Cl_O2_anti-rpod,\n",
        " ChIP Peak: 63256-63457 2532.00 chipExo-RpoD_wt_fructose_NH4Cl_O2_anti-rpod,\n",
        " ChIP Peak: 63256-63457 2368.00 chipExo-RpoD_wt_glucose_NH4Cl_O2_anti-rpod,\n",
        " ChIP Peak: 63257-63458 2165.00 chipExo-RpoD_wt_glycerol_NH4Cl_O2_anti-rpod,\n",
        " ChIP Peak: 83491-83692 3305.40 chipExo-RpoD_wt_glucose_NH4Cl_02_anti-rpod,\n",
        " ChIP Peak: 83498-83699 2658.50 chipExo-RpoA_wt_glucose_NH4Cl_O2_anti-rpoA,\n",
        " ChIP Peak: 83528-83729 3066.60 chipExo-RpoD_wt_glucose_NH4Cl_02_anti-rpod,\n",
        " ChIP Peak: 83542-83743 7502.50 chipExo-RpoD_wt_glucose_NH4Cl_O2_anti-rpod,\n",
        " ChIP Peak: 83549-83750 1047.00 chipExo-Crp_Crp8myc_fructose_NH4Cl_O2_anti-crp,\n",
        " ChIP Peak: 83551-83752 4729.10 chipExo-RpoA_wt_glucose_NH4Cl_O2_anti-rpoA,\n",
        " ChIP Peak: 83553-83754 3057.20 chipExo-RpoD_wt_glucose_NH4Cl_02_anti-rpod,\n",
        " ChIP Peak: 83619-83820 5501.00 chipExo-RpoD_wt_glucose_NH4Cl_02_anti-rpod,\n",
        " ChIP Peak: 83621-83822 190.30 chipExo-Crp_wt_fructose_NH4Cl_O2_anti-mock-crp,\n",
        " ChIP Peak: 83623-83824 33604.00 chipExo-RpoD_wt_glycerol_NH4Cl_O2_anti-rpod,\n",
        " ChIP Peak: 83627-83828 693.00 chipExo-Crp_Crp8myc_glycerol_NH4Cl_O2_anti-mock-myc,\n",
        " ChIP Peak: 83629-83830 814.00 chipExo-Crp_Crp8myc_glycerol_NH4Cl_O2_anti-mock-crp,\n",
        " ChIP Peak: 83630-83831 40071.00 chipExo-RpoD_wt_fructose_NH4Cl_O2_anti-rpod,\n",
        " ChIP Peak: 83631-83832 49435.50 chipExo-RpoD_wt_glucose_NH4Cl_O2_anti-rpod,\n",
        " ChIP Peak: 83641-83842 16451.00 chipExo-RpoD_wt_glycerol_NH4Cl_O2_anti-rpod,\n",
        " ChIP Peak: 83644-83845 5718.80 chipExo-RpoD_wt_glucose_NH4Cl_02_anti-rpod,\n",
        " ChIP Peak: 84790-84991 1450.00 chipExo-RpoD_wt_fructose_NH4Cl_O2_anti-rpod,\n",
        " ChIP Peak: 84791-84992 1720.00 chipExo-RpoD_wt_glycerol_NH4Cl_O2_anti-rpod,\n",
        " ChIP Peak: 85506-85707 2616.00 chipExo-RpoD_wt_glycerol_NH4Cl_O2_anti-rpod,\n",
        " ChIP Peak: 85506-85707 2615.00 chipExo-RpoD_wt_fructose_NH4Cl_O2_anti-rpod,\n",
        " ChIP Peak: 85506-85707 3959.00 chipExo-RpoD_wt_glucose_NH4Cl_O2_anti-rpod,\n",
        " ChIP Peak: 87885-88086 3560.00 chipExo-RpoD_wt_glucose_NH4Cl_O2_anti-rpod,\n",
        " ChIP Peak: 87888-88089 3638.00 chipExo-RpoD_wt_glycerol_NH4Cl_O2_anti-rpod,\n",
        " ChIP Peak: 87888-88089 2857.00 chipExo-RpoD_wt_fructose_NH4Cl_O2_anti-rpod,\n",
        " ChIP Peak: 89496-89697 10196.00 chipExo-RpoD_wt_fructose_NH4Cl_O2_anti-rpod,\n",
        " ChIP Peak: 89497-89698 11330.00 chipExo-RpoD_wt_glucose_NH4Cl_O2_anti-rpod,\n",
        " ChIP Peak: 89497-89698 11483.00 chipExo-RpoD_wt_glycerol_NH4Cl_O2_anti-rpod,\n",
        " ChIP Peak: 89499-89700 2496.00 chipExo-RpoD_wt_glucose_NH4Cl_02_anti-rpod,\n",
        " ChIP Peak: 99272-99473 1430.00 chipExo-RpoD_wt_fructose_NH4Cl_O2_anti-rpod,\n",
        " ChIP Peak: 106407-106608 19548.00 chipExo-RpoD_wt_glycerol_NH4Cl_O2_anti-rpod,\n",
        " ChIP Peak: 106408-106609 17318.00 chipExo-RpoD_wt_fructose_NH4Cl_O2_anti-rpod,\n",
        " ChIP Peak: 106409-106610 19203.00 chipExo-RpoD_wt_glucose_NH4Cl_O2_anti-rpod,\n",
        " ChIP Peak: 107574-107775 3030.00 chipExo-RpoD_wt_glucose_NH4Cl_O2_anti-rpod,\n",
        " ChIP Peak: 107575-107776 2057.00 chipExo-RpoD_wt_fructose_NH4Cl_O2_anti-rpod,\n",
        " ChIP Peak: 107575-107776 2290.00 chipExo-RpoD_wt_glycerol_NH4Cl_O2_anti-rpod,\n",
        " ChIP Peak: 113206-113407 3764.30 chipExo-RpoD_wt_glucose_NH4Cl_02_anti-rpod,\n",
        " ChIP Peak: 113219-113420 11794.10 chipExo-RpoD_wt_glycerol_NH4Cl_O2_anti-rpod,\n",
        " ChIP Peak: 113228-113429 7032.40 chipExo-RpoD_wt_fructose_NH4Cl_O2_anti-rpod,\n",
        " ChIP Peak: 113232-113433 12274.70 chipExo-RpoD_wt_glucose_NH4Cl_O2_anti-rpod,\n",
        " ChIP Peak: 113278-113479 3271.10 chipExo-RpoD_wt_glucose_NH4Cl_02_anti-rpod,\n",
        " ChIP Peak: 113289-113490 47299.90 chipExo-RpoD_wt_glycerol_NH4Cl_O2_anti-rpod,\n",
        " ChIP Peak: 113289-113490 3239.60 chipExo-RpoD_wt_glucose_NH4Cl_02_anti-rpod,\n",
        " ChIP Peak: 113289-113490 36996.30 chipExo-RpoD_wt_glucose_NH4Cl_O2_anti-rpod,\n",
        " ChIP Peak: 113290-113491 28953.60 chipExo-RpoD_wt_fructose_NH4Cl_O2_anti-rpod,\n",
        " ChIP Peak: 113295-113496 2676.00 chipExo-RpoA_wt_glucose_NH4Cl_O2_anti-rpoA,\n",
        " ChIP Peak: 117635-117836 1290.00 chipExo-RpoD_wt_fructose_NH4Cl_O2_anti-rpod,\n",
        " ChIP Peak: 117636-117837 1985.00 chipExo-RpoD_wt_glycerol_NH4Cl_O2_anti-rpod,\n",
        " ChIP Peak: 121580-121781 3284.90 chipExo-RpoD_wt_fructose_NH4Cl_O2_anti-rpod,\n",
        " ChIP Peak: 121585-121786 3453.20 chipExo-RpoD_wt_glycerol_NH4Cl_O2_anti-rpod,\n",
        " ChIP Peak: 121585-121786 5041.50 chipExo-RpoD_wt_glucose_NH4Cl_O2_anti-rpod,\n",
        " ChIP Peak: 121882-122083 501.10 chipExo-Fnr_Fnr8myc_glucose_NH4Cl_anaerobic_anti-myc,\n",
        " ChIP Peak: 121929-122130 736.30 chipExo-Fnr_Fnr8myc_glucose_NH4Cl_anaerobic_anti-myc,\n",
        " ChIP Peak: 121935-122136 663.10 chipExo-Fnr_Fnr8myc_glucose_NH4Cl_anaerobic_anti-myc,\n",
        " ChIP Peak: 121938-122139 5454.50 chipExo-RpoD_wt_glucose_NH4Cl_O2_anti-rpod,\n",
        " ChIP Peak: 121939-122140 7700.10 chipExo-RpoD_wt_fructose_NH4Cl_O2_anti-rpod,\n",
        " ChIP Peak: 121941-122142 4968.80 chipExo-RpoD_wt_glycerol_NH4Cl_O2_anti-rpod,\n",
        " ChIP Peak: 122014-122215 290.40 chipExo-Fnr_Fnr8myc_glucose_NH4Cl_anaerobic_anti-myc,\n",
        " ChIP Peak: 127535-127736 66.80 chipExo-ArcA_ArcA8myc_glucose_NH4Cl_anaerobic_anti-myc,\n",
        " ChIP Peak: 127601-127802 156.20 chipExo-ArcA_ArcA8myc_glucose_NH4Cl_anaerobic_anti-myc,\n",
        " ChIP Peak: 127624-127825 2476.00 chipExo-RpoD_wt_glucose_NH4Cl_O2_anti-rpod,\n",
        " ChIP Peak: 127625-127826 1258.00 chipExo-RpoD_wt_glycerol_NH4Cl_O2_anti-rpod,\n",
        " ChIP Peak: 127625-127826 2082.00 chipExo-RpoD_wt_fructose_NH4Cl_O2_anti-rpod,\n",
        " ChIP Peak: 131373-131574 150.00 chipExo-ArcA_ArcA8myc_glucose_NH4Cl_anaerobic_anti-myc,\n",
        " ChIP Peak: 131422-131623 11347.00 chipExo-RpoD_wt_fructose_NH4Cl_O2_anti-rpod,\n",
        " ChIP Peak: 131423-131624 7392.00 chipExo-RpoD_wt_glycerol_NH4Cl_O2_anti-rpod,\n",
        " ChIP Peak: 131423-131624 9843.00 chipExo-RpoD_wt_glucose_NH4Cl_O2_anti-rpod,\n",
        " ChIP Peak: 136408-136609 7100.60 chipExo-RpoD_wt_glycerol_NH4Cl_O2_anti-rpod,\n",
        " ChIP Peak: 136410-136611 7372.50 chipExo-RpoD_wt_fructose_NH4Cl_O2_anti-rpod,\n",
        " ChIP Peak: 136410-136611 6281.20 chipExo-RpoD_wt_glucose_NH4Cl_O2_anti-rpod,\n",
        " ChIP Peak: 136835-137036 8159.80 chipExo-RpoD_wt_glucose_NH4Cl_O2_anti-rpod,\n",
        " ChIP Peak: 136836-137037 8158.50 chipExo-RpoD_wt_fructose_NH4Cl_O2_anti-rpod,\n",
        " ChIP Peak: 136837-137038 7451.40 chipExo-RpoD_wt_glycerol_NH4Cl_O2_anti-rpod,\n",
        " ChIP Peak: 141261-141462 4730.00 chipExo-RpoD_wt_fructose_NH4Cl_O2_anti-rpod,\n",
        " ChIP Peak: 141261-141462 4753.00 chipExo-RpoD_wt_glucose_NH4Cl_O2_anti-rpod,\n",
        " ChIP Peak: 141262-141463 4072.00 chipExo-RpoD_wt_glycerol_NH4Cl_O2_anti-rpod,\n",
        " ChIP Peak: 142594-142795 2121.00 chipExo-RpoD_wt_glycerol_NH4Cl_O2_anti-rpod,\n",
        " ChIP Peak: 142594-142795 3128.00 chipExo-RpoD_wt_fructose_NH4Cl_O2_anti-rpod,\n",
        " ChIP Peak: 142594-142795 2876.00 chipExo-RpoD_wt_glucose_NH4Cl_O2_anti-rpod,\n",
        " ChIP Peak: 144463-144664 1512.00 chipExo-RpoD_wt_glycerol_NH4Cl_O2_anti-rpod,\n",
        " ChIP Peak: 144466-144667 2452.00 chipExo-Crp_wt_glycerol_NH4Cl_O2_anti-crp,\n",
        " ChIP Peak: 146649-146850 7563.00 chipExo-RpoD_wt_glucose_NH4Cl_O2_anti-rpod,\n",
        " ChIP Peak: 146649-146850 7302.00 chipExo-RpoD_wt_glycerol_NH4Cl_O2_anti-rpod,\n",
        " ChIP Peak: 146650-146851 7405.00 chipExo-RpoD_wt_fructose_NH4Cl_O2_anti-rpod,\n",
        " ChIP Peak: 146652-146853 2059.00 chipExo-RpoD_wt_glucose_NH4Cl_02_anti-rpod,\n",
        " ChIP Peak: 149533-149734 2732.00 chipExo-RpoD_wt_glycerol_NH4Cl_O2_anti-rpod,\n",
        " ChIP Peak: 149535-149736 2033.00 chipExo-RpoD_wt_fructose_NH4Cl_O2_anti-rpod,\n",
        " ChIP Peak: 149536-149737 2063.00 chipExo-RpoD_wt_glucose_NH4Cl_O2_anti-rpod,\n",
        " ChIP Peak: 150446-150647 2221.00 chipExo-RpoD_wt_glycerol_NH4Cl_O2_anti-rpod,\n",
        " ChIP Peak: 150447-150648 2011.00 chipExo-RpoD_wt_fructose_NH4Cl_O2_anti-rpod,\n",
        " ChIP Peak: 159064-159265 6966.00 chipExo-RpoD_wt_glycerol_NH4Cl_O2_anti-rpod,\n",
        " ChIP Peak: 159065-159266 6274.00 chipExo-RpoD_wt_glucose_NH4Cl_O2_anti-rpod,\n",
        " ChIP Peak: 159065-159266 7403.00 chipExo-RpoD_wt_fructose_NH4Cl_O2_anti-rpod,\n",
        " ChIP Peak: 159070-159271 1883.00 chipExo-RpoD_wt_glucose_NH4Cl_02_anti-rpod,\n",
        " ChIP Peak: 160554-160755 3467.00 chipExo-RpoD_wt_glycerol_NH4Cl_O2_anti-rpod,\n",
        " ChIP Peak: 160555-160756 3520.00 chipExo-RpoD_wt_fructose_NH4Cl_O2_anti-rpod,\n",
        " ChIP Peak: 161273-161474 1380.00 chipExo-RpoD_wt_glycerol_NH4Cl_O2_anti-rpod,\n",
        " ChIP Peak: 161279-161480 749.00 chipExo-Crp_Crp8myc_glycerol_NH4Cl_O2_anti-crp,\n",
        " ChIP Peak: 161950-162151 1313.00 chipExo-RpoD_wt_glycerol_NH4Cl_O2_anti-rpod,\n",
        " ChIP Peak: 164603-164804 1303.00 chipExo-RpoD_wt_glycerol_NH4Cl_O2_anti-rpod,\n",
        " ChIP Peak: 167333-167534 3789.00 chipExo-RpoD_wt_fructose_NH4Cl_O2_anti-rpod,\n",
        " ChIP Peak: 167334-167535 2701.00 chipExo-RpoD_wt_glycerol_NH4Cl_O2_anti-rpod,\n",
        " ChIP Peak: 169781-169982 88.00 chipExo-Crp_wt_fructose_NH4Cl_O2_anti-mock-crp,\n",
        " ChIP Peak: 174810-175011 1656.60 chipExo-RpoD_wt_glycerol_NH4Cl_O2_anti-rpod,\n",
        " ChIP Peak: 174825-175026 3369.00 chipExo-RpoD_wt_fructose_NH4Cl_O2_anti-rpod,\n",
        " ChIP Peak: 174875-175076 3472.00 chipExo-RpoD_wt_glucose_NH4Cl_O2_anti-rpod,\n",
        " ChIP Peak: 174885-175086 1962.40 chipExo-RpoD_wt_glycerol_NH4Cl_O2_anti-rpod,\n",
        " ChIP Peak: 176466-176667 3239.00 chipExo-RpoD_wt_glycerol_NH4Cl_O2_anti-rpod,\n",
        " ChIP Peak: 176466-176667 5714.00 chipExo-RpoD_wt_fructose_NH4Cl_O2_anti-rpod,\n",
        " ChIP Peak: 176467-176668 2885.00 chipExo-RpoD_wt_glucose_NH4Cl_02_anti-rpod,\n",
        " ChIP Peak: 176468-176669 7482.00 chipExo-RpoD_wt_glucose_NH4Cl_O2_anti-rpod,\n",
        " ChIP Peak: 179084-179285 1588.00 chipExo-RpoD_wt_fructose_NH4Cl_O2_anti-rpod,\n",
        " ChIP Peak: 179088-179289 1645.00 chipExo-RpoD_wt_glucose_NH4Cl_O2_anti-rpod,\n",
        " ChIP Peak: 184083-184284 2427.00 chipExo-RpoD_wt_glycerol_NH4Cl_O2_anti-rpod,\n",
        " ChIP Peak: 184083-184284 2379.00 chipExo-RpoD_wt_glucose_NH4Cl_O2_anti-rpod,\n",
        " ChIP Peak: 184086-184287 2536.00 chipExo-RpoD_wt_fructose_NH4Cl_O2_anti-rpod,\n",
        " ChIP Peak: 185870-186071 2697.60 chipExo-RpoD_wt_glucose_NH4Cl_O2_anti-rpod,\n",
        " ChIP Peak: 186033-186234 11923.40 chipExo-RpoD_wt_glucose_NH4Cl_O2_anti-rpod,\n",
        " ChIP Peak: 186040-186241 10538.00 chipExo-RpoD_wt_glycerol_NH4Cl_O2_anti-rpod,\n",
        " ChIP Peak: 186043-186244 7984.50 chipExo-RpoD_wt_fructose_NH4Cl_O2_anti-rpod,\n",
        " ChIP Peak: 188679-188880 1367.00 chipExo-RpoD_wt_fructose_NH4Cl_O2_anti-rpod,\n",
        " ChIP Peak: 188679-188880 1708.00 chipExo-RpoD_wt_glycerol_NH4Cl_O2_anti-rpod,\n",
        " ChIP Peak: 188679-188880 1824.00 chipExo-RpoD_wt_glucose_NH4Cl_O2_anti-rpod,\n",
        " ChIP Peak: 189611-189812 10072.00 chipExo-RpoD_wt_fructose_NH4Cl_O2_anti-rpod,\n",
        " ChIP Peak: 189611-189812 13481.00 chipExo-RpoD_wt_glucose_NH4Cl_O2_anti-rpod,\n",
        " ChIP Peak: 189612-189813 9205.00 chipExo-RpoD_wt_glycerol_NH4Cl_O2_anti-rpod,\n",
        " ChIP Peak: 192522-192723 3091.00 chipExo-RpoD_wt_glucose_NH4Cl_O2_anti-rpod,\n",
        " ChIP Peak: 192523-192724 2394.00 chipExo-RpoD_wt_glycerol_NH4Cl_O2_anti-rpod,\n",
        " ChIP Peak: 192523-192724 2405.00 chipExo-RpoD_wt_fructose_NH4Cl_O2_anti-rpod,\n",
        " ChIP Peak: 194683-194884 2354.00 chipExo-RpoD_wt_glycerol_NH4Cl_O2_anti-rpod,\n",
        " ChIP Peak: 194684-194885 2573.00 chipExo-RpoD_wt_fructose_NH4Cl_O2_anti-rpod,\n",
        " ChIP Peak: 194687-194888 2623.00 chipExo-RpoD_wt_glucose_NH4Cl_O2_anti-rpod,\n",
        " ChIP Peak: 197200-197401 2276.00 chipExo-RpoD_wt_fructose_NH4Cl_O2_anti-rpod,\n",
        " ChIP Peak: 197201-197402 2071.00 chipExo-RpoD_wt_glucose_NH4Cl_O2_anti-rpod,\n",
        " ChIP Peak: 197201-197402 2403.00 chipExo-RpoD_wt_glycerol_NH4Cl_O2_anti-rpod,\n",
        " ChIP Peak: 201387-201588 4760.00 chipExo-RpoD_wt_glycerol_NH4Cl_O2_anti-rpod,\n",
        " ChIP Peak: 201387-201588 4106.00 chipExo-RpoD_wt_fructose_NH4Cl_O2_anti-rpod,\n",
        " ChIP Peak: 201977-202178 4849.00 chipExo-RpoD_wt_glycerol_NH4Cl_O2_anti-rpod,\n",
        " ChIP Peak: 201977-202178 5079.00 chipExo-RpoD_wt_fructose_NH4Cl_O2_anti-rpod,\n",
        " ChIP Peak: 208233-208434 1890.00 chipExo-RpoD_wt_glucose_NH4Cl_O2_anti-rpod,\n",
        " ChIP Peak: 208233-208434 2131.00 chipExo-RpoD_wt_glycerol_NH4Cl_O2_anti-rpod,\n",
        " ChIP Peak: 208234-208435 2118.00 chipExo-RpoD_wt_fructose_NH4Cl_O2_anti-rpod,\n",
        " ChIP Peak: 211753-211954 35.00 chipExo-ArcA_ArcA8myc_glucose_NH4Cl_anaerobic_anti-myc,\n",
        " ChIP Peak: 214077-214278 2471.00 chipExo-RpoD_wt_glycerol_NH4Cl_O2_anti-rpod,\n",
        " ChIP Peak: 214079-214280 2410.00 chipExo-RpoD_wt_fructose_NH4Cl_O2_anti-rpod,\n",
        " ChIP Peak: 214081-214282 2533.00 chipExo-RpoD_wt_glucose_NH4Cl_O2_anti-rpod,\n",
        " ChIP Peak: 214869-215070 1402.00 chipExo-RpoD_wt_glycerol_NH4Cl_O2_anti-rpod,\n",
        " ChIP Peak: 218734-218935 7460.00 chipExo-RpoD_wt_fructose_NH4Cl_O2_anti-rpod,\n",
        " ChIP Peak: 218734-218935 8963.00 chipExo-RpoD_wt_glycerol_NH4Cl_O2_anti-rpod,\n",
        " ChIP Peak: 218734-218935 1815.00 chipExo-RpoD_wt_glucose_NH4Cl_02_anti-rpod,\n",
        " ChIP Peak: 218734-218935 6035.00 chipExo-RpoD_wt_glucose_NH4Cl_O2_anti-rpod,\n",
        " ChIP Peak: 219964-220165 2628.00 chipExo-RpoD_wt_fructose_NH4Cl_O2_anti-rpod,\n",
        " ChIP Peak: 219964-220165 2967.00 chipExo-RpoD_wt_glucose_NH4Cl_O2_anti-rpod,\n",
        " ChIP Peak: 219965-220166 3139.00 chipExo-RpoD_wt_glycerol_NH4Cl_O2_anti-rpod,\n",
        " ChIP Peak: 220902-221103 1258.00 chipExo-RpoD_wt_fructose_NH4Cl_O2_anti-rpod,\n",
        " ChIP Peak: 222611-222812 3943.00 chipExo-RpoD_wt_fructose_NH4Cl_O2_anti-rpod,\n",
        " ChIP Peak: 222611-222812 3238.00 chipExo-RpoD_wt_glycerol_NH4Cl_O2_anti-rpod,\n",
        " ChIP Peak: 223171-223372 2310.90 chipExo-RpoD_wt_glucose_NH4Cl_02_anti-rpod,\n",
        " ChIP Peak: 223246-223447 2540.80 chipExo-RpoD_wt_glucose_NH4Cl_02_anti-rpod,\n",
        " ChIP Peak: 223330-223531 1946.80 chipExo-RpoD_wt_glucose_NH4Cl_02_anti-rpod,\n",
        " ChIP Peak: 223349-223550 1326.00 chipExo-RpoA_wt_glucose_NH4Cl_O2_anti-rpoA,\n",
        " ChIP Peak: 223353-223554 19453.00 chipExo-RpoD_wt_glucose_NH4Cl_O2_anti-rpod,\n",
        " ChIP Peak: 223355-223556 3591.50 chipExo-RpoD_wt_glucose_NH4Cl_02_anti-rpod,\n",
        " ChIP Peak: 223355-223556 19054.00 chipExo-RpoD_wt_glucose_NH4Cl_O2_anti-rpod,\n",
        " ChIP Peak: 223356-223557 1294.00 chipExo-Crp_Crp8myc_glycerol_NH4Cl_O2_anti-myc,\n",
        " ChIP Peak: 223357-223558 342.00 chipExo-Crp_Crp8myc_fructose_NH4Cl_O2_anti-crp,\n",
        " ChIP Peak: 223357-223558 1226.00 chipExo-Crp_Crp8myc_glycerol_NH4Cl_O2_anti-crp,\n",
        " ChIP Peak: 223358-223559 5388.00 chipExo-Crp_wt_fructose_NH4Cl_O2_anti-crp,\n",
        " ChIP Peak: 223358-223559 609.00 chipExo-Crp_delAr1_glycerol_NH4Cl_O2_anti-crp,\n",
        " ChIP Peak: 223361-223562 7488.00 chipExo-Crp_wt_glycerol_NH4Cl_O2_anti-crp,\n",
        " ChIP Peak: 223364-223565 11883.00 chipExo-RpoD_wt_glycerol_NH4Cl_O2_anti-rpod,\n",
        " ChIP Peak: 223366-223567 10970.00 chipExo-RpoD_wt_fructose_NH4Cl_O2_anti-rpod,\n",
        " ChIP Peak: 224680-224881 160.00 chipExo-Crp_wt_fructose_NH4Cl_O2_anti-mock-crp,\n",
        " ChIP Peak: 224684-224885 867.00 chipExo-RpoA_wt_glucose_NH4Cl_O2_anti-rpoA,\n",
        " ChIP Peak: 228927-229128 221.00 chipExo-Crp_wt_fructose_NH4Cl_O2_anti-mock-crp,\n",
        " ChIP Peak: 228929-229130 1348.00 chipExo-RpoA_wt_glucose_NH4Cl_O2_anti-rpoA,\n",
        " ChIP Peak: 230978-231179 2392.00 chipExo-RpoD_wt_fructose_NH4Cl_O2_anti-rpod,\n",
        " ChIP Peak: 230979-231180 2183.00 chipExo-RpoD_wt_glycerol_NH4Cl_O2_anti-rpod,\n",
        " ChIP Peak: 230979-231180 3563.00 chipExo-RpoD_wt_glucose_NH4Cl_O2_anti-rpod,\n",
        " ChIP Peak: 233879-234080 7969.00 chipExo-RpoD_wt_glycerol_NH4Cl_O2_anti-rpod,\n",
        " ChIP Peak: 233879-234080 4061.00 chipExo-RpoD_wt_glucose_NH4Cl_O2_anti-rpod,\n",
        " ChIP Peak: 233885-234086 6650.60 chipExo-RpoD_wt_fructose_NH4Cl_O2_anti-rpod,\n",
        " ChIP Peak: 234691-234892 1826.00 chipExo-RpoD_wt_fructose_NH4Cl_O2_anti-rpod,\n",
        " ChIP Peak: 234692-234893 2090.00 chipExo-RpoD_wt_glycerol_NH4Cl_O2_anti-rpod,\n",
        " ChIP Peak: 234692-234893 1573.00 chipExo-RpoD_wt_glucose_NH4Cl_O2_anti-rpod,\n",
        " ChIP Peak: 235932-236133 2608.00 chipExo-RpoD_wt_glucose_NH4Cl_O2_anti-rpod,\n",
        " ChIP Peak: 235934-236135 2769.70 chipExo-RpoD_wt_glycerol_NH4Cl_O2_anti-rpod,\n",
        " ChIP Peak: 235935-236136 3011.60 chipExo-RpoD_wt_fructose_NH4Cl_O2_anti-rpod,\n",
        " ChIP Peak: 236809-237010 3000.00 chipExo-RpoA_wt_glucose_NH4Cl_O2_anti-rpoA,\n",
        " ChIP Peak: 236809-237010 198.60 chipExo-Crp_wt_fructose_NH4Cl_O2_anti-mock-crp,\n",
        " ChIP Peak: 236811-237012 17490.00 chipExo-RpoD_wt_glucose_NH4Cl_O2_anti-rpod,\n",
        " ChIP Peak: 236812-237013 12787.00 chipExo-RpoD_wt_glycerol_NH4Cl_O2_anti-rpod,\n",
        " ChIP Peak: 236813-237014 14956.00 chipExo-RpoD_wt_fructose_NH4Cl_O2_anti-rpod,\n",
        " ChIP Peak: 236924-237125 3712.00 chipExo-RpoA_wt_glucose_NH4Cl_O2_anti-rpoA,\n",
        " ChIP Peak: 236929-237130 311.40 chipExo-Crp_wt_fructose_NH4Cl_O2_anti-mock-crp,\n",
        " ChIP Peak: 243241-243442 1047.30 chipExo-RpoD_wt_fructose_NH4Cl_O2_anti-rpod,\n",
        " ChIP Peak: 243293-243494 81.00 chipExo-ArcA_ArcA8myc_glucose_NH4Cl_anaerobic_anti-myc,\n",
        " ChIP Peak: 243405-243606 3033.70 chipExo-RpoD_wt_fructose_NH4Cl_O2_anti-rpod,\n",
        " ChIP Peak: 243412-243613 3248.00 chipExo-RpoD_wt_glycerol_NH4Cl_O2_anti-rpod,\n",
        " ChIP Peak: 243414-243615 3107.00 chipExo-RpoD_wt_glucose_NH4Cl_O2_anti-rpod,\n",
        " ChIP Peak: 245782-245983 3777.00 chipExo-RpoD_wt_glycerol_NH4Cl_O2_anti-rpod,\n",
        " ChIP Peak: 245783-245984 4075.00 chipExo-RpoD_wt_fructose_NH4Cl_O2_anti-rpod,\n",
        " ChIP Peak: 245783-245984 5007.00 chipExo-RpoD_wt_glucose_NH4Cl_O2_anti-rpod,\n",
        " ChIP Peak: 246424-246625 4099.00 chipExo-RpoD_wt_glycerol_NH4Cl_O2_anti-rpod,\n",
        " ChIP Peak: 246425-246626 4469.00 chipExo-RpoD_wt_glucose_NH4Cl_O2_anti-rpod,\n",
        " ChIP Peak: 246425-246626 4262.00 chipExo-RpoD_wt_fructose_NH4Cl_O2_anti-rpod,\n",
        " ChIP Peak: 255707-255908 1609.30 chipExo-RpoD_wt_glucose_NH4Cl_02_anti-rpod,\n",
        " ChIP Peak: 255817-256018 14278.00 chipExo-RpoD_wt_glucose_NH4Cl_O2_anti-rpod,\n",
        " ChIP Peak: 255817-256018 8958.00 chipExo-RpoD_wt_glycerol_NH4Cl_O2_anti-rpod,\n",
        " ChIP Peak: 255818-256019 3551.70 chipExo-RpoD_wt_glucose_NH4Cl_02_anti-rpod,\n",
        " ChIP Peak: 255818-256019 8448.00 chipExo-RpoD_wt_fructose_NH4Cl_O2_anti-rpod,\n",
        " ChIP Peak: 257713-257914 1644.00 chipExo-RpoD_wt_glucose_NH4Cl_02_anti-rpod,\n",
        " ChIP Peak: 257718-257919 3318.00 chipExo-RpoD_wt_glucose_NH4Cl_O2_anti-rpod,\n",
        " ChIP Peak: 257719-257920 2870.00 chipExo-RpoD_wt_fructose_NH4Cl_O2_anti-rpod,\n",
        " ChIP Peak: 257721-257922 1675.00 chipExo-RpoD_wt_glycerol_NH4Cl_O2_anti-rpod,\n",
        " ChIP Peak: 259320-259521 71.00 chipExo-ArcA_ArcA8myc_glucose_NH4Cl_anaerobic_anti-myc,\n",
        " ChIP Peak: 259472-259673 2551.00 chipExo-RpoD_wt_glucose_NH4Cl_02_anti-rpod,\n",
        " ChIP Peak: 259473-259674 8028.00 chipExo-RpoD_wt_fructose_NH4Cl_O2_anti-rpod,\n",
        " ChIP Peak: 259474-259675 9122.00 chipExo-RpoD_wt_glycerol_NH4Cl_O2_anti-rpod,\n",
        " ChIP Peak: 259475-259676 9399.00 chipExo-RpoD_wt_glucose_NH4Cl_O2_anti-rpod,\n",
        " ChIP Peak: 261955-262156 3699.60 chipExo-RpoA_wt_glucose_NH4Cl_O2_anti-rpoA,\n",
        " ChIP Peak: 261965-262166 25481.00 chipExo-RpoD_wt_glycerol_NH4Cl_O2_anti-rpod,\n",
        " ChIP Peak: 261966-262167 25146.00 chipExo-RpoD_wt_fructose_NH4Cl_O2_anti-rpod,\n",
        " ChIP Peak: 261967-262168 30857.00 chipExo-RpoD_wt_glucose_NH4Cl_O2_anti-rpod,\n",
        " ChIP Peak: 261971-262172 5555.50 chipExo-RpoD_wt_glucose_NH4Cl_02_anti-rpod,\n",
        " ChIP Peak: 261972-262173 261.00 chipExo-Crp_wt_fructose_NH4Cl_O2_anti-mock-crp,\n",
        " ChIP Peak: 261976-262177 409.00 chipExo-Crp_Crp8myc_fructose_NH4Cl_O2_anti-crp,\n",
        " ChIP Peak: 261987-262188 63.00 chipExo-ArcA_ArcA8myc_glucose_NH4Cl_anaerobic_anti-myc,\n",
        " ChIP Peak: 261997-262198 116.00 chipExo-Fnr_Fnr8myc_glucose_NH4Cl_anaerobic_anti-myc,\n",
        " ChIP Peak: 262000-262201 2622.40 chipExo-RpoA_wt_glucose_NH4Cl_O2_anti-rpoA,\n",
        " ChIP Peak: 266289-266490 28.00 chipExo-ArcA_ArcA8myc_glucose_NH4Cl_anaerobic_anti-myc,\n",
        " ChIP Peak: 268208-268409 5388.00 chipExo-RpoD_wt_glycerol_NH4Cl_O2_anti-rpod,\n",
        " ChIP Peak: 268216-268417 3185.00 chipExo-RpoD_wt_fructose_NH4Cl_O2_anti-rpod,\n",
        " ChIP Peak: 268218-268419 3156.00 chipExo-RpoD_wt_glucose_NH4Cl_O2_anti-rpod,\n",
        " ChIP Peak: 274409-274610 1416.00 chipExo-RpoD_wt_fructose_NH4Cl_O2_anti-rpod,\n",
        " ChIP Peak: 289448-289649 2412.00 chipExo-RpoD_wt_glucose_NH4Cl_O2_anti-rpod,\n",
        " ChIP Peak: 289454-289655 2039.00 chipExo-RpoD_wt_fructose_NH4Cl_O2_anti-rpod,\n",
        " ChIP Peak: 289563-289764 1458.00 chipExo-RpoD_wt_glycerol_NH4Cl_O2_anti-rpod,\n",
        " ChIP Peak: 294529-294730 4987.80 chipExo-RpoD_wt_glucose_NH4Cl_O2_anti-rpod,\n",
        " ChIP Peak: 294531-294732 4733.40 chipExo-RpoD_wt_fructose_NH4Cl_O2_anti-rpod,\n",
        " ChIP Peak: 294531-294732 6283.90 chipExo-RpoD_wt_glycerol_NH4Cl_O2_anti-rpod,\n",
        " ChIP Peak: 294723-294924 3837.60 chipExo-RpoD_wt_fructose_NH4Cl_O2_anti-rpod,\n",
        " ChIP Peak: 294725-294926 4480.20 chipExo-RpoD_wt_glucose_NH4Cl_O2_anti-rpod,\n",
        " ChIP Peak: 294738-294939 3684.10 chipExo-RpoD_wt_glycerol_NH4Cl_O2_anti-rpod,\n",
        " ChIP Peak: 296455-296656 1366.80 chipExo-RpoD_wt_fructose_NH4Cl_O2_anti-rpod,\n",
        " ChIP Peak: 296459-296660 1627.90 chipExo-RpoD_wt_glycerol_NH4Cl_O2_anti-rpod,\n",
        " ChIP Peak: 302091-302292 6096.00 chipExo-RpoD_wt_glucose_NH4Cl_O2_anti-rpod,\n",
        " ChIP Peak: 302094-302295 1924.00 chipExo-RpoD_wt_fructose_NH4Cl_O2_anti-rpod,\n",
        " ChIP Peak: 302101-302302 1875.00 chipExo-RpoD_wt_glycerol_NH4Cl_O2_anti-rpod,\n",
        " ChIP Peak: 306917-307118 2006.00 chipExo-RpoD_wt_glucose_NH4Cl_O2_anti-rpod,\n",
        " ChIP Peak: 306918-307119 1700.00 chipExo-RpoD_wt_fructose_NH4Cl_O2_anti-rpod,\n",
        " ChIP Peak: 306919-307120 2321.00 chipExo-RpoD_wt_glycerol_NH4Cl_O2_anti-rpod,\n",
        " ChIP Peak: 328546-328747 61.00 chipExo-ArcA_ArcA8myc_glucose_NH4Cl_anaerobic_anti-myc,\n",
        " ChIP Peak: 344383-344584 2117.00 chipExo-RpoD_wt_glucose_NH4Cl_02_anti-rpod,\n",
        " ChIP Peak: 344385-344586 8236.00 chipExo-RpoD_wt_glucose_NH4Cl_O2_anti-rpod,\n",
        " ChIP Peak: 344385-344586 6064.00 chipExo-RpoD_wt_fructose_NH4Cl_O2_anti-rpod,\n",
        " ChIP Peak: 344386-344587 6585.00 chipExo-RpoD_wt_glycerol_NH4Cl_O2_anti-rpod,\n",
        " ChIP Peak: 347787-347988 110.00 chipExo-ArcA_ArcA8myc_glucose_NH4Cl_anaerobic_anti-myc,\n",
        " ChIP Peak: 354007-354208 997.00 chipExo-RpoD_wt_glucose_NH4Cl_02_anti-rpod,\n",
        " ChIP Peak: 354009-354210 3425.00 chipExo-RpoD_wt_glycerol_NH4Cl_O2_anti-rpod,\n",
        " ChIP Peak: 354009-354210 4629.00 chipExo-RpoD_wt_glucose_NH4Cl_O2_anti-rpod,\n",
        " ChIP Peak: 354010-354211 5714.00 chipExo-RpoD_wt_fructose_NH4Cl_O2_anti-rpod,\n",
        " ChIP Peak: 367654-367855 314.80 chipExo-ArcA_ArcA8myc_glucose_NH4Cl_anaerobic_anti-myc,\n",
        " ChIP Peak: 367666-367867 846.20 chipExo-ArcA_ArcA8myc_glucose_NH4Cl_anaerobic_anti-myc,\n",
        " ChIP Peak: 379018-379219 6572.00 chipExo-RpoD_wt_glycerol_NH4Cl_O2_anti-rpod,\n",
        " ChIP Peak: 379019-379220 3213.00 chipExo-RpoD_wt_fructose_NH4Cl_O2_anti-rpod,\n",
        " ChIP Peak: 379020-379221 774.00 chipExo-RpoD_wt_glucose_NH4Cl_02_anti-rpod,\n",
        " ChIP Peak: 379021-379222 2274.00 chipExo-RpoD_wt_glucose_NH4Cl_O2_anti-rpod,\n",
        " ChIP Peak: 388880-389081 2095.00 chipExo-RpoD_wt_fructose_NH4Cl_O2_anti-rpod,\n",
        " ChIP Peak: 388881-389082 1676.00 chipExo-RpoD_wt_glycerol_NH4Cl_O2_anti-rpod,\n",
        " ChIP Peak: 388881-389082 2051.00 chipExo-RpoD_wt_glucose_NH4Cl_O2_anti-rpod,\n",
        " ChIP Peak: 395491-395692 3829.00 chipExo-RpoD_wt_glycerol_NH4Cl_O2_anti-rpod,\n",
        " ChIP Peak: 395493-395694 3197.00 chipExo-RpoD_wt_fructose_NH4Cl_O2_anti-rpod,\n",
        " ChIP Peak: 395514-395715 2798.00 chipExo-RpoD_wt_glucose_NH4Cl_O2_anti-rpod,\n",
        " ChIP Peak: 398605-398806 52.00 chipExo-ArcA_ArcA8myc_glucose_NH4Cl_anaerobic_anti-myc,\n",
        " ChIP Peak: 398679-398880 496.70 chipExo-Crp_delAr1_glycerol_NH4Cl_O2_anti-crp,\n",
        " ChIP Peak: 398681-398882 7762.00 chipExo-Crp_wt_glycerol_NH4Cl_O2_anti-crp,\n",
        " ChIP Peak: 398682-398883 1964.30 chipExo-Crp_Crp8myc_glycerol_NH4Cl_O2_anti-crp,\n",
        " ChIP Peak: 398701-398902 10881.00 chipExo-RpoD_wt_glycerol_NH4Cl_O2_anti-rpod,\n",
        " ChIP Peak: 398701-398902 12474.00 chipExo-RpoD_wt_fructose_NH4Cl_O2_anti-rpod,\n",
        " ChIP Peak: 398703-398904 3240.00 chipExo-RpoD_wt_glucose_NH4Cl_O2_anti-rpod,\n",
        " ChIP Peak: 398703-398904 10739.10 chipExo-Crp_wt_glycerol_NH4Cl_O2_anti-crp,\n",
        " ChIP Peak: 398703-398904 26281.70 chipExo-Crp_wt_fructose_NH4Cl_O2_anti-crp,\n",
        " ChIP Peak: 398704-398905 2803.50 chipExo-Crp_Crp8myc_glycerol_NH4Cl_O2_anti-crp,\n",
        " ChIP Peak: 398706-398907 862.30 chipExo-Crp_delAr1_glycerol_NH4Cl_O2_anti-crp,\n",
        " ChIP Peak: 398706-398907 1808.00 chipExo-Crp_Crp8myc_fructose_NH4Cl_O2_anti-myc,\n",
        " ChIP Peak: 398707-398908 914.00 chipExo-Crp_Ar3_glycerol_NH4Cl_O2_anti-crp,\n",
        " ChIP Peak: 398712-398913 1519.20 chipExo-Crp_Crp8myc_glycerol_NH4Cl_O2_anti-crp,\n",
        " ChIP Peak: 398712-398913 6136.80 chipExo-Crp_wt_glycerol_NH4Cl_O2_anti-crp,\n",
        " ChIP Peak: 400071-400272 1617.90 chipExo-RpoD_wt_fructose_NH4Cl_O2_anti-rpod,\n",
        " ChIP Peak: 400072-400273 1618.50 chipExo-RpoD_wt_glycerol_NH4Cl_O2_anti-rpod,\n",
        " ChIP Peak: 400079-400280 3549.50 chipExo-RpoD_wt_glucose_NH4Cl_O2_anti-rpod,\n",
        " ChIP Peak: 400185-400386 1834.00 chipExo-Crp_Crp8myc_glycerol_NH4Cl_O2_anti-myc,\n",
        " ChIP Peak: 400186-400387 1273.00 chipExo-Crp_delAr1_glycerol_NH4Cl_O2_anti-crp,\n",
        " ChIP Peak: 400186-400387 5226.00 chipExo-Crp_wt_glycerol_NH4Cl_O2_anti-crp,\n",
        " ChIP Peak: 400187-400388 1568.00 chipExo-Crp_delAr1delAr2_glycerol_NH4Cl_O2_anti-crp,\n",
        " ChIP Peak: 400188-400389 1209.00 chipExo-Crp_Crp8myc_glucose_NH4Cl_O2_anti-myc,\n",
        " ChIP Peak: 400189-400390 1294.00 chipExo-Crp_Crp8myc_fructose_NH4Cl_O2_anti-crp,\n",
        " ChIP Peak: 400196-400397 6980.00 chipExo-Crp_wt_fructose_NH4Cl_O2_anti-crp,\n",
        " ChIP Peak: 400206-400407 1562.00 chipExo-Crp_Crp8myc_glycerol_NH4Cl_O2_anti-crp,\n",
        " ChIP Peak: 400211-400412 2341.00 chipExo-Crp_wt_glucose_NH4Cl_O2_anti-crp,\n",
        " ChIP Peak: 400479-400680 4282.50 chipExo-RpoD_wt_glycerol_NH4Cl_O2_anti-rpod,\n",
        " ChIP Peak: 400481-400682 5019.50 chipExo-RpoD_wt_glucose_NH4Cl_O2_anti-rpod,\n",
        " ChIP Peak: 400482-400683 3749.10 chipExo-RpoD_wt_fructose_NH4Cl_O2_anti-rpod,\n",
        " ChIP Peak: 404866-405067 6123.00 chipExo-RpoD_wt_fructose_NH4Cl_O2_anti-rpod,\n",
        " ChIP Peak: 404867-405068 1456.00 chipExo-RpoD_wt_glucose_NH4Cl_02_anti-rpod,\n",
        " ChIP Peak: 404867-405068 5776.00 chipExo-RpoD_wt_glycerol_NH4Cl_O2_anti-rpod,\n",
        " ChIP Peak: 404867-405068 5132.00 chipExo-RpoD_wt_glucose_NH4Cl_O2_anti-rpod,\n",
        " ChIP Peak: 405408-405609 2526.20 chipExo-RpoD_wt_fructose_NH4Cl_O2_anti-rpod,\n",
        " ChIP Peak: 405412-405613 2934.00 chipExo-RpoD_wt_glucose_NH4Cl_02_anti-rpod,\n",
        " ChIP Peak: 405415-405616 5798.90 chipExo-RpoD_wt_glucose_NH4Cl_O2_anti-rpod,\n",
        " ChIP Peak: 405480-405681 6589.00 chipExo-RpoD_wt_glycerol_NH4Cl_O2_anti-rpod,\n",
        " ChIP Peak: 405484-405685 4749.10 chipExo-RpoD_wt_glucose_NH4Cl_O2_anti-rpod,\n",
        " ChIP Peak: 405484-405685 4294.70 chipExo-RpoD_wt_fructose_NH4Cl_O2_anti-rpod,\n",
        " ChIP Peak: 406195-406396 2528.00 chipExo-RpoD_wt_fructose_NH4Cl_O2_anti-rpod,\n",
        " ChIP Peak: 406325-406526 885.00 chipExo-Crp_delAr1_glycerol_NH4Cl_O2_anti-crp,\n",
        " ChIP Peak: 406325-406526 1249.00 chipExo-Crp_Ar3_glycerol_NH4Cl_O2_anti-crp,\n",
        " ChIP Peak: 406325-406526 1454.00 chipExo-Crp_delAr1delAr2_glycerol_NH4Cl_O2_anti-crp,\n",
        " ChIP Peak: 407279-407480 1882.60 chipExo-RpoD_wt_fructose_NH4Cl_O2_anti-rpod,\n",
        " ChIP Peak: 407280-407481 2362.00 chipExo-RpoD_wt_glycerol_NH4Cl_O2_anti-rpod,\n",
        " ChIP Peak: 407733-407934 1222.40 chipExo-RpoD_wt_fructose_NH4Cl_O2_anti-rpod,\n",
        " ChIP Peak: 411649-411850 1264.00 chipExo-RpoD_wt_fructose_NH4Cl_O2_anti-rpod,\n",
        " ChIP Peak: 417431-417632 1188.00 chipExo-RpoD_wt_fructose_NH4Cl_O2_anti-rpod,\n",
        " ChIP Peak: 417433-417634 1740.00 chipExo-RpoD_wt_glycerol_NH4Cl_O2_anti-rpod,\n",
        " ChIP Peak: 418549-418750 2205.10 chipExo-RpoD_wt_glycerol_NH4Cl_O2_anti-rpod,\n",
        " ChIP Peak: 418550-418751 2332.50 chipExo-RpoD_wt_fructose_NH4Cl_O2_anti-rpod,\n",
        " ChIP Peak: 418550-418751 4946.00 chipExo-RpoD_wt_glucose_NH4Cl_O2_anti-rpod,\n",
        " ChIP Peak: 418805-419006 1237.50 chipExo-RpoD_wt_fructose_NH4Cl_O2_anti-rpod,\n",
        " ChIP Peak: 419874-420075 3202.00 chipExo-RpoD_wt_glycerol_NH4Cl_O2_anti-rpod,\n",
        " ChIP Peak: 419875-420076 2096.00 chipExo-RpoD_wt_fructose_NH4Cl_O2_anti-rpod,\n",
        " ChIP Peak: 419876-420077 2081.00 chipExo-RpoD_wt_glucose_NH4Cl_O2_anti-rpod,\n",
        " ChIP Peak: 424109-424310 3071.00 chipExo-RpoD_wt_glucose_NH4Cl_O2_anti-rpod,\n",
        " ChIP Peak: 424111-424312 2954.00 chipExo-RpoD_wt_glycerol_NH4Cl_O2_anti-rpod,\n",
        " ChIP Peak: 424111-424312 3261.00 chipExo-RpoD_wt_fructose_NH4Cl_O2_anti-rpod,\n",
        " ChIP Peak: 426318-426519 4544.60 chipExo-RpoD_wt_fructose_NH4Cl_O2_anti-rpod,\n",
        " ChIP Peak: 426319-426520 4902.10 chipExo-RpoD_wt_glycerol_NH4Cl_O2_anti-rpod,\n",
        " ChIP Peak: 426329-426530 3807.00 chipExo-RpoD_wt_glucose_NH4Cl_O2_anti-rpod,\n",
        " ChIP Peak: 429704-429905 1682.20 chipExo-RpoD_wt_fructose_NH4Cl_O2_anti-rpod,\n",
        " ChIP Peak: 429704-429905 2401.00 chipExo-RpoD_wt_glycerol_NH4Cl_O2_anti-rpod,\n",
        " ChIP Peak: 429705-429906 2158.00 chipExo-RpoD_wt_glucose_NH4Cl_O2_anti-rpod,\n",
        " ChIP Peak: 431210-431411 1368.00 chipExo-RpoD_wt_glycerol_NH4Cl_O2_anti-rpod,\n",
        " ChIP Peak: 431263-431464 1673.60 chipExo-Crp_Crp8myc_fructose_NH4Cl_O2_anti-crp,\n",
        " ChIP Peak: 431300-431501 1449.40 chipExo-Crp_Crp8myc_fructose_NH4Cl_O2_anti-crp,\n",
        " ChIP Peak: 431311-431512 1784.00 chipExo-RpoD_wt_glucose_NH4Cl_O2_anti-rpod,\n",
        " ChIP Peak: 432104-432305 1713.00 chipExo-RpoD_wt_fructose_NH4Cl_O2_anti-rpod,\n",
        " ChIP Peak: 432104-432305 1910.00 chipExo-RpoD_wt_glycerol_NH4Cl_O2_anti-rpod,\n",
        " ChIP Peak: 433732-433933 6547.00 chipExo-RpoD_wt_fructose_NH4Cl_O2_anti-rpod,\n",
        " ChIP Peak: 433732-433933 6134.00 chipExo-RpoD_wt_glycerol_NH4Cl_O2_anti-rpod,\n",
        " ChIP Peak: 433733-433934 6326.00 chipExo-RpoD_wt_glucose_NH4Cl_O2_anti-rpod,\n",
        " ChIP Peak: 433734-433935 1997.00 chipExo-RpoD_wt_glucose_NH4Cl_02_anti-rpod,\n",
        " ChIP Peak: 435712-435913 3073.00 chipExo-RpoD_wt_glycerol_NH4Cl_O2_anti-rpod,\n",
        " ChIP Peak: 435712-435913 2515.00 chipExo-RpoD_wt_fructose_NH4Cl_O2_anti-rpod,\n",
        " ChIP Peak: 435713-435914 2648.00 chipExo-RpoD_wt_glucose_NH4Cl_O2_anti-rpod,\n",
        " ChIP Peak: 436259-436460 406.00 chipExo-Crp_delAr1_glycerol_NH4Cl_O2_anti-crp,\n",
        " ChIP Peak: 437290-437491 3035.00 chipExo-RpoD_wt_glucose_NH4Cl_O2_anti-rpod,\n",
        " ChIP Peak: 437291-437492 3692.00 chipExo-RpoD_wt_glycerol_NH4Cl_O2_anti-rpod,\n",
        " ChIP Peak: 437291-437492 3209.00 chipExo-RpoD_wt_fructose_NH4Cl_O2_anti-rpod,\n",
        " ChIP Peak: 439520-439721 5167.00 chipExo-RpoD_wt_glucose_NH4Cl_O2_anti-rpod,\n",
        " ChIP Peak: 439520-439721 5555.00 chipExo-RpoD_wt_fructose_NH4Cl_O2_anti-rpod,\n",
        " ChIP Peak: 439520-439721 8294.00 chipExo-RpoD_wt_glycerol_NH4Cl_O2_anti-rpod,\n",
        " ChIP Peak: 439524-439725 1778.00 chipExo-RpoD_wt_glucose_NH4Cl_02_anti-rpod,\n",
        " ChIP Peak: 440591-440792 4597.00 chipExo-RpoD_wt_glycerol_NH4Cl_O2_anti-rpod,\n",
        " ChIP Peak: 440593-440794 4861.00 chipExo-RpoD_wt_glucose_NH4Cl_O2_anti-rpod,\n",
        " ChIP Peak: 440593-440794 4652.00 chipExo-RpoD_wt_fructose_NH4Cl_O2_anti-rpod,\n",
        " ChIP Peak: 443694-443895 1659.00 chipExo-RpoD_wt_glycerol_NH4Cl_O2_anti-rpod,\n",
        " ChIP Peak: 443696-443897 1567.00 chipExo-RpoD_wt_fructose_NH4Cl_O2_anti-rpod,\n",
        " ChIP Peak: 450769-450970 2163.00 chipExo-RpoD_wt_glucose_NH4Cl_02_anti-rpod,\n",
        " ChIP Peak: 450772-450973 7379.00 chipExo-RpoD_wt_fructose_NH4Cl_O2_anti-rpod,\n",
        " ChIP Peak: 450773-450974 3508.00 chipExo-RpoD_wt_glycerol_NH4Cl_O2_anti-rpod,\n",
        " ChIP Peak: 450775-450976 3737.00 chipExo-RpoD_wt_glucose_NH4Cl_O2_anti-rpod,\n",
        " ChIP Peak: 450854-451055 407.00 chipExo-ArcA_ArcA8myc_glucose_NH4Cl_anaerobic_anti-myc,\n",
        " ChIP Peak: 450915-451116 1641.70 chipExo-ArcA_ArcA8myc_glucose_NH4Cl_anaerobic_anti-myc,\n",
        " ChIP Peak: 450929-451130 927.70 chipExo-ArcA_ArcA8myc_glucose_NH4Cl_anaerobic_anti-myc,\n",
        " ChIP Peak: 450930-451131 140.00 chipExo-Fnr_Fnr8myc_glucose_NH4Cl_anaerobic_anti-myc,\n",
        " ChIP Peak: 450976-451177 1798.00 chipExo-ArcA_ArcA8myc_glucose_NH4Cl_anaerobic_anti-myc,\n",
        " ChIP Peak: 451000-451201 1439.60 chipExo-ArcA_ArcA8myc_glucose_NH4Cl_anaerobic_anti-myc,\n",
        " ChIP Peak: 451080-451281 438.00 chipExo-ArcA_ArcA8myc_glucose_NH4Cl_anaerobic_anti-myc,\n",
        " ChIP Peak: 453330-453531 2262.00 chipExo-RpoD_wt_glucose_NH4Cl_02_anti-rpod,\n",
        " ChIP Peak: 453331-453532 8351.00 chipExo-RpoD_wt_fructose_NH4Cl_O2_anti-rpod,\n",
        " ChIP Peak: 453331-453532 7913.00 chipExo-RpoD_wt_glucose_NH4Cl_O2_anti-rpod,\n",
        " ChIP Peak: 453338-453539 8891.80 chipExo-RpoD_wt_glycerol_NH4Cl_O2_anti-rpod,\n",
        " ChIP Peak: 453952-454153 2237.10 chipExo-RpoD_wt_glucose_NH4Cl_02_anti-rpod,\n",
        " ChIP Peak: 453962-454163 3221.00 chipExo-RpoD_wt_fructose_NH4Cl_O2_anti-rpod,\n",
        " ChIP Peak: 453964-454165 3334.90 chipExo-RpoD_wt_glycerol_NH4Cl_O2_anti-rpod,\n",
        " ChIP Peak: 453964-454165 4264.50 chipExo-RpoD_wt_glucose_NH4Cl_O2_anti-rpod,\n",
        " ChIP Peak: 454110-454311 9985.50 chipExo-RpoD_wt_glucose_NH4Cl_O2_anti-rpod,\n",
        " ChIP Peak: 454112-454313 3084.90 chipExo-RpoD_wt_glucose_NH4Cl_02_anti-rpod,\n",
        " ChIP Peak: 454121-454322 9400.10 chipExo-RpoD_wt_glycerol_NH4Cl_O2_anti-rpod,\n",
        " ChIP Peak: 454121-454322 10189.00 chipExo-RpoD_wt_fructose_NH4Cl_O2_anti-rpod,\n",
        " ChIP Peak: 455712-455913 3239.00 chipExo-RpoD_wt_glucose_NH4Cl_O2_anti-rpod,\n",
        " ChIP Peak: 455754-455955 2749.00 chipExo-RpoD_wt_fructose_NH4Cl_O2_anti-rpod,\n",
        " ChIP Peak: 455767-455968 2921.20 chipExo-RpoD_wt_glycerol_NH4Cl_O2_anti-rpod,\n",
        " ChIP Peak: 457945-458146 2468.00 chipExo-RpoD_wt_glycerol_NH4Cl_O2_anti-rpod,\n",
        " ChIP Peak: 457945-458146 2656.00 chipExo-RpoD_wt_fructose_NH4Cl_O2_anti-rpod,\n",
        " ChIP Peak: 457947-458148 2274.00 chipExo-RpoD_wt_glucose_NH4Cl_O2_anti-rpod,\n",
        " ChIP Peak: 459005-459206 1463.00 chipExo-RpoD_wt_glucose_NH4Cl_O2_anti-rpod,\n",
        " ChIP Peak: 459005-459206 1353.00 chipExo-RpoD_wt_fructose_NH4Cl_O2_anti-rpod,\n",
        " ChIP Peak: 459005-459206 1403.00 chipExo-RpoD_wt_glycerol_NH4Cl_O2_anti-rpod,\n",
        " ChIP Peak: 460460-460661 6549.00 chipExo-RpoD_wt_glycerol_NH4Cl_O2_anti-rpod,\n",
        " ChIP Peak: 460461-460662 5441.00 chipExo-RpoD_wt_fructose_NH4Cl_O2_anti-rpod,\n",
        " ChIP Peak: 460468-460669 3663.00 chipExo-RpoD_wt_glucose_NH4Cl_O2_anti-rpod,\n",
        " ChIP Peak: 460969-461170 4089.00 chipExo-RpoD_wt_glucose_NH4Cl_O2_anti-rpod,\n",
        " ChIP Peak: 460976-461177 5587.00 chipExo-RpoD_wt_fructose_NH4Cl_O2_anti-rpod,\n",
        " ChIP Peak: 460976-461177 6367.00 chipExo-RpoD_wt_glycerol_NH4Cl_O2_anti-rpod,\n",
        " ChIP Peak: 464691-464892 2607.90 chipExo-RpoD_wt_fructose_NH4Cl_O2_anti-rpod,\n",
        " ChIP Peak: 464692-464893 2131.00 chipExo-RpoD_wt_glycerol_NH4Cl_O2_anti-rpod,\n",
        " ChIP Peak: 464693-464894 2134.00 chipExo-RpoD_wt_glucose_NH4Cl_O2_anti-rpod,\n",
        " ChIP Peak: 474322-474523 1594.00 chipExo-RpoD_wt_glucose_NH4Cl_O2_anti-rpod,\n",
        " ChIP Peak: 474322-474523 1756.00 chipExo-RpoD_wt_fructose_NH4Cl_O2_anti-rpod,\n",
        " ChIP Peak: 474323-474524 2071.00 chipExo-RpoD_wt_glycerol_NH4Cl_O2_anti-rpod,\n",
        " ChIP Peak: 474439-474640 49.00 chipExo-ArcA_ArcA8myc_glucose_NH4Cl_anaerobic_anti-myc,\n",
        " ChIP Peak: 475441-475642 2082.60 chipExo-RpoD_wt_glucose_NH4Cl_O2_anti-rpod,\n",
        " ChIP Peak: 475445-475646 3462.20 chipExo-RpoD_wt_fructose_NH4Cl_O2_anti-rpod,\n",
        " ChIP Peak: 475446-475647 4183.70 chipExo-RpoD_wt_glycerol_NH4Cl_O2_anti-rpod,\n",
        " ChIP Peak: 475547-475748 2875.00 chipExo-RpoD_wt_glucose_NH4Cl_02_anti-rpod,\n",
        " ChIP Peak: 475550-475751 5936.40 chipExo-RpoD_wt_glucose_NH4Cl_O2_anti-rpod,\n",
        " ChIP Peak: 475551-475752 4008.30 chipExo-RpoD_wt_glycerol_NH4Cl_O2_anti-rpod,\n",
        " ChIP Peak: 475551-475752 5411.80 chipExo-RpoD_wt_fructose_NH4Cl_O2_anti-rpod,\n",
        " ChIP Peak: 476338-476539 1207.00 chipExo-RpoD_wt_fructose_NH4Cl_O2_anti-rpod,\n",
        " ChIP Peak: 478408-478609 3311.00 chipExo-RpoD_wt_glucose_NH4Cl_O2_anti-rpod,\n",
        " ChIP Peak: 478408-478609 3265.00 chipExo-RpoD_wt_glycerol_NH4Cl_O2_anti-rpod,\n",
        " ChIP Peak: 478409-478610 1865.00 chipExo-RpoD_wt_glucose_NH4Cl_02_anti-rpod,\n",
        " ChIP Peak: 478416-478617 5860.00 chipExo-RpoD_wt_fructose_NH4Cl_O2_anti-rpod,\n",
        " ChIP Peak: 479539-479740 4965.70 chipExo-RpoD_wt_glycerol_NH4Cl_O2_anti-rpod,\n",
        " ChIP Peak: 479539-479740 4829.10 chipExo-RpoD_wt_fructose_NH4Cl_O2_anti-rpod,\n",
        " ChIP Peak: 479540-479741 9709.30 chipExo-RpoD_wt_glucose_NH4Cl_O2_anti-rpod,\n",
        " ChIP Peak: 479997-480198 9097.90 chipExo-RpoD_wt_fructose_NH4Cl_O2_anti-rpod,\n",
        " ChIP Peak: 479997-480198 8813.30 chipExo-RpoD_wt_glycerol_NH4Cl_O2_anti-rpod,\n",
        " ChIP Peak: 479997-480198 16072.70 chipExo-RpoD_wt_glucose_NH4Cl_O2_anti-rpod,\n",
        " ChIP Peak: 485107-485308 1812.20 chipExo-RpoD_wt_fructose_NH4Cl_O2_anti-rpod,\n",
        " ChIP Peak: 485598-485799 1121.00 chipExo-RpoA_wt_glucose_NH4Cl_O2_anti-rpoA,\n",
        " ChIP Peak: 485602-485803 2000.00 chipExo-RpoD_wt_glucose_NH4Cl_02_anti-rpod,\n",
        " ChIP Peak: 485613-485814 8106.00 chipExo-RpoD_wt_glycerol_NH4Cl_O2_anti-rpod,\n",
        " ChIP Peak: 485613-485814 9108.00 chipExo-RpoD_wt_fructose_NH4Cl_O2_anti-rpod,\n",
        " ChIP Peak: 485614-485815 8058.00 chipExo-RpoD_wt_glucose_NH4Cl_O2_anti-rpod,\n",
        " ChIP Peak: 489990-490191 2161.00 chipExo-RpoD_wt_fructose_NH4Cl_O2_anti-rpod,\n",
        " ChIP Peak: 489994-490195 2137.50 chipExo-RpoD_wt_glycerol_NH4Cl_O2_anti-rpod,\n",
        " ChIP Peak: 490432-490633 10705.00 chipExo-RpoD_wt_fructose_NH4Cl_O2_anti-rpod,\n",
        " ChIP Peak: 490435-490636 2018.00 chipExo-RpoD_wt_glucose_NH4Cl_02_anti-rpod,\n",
        " ChIP Peak: 490436-490637 10376.50 chipExo-RpoD_wt_glycerol_NH4Cl_O2_anti-rpod,\n",
        " ChIP Peak: 490437-490638 6993.00 chipExo-RpoD_wt_glucose_NH4Cl_O2_anti-rpod,\n",
        " ChIP Peak: 491177-491378 1465.00 chipExo-RpoD_wt_glucose_NH4Cl_02_anti-rpod,\n",
        " ChIP Peak: 491179-491380 6923.00 chipExo-RpoD_wt_glycerol_NH4Cl_O2_anti-rpod,\n",
        " ChIP Peak: 491179-491380 8113.00 chipExo-RpoD_wt_fructose_NH4Cl_O2_anti-rpod,\n",
        " ChIP Peak: 491181-491382 5598.00 chipExo-RpoD_wt_glucose_NH4Cl_O2_anti-rpod,\n",
        " ChIP Peak: 496248-496449 4981.00 chipExo-RpoD_wt_glucose_NH4Cl_O2_anti-rpod,\n",
        " ChIP Peak: 496248-496449 5001.00 chipExo-RpoD_wt_fructose_NH4Cl_O2_anti-rpod,\n",
        " ChIP Peak: 496248-496449 6473.00 chipExo-RpoD_wt_glycerol_NH4Cl_O2_anti-rpod,\n",
        " ChIP Peak: 496252-496453 1362.00 chipExo-RpoD_wt_glucose_NH4Cl_02_anti-rpod,\n",
        " ChIP Peak: 499221-499422 1510.00 chipExo-RpoD_wt_glycerol_NH4Cl_O2_anti-rpod,\n",
        " ChIP Peak: 499222-499423 1661.00 chipExo-RpoD_wt_fructose_NH4Cl_O2_anti-rpod,\n",
        " ChIP Peak: 499223-499424 1302.00 chipExo-RpoD_wt_glucose_NH4Cl_O2_anti-rpod,\n",
        " ChIP Peak: 500357-500558 1372.00 chipExo-RpoD_wt_glycerol_NH4Cl_O2_anti-rpod,\n",
        " ChIP Peak: 500357-500558 1274.00 chipExo-RpoD_wt_fructose_NH4Cl_O2_anti-rpod,\n",
        " ChIP Peak: 502410-502611 1453.00 chipExo-RpoD_wt_fructose_NH4Cl_O2_anti-rpod,\n",
        " ChIP Peak: 506328-506529 4200.00 chipExo-RpoD_wt_fructose_NH4Cl_O2_anti-rpod,\n",
        " ChIP Peak: 506329-506530 4158.00 chipExo-RpoD_wt_glycerol_NH4Cl_O2_anti-rpod,\n",
        " ChIP Peak: 506330-506531 4953.00 chipExo-RpoD_wt_glucose_NH4Cl_O2_anti-rpod,\n",
        " ChIP Peak: 506331-506532 1215.00 chipExo-RpoD_wt_glucose_NH4Cl_02_anti-rpod,\n",
        " ChIP Peak: 507214-507415 3312.00 chipExo-RpoD_wt_glucose_NH4Cl_O2_anti-rpod,\n",
        " ChIP Peak: 507216-507417 2225.00 chipExo-RpoD_wt_glycerol_NH4Cl_O2_anti-rpod,\n",
        " ChIP Peak: 507217-507418 2699.00 chipExo-RpoD_wt_fructose_NH4Cl_O2_anti-rpod,\n",
        " ChIP Peak: 510535-510736 1479.00 chipExo-RpoD_wt_glycerol_NH4Cl_O2_anti-rpod,\n",
        " ChIP Peak: 510537-510738 1737.00 chipExo-RpoD_wt_fructose_NH4Cl_O2_anti-rpod,\n",
        " ChIP Peak: 510706-510907 2558.00 chipExo-RpoD_wt_glucose_NH4Cl_O2_anti-rpod,\n",
        " ChIP Peak: 510719-510920 1736.00 chipExo-RpoA_wt_glucose_NH4Cl_O2_anti-rpoA,\n",
        " ChIP Peak: 518298-518499 1596.00 chipExo-RpoD_wt_fructose_NH4Cl_O2_anti-rpod,\n",
        " ChIP Peak: 518298-518499 1631.00 chipExo-RpoD_wt_glycerol_NH4Cl_O2_anti-rpod,\n",
        " ChIP Peak: 518917-519118 3855.00 chipExo-RpoD_wt_glucose_NH4Cl_O2_anti-rpod,\n",
        " ChIP Peak: 518918-519119 5297.00 chipExo-RpoD_wt_glycerol_NH4Cl_O2_anti-rpod,\n",
        " ChIP Peak: 518918-519119 5205.00 chipExo-RpoD_wt_fructose_NH4Cl_O2_anti-rpod,\n",
        " ChIP Peak: 526400-526601 2864.00 chipExo-RpoD_wt_glucose_NH4Cl_02_anti-rpod,\n",
        " ChIP Peak: 526402-526603 7807.00 chipExo-RpoD_wt_glucose_NH4Cl_O2_anti-rpod,\n",
        " ChIP Peak: 526402-526603 3500.00 chipExo-RpoD_wt_fructose_NH4Cl_O2_anti-rpod,\n",
        " ChIP Peak: 526402-526603 3508.00 chipExo-RpoD_wt_glycerol_NH4Cl_O2_anti-rpod,\n",
        " ChIP Peak: 528116-528317 1629.20 chipExo-RpoD_wt_glucose_NH4Cl_02_anti-rpod,\n",
        " ChIP Peak: 528125-528326 9160.20 chipExo-RpoD_wt_glycerol_NH4Cl_O2_anti-rpod,\n",
        " ChIP Peak: 528134-528335 20416.00 chipExo-RpoD_wt_glucose_NH4Cl_O2_anti-rpod,\n",
        " ChIP Peak: 528136-528337 11319.00 chipExo-RpoD_wt_fructose_NH4Cl_O2_anti-rpod,\n",
        " ChIP Peak: 528143-528344 6228.80 chipExo-RpoD_wt_glycerol_NH4Cl_O2_anti-rpod,\n",
        " ChIP Peak: 528147-528348 2733.80 chipExo-RpoD_wt_glucose_NH4Cl_02_anti-rpod,\n",
        " ChIP Peak: 528148-528349 1941.00 chipExo-RpoA_wt_glucose_NH4Cl_O2_anti-rpoA,\n",
        " ChIP Peak: 528153-528354 238.00 chipExo-Fnr_Fnr8myc_glucose_NH4Cl_anaerobic_anti-myc,\n",
        " ChIP Peak: 532098-532299 1561.00 chipExo-RpoD_wt_glycerol_NH4Cl_O2_anti-rpod,\n",
        " ChIP Peak: 532100-532301 1415.00 chipExo-RpoD_wt_fructose_NH4Cl_O2_anti-rpod,\n",
        " ChIP Peak: 552263-552464 4355.00 chipExo-RpoD_wt_fructose_NH4Cl_O2_anti-rpod,\n",
        " ChIP Peak: 552264-552465 3740.00 chipExo-RpoD_wt_glycerol_NH4Cl_O2_anti-rpod,\n",
        " ChIP Peak: 552264-552465 4005.00 chipExo-RpoD_wt_glucose_NH4Cl_O2_anti-rpod,\n",
        " ChIP Peak: 553609-553810 3269.30 chipExo-RpoD_wt_fructose_NH4Cl_O2_anti-rpod,\n",
        " ChIP Peak: 553610-553811 5126.00 chipExo-RpoD_wt_glucose_NH4Cl_O2_anti-rpod,\n",
        " ChIP Peak: 553610-553811 4626.00 chipExo-RpoD_wt_glycerol_NH4Cl_O2_anti-rpod,\n",
        " ChIP Peak: 553702-553903 1659.70 chipExo-RpoD_wt_fructose_NH4Cl_O2_anti-rpod,\n",
        " ChIP Peak: 556900-557101 1583.00 chipExo-RpoD_wt_glucose_NH4Cl_O2_anti-rpod,\n",
        " ChIP Peak: 563505-563706 1766.00 chipExo-RpoD_wt_glycerol_NH4Cl_O2_anti-rpod,\n",
        " ChIP Peak: 563507-563708 1649.60 chipExo-RpoD_wt_fructose_NH4Cl_O2_anti-rpod,\n",
        " ChIP Peak: 563507-563708 2077.50 chipExo-RpoD_wt_glucose_NH4Cl_O2_anti-rpod,\n",
        " ChIP Peak: 563822-564023 2679.00 chipExo-RpoD_wt_glucose_NH4Cl_02_anti-rpod,\n",
        " ChIP Peak: 563823-564024 8766.40 chipExo-RpoD_wt_fructose_NH4Cl_O2_anti-rpod,\n",
        " ChIP Peak: 563825-564026 7598.00 chipExo-RpoD_wt_glycerol_NH4Cl_O2_anti-rpod,\n",
        " ChIP Peak: 563825-564026 8490.50 chipExo-RpoD_wt_glucose_NH4Cl_O2_anti-rpod,\n",
        " ChIP Peak: 563841-564042 2464.00 chipExo-RpoA_wt_glucose_NH4Cl_O2_anti-rpoA,\n",
        " ChIP Peak: 565216-565417 2078.00 chipExo-RpoD_wt_fructose_NH4Cl_O2_anti-rpod,\n",
        " ChIP Peak: 565216-565417 2003.00 chipExo-RpoD_wt_glucose_NH4Cl_O2_anti-rpod,\n",
        " ChIP Peak: 565216-565417 2854.00 chipExo-RpoD_wt_glycerol_NH4Cl_O2_anti-rpod,\n",
        " ChIP Peak: 569833-570034 1159.00 chipExo-RpoD_wt_fructose_NH4Cl_O2_anti-rpod,\n",
        " ChIP Peak: 571448-571649 1687.00 chipExo-RpoD_wt_fructose_NH4Cl_O2_anti-rpod,\n",
        " ChIP Peak: 571448-571649 2063.00 chipExo-RpoD_wt_glucose_NH4Cl_O2_anti-rpod,\n",
        " ChIP Peak: 571448-571649 1927.00 chipExo-RpoD_wt_glycerol_NH4Cl_O2_anti-rpod,\n",
        " ChIP Peak: 573519-573720 1280.00 chipExo-RpoD_wt_fructose_NH4Cl_O2_anti-rpod,\n",
        " ChIP Peak: 573531-573732 1790.00 chipExo-RpoD_wt_glycerol_NH4Cl_O2_anti-rpod,\n",
        " ChIP Peak: 575987-576188 9078.60 chipExo-RpoD_wt_glycerol_NH4Cl_O2_anti-rpod,\n",
        " ChIP Peak: 575988-576189 8388.00 chipExo-Crp_wt_fructose_NH4Cl_O2_anti-crp,\n",
        " ChIP Peak: 575989-576190 6668.60 chipExo-RpoD_wt_fructose_NH4Cl_O2_anti-rpod,\n",
        " ChIP Peak: 575992-576193 3533.40 chipExo-RpoD_wt_glucose_NH4Cl_O2_anti-rpod,\n",
        " ChIP Peak: 576359-576560 327.00 chipExo-Crp_Crp8myc_glycerol_NH4Cl_O2_anti-mock-myc,\n",
        " ChIP Peak: 576360-576561 12567.40 chipExo-RpoD_wt_fructose_NH4Cl_O2_anti-rpod,\n",
        " ChIP Peak: 576366-576567 14909.40 chipExo-RpoD_wt_glycerol_NH4Cl_O2_anti-rpod,\n",
        " ChIP Peak: 576366-576567 15956.60 chipExo-RpoD_wt_glucose_NH4Cl_O2_anti-rpod,\n",
        " ChIP Peak: 576370-576571 1487.00 chipExo-RpoA_wt_glucose_NH4Cl_O2_anti-rpoA,\n",
        " ChIP Peak: 576410-576611 1803.40 chipExo-RpoD_wt_glucose_NH4Cl_02_anti-rpod,\n",
        " ChIP Peak: 578027-578228 2008.80 chipExo-RpoD_wt_fructose_NH4Cl_O2_anti-rpod,\n",
        " ChIP Peak: 578323-578524 2018.40 chipExo-RpoD_wt_glycerol_NH4Cl_O2_anti-rpod,\n",
        " ChIP Peak: 581698-581899 1562.60 chipExo-RpoD_wt_glycerol_NH4Cl_O2_anti-rpod,\n",
        " ChIP Peak: 581959-582160 1694.50 chipExo-RpoD_wt_glycerol_NH4Cl_O2_anti-rpod,\n",
        " ChIP Peak: 582419-582620 99.40 chipExo-ArcA_ArcA8myc_glucose_NH4Cl_anaerobic_anti-myc,\n",
        " ChIP Peak: 582430-582631 106.10 chipExo-ArcA_ArcA8myc_glucose_NH4Cl_anaerobic_anti-myc,\n",
        " ChIP Peak: 582601-582802 68.60 chipExo-ArcA_ArcA8myc_glucose_NH4Cl_anaerobic_anti-myc,\n",
        " ChIP Peak: 582730-582931 3810.00 chipExo-RpoD_wt_glycerol_NH4Cl_O2_anti-rpod,\n",
        " ChIP Peak: 582731-582932 2202.00 chipExo-RpoD_wt_fructose_NH4Cl_O2_anti-rpod,\n",
        " ChIP Peak: 582732-582933 16351.00 chipExo-RpoD_wt_glucose_NH4Cl_O2_anti-rpod,\n",
        " ChIP Peak: 582751-582952 3194.00 chipExo-RpoA_wt_glucose_NH4Cl_O2_anti-rpoA,\n",
        " ChIP Peak: 584768-584969 6264.00 chipExo-RpoD_wt_glycerol_NH4Cl_O2_anti-rpod,\n",
        " ChIP Peak: 584769-584970 7274.00 chipExo-RpoD_wt_fructose_NH4Cl_O2_anti-rpod,\n",
        " ChIP Peak: 584773-584974 8883.00 chipExo-RpoD_wt_glucose_NH4Cl_O2_anti-rpod,\n",
        " ChIP Peak: 584775-584976 2454.00 chipExo-RpoD_wt_glucose_NH4Cl_02_anti-rpod,\n",
        " ChIP Peak: 591655-591856 1298.00 chipExo-RpoD_wt_fructose_NH4Cl_O2_anti-rpod,\n",
        " ChIP Peak: 591656-591857 1405.00 chipExo-RpoD_wt_glycerol_NH4Cl_O2_anti-rpod,\n",
        " ChIP Peak: 594581-594782 1255.50 chipExo-RpoD_wt_fructose_NH4Cl_O2_anti-rpod,\n",
        " ChIP Peak: 594702-594903 5269.50 chipExo-RpoD_wt_fructose_NH4Cl_O2_anti-rpod,\n",
        " ChIP Peak: 594703-594904 7355.00 chipExo-RpoD_wt_glycerol_NH4Cl_O2_anti-rpod,\n",
        " ChIP Peak: 605343-605544 1671.00 chipExo-RpoD_wt_fructose_NH4Cl_O2_anti-rpod,\n",
        " ChIP Peak: 606913-607114 4500.00 chipExo-RpoD_wt_fructose_NH4Cl_O2_anti-rpod,\n",
        " ChIP Peak: 606913-607114 4908.00 chipExo-RpoD_wt_glucose_NH4Cl_O2_anti-rpod,\n",
        " ChIP Peak: 606913-607114 4740.00 chipExo-RpoD_wt_glycerol_NH4Cl_O2_anti-rpod,\n",
        " ChIP Peak: 606915-607116 1295.00 chipExo-RpoD_wt_glucose_NH4Cl_02_anti-rpod,\n",
        " ChIP Peak: 611781-611982 169.00 chipExo-Crp_wt_fructose_NH4Cl_O2_anti-mock-crp,\n",
        " ChIP Peak: 621366-621567 1132.00 chipExo-RpoD_wt_glycerol_NH4Cl_O2_anti-rpod,\n",
        " ChIP Peak: 621367-621568 1316.00 chipExo-RpoD_wt_fructose_NH4Cl_O2_anti-rpod,\n",
        " ChIP Peak: 628988-629189 4941.00 chipExo-RpoD_wt_fructose_NH4Cl_O2_anti-rpod,\n",
        " ChIP Peak: 628988-629189 3801.00 chipExo-RpoD_wt_glycerol_NH4Cl_O2_anti-rpod,\n",
        " ChIP Peak: 628989-629190 3828.00 chipExo-Crp_wt_glycerol_NH4Cl_O2_anti-crp,\n",
        " ChIP Peak: 631709-631910 1506.00 chipExo-RpoD_wt_glucose_NH4Cl_O2_anti-rpod,\n",
        " ChIP Peak: 631709-631910 1854.00 chipExo-RpoD_wt_glycerol_NH4Cl_O2_anti-rpod,\n",
        " ChIP Peak: 631710-631911 1252.00 chipExo-RpoD_wt_fructose_NH4Cl_O2_anti-rpod,\n",
        " ChIP Peak: 637818-638019 2123.60 chipExo-RpoD_wt_fructose_NH4Cl_O2_anti-rpod,\n",
        " ChIP Peak: 637823-638024 3982.00 chipExo-RpoD_wt_glucose_NH4Cl_O2_anti-rpod,\n",
        " ChIP Peak: 637829-638030 2261.20 chipExo-RpoD_wt_glycerol_NH4Cl_O2_anti-rpod,\n",
        " ChIP Peak: 638011-638212 2137.80 chipExo-RpoD_wt_glycerol_NH4Cl_O2_anti-rpod,\n",
        " ChIP Peak: 638016-638217 1684.40 chipExo-RpoD_wt_fructose_NH4Cl_O2_anti-rpod,\n",
        " ChIP Peak: 641018-641219 1388.00 chipExo-RpoD_wt_fructose_NH4Cl_O2_anti-rpod,\n",
        " ChIP Peak: 641020-641221 1824.00 chipExo-RpoD_wt_glucose_NH4Cl_O2_anti-rpod,\n",
        " ChIP Peak: 641020-641221 1500.00 chipExo-RpoD_wt_glycerol_NH4Cl_O2_anti-rpod,\n",
        " ChIP Peak: 643163-643364 9661.60 chipExo-Crp_wt_glycerol_NH4Cl_O2_anti-crp,\n",
        " ChIP Peak: 643166-643367 485.10 chipExo-Crp_delAr1_glycerol_NH4Cl_O2_anti-crp,\n",
        " ChIP Peak: 643171-643372 5584.00 chipExo-RpoD_wt_glucose_NH4Cl_O2_anti-rpod,\n",
        " ChIP Peak: 643172-643373 12097.00 chipExo-RpoD_wt_fructose_NH4Cl_O2_anti-rpod,\n",
        " ChIP Peak: 643173-643374 17252.00 chipExo-RpoD_wt_glycerol_NH4Cl_O2_anti-rpod,\n",
        " ChIP Peak: 643173-643374 1109.00 chipExo-Crp_Crp8myc_glycerol_NH4Cl_O2_anti-crp,\n",
        " ChIP Peak: 643190-643391 1102.00 chipExo-Crp_Ar3_glycerol_NH4Cl_O2_anti-crp,\n",
        " ChIP Peak: 643190-643391 1453.00 chipExo-Crp_Crp8myc_glycerol_NH4Cl_O2_anti-myc,\n",
        " ChIP Peak: 643191-643392 6853.40 chipExo-Crp_wt_glycerol_NH4Cl_O2_anti-crp,\n",
        " ChIP Peak: 643209-643410 390.90 chipExo-Crp_delAr1_glycerol_NH4Cl_O2_anti-crp,\n",
        " ChIP Peak: 644145-644346 1548.00 chipExo-RpoD_wt_glycerol_NH4Cl_O2_anti-rpod,\n",
        " ChIP Peak: 644146-644347 1268.00 chipExo-RpoD_wt_fructose_NH4Cl_O2_anti-rpod,\n",
        " ChIP Peak: 650712-650913 1397.00 chipExo-RpoD_wt_glycerol_NH4Cl_O2_anti-rpod,\n",
        " ChIP Peak: 651722-651923 910.00 chipExo-RpoD_wt_glucose_NH4Cl_02_anti-rpod,\n",
        " ChIP Peak: 651724-651925 4414.00 chipExo-RpoD_wt_fructose_NH4Cl_O2_anti-rpod,\n",
        " ChIP Peak: 651724-651925 3464.00 chipExo-RpoD_wt_glucose_NH4Cl_O2_anti-rpod,\n",
        " ChIP Peak: 651724-651925 4047.00 chipExo-RpoD_wt_glycerol_NH4Cl_O2_anti-rpod,\n",
        " ChIP Peak: 656341-656542 4822.30 chipExo-Crp_wt_glycerol_NH4Cl_O2_anti-crp,\n",
        " ChIP Peak: 656355-656556 1752.10 chipExo-Crp_Crp8myc_glycerol_NH4Cl_O2_anti-crp,\n",
        " ChIP Peak: 656356-656557 7219.50 chipExo-Crp_wt_fructose_NH4Cl_O2_anti-crp,\n",
        " ChIP Peak: 656366-656567 4863.20 chipExo-Crp_wt_glycerol_NH4Cl_O2_anti-crp,\n",
        " ChIP Peak: 656370-656571 2346.00 chipExo-Crp_Crp8myc_glycerol_NH4Cl_O2_anti-myc,\n",
        " ChIP Peak: 656374-656575 27351.00 chipExo-RpoD_wt_fructose_NH4Cl_O2_anti-rpod,\n",
        " ChIP Peak: 656375-656576 23915.00 chipExo-RpoD_wt_glucose_NH4Cl_O2_anti-rpod,\n",
        " ChIP Peak: 656375-656576 4691.70 chipExo-Crp_wt_glycerol_NH4Cl_O2_anti-crp,\n",
        " ChIP Peak: 656375-656576 37893.20 chipExo-RpoD_wt_glycerol_NH4Cl_O2_anti-rpod,\n",
        " ChIP Peak: 656381-656582 656.00 chipExo-Crp_delAr1_glycerol_NH4Cl_O2_anti-crp,\n",
        " ChIP Peak: 656383-656584 1379.90 chipExo-Crp_Crp8myc_glycerol_NH4Cl_O2_anti-crp,\n",
        " ChIP Peak: 656384-656585 7733.40 chipExo-Crp_wt_fructose_NH4Cl_O2_anti-crp,\n",
        " ChIP Peak: 656384-656585 3588.30 chipExo-Crp_wt_glycerol_NH4Cl_O2_anti-crp,\n",
        " ChIP Peak: 656484-656685 6869.80 chipExo-RpoD_wt_glycerol_NH4Cl_O2_anti-rpod,\n",
        " ChIP Peak: 656494-656695 4549.80 chipExo-Crp_wt_glycerol_NH4Cl_O2_anti-crp,\n",
        " ChIP Peak: 656501-656702 6531.10 chipExo-Crp_wt_fructose_NH4Cl_O2_anti-crp,\n",
        " ChIP Peak: 656576-656777 3508.80 chipExo-Crp_wt_glycerol_NH4Cl_O2_anti-crp,\n",
        " ChIP Peak: 659437-659638 2964.00 chipExo-RpoD_wt_glucose_NH4Cl_O2_anti-rpod,\n",
        " ChIP Peak: 659437-659638 2562.00 chipExo-Crp_wt_glycerol_NH4Cl_O2_anti-crp,\n",
        " ChIP Peak: 659438-659639 2561.00 chipExo-RpoD_wt_glycerol_NH4Cl_O2_anti-rpod,\n",
        " ChIP Peak: 659438-659639 2625.30 chipExo-RpoD_wt_fructose_NH4Cl_O2_anti-rpod,\n",
        " ChIP Peak: 661441-661642 2818.80 chipExo-RpoD_wt_glucose_NH4Cl_O2_anti-rpod,\n",
        " ChIP Peak: 661442-661643 3221.10 chipExo-RpoD_wt_glycerol_NH4Cl_O2_anti-rpod,\n",
        " ChIP Peak: 661442-661643 2902.00 chipExo-RpoD_wt_fructose_NH4Cl_O2_anti-rpod,\n",
        " ChIP Peak: 661815-662016 2085.00 chipExo-RpoD_wt_fructose_NH4Cl_O2_anti-rpod,\n",
        " ChIP Peak: 661817-662018 2713.20 chipExo-RpoD_wt_glucose_NH4Cl_O2_anti-rpod,\n",
        " ChIP Peak: 661818-662019 1909.90 chipExo-RpoD_wt_glycerol_NH4Cl_O2_anti-rpod,\n",
        " ChIP Peak: 663121-663322 1914.00 chipExo-RpoD_wt_fructose_NH4Cl_O2_anti-rpod,\n",
        " ChIP Peak: 663122-663323 2144.00 chipExo-RpoD_wt_glycerol_NH4Cl_O2_anti-rpod,\n",
        " ChIP Peak: 664447-664648 1360.00 chipExo-RpoD_wt_fructose_NH4Cl_O2_anti-rpod,\n",
        " ChIP Peak: 664447-664648 1538.00 chipExo-RpoD_wt_glycerol_NH4Cl_O2_anti-rpod,\n",
        " ChIP Peak: 664448-664649 1557.00 chipExo-RpoD_wt_glucose_NH4Cl_O2_anti-rpod,\n",
        " ChIP Peak: 668205-668406 3649.00 chipExo-RpoD_wt_glycerol_NH4Cl_O2_anti-rpod,\n",
        " ChIP Peak: 668206-668407 3309.70 chipExo-RpoD_wt_fructose_NH4Cl_O2_anti-rpod,\n",
        " ChIP Peak: 668206-668407 3639.00 chipExo-RpoD_wt_glucose_NH4Cl_O2_anti-rpod,\n",
        " ChIP Peak: 668344-668545 1532.30 chipExo-RpoD_wt_fructose_NH4Cl_O2_anti-rpod,\n",
        " ChIP Peak: 673967-674168 3488.00 chipExo-RpoD_wt_glucose_NH4Cl_02_anti-rpod,\n",
        " ChIP Peak: 673967-674168 11089.00 chipExo-RpoD_wt_glucose_NH4Cl_O2_anti-rpod,\n",
        " ChIP Peak: 673967-674168 14652.00 chipExo-RpoD_wt_glycerol_NH4Cl_O2_anti-rpod,\n",
        " ChIP Peak: 673968-674169 13205.00 chipExo-RpoD_wt_fructose_NH4Cl_O2_anti-rpod,\n",
        " ChIP Peak: 688160-688361 1679.00 chipExo-RpoD_wt_glycerol_NH4Cl_O2_anti-rpod,\n",
        " ChIP Peak: 688164-688365 1590.80 chipExo-RpoD_wt_fructose_NH4Cl_O2_anti-rpod,\n",
        " ChIP Peak: 688278-688479 1069.20 chipExo-RpoD_wt_fructose_NH4Cl_O2_anti-rpod,\n",
        " ChIP Peak: 694114-694315 5919.00 chipExo-RpoD_wt_fructose_NH4Cl_O2_anti-rpod,\n",
        " ChIP Peak: 694114-694315 6038.00 chipExo-RpoD_wt_glycerol_NH4Cl_O2_anti-rpod,\n",
        " ChIP Peak: 694115-694316 6574.00 chipExo-RpoD_wt_glucose_NH4Cl_O2_anti-rpod,\n",
        " ChIP Peak: 694118-694319 1888.00 chipExo-RpoD_wt_glucose_NH4Cl_02_anti-rpod,\n",
        " ChIP Peak: 695782-695983 5121.00 chipExo-RpoD_wt_glucose_NH4Cl_O2_anti-rpod,\n",
        " ChIP Peak: 695785-695986 5453.00 chipExo-RpoD_wt_fructose_NH4Cl_O2_anti-rpod,\n",
        " ChIP Peak: 695786-695987 6964.00 chipExo-RpoD_wt_glycerol_NH4Cl_O2_anti-rpod,\n",
        " ChIP Peak: 696101-696302 341.60 chipExo-Crp_wt_fructose_NH4Cl_O2_anti-mock-crp,\n",
        " ChIP Peak: 696107-696308 2572.20 chipExo-RpoA_wt_glucose_NH4Cl_O2_anti-rpoA,\n",
        " ChIP Peak: 696127-696328 205.10 chipExo-Crp_wt_fructose_NH4Cl_O2_anti-mock-crp,\n",
        " ChIP Peak: 696159-696360 2811.80 chipExo-RpoA_wt_glucose_NH4Cl_O2_anti-rpoA,\n",
        " ChIP Peak: 696177-696378 379.30 chipExo-Crp_wt_fructose_NH4Cl_O2_anti-mock-crp,\n",
        " ChIP Peak: 696289-696490 6715.00 chipExo-RpoD_wt_glycerol_NH4Cl_O2_anti-rpod,\n",
        " ChIP Peak: 696289-696490 8806.00 chipExo-RpoD_wt_fructose_NH4Cl_O2_anti-rpod,\n",
        " ChIP Peak: 696289-696490 11466.00 chipExo-RpoD_wt_glucose_NH4Cl_O2_anti-rpod,\n",
        " ChIP Peak: 696291-696492 3436.00 chipExo-RpoD_wt_glucose_NH4Cl_02_anti-rpod,\n",
        " ChIP Peak: 699469-699670 1662.00 chipExo-RpoD_wt_glucose_NH4Cl_O2_anti-rpod,\n",
        " ChIP Peak: 699470-699671 1460.00 chipExo-RpoD_wt_fructose_NH4Cl_O2_anti-rpod,\n",
        " ChIP Peak: 699471-699672 1714.00 chipExo-RpoD_wt_glycerol_NH4Cl_O2_anti-rpod,\n",
        " ChIP Peak: 700982-701183 3539.00 chipExo-RpoD_wt_glycerol_NH4Cl_O2_anti-rpod,\n",
        " ChIP Peak: 700982-701183 2651.00 chipExo-RpoD_wt_glucose_NH4Cl_O2_anti-rpod,\n",
        " ChIP Peak: 700983-701184 3032.00 chipExo-RpoD_wt_fructose_NH4Cl_O2_anti-rpod,\n",
        " ChIP Peak: 702967-703168 1302.80 chipExo-RpoD_wt_fructose_NH4Cl_O2_anti-rpod,\n",
        " ChIP Peak: 705188-705389 11077.00 chipExo-RpoD_wt_glycerol_NH4Cl_O2_anti-rpod,\n",
        " ChIP Peak: 705188-705389 1832.00 chipExo-RpoD_wt_glucose_NH4Cl_02_anti-rpod,\n",
        " ChIP Peak: 705189-705390 9477.00 chipExo-RpoD_wt_fructose_NH4Cl_O2_anti-rpod,\n",
        " ChIP Peak: 705189-705390 7104.00 chipExo-RpoD_wt_glucose_NH4Cl_O2_anti-rpod,\n",
        " ChIP Peak: 707364-707565 2464.00 chipExo-RpoD_wt_glycerol_NH4Cl_O2_anti-rpod,\n",
        " ChIP Peak: 707364-707565 1840.00 chipExo-RpoD_wt_fructose_NH4Cl_O2_anti-rpod,\n",
        " ChIP Peak: 709835-710036 3943.00 chipExo-Crp_wt_glycerol_NH4Cl_O2_anti-crp,\n",
        " ChIP Peak: 709842-710043 10057.00 chipExo-RpoD_wt_fructose_NH4Cl_O2_anti-rpod,\n",
        " ChIP Peak: 709842-710043 6174.00 chipExo-RpoD_wt_glucose_NH4Cl_O2_anti-rpod,\n",
        " ChIP Peak: 709842-710043 16520.00 chipExo-RpoD_wt_glycerol_NH4Cl_O2_anti-rpod,\n",
        " ChIP Peak: 710651-710852 4294.80 chipExo-RpoD_wt_glycerol_NH4Cl_O2_anti-rpod,\n",
        " ChIP Peak: 710652-710853 3696.30 chipExo-RpoD_wt_fructose_NH4Cl_O2_anti-rpod,\n",
        " ChIP Peak: 710653-710854 3476.00 chipExo-RpoD_wt_glucose_NH4Cl_O2_anti-rpod,\n",
        " ChIP Peak: 711071-711272 2879.00 chipExo-RpoD_wt_glucose_NH4Cl_O2_anti-rpod,\n",
        " ChIP Peak: 711072-711273 3140.20 chipExo-RpoD_wt_glycerol_NH4Cl_O2_anti-rpod,\n",
        " ChIP Peak: 711073-711274 3360.70 chipExo-RpoD_wt_fructose_NH4Cl_O2_anti-rpod,\n",
        " ChIP Peak: 711952-712153 2051.10 chipExo-RpoD_wt_glucose_NH4Cl_02_anti-rpod,\n",
        " ChIP Peak: 711967-712168 5547.50 chipExo-RpoD_wt_fructose_NH4Cl_O2_anti-rpod,\n",
        " ChIP Peak: 711975-712176 7335.20 chipExo-RpoD_wt_glycerol_NH4Cl_O2_anti-rpod,\n",
        " ChIP Peak: 711979-712180 7773.70 chipExo-RpoD_wt_glucose_NH4Cl_O2_anti-rpod,\n",
        " ChIP Peak: 711980-712181 1318.10 chipExo-RpoD_wt_glucose_NH4Cl_02_anti-rpod,\n",
        " ChIP Peak: 712069-712270 6396.50 chipExo-RpoD_wt_fructose_NH4Cl_O2_anti-rpod,\n",
        " ChIP Peak: 712071-712272 7452.80 chipExo-RpoD_wt_glycerol_NH4Cl_O2_anti-rpod,\n",
        " ChIP Peak: 712072-712273 3440.80 chipExo-RpoD_wt_glucose_NH4Cl_02_anti-rpod,\n",
        " ChIP Peak: 712080-712281 8831.30 chipExo-RpoD_wt_glucose_NH4Cl_O2_anti-rpod,\n",
        " ChIP Peak: 728089-728290 60.00 chipExo-ArcA_ArcA8myc_glucose_NH4Cl_anaerobic_anti-myc,\n",
        " ChIP Peak: 728200-728401 1322.00 chipExo-RpoD_wt_fructose_NH4Cl_O2_anti-rpod,\n",
        " ChIP Peak: 728201-728402 1579.00 chipExo-RpoD_wt_glycerol_NH4Cl_O2_anti-rpod,\n",
        " ChIP Peak: 728203-728404 4178.00 chipExo-RpoD_wt_glucose_NH4Cl_O2_anti-rpod,\n",
        " ChIP Peak: 728308-728509 2224.00 chipExo-RpoA_wt_glucose_NH4Cl_O2_anti-rpoA,\n",
        " ChIP Peak: 741787-741988 3083.00 chipExo-RpoD_wt_glucose_NH4Cl_O2_anti-rpod,\n",
        " ChIP Peak: 741928-742129 1840.00 chipExo-RpoD_wt_fructose_NH4Cl_O2_anti-rpod,\n",
        " ChIP Peak: 746918-747119 109.00 chipExo-Fnr_Fnr8myc_glucose_NH4Cl_anaerobic_anti-myc,\n",
        " ChIP Peak: 746928-747129 2181.00 chipExo-RpoD_wt_glycerol_NH4Cl_O2_anti-rpod,\n",
        " ChIP Peak: 748874-749075 1304.00 chipExo-RpoD_wt_fructose_NH4Cl_O2_anti-rpod,\n",
        " ChIP Peak: 748874-749075 1505.00 chipExo-RpoD_wt_glycerol_NH4Cl_O2_anti-rpod,\n",
        " ChIP Peak: 753805-754006 2858.80 chipExo-RpoD_wt_glycerol_NH4Cl_O2_anti-rpod,\n",
        " ChIP Peak: 753806-754007 5695.90 chipExo-RpoD_wt_glucose_NH4Cl_O2_anti-rpod,\n",
        " ChIP Peak: 753809-754010 4395.80 chipExo-RpoD_wt_fructose_NH4Cl_O2_anti-rpod,\n",
        " ChIP Peak: 753888-754089 3721.60 chipExo-RpoD_wt_glucose_NH4Cl_02_anti-rpod,\n",
        " ChIP Peak: 753898-754099 10150.50 chipExo-RpoD_wt_glucose_NH4Cl_O2_anti-rpod,\n",
        " ChIP Peak: 753913-754114 5184.70 chipExo-RpoD_wt_glucose_NH4Cl_02_anti-rpod,\n",
        " ChIP Peak: 753937-754138 79.60 chipExo-ArcA_ArcA8myc_glucose_NH4Cl_anaerobic_anti-myc,\n",
        " ChIP Peak: 754070-754271 124.20 chipExo-ArcA_ArcA8myc_glucose_NH4Cl_anaerobic_anti-myc,\n",
        " ChIP Peak: 754077-754278 7242.60 chipExo-RpoD_wt_glucose_NH4Cl_O2_anti-rpod,\n",
        " ChIP Peak: 754084-754285 9682.20 chipExo-RpoD_wt_fructose_NH4Cl_O2_anti-rpod,\n",
        " ChIP Peak: 754085-754286 4383.20 chipExo-RpoD_wt_glycerol_NH4Cl_O2_anti-rpod,\n",
        " ChIP Peak: 754091-754292 6665.00 chipExo-Crp_wt_fructose_NH4Cl_O2_anti-crp,\n",
        " ChIP Peak: 754091-754292 3534.00 chipExo-Crp_wt_glycerol_NH4Cl_O2_anti-crp,\n",
        " ChIP Peak: 757165-757366 1450.00 chipExo-RpoD_wt_glucose_NH4Cl_O2_anti-rpod,\n",
        " ChIP Peak: 757168-757369 1531.00 chipExo-RpoD_wt_glycerol_NH4Cl_O2_anti-rpod,\n",
        " ChIP Peak: 757169-757370 1202.00 chipExo-RpoD_wt_fructose_NH4Cl_O2_anti-rpod,\n",
        " ChIP Peak: 769946-770147 242.50 chipExo-ArcA_ArcA8myc_glucose_NH4Cl_anaerobic_anti-myc,\n",
        " ChIP Peak: 770001-770202 736.50 chipExo-ArcA_ArcA8myc_glucose_NH4Cl_anaerobic_anti-myc,\n",
        " ChIP Peak: 770404-770605 7405.00 chipExo-RpoD_wt_fructose_NH4Cl_O2_anti-rpod,\n",
        " ChIP Peak: 770405-770606 12900.00 chipExo-RpoD_wt_glucose_NH4Cl_O2_anti-rpod,\n",
        " ChIP Peak: 770407-770608 19325.00 chipExo-RpoD_wt_glycerol_NH4Cl_O2_anti-rpod,\n",
        " ChIP Peak: 770435-770636 156.00 chipExo-ArcA_ArcA8myc_glucose_NH4Cl_anaerobic_anti-myc,\n",
        " ChIP Peak: 773839-774040 2221.00 chipExo-RpoD_wt_glycerol_NH4Cl_O2_anti-rpod,\n",
        " ChIP Peak: 773840-774041 2480.00 chipExo-RpoD_wt_fructose_NH4Cl_O2_anti-rpod,\n",
        " ChIP Peak: 773840-774041 3250.00 chipExo-RpoD_wt_glucose_NH4Cl_O2_anti-rpod,\n",
        " ChIP Peak: 776839-777040 1372.00 chipExo-RpoD_wt_glycerol_NH4Cl_O2_anti-rpod,\n",
        " ChIP Peak: 776840-777041 1773.00 chipExo-RpoD_wt_fructose_NH4Cl_O2_anti-rpod,\n",
        " ChIP Peak: 779634-779835 13573.00 chipExo-RpoD_wt_fructose_NH4Cl_O2_anti-rpod,\n",
        " ChIP Peak: 779634-779835 18246.00 chipExo-RpoD_wt_glucose_NH4Cl_O2_anti-rpod,\n",
        " ChIP Peak: 779634-779835 13501.00 chipExo-RpoD_wt_glycerol_NH4Cl_O2_anti-rpod,\n",
        " ChIP Peak: 781111-781312 1407.00 chipExo-RpoD_wt_fructose_NH4Cl_O2_anti-rpod,\n",
        " ChIP Peak: 781113-781314 2299.00 chipExo-RpoD_wt_glucose_NH4Cl_O2_anti-rpod,\n",
        " ChIP Peak: 784635-784836 4875.00 chipExo-Crp_wt_fructose_NH4Cl_O2_anti-crp,\n",
        " ChIP Peak: 784636-784837 6163.00 chipExo-Crp_wt_glycerol_NH4Cl_O2_anti-crp,\n",
        " ChIP Peak: 784723-784924 2706.00 chipExo-RpoD_wt_glucose_NH4Cl_02_anti-rpod,\n",
        " ChIP Peak: 784734-784935 6402.00 chipExo-RpoD_wt_glycerol_NH4Cl_O2_anti-rpod,\n",
        " ChIP Peak: 784734-784935 5771.00 chipExo-RpoD_wt_fructose_NH4Cl_O2_anti-rpod,\n",
        " ChIP Peak: 784738-784939 10062.00 chipExo-RpoD_wt_glucose_NH4Cl_O2_anti-rpod,\n",
        " ChIP Peak: 786785-786986 1194.00 chipExo-RpoD_wt_glycerol_NH4Cl_O2_anti-rpod,\n",
        " ChIP Peak: 786786-786987 1704.00 chipExo-RpoD_wt_fructose_NH4Cl_O2_anti-rpod,\n",
        " ChIP Peak: 786786-786987 1710.00 chipExo-RpoD_wt_glucose_NH4Cl_O2_anti-rpod,\n",
        " ChIP Peak: 791198-791399 2101.00 chipExo-RpoD_wt_glycerol_NH4Cl_O2_anti-rpod,\n",
        " ChIP Peak: 791202-791403 1737.00 chipExo-RpoD_wt_fructose_NH4Cl_O2_anti-rpod,\n",
        " ChIP Peak: 791207-791408 1639.00 chipExo-RpoD_wt_glucose_NH4Cl_O2_anti-rpod,\n",
        " ChIP Peak: 792932-793133 2140.00 chipExo-RpoD_wt_fructose_NH4Cl_O2_anti-rpod,\n",
        " ChIP Peak: 792934-793135 1844.00 chipExo-RpoD_wt_glycerol_NH4Cl_O2_anti-rpod,\n",
        " ChIP Peak: 792936-793137 1915.00 chipExo-RpoD_wt_glucose_NH4Cl_O2_anti-rpod,\n",
        " ChIP Peak: 793603-793804 1641.50 chipExo-RpoD_wt_glycerol_NH4Cl_O2_anti-rpod,\n",
        " ChIP Peak: 793603-793804 1146.80 chipExo-RpoD_wt_fructose_NH4Cl_O2_anti-rpod,\n",
        " ChIP Peak: 793781-793982 4607.80 chipExo-RpoD_wt_glucose_NH4Cl_O2_anti-rpod,\n",
        " ChIP Peak: 793782-793983 4830.50 chipExo-RpoD_wt_fructose_NH4Cl_O2_anti-rpod,\n",
        " ChIP Peak: 793788-793989 4485.60 chipExo-RpoD_wt_glycerol_NH4Cl_O2_anti-rpod,\n",
        " ChIP Peak: 793880-794081 4064.20 chipExo-RpoD_wt_glucose_NH4Cl_O2_anti-rpod,\n",
        " ChIP Peak: 793880-794081 4400.40 chipExo-RpoD_wt_glycerol_NH4Cl_O2_anti-rpod,\n",
        " ChIP Peak: 793881-794082 3607.70 chipExo-RpoD_wt_fructose_NH4Cl_O2_anti-rpod,\n",
        " ChIP Peak: 806446-806647 1787.00 chipExo-RpoD_wt_fructose_NH4Cl_O2_anti-rpod,\n",
        " ChIP Peak: 815949-816150 165.00 chipExo-Fnr_Fnr8myc_glucose_NH4Cl_anaerobic_anti-myc,\n",
        " ChIP Peak: 815951-816152 6067.90 chipExo-RpoD_wt_glycerol_NH4Cl_O2_anti-rpod,\n",
        " ChIP Peak: 815951-816152 4842.70 chipExo-RpoD_wt_glucose_NH4Cl_O2_anti-rpod,\n",
        " ChIP Peak: 815958-816159 1554.10 chipExo-RpoD_wt_fructose_NH4Cl_O2_anti-rpod,\n",
        " ChIP Peak: 816049-816250 1448.00 chipExo-RpoD_wt_glucose_NH4Cl_02_anti-rpod,\n",
        " ChIP Peak: 816052-816253 2983.10 chipExo-RpoD_wt_glycerol_NH4Cl_O2_anti-rpod,\n",
        " ChIP Peak: 816052-816253 3777.50 chipExo-RpoD_wt_fructose_NH4Cl_O2_anti-rpod,\n",
        " ChIP Peak: 816053-816254 3967.30 chipExo-RpoD_wt_glucose_NH4Cl_O2_anti-rpod,\n",
        " ChIP Peak: 823733-823934 1570.00 chipExo-RpoD_wt_glycerol_NH4Cl_O2_anti-rpod,\n",
        " ChIP Peak: 829816-830017 2131.00 chipExo-RpoD_wt_glycerol_NH4Cl_O2_anti-rpod,\n",
        " ChIP Peak: 829818-830019 2341.00 chipExo-RpoD_wt_glucose_NH4Cl_O2_anti-rpod,\n",
        " ChIP Peak: 829818-830019 2171.00 chipExo-RpoD_wt_fructose_NH4Cl_O2_anti-rpod,\n",
        " ChIP Peak: 840842-841043 41.00 chipExo-ArcA_ArcA8myc_glucose_NH4Cl_anaerobic_anti-myc,\n",
        " ChIP Peak: 847313-847514 1660.00 chipExo-RpoD_wt_fructose_NH4Cl_O2_anti-rpod,\n",
        " ChIP Peak: 847313-847514 1211.00 chipExo-RpoD_wt_glycerol_NH4Cl_O2_anti-rpod,\n",
        " ChIP Peak: 849338-849539 2601.90 chipExo-RpoD_wt_fructose_NH4Cl_O2_anti-rpod,\n",
        " ChIP Peak: 849341-849542 2029.70 chipExo-RpoD_wt_glycerol_NH4Cl_O2_anti-rpod,\n",
        " ChIP Peak: 849342-849543 3265.90 chipExo-RpoD_wt_glucose_NH4Cl_O2_anti-rpod,\n",
        " ChIP Peak: 849548-849749 2725.10 chipExo-RpoD_wt_glucose_NH4Cl_O2_anti-rpod,\n",
        " ChIP Peak: 849551-849752 1939.30 chipExo-RpoD_wt_glycerol_NH4Cl_O2_anti-rpod,\n",
        " ChIP Peak: 849551-849752 1981.10 chipExo-RpoD_wt_fructose_NH4Cl_O2_anti-rpod,\n",
        " ChIP Peak: 851832-852033 10844.80 chipExo-RpoD_wt_glycerol_NH4Cl_O2_anti-rpod,\n",
        " ChIP Peak: 851832-852033 4515.80 chipExo-RpoD_wt_glucose_NH4Cl_O2_anti-rpod,\n",
        " ChIP Peak: 851833-852034 6237.60 chipExo-RpoD_wt_fructose_NH4Cl_O2_anti-rpod,\n",
        " ChIP Peak: 852154-852355 6012.20 chipExo-RpoD_wt_glycerol_NH4Cl_O2_anti-rpod,\n",
        " ChIP Peak: 852157-852358 3606.00 chipExo-RpoD_wt_glucose_NH4Cl_02_anti-rpod,\n",
        " ChIP Peak: 852161-852362 8010.40 chipExo-RpoD_wt_fructose_NH4Cl_O2_anti-rpod,\n",
        " ChIP Peak: 852164-852365 7560.20 chipExo-RpoD_wt_glucose_NH4Cl_O2_anti-rpod,\n",
        " ChIP Peak: 854919-855120 2163.90 chipExo-RpoD_wt_glucose_NH4Cl_02_anti-rpod,\n",
        " ChIP Peak: 855042-855243 3473.10 chipExo-Crp_wt_glycerol_NH4Cl_O2_anti-crp,\n",
        " ChIP Peak: 855044-855245 2569.00 chipExo-RpoA_wt_glucose_NH4Cl_O2_anti-rpoA,\n",
        " ChIP Peak: 855047-855248 177.00 chipExo-Fnr_Fnr8myc_glucose_NH4Cl_anaerobic_anti-myc,\n",
        " ChIP Peak: 855051-855252 2152.60 chipExo-RpoD_wt_glucose_NH4Cl_02_anti-rpod,\n",
        " ChIP Peak: 855053-855254 4373.00 chipExo-Crp_wt_fructose_NH4Cl_O2_anti-crp,\n",
        " ChIP Peak: 855053-855254 25229.00 chipExo-RpoD_wt_fructose_NH4Cl_O2_anti-rpod,\n",
        " ChIP Peak: 855053-855254 23105.00 chipExo-RpoD_wt_glucose_NH4Cl_O2_anti-rpod,\n",
        " ChIP Peak: 855054-855255 29088.00 chipExo-RpoD_wt_glycerol_NH4Cl_O2_anti-rpod,\n",
        " ChIP Peak: 855058-855259 126.00 chipExo-Crp_wt_fructose_NH4Cl_O2_anti-mock-crp,\n",
        " ChIP Peak: 855060-855261 2923.50 chipExo-RpoD_wt_glucose_NH4Cl_02_anti-rpod,\n",
        " ChIP Peak: 855066-855267 2137.90 chipExo-Crp_wt_glycerol_NH4Cl_O2_anti-crp,\n",
        " ChIP Peak: 858208-858409 157.00 chipExo-ArcA_ArcA8myc_glucose_NH4Cl_anaerobic_anti-myc,\n",
        " ChIP Peak: 859227-859428 65.00 chipExo-ArcA_ArcA8myc_glucose_NH4Cl_anaerobic_anti-myc,\n",
        " ChIP Peak: 862676-862877 25.00 chipExo-ArcA_ArcA8myc_glucose_NH4Cl_anaerobic_anti-myc,\n",
        " ChIP Peak: 865516-865717 1543.30 chipExo-RpoD_wt_glycerol_NH4Cl_O2_anti-rpod,\n",
        " ChIP Peak: 865668-865869 4573.20 chipExo-RpoD_wt_fructose_NH4Cl_O2_anti-rpod,\n",
        " ChIP Peak: 865669-865870 4246.00 chipExo-RpoD_wt_glucose_NH4Cl_O2_anti-rpod,\n",
        " ChIP Peak: 865678-865879 3999.70 chipExo-RpoD_wt_glycerol_NH4Cl_O2_anti-rpod,\n",
        " ChIP Peak: 869171-869372 1762.00 chipExo-RpoD_wt_glucose_NH4Cl_O2_anti-rpod,\n",
        " ChIP Peak: 869172-869373 2786.00 chipExo-RpoD_wt_glycerol_NH4Cl_O2_anti-rpod,\n",
        " ChIP Peak: 869173-869374 2118.00 chipExo-RpoD_wt_fructose_NH4Cl_O2_anti-rpod,\n",
        " ChIP Peak: 872024-872225 3327.00 chipExo-RpoD_wt_glucose_NH4Cl_02_anti-rpod,\n",
        " ChIP Peak: 872025-872226 14917.00 chipExo-RpoD_wt_glycerol_NH4Cl_O2_anti-rpod,\n",
        " ChIP Peak: 872025-872226 10275.00 chipExo-RpoD_wt_fructose_NH4Cl_O2_anti-rpod,\n",
        " ChIP Peak: 872026-872227 12611.00 chipExo-RpoD_wt_glucose_NH4Cl_O2_anti-rpod,\n",
        " ChIP Peak: 877193-877394 2025.20 chipExo-RpoD_wt_fructose_NH4Cl_O2_anti-rpod,\n",
        " ChIP Peak: 877193-877394 1250.50 chipExo-RpoD_wt_glycerol_NH4Cl_O2_anti-rpod,\n",
        " ChIP Peak: 877282-877483 51.00 chipExo-ArcA_ArcA8myc_glucose_NH4Cl_anaerobic_anti-myc,\n",
        " ChIP Peak: 877290-877491 340.60 chipExo-Fnr_Fnr8myc_glucose_NH4Cl_anaerobic_anti-myc,\n",
        " ChIP Peak: 877319-877520 139.00 chipExo-Fnr_Fnr8myc_glucose_NH4Cl_anaerobic_anti-myc,\n",
        " ChIP Peak: 877338-877539 2636.80 chipExo-RpoD_wt_fructose_NH4Cl_O2_anti-rpod,\n",
        " ChIP Peak: 877340-877541 229.70 chipExo-Fnr_Fnr8myc_glucose_NH4Cl_anaerobic_anti-myc,\n",
        " ChIP Peak: 877340-877541 4641.50 chipExo-RpoD_wt_glycerol_NH4Cl_O2_anti-rpod,\n",
        " ChIP Peak: 877347-877548 4965.40 chipExo-RpoD_wt_glucose_NH4Cl_O2_anti-rpod,\n",
        " ChIP Peak: 877348-877549 490.60 chipExo-Fnr_Fnr8myc_glucose_NH4Cl_anaerobic_anti-myc,\n",
        " ChIP Peak: 877353-877554 272.00 chipExo-Fnr_Fnr8myc_glucose_NH4Cl_anaerobic_anti-myc,\n",
        " ChIP Peak: 877398-877599 365.00 chipExo-Crp_Crp8myc_glycerol_NH4Cl_O2_anti-mock-myc,\n",
        " ChIP Peak: 879782-879983 1990.00 chipExo-RpoD_wt_glucose_NH4Cl_O2_anti-rpod,\n",
        " ChIP Peak: 882623-882824 3106.00 chipExo-RpoD_wt_fructose_NH4Cl_O2_anti-rpod,\n",
        " ChIP Peak: 882624-882825 2995.00 chipExo-RpoD_wt_glucose_NH4Cl_O2_anti-rpod,\n",
        " ChIP Peak: 882624-882825 2450.00 chipExo-RpoD_wt_glycerol_NH4Cl_O2_anti-rpod,\n",
        " ChIP Peak: 884050-884251 2919.00 chipExo-RpoD_wt_glucose_NH4Cl_O2_anti-rpod,\n",
        " ChIP Peak: 884050-884251 921.00 chipExo-RpoD_wt_glucose_NH4Cl_02_anti-rpod,\n",
        " ChIP Peak: 884051-884252 4719.00 chipExo-RpoD_wt_glycerol_NH4Cl_O2_anti-rpod,\n",
        " ChIP Peak: 884051-884252 3893.00 chipExo-RpoD_wt_fructose_NH4Cl_O2_anti-rpod,\n",
        " ChIP Peak: 889017-889218 5011.00 chipExo-RpoD_wt_glucose_NH4Cl_O2_anti-rpod,\n",
        " ChIP Peak: 889025-889226 3805.00 chipExo-RpoD_wt_glycerol_NH4Cl_O2_anti-rpod,\n",
        " ChIP Peak: 889030-889231 2848.00 chipExo-RpoD_wt_fructose_NH4Cl_O2_anti-rpod,\n",
        " ChIP Peak: 890011-890212 1287.00 chipExo-RpoD_wt_fructose_NH4Cl_O2_anti-rpod,\n",
        " ChIP Peak: 890015-890216 1244.00 chipExo-RpoD_wt_glycerol_NH4Cl_O2_anti-rpod,\n",
        " ChIP Peak: 892599-892800 69.50 chipExo-ArcA_ArcA8myc_glucose_NH4Cl_anaerobic_anti-myc,\n",
        " ChIP Peak: 892608-892809 98.60 chipExo-ArcA_ArcA8myc_glucose_NH4Cl_anaerobic_anti-myc,\n",
        " ChIP Peak: 892628-892829 105.90 chipExo-ArcA_ArcA8myc_glucose_NH4Cl_anaerobic_anti-myc,\n",
        " ChIP Peak: 892770-892971 1514.00 chipExo-RpoD_wt_glucose_NH4Cl_O2_anti-rpod,\n",
        " ChIP Peak: 892771-892972 1050.00 chipExo-RpoD_wt_glycerol_NH4Cl_O2_anti-rpod,\n",
        " ChIP Peak: 892771-892972 1590.00 chipExo-RpoD_wt_fructose_NH4Cl_O2_anti-rpod,\n",
        " ChIP Peak: 899740-899941 2056.00 chipExo-RpoD_wt_glucose_NH4Cl_O2_anti-rpod,\n",
        " ChIP Peak: 899741-899942 1457.00 chipExo-RpoD_wt_fructose_NH4Cl_O2_anti-rpod,\n",
        " ChIP Peak: 902890-903091 3254.00 chipExo-RpoD_wt_glucose_NH4Cl_O2_anti-rpod,\n",
        " ChIP Peak: 902890-903091 2446.00 chipExo-RpoD_wt_glycerol_NH4Cl_O2_anti-rpod,\n",
        " ChIP Peak: 902892-903093 2363.00 chipExo-RpoD_wt_fructose_NH4Cl_O2_anti-rpod,\n",
        " ChIP Peak: 905933-906134 3098.00 chipExo-RpoD_wt_fructose_NH4Cl_O2_anti-rpod,\n",
        " ChIP Peak: 905939-906140 1758.00 chipExo-RpoD_wt_glucose_NH4Cl_O2_anti-rpod,\n",
        " ChIP Peak: 905941-906142 3570.00 chipExo-RpoD_wt_glycerol_NH4Cl_O2_anti-rpod,\n",
        " ChIP Peak: 905942-906143 2141.00 chipExo-Crp_wt_glycerol_NH4Cl_O2_anti-crp,\n",
        " ChIP Peak: 914009-914210 3159.00 chipExo-RpoD_wt_glucose_NH4Cl_O2_anti-rpod,\n",
        " ChIP Peak: 914010-914211 4207.80 chipExo-RpoD_wt_fructose_NH4Cl_O2_anti-rpod,\n",
        " ChIP Peak: 914010-914211 4235.00 chipExo-RpoD_wt_glycerol_NH4Cl_O2_anti-rpod,\n",
        " ChIP Peak: 915432-915633 3042.00 chipExo-RpoD_wt_glucose_NH4Cl_O2_anti-rpod,\n",
        " ChIP Peak: 915436-915637 2063.00 chipExo-RpoD_wt_glycerol_NH4Cl_O2_anti-rpod,\n",
        " ChIP Peak: 915437-915638 1744.00 chipExo-RpoD_wt_fructose_NH4Cl_O2_anti-rpod,\n",
        " ChIP Peak: 917865-918066 1876.40 chipExo-RpoD_wt_glycerol_NH4Cl_O2_anti-rpod,\n",
        " ChIP Peak: 917865-918066 1961.40 chipExo-RpoD_wt_fructose_NH4Cl_O2_anti-rpod,\n",
        " ChIP Peak: 917877-918078 1670.10 chipExo-RpoD_wt_glucose_NH4Cl_O2_anti-rpod,\n",
        " ChIP Peak: 918220-918421 9341.90 chipExo-RpoD_wt_glucose_NH4Cl_O2_anti-rpod,\n",
        " ChIP Peak: 918222-918423 6905.60 chipExo-RpoD_wt_glycerol_NH4Cl_O2_anti-rpod,\n",
        " ChIP Peak: 918223-918424 1390.00 chipExo-RpoD_wt_glucose_NH4Cl_02_anti-rpod,\n",
        " ChIP Peak: 918224-918425 5932.60 chipExo-RpoD_wt_fructose_NH4Cl_O2_anti-rpod,\n",
        " ChIP Peak: 921492-921693 4393.00 chipExo-RpoD_wt_glucose_NH4Cl_O2_anti-rpod,\n",
        " ChIP Peak: 921497-921698 2369.90 chipExo-RpoD_wt_glycerol_NH4Cl_O2_anti-rpod,\n",
        " ChIP Peak: 921792-921993 5931.20 chipExo-RpoD_wt_glucose_NH4Cl_O2_anti-rpod,\n",
        " ChIP Peak: 921792-921993 20232.10 chipExo-RpoD_wt_glycerol_NH4Cl_O2_anti-rpod,\n",
        " ChIP Peak: 921793-921994 12428.80 chipExo-RpoD_wt_fructose_NH4Cl_O2_anti-rpod,\n",
        " ChIP Peak: 921961-922162 5419.00 chipExo-Crp_wt_glycerol_NH4Cl_O2_anti-crp,\n",
        " ChIP Peak: 921962-922163 792.00 chipExo-Crp_Crp8myc_glycerol_NH4Cl_O2_anti-crp,\n",
        " ChIP Peak: 922210-922411 2821.80 chipExo-RpoD_wt_glucose_NH4Cl_O2_anti-rpod,\n",
        " ChIP Peak: 922210-922411 1684.20 chipExo-RpoD_wt_fructose_NH4Cl_O2_anti-rpod,\n",
        " ChIP Peak: 925128-925329 8510.50 chipExo-RpoD_wt_glycerol_NH4Cl_O2_anti-rpod,\n",
        " ChIP Peak: 925128-925329 10868.00 chipExo-RpoD_wt_fructose_NH4Cl_O2_anti-rpod,\n",
        " ChIP Peak: 925129-925330 12504.00 chipExo-RpoD_wt_glucose_NH4Cl_O2_anti-rpod,\n",
        " ChIP Peak: 925133-925334 3665.00 chipExo-RpoD_wt_glucose_NH4Cl_02_anti-rpod,\n",
        " ChIP Peak: 925600-925801 7203.80 chipExo-RpoD_wt_fructose_NH4Cl_O2_anti-rpod,\n",
        " ChIP Peak: 925600-925801 8668.10 chipExo-RpoD_wt_glucose_NH4Cl_O2_anti-rpod,\n",
        " ChIP Peak: 925600-925801 3191.00 chipExo-RpoD_wt_glucose_NH4Cl_02_anti-rpod,\n",
        " ChIP Peak: 925601-925802 7847.70 chipExo-RpoD_wt_glycerol_NH4Cl_O2_anti-rpod,\n",
        " ChIP Peak: 925803-926004 2770.20 chipExo-RpoD_wt_fructose_NH4Cl_O2_anti-rpod,\n",
        " ChIP Peak: 925812-926013 2569.30 chipExo-RpoD_wt_glycerol_NH4Cl_O2_anti-rpod,\n",
        " ChIP Peak: 925816-926017 3460.90 chipExo-RpoD_wt_glucose_NH4Cl_O2_anti-rpod,\n",
        " ChIP Peak: 930115-930316 1880.00 chipExo-RpoD_wt_glucose_NH4Cl_O2_anti-rpod,\n",
        " ChIP Peak: 930116-930317 1459.00 chipExo-RpoD_wt_glycerol_NH4Cl_O2_anti-rpod,\n",
        " ChIP Peak: 930116-930317 1266.00 chipExo-RpoD_wt_fructose_NH4Cl_O2_anti-rpod,\n",
        " ChIP Peak: 930141-930342 147.00 chipExo-ArcA_ArcA8myc_glucose_NH4Cl_anaerobic_anti-myc,\n",
        " ChIP Peak: 930179-930380 679.60 chipExo-ArcA_ArcA8myc_glucose_NH4Cl_anaerobic_anti-myc,\n",
        " ChIP Peak: 930199-930400 1821.60 chipExo-ArcA_ArcA8myc_glucose_NH4Cl_anaerobic_anti-myc,\n",
        " ChIP Peak: 930205-930406 608.70 chipExo-ArcA_ArcA8myc_glucose_NH4Cl_anaerobic_anti-myc,\n",
        " ChIP Peak: 930214-930415 440.20 chipExo-ArcA_ArcA8myc_glucose_NH4Cl_anaerobic_anti-myc,\n",
        " ChIP Peak: 930299-930500 211.00 chipExo-ArcA_ArcA8myc_glucose_NH4Cl_anaerobic_anti-myc,\n",
        " ChIP Peak: 931198-931399 1553.90 chipExo-RpoD_wt_fructose_NH4Cl_O2_anti-rpod,\n",
        " ChIP Peak: 931456-931657 4002.00 chipExo-RpoD_wt_glucose_NH4Cl_O2_anti-rpod,\n",
        " ChIP Peak: 931466-931667 1990.10 chipExo-RpoD_wt_fructose_NH4Cl_O2_anti-rpod,\n",
        " ChIP Peak: 932059-932260 1525.00 chipExo-RpoD_wt_glycerol_NH4Cl_O2_anti-rpod,\n",
        " ChIP Peak: 932059-932260 1249.90 chipExo-RpoD_wt_fructose_NH4Cl_O2_anti-rpod,\n",
        " ChIP Peak: 932263-932464 1962.10 chipExo-RpoD_wt_fructose_NH4Cl_O2_anti-rpod,\n",
        " ChIP Peak: 932263-932464 3123.00 chipExo-RpoD_wt_glucose_NH4Cl_O2_anti-rpod,\n",
        " ChIP Peak: 932265-932466 2752.00 chipExo-RpoD_wt_glycerol_NH4Cl_O2_anti-rpod,\n",
        " ChIP Peak: 938496-938697 5111.00 chipExo-RpoD_wt_fructose_NH4Cl_O2_anti-rpod,\n",
        " ChIP Peak: 938496-938697 5478.00 chipExo-RpoD_wt_glycerol_NH4Cl_O2_anti-rpod,\n",
        " ChIP Peak: 938496-938697 7107.00 chipExo-RpoD_wt_glucose_NH4Cl_O2_anti-rpod,\n",
        " ChIP Peak: 938497-938698 1642.00 chipExo-RpoD_wt_glucose_NH4Cl_02_anti-rpod,\n",
        " ChIP Peak: 939881-940082 81.50 chipExo-Fnr_Fnr8myc_glucose_NH4Cl_anaerobic_anti-myc,\n",
        " ChIP Peak: 939953-940154 1593.00 chipExo-RpoD_wt_glucose_NH4Cl_O2_anti-rpod,\n",
        " ...]"
       ]
      }
     ],
     "prompt_number": 12
    },
    {
     "cell_type": "code",
     "collapsed": false,
     "input": [
      "\n",
      "    \n",
      "    \n",
      "\"\"\"    \n",
      "    run_gem(exp_group)\n",
      "    load\n",
      "    \n",
      "    ###Add peak analysis metadata to the DB\n",
      "    peak_analysis = ome.get_or_create(data.ChIPPeakAnalysis, name=outdir, method='GEM v2.4', parameters='GPS only')\n",
      "\n",
      "    \n",
      "    chip_peak_insert = data.chip_peak_analysis_association.insert()\n",
      "    for experiment_id in chip_experiment_names[2]:\n",
      "        conn.execute(chip_peak_insert, chip_experiment_id=experiment_id, chip_peak_analysis_id=peak_analysis.id) \n",
      "    \n",
      "    ###Add peak analysis data to the DB\n",
      "    peaks_file = open(out_path+'/out_GPS_events.narrowPeak','r')\n",
      "    peaks_gff_file = open(out_path+'/out_GPS_events.gff','w')\n",
      "        \n",
      "    header = peaks_file.readline()\n",
      "    for line in peaks_file.readlines():\n",
      "        vals = line.split('\\t')\n",
      "        position = int(vals[3].split(':')[1])\n",
      "        peaks_gff_file.write('%s\\t%s\\t%s\\t%s\\t%s\\t%d\\t%s\\t%s\\t%s\\n' %\\\n",
      "                           ('NC_000913','.',outdir+'_peaks', position-1, position+1, float(vals[6])+20, '+', '.','.'))\n",
      "        peaks_gff_file.write('%s\\t%s\\t%s\\t%s\\t%s\\t%d\\t%s\\t%s\\t%s\\n' %\\\n",
      "                           ('NC_000913','.',outdir+'_peaks', vals[1], vals[2], float(vals[6]), '+', '.','.'))\n",
      "        peak_data = ome.get_or_create(data.ChIPPeakData, data_set_id=peak_analysis.id, leftpos=vals[1], rightpos=vals[2],\\\n",
      "                                      value=vals[6], strand='+', eventpos=position, pval=vals[8])\n",
      "\"\"\""
     ],
     "language": "python",
     "metadata": {},
     "outputs": [
      {
       "metadata": {},
       "output_type": "pyout",
       "prompt_number": 7,
       "text": [
        "\"    \\n    run_gem(exp_group)\\n    load\\n    \\n    ###Add peak analysis metadata to the DB\\n    peak_analysis = ome.get_or_create(data.ChIPPeakAnalysis, name=outdir, method='GEM v2.4', parameters='GPS only')\\n\\n    \\n    chip_peak_insert = data.chip_peak_analysis_association.insert()\\n    for experiment_id in chip_experiment_names[2]:\\n        conn.execute(chip_peak_insert, chip_experiment_id=experiment_id, chip_peak_analysis_id=peak_analysis.id) \\n    \\n    ###Add peak analysis data to the DB\\n    peaks_file = open(out_path+'/out_GPS_events.narrowPeak','r')\\n    peaks_gff_file = open(out_path+'/out_GPS_events.gff','w')\\n        \\n    header = peaks_file.readline()\\n    for line in peaks_file.readlines():\\n        vals = line.split('\\t')\\n        position = int(vals[3].split(':')[1])\\n        peaks_gff_file.write('%s\\t%s\\t%s\\t%s\\t%s\\t%d\\t%s\\t%s\\t%s\\n' %                           ('NC_000913','.',outdir+'_peaks', position-1, position+1, float(vals[6])+20, '+', '.','.'))\\n        peaks_gff_file.write('%s\\t%s\\t%s\\t%s\\t%s\\t%d\\t%s\\t%s\\t%s\\n' %                           ('NC_000913','.',outdir+'_peaks', vals[1], vals[2], float(vals[6]), '+', '.','.'))\\n        peak_data = ome.get_or_create(data.ChIPPeakData, data_set_id=peak_analysis.id, leftpos=vals[1], rightpos=vals[2],                                      value=vals[6], strand='+', eventpos=position, pval=vals[8])\\n\""
       ]
      }
     ],
     "prompt_number": 7
    },
    {
     "cell_type": "code",
     "collapsed": false,
     "input": [
      "ome.query(Gene).filter_by(name='gapA').one().data"
     ],
     "language": "python",
     "metadata": {},
     "outputs": [
      {
       "metadata": {},
       "output_type": "pyout",
       "prompt_number": 3,
       "text": [
        "[Gene (#979, b1779, gapA) 1860795-1861790 +: 16324.50 -- RNAseq_delta-crp_fructose_NH4Cl_O2_1,\n",
        " Gene (#979, b1779, gapA) 1860795-1861790 +: 16161.10 -- RNAseq_delta-crp_fructose_NH4Cl_O2_2,\n",
        " Gene (#979, b1779, gapA) 1860795-1861790 +: 15713.00 -- RNAseq_delta-crp_fructose_NH4Cl_O2_3,\n",
        " Gene (#979, b1779, gapA) 1860795-1861790 +: 9681.07 -- RNAseq_delta-crp_glucose_NH4Cl_O2_1,\n",
        " Gene (#979, b1779, gapA) 1860795-1861790 +: 9426.11 -- RNAseq_delta-crp_glucose_NH4Cl_O2_2,\n",
        " Gene (#979, b1779, gapA) 1860795-1861790 +: 9730.63 -- RNAseq_delta-crp_glucose_NH4Cl_O2_3,\n",
        " Gene (#979, b1779, gapA) 1860795-1861790 +: 10934.70 -- RNAseq_delta-crp_glycerol_NH4Cl_O2_1,\n",
        " Gene (#979, b1779, gapA) 1860795-1861790 +: 11489.40 -- RNAseq_delta-crp_glycerol_NH4Cl_O2_2,\n",
        " Gene (#979, b1779, gapA) 1860795-1861790 +: 10660.20 -- RNAseq_delta-crp_glycerol_NH4Cl_O2_3,\n",
        " Gene (#979, b1779, gapA) 1860795-1861790 +: 21765.70 -- RNAseq_wt_fructose_NH4Cl_O2_1,\n",
        " Gene (#979, b1779, gapA) 1860795-1861790 +: 14031.90 -- RNAseq_wt_fructose_NH4Cl_O2_2,\n",
        " Gene (#979, b1779, gapA) 1860795-1861790 +: 9190.88 -- RNAseq_wt_glucose_NH4Cl_O2_1,\n",
        " Gene (#979, b1779, gapA) 1860795-1861790 +: 9506.66 -- RNAseq_wt_glucose_NH4Cl_O2_2,\n",
        " Gene (#979, b1779, gapA) 1860795-1861790 +: 9663.12 -- RNAseq_wt_glucose_NH4Cl_O2_3,\n",
        " Gene (#979, b1779, gapA) 1860795-1861790 +: 7065.18 -- RNAseq_wt_glycerol_NH4Cl_O2_1,\n",
        " Gene (#979, b1779, gapA) 1860795-1861790 +: 7527.49 -- RNAseq_wt_glycerol_NH4Cl_O2_2,\n",
        " Gene (#979, b1779, gapA) 1860795-1861790 +: -0.75 -- RNAseq_delta-crp_fructose_NH4Cl_O2\\RNAseq_delta-crp_glucose_NH4Cl_O2,\n",
        " Gene (#979, b1779, gapA) 1860795-1861790 +: -0.59 -- RNAseq_delta-crp_fructose_NH4Cl_O2\\RNAseq_delta-crp_glycerol_NH4Cl_O2,\n",
        " Gene (#979, b1779, gapA) 1860795-1861790 +:  0.17 -- RNAseq_delta-crp_glucose_NH4Cl_O2\\RNAseq_delta-crp_glycerol_NH4Cl_O2,\n",
        " Gene (#979, b1779, gapA) 1860795-1861790 +:  0.18 -- RNAseq_delta-crp_fructose_NH4Cl_O2\\RNAseq_wt_fructose_NH4Cl_O2,\n",
        " Gene (#979, b1779, gapA) 1860795-1861790 +:  0.93 -- RNAseq_delta-crp_glucose_NH4Cl_O2\\RNAseq_wt_fructose_NH4Cl_O2,\n",
        " Gene (#979, b1779, gapA) 1860795-1861790 +:  0.77 -- RNAseq_delta-crp_glycerol_NH4Cl_O2\\RNAseq_wt_fructose_NH4Cl_O2,\n",
        " Gene (#979, b1779, gapA) 1860795-1861790 +: -0.74 -- RNAseq_delta-crp_fructose_NH4Cl_O2\\RNAseq_wt_glucose_NH4Cl_O2,\n",
        " Gene (#979, b1779, gapA) 1860795-1861790 +:  0.02 -- RNAseq_delta-crp_glucose_NH4Cl_O2\\RNAseq_wt_glucose_NH4Cl_O2,\n",
        " Gene (#979, b1779, gapA) 1860795-1861790 +: -0.15 -- RNAseq_delta-crp_glycerol_NH4Cl_O2\\RNAseq_wt_glucose_NH4Cl_O2,\n",
        " Gene (#979, b1779, gapA) 1860795-1861790 +: -0.91 -- RNAseq_wt_fructose_NH4Cl_O2\\RNAseq_wt_glucose_NH4Cl_O2,\n",
        " Gene (#979, b1779, gapA) 1860795-1861790 +: -1.13 -- RNAseq_delta-crp_fructose_NH4Cl_O2\\RNAseq_wt_glycerol_NH4Cl_O2,\n",
        " Gene (#979, b1779, gapA) 1860795-1861790 +: -0.38 -- RNAseq_delta-crp_glucose_NH4Cl_O2\\RNAseq_wt_glycerol_NH4Cl_O2,\n",
        " Gene (#979, b1779, gapA) 1860795-1861790 +: -0.54 -- RNAseq_delta-crp_glycerol_NH4Cl_O2\\RNAseq_wt_glycerol_NH4Cl_O2,\n",
        " Gene (#979, b1779, gapA) 1860795-1861790 +: -1.31 -- RNAseq_wt_fructose_NH4Cl_O2\\RNAseq_wt_glycerol_NH4Cl_O2,\n",
        " Gene (#979, b1779, gapA) 1860795-1861790 +: -0.39 -- RNAseq_wt_glucose_NH4Cl_O2\\RNAseq_wt_glycerol_NH4Cl_O2]"
       ]
      }
     ],
     "prompt_number": 3
    },
    {
     "cell_type": "heading",
     "level": 4,
     "metadata": {},
     "source": [
      "Simple test for a single experiment loading"
     ]
    },
    {
     "cell_type": "code",
     "collapsed": false,
     "input": [
      "exp_name = 'chipExo-ArcA_ArcA8myc_fructose_NH4Cl_anaerobic_2_anti-myc_S3_L001_R1_001_sorted.bam'\n",
      "lab = 'palsson'\n",
      "institution = 'UCSD'\n",
      "processing_type = ''\n",
      "vals = exp_name.split('_')\n",
      "exp_type = vals[0].split('-')\n"
     ],
     "language": "python",
     "metadata": {},
     "outputs": [],
     "prompt_number": 5
    },
    {
     "cell_type": "code",
     "collapsed": false,
     "input": [
      "strain = ome.get_or_create(data.Strain, name=vals[1])"
     ],
     "language": "python",
     "metadata": {},
     "outputs": [],
     "prompt_number": 6
    },
    {
     "cell_type": "code",
     "collapsed": false,
     "input": [
      "data_source = ome.get_or_create(data.DataSource, name=vals[0], lab=lab, institution=institution)"
     ],
     "language": "python",
     "metadata": {},
     "outputs": [],
     "prompt_number": 7
    },
    {
     "cell_type": "code",
     "collapsed": false,
     "input": [
      "environment = ome.get_or_create(data.InVivoEnvironment, name='_'.join(vals[2:5]), carbon_source=vals[2],\\\n",
      "                  nitrogen_source=vals[3], electron_acceptor=vals[4], temperature=37)"
     ],
     "language": "python",
     "metadata": {},
     "outputs": [],
     "prompt_number": 8
    },
    {
     "cell_type": "code",
     "collapsed": false,
     "input": [
      "ome.get_or_create(data.DataSet,name='test')"
     ],
     "language": "python",
     "metadata": {},
     "outputs": [
      {
       "metadata": {},
       "output_type": "pyout",
       "prompt_number": 9,
       "text": [
        "Data Set (#58):  Data Source generic (#6)"
       ]
      }
     ],
     "prompt_number": 9
    },
    {
     "cell_type": "code",
     "collapsed": false,
     "input": [
      "ome.get_or_create(data.DataSet, name='test2', data_source=data_source)"
     ],
     "language": "python",
     "metadata": {},
     "outputs": [
      {
       "metadata": {},
       "output_type": "pyout",
       "prompt_number": 10,
       "text": [
        "Data Set (#59):  Data Source chipExo-ArcA (#1)"
       ]
      }
     ],
     "prompt_number": 10
    },
    {
     "cell_type": "code",
     "collapsed": false,
     "input": [
      "ome.get_or_create(data.ChIPExperiment, name='_'.join(vals[0:6])+'_'+processing_type, replicate=vals[5],\\\n",
      "                                       strain=strain, data_source=data_source, environment=environment,\\\n",
      "                                       protocol_type=exp_type[0], antibody=vals[6].rstrip(processing_type+'.gff'),\\\n",
      "                                       target=vals[0].split('-')[1])\n"
     ],
     "language": "python",
     "metadata": {},
     "outputs": [
      {
       "ename": "TypeError",
       "evalue": "__init__() takes exactly 10 arguments (9 given)",
       "output_type": "pyerr",
       "traceback": [
        "\u001b[0;31m---------------------------------------------------------------------------\u001b[0m\n\u001b[0;31mTypeError\u001b[0m                                 Traceback (most recent call last)",
        "\u001b[0;32m<ipython-input-12-aa6073982a9c>\u001b[0m in \u001b[0;36m<module>\u001b[0;34m()\u001b[0m\n\u001b[0;32m----> 1\u001b[0;31m \u001b[0mome\u001b[0m\u001b[0;34m.\u001b[0m\u001b[0mget_or_create\u001b[0m\u001b[0;34m(\u001b[0m\u001b[0mdata\u001b[0m\u001b[0;34m.\u001b[0m\u001b[0mChIPExperiment\u001b[0m\u001b[0;34m,\u001b[0m \u001b[0mname\u001b[0m\u001b[0;34m=\u001b[0m\u001b[0;34m'_'\u001b[0m\u001b[0;34m.\u001b[0m\u001b[0mjoin\u001b[0m\u001b[0;34m(\u001b[0m\u001b[0mvals\u001b[0m\u001b[0;34m[\u001b[0m\u001b[0;36m0\u001b[0m\u001b[0;34m:\u001b[0m\u001b[0;36m6\u001b[0m\u001b[0;34m]\u001b[0m\u001b[0;34m)\u001b[0m\u001b[0;34m+\u001b[0m\u001b[0;34m'_'\u001b[0m\u001b[0;34m+\u001b[0m\u001b[0mprocessing_type\u001b[0m\u001b[0;34m,\u001b[0m \u001b[0mreplicate\u001b[0m\u001b[0;34m=\u001b[0m\u001b[0mvals\u001b[0m\u001b[0;34m[\u001b[0m\u001b[0;36m5\u001b[0m\u001b[0;34m]\u001b[0m\u001b[0;34m,\u001b[0m                                       \u001b[0mstrain\u001b[0m\u001b[0;34m=\u001b[0m\u001b[0mstrain\u001b[0m\u001b[0;34m,\u001b[0m \u001b[0mdata_source\u001b[0m\u001b[0;34m=\u001b[0m\u001b[0mdata_source\u001b[0m\u001b[0;34m,\u001b[0m \u001b[0menvironment\u001b[0m\u001b[0;34m=\u001b[0m\u001b[0menvironment\u001b[0m\u001b[0;34m,\u001b[0m                                       \u001b[0mprotocol_type\u001b[0m\u001b[0;34m=\u001b[0m\u001b[0mexp_type\u001b[0m\u001b[0;34m[\u001b[0m\u001b[0;36m0\u001b[0m\u001b[0;34m]\u001b[0m\u001b[0;34m,\u001b[0m \u001b[0mantibody\u001b[0m\u001b[0;34m=\u001b[0m\u001b[0mvals\u001b[0m\u001b[0;34m[\u001b[0m\u001b[0;36m6\u001b[0m\u001b[0;34m]\u001b[0m\u001b[0;34m.\u001b[0m\u001b[0mrstrip\u001b[0m\u001b[0;34m(\u001b[0m\u001b[0mprocessing_type\u001b[0m\u001b[0;34m+\u001b[0m\u001b[0;34m'.gff'\u001b[0m\u001b[0;34m)\u001b[0m\u001b[0;34m,\u001b[0m                                       \u001b[0mtarget\u001b[0m\u001b[0;34m=\u001b[0m\u001b[0mvals\u001b[0m\u001b[0;34m[\u001b[0m\u001b[0;36m0\u001b[0m\u001b[0;34m]\u001b[0m\u001b[0;34m.\u001b[0m\u001b[0msplit\u001b[0m\u001b[0;34m(\u001b[0m\u001b[0;34m'-'\u001b[0m\u001b[0;34m)\u001b[0m\u001b[0;34m[\u001b[0m\u001b[0;36m1\u001b[0m\u001b[0;34m]\u001b[0m\u001b[0;34m)\u001b[0m\u001b[0;34m\u001b[0m\u001b[0m\n\u001b[0m",
        "\u001b[0;32m/Users/sfederow/ome/PrototypeDB/orm/base.pyc\u001b[0m in \u001b[0;36mget_or_create\u001b[0;34m(session, class_type, **kwargs)\u001b[0m\n\u001b[1;32m     67\u001b[0m     \u001b[0mresult\u001b[0m \u001b[0;34m=\u001b[0m \u001b[0msession\u001b[0m\u001b[0;34m.\u001b[0m\u001b[0mquery\u001b[0m\u001b[0;34m(\u001b[0m\u001b[0mclass_type\u001b[0m\u001b[0;34m)\u001b[0m\u001b[0;34m.\u001b[0m\u001b[0mfilter_by\u001b[0m\u001b[0;34m(\u001b[0m\u001b[0;34m**\u001b[0m\u001b[0mkwargs\u001b[0m\u001b[0;34m)\u001b[0m\u001b[0;34m.\u001b[0m\u001b[0mfirst\u001b[0m\u001b[0;34m(\u001b[0m\u001b[0;34m)\u001b[0m\u001b[0;34m\u001b[0m\u001b[0m\n\u001b[1;32m     68\u001b[0m     \u001b[0;32mif\u001b[0m \u001b[0mresult\u001b[0m \u001b[0;32mis\u001b[0m \u001b[0mNone\u001b[0m\u001b[0;34m:\u001b[0m\u001b[0;34m\u001b[0m\u001b[0m\n\u001b[0;32m---> 69\u001b[0;31m         \u001b[0msession\u001b[0m\u001b[0;34m.\u001b[0m\u001b[0madd\u001b[0m\u001b[0;34m(\u001b[0m\u001b[0mclass_type\u001b[0m\u001b[0;34m(\u001b[0m\u001b[0;34m**\u001b[0m\u001b[0mkwargs\u001b[0m\u001b[0;34m)\u001b[0m\u001b[0;34m)\u001b[0m\u001b[0;34m\u001b[0m\u001b[0m\n\u001b[0m\u001b[1;32m     70\u001b[0m         \u001b[0msession\u001b[0m\u001b[0;34m.\u001b[0m\u001b[0mcommit\u001b[0m\u001b[0;34m(\u001b[0m\u001b[0;34m)\u001b[0m\u001b[0;34m\u001b[0m\u001b[0m\n\u001b[1;32m     71\u001b[0m         \u001b[0mresult\u001b[0m \u001b[0;34m=\u001b[0m \u001b[0msession\u001b[0m\u001b[0;34m.\u001b[0m\u001b[0mquery\u001b[0m\u001b[0;34m(\u001b[0m\u001b[0mclass_type\u001b[0m\u001b[0;34m)\u001b[0m\u001b[0;34m.\u001b[0m\u001b[0mfilter_by\u001b[0m\u001b[0;34m(\u001b[0m\u001b[0;34m**\u001b[0m\u001b[0mkwargs\u001b[0m\u001b[0;34m)\u001b[0m\u001b[0;34m.\u001b[0m\u001b[0mfirst\u001b[0m\u001b[0;34m(\u001b[0m\u001b[0;34m)\u001b[0m\u001b[0;34m\u001b[0m\u001b[0m\n",
        "\u001b[0;31mTypeError\u001b[0m: __init__() takes exactly 10 arguments (9 given)"
       ]
      }
     ],
     "prompt_number": 12
    },
    {
     "cell_type": "code",
     "collapsed": false,
     "input": [
      "name_based_experiment_loading('chipExo-ArcA_ArcA8myc_glucose_NH4Cl_anaerobic_2_anti-myc_S3_L001_R1_001_sorted.gff')"
     ],
     "language": "python",
     "metadata": {},
     "outputs": [],
     "prompt_number": 4
    },
    {
     "cell_type": "heading",
     "level": 4,
     "metadata": {},
     "source": [
      "Make all of the gff files from bam files"
     ]
    },
    {
     "cell_type": "code",
     "collapsed": false,
     "input": [
      "#This takes over an hour to run....\n",
      "\"\"\"\n",
      "try: shutil.rmtree(settings.dropbox_directory+'/crp/data/ChIP/gff')\n",
      "except: None\n",
      "os.mkdir(settings.dropbox_directory+'/crp/data/ChIP/gff')\n",
      "os.chdir(settings.dropbox_directory+'/crp/data/ChIP/gff')\n",
      "for file_name in os.listdir(settings.dropbox_directory+'/crp/data/ChIP/bam'):\n",
      "    if file_name[-3:] != 'bam': continue\n",
      "    os.system(settings.home_directory+'/ome/sequtil/makegff.py '+settings.dropbox_directory+'/crp/data/ChIP/bam/'+file_name)\n",
      "    os.system(settings.home_directory+'/ome/sequtil/makegff.py --profile=exo '+settings.dropbox_directory+'/crp/data/ChIP/bam/'+file_name+' '+\\\n",
      "              settings.dropbox_directory+'/crp/data/ChIP/gff/'+file_name[0:-4]+'_5prime.gff')\n",
      "\"\"\""
     ],
     "language": "python",
     "metadata": {},
     "outputs": [
      {
       "output_type": "stream",
       "stream": "stdout",
       "text": [
        "chipExo-ArcA_ArcA8myc_glucose_NH4Cl_anaerobic_2_anti-myc_S3_L001_R1_001_sorted.bam\n",
        "chipExo-ArcA_ArcA8myc_glucose_NH4Cl_anaerobic_3_anti-myc_S4_L001_R1_001_sorted.bam"
       ]
      },
      {
       "output_type": "stream",
       "stream": "stdout",
       "text": [
        "\n",
        "chipExo-Crp_Ar3_glycerol_NH4Cl_O2_1_anti-crp.sorted.bam"
       ]
      },
      {
       "output_type": "stream",
       "stream": "stdout",
       "text": [
        "\n",
        "chipExo-Crp_Ar3_glycerol_NH4Cl_O2_2_anti-crp.sorted.bam"
       ]
      },
      {
       "output_type": "stream",
       "stream": "stdout",
       "text": [
        "\n",
        "chipExo-Crp_Ar3_glycerol_NH4Cl_O2_3_anti-crp.sorted.bam"
       ]
      },
      {
       "output_type": "stream",
       "stream": "stdout",
       "text": [
        "\n",
        "chipExo-Crp_Crp8myc_fructose_NH4Cl_O2_1_anti-crp.sorted.bam"
       ]
      },
      {
       "output_type": "stream",
       "stream": "stdout",
       "text": [
        "\n",
        "chipExo-Crp_Crp8myc_fructose_NH4Cl_O2_1_anti-myc.sorted.bam"
       ]
      },
      {
       "output_type": "stream",
       "stream": "stdout",
       "text": [
        "\n",
        "chipExo-Crp_Crp8myc_fructose_NH4Cl_O2_2_anti-crp_S6_L001_R1_001_sorted.bam"
       ]
      },
      {
       "output_type": "stream",
       "stream": "stdout",
       "text": [
        "\n",
        "chipExo-Crp_Crp8myc_fructose_NH4Cl_O2_2_anti-myc_S1_L001_R1_001_sorted.bam"
       ]
      },
      {
       "output_type": "stream",
       "stream": "stdout",
       "text": [
        "\n",
        "chipExo-Crp_Crp8myc_fructose_NH4Cl_O2_3_anti-crp_S7_L001_R1_001_sorted.bam"
       ]
      },
      {
       "output_type": "stream",
       "stream": "stdout",
       "text": [
        "\n",
        "chipExo-Crp_Crp8myc_fructose_NH4Cl_O2_3_anti-myc_S2_L001_R1_001_sorted.bam"
       ]
      },
      {
       "output_type": "stream",
       "stream": "stdout",
       "text": [
        "\n",
        "chipExo-Crp_Crp8myc_glucose_NH4Cl_O2_1_anti-myc_S2_L001_R1_001_sorted.bam"
       ]
      },
      {
       "output_type": "stream",
       "stream": "stdout",
       "text": [
        "\n",
        "chipExo-Crp_Crp8myc_glucose_NH4Cl_O2_2_anti-myc_S3_L001_R1_001_sorted.bam"
       ]
      },
      {
       "output_type": "stream",
       "stream": "stdout",
       "text": [
        "\n",
        "chipExo-Crp_Crp8myc_glycerol_NH4Cl_O2_1_anti-crp.bam"
       ]
      },
      {
       "output_type": "stream",
       "stream": "stdout",
       "text": [
        "\n",
        "chipExo-Crp_Crp8myc_glycerol_NH4Cl_O2_1_anti-mock-crp.bam"
       ]
      },
      {
       "output_type": "stream",
       "stream": "stdout",
       "text": [
        "\n",
        "chipExo-Crp_Crp8myc_glycerol_NH4Cl_O2_1_anti-mock-myc.bam"
       ]
      },
      {
       "output_type": "stream",
       "stream": "stdout",
       "text": [
        "\n",
        "chipExo-Crp_Crp8myc_glycerol_NH4Cl_O2_1_anti-myc.bam"
       ]
      },
      {
       "output_type": "stream",
       "stream": "stdout",
       "text": [
        "\n",
        "chipExo-Crp_Crp8myc_glycerol_NH4Cl_O2_2_anti-crp_S4_L001_R1_001_sorted.bam"
       ]
      },
      {
       "output_type": "stream",
       "stream": "stdout",
       "text": [
        "\n",
        "chipExo-Crp_Crp8myc_glycerol_NH4Cl_O2_3_anti-myc_S5_L001_R1_001_sorted.bam"
       ]
      },
      {
       "output_type": "stream",
       "stream": "stdout",
       "text": [
        "\n",
        "chipExo-Crp_delAr1_glycerol_NH4Cl_O2_1_anti-crp.sorted.bam"
       ]
      },
      {
       "output_type": "stream",
       "stream": "stdout",
       "text": [
        "\n",
        "chipExo-Crp_delAr1_glycerol_NH4Cl_O2_2_anti-crp.sorted.bam"
       ]
      },
      {
       "output_type": "stream",
       "stream": "stdout",
       "text": [
        "\n",
        "chipExo-Crp_delAr1_glycerol_NH4Cl_O2_3_anti-crp.sorted.bam"
       ]
      },
      {
       "output_type": "stream",
       "stream": "stdout",
       "text": [
        "\n",
        "chipExo-Crp_delAr1delAr2_glycerol_NH4Cl_O2_1_anti-crp.sorted.bam"
       ]
      },
      {
       "output_type": "stream",
       "stream": "stdout",
       "text": [
        "\n",
        "chipExo-Crp_delAr1delAr2_glycerol_NH4Cl_O2_2_anti-crp.sorted.bam"
       ]
      },
      {
       "output_type": "stream",
       "stream": "stdout",
       "text": [
        "\n",
        "chipExo-Crp_delAr1delAr2_glycerol_NH4Cl_O2_3_anti-crp.sorted.bam"
       ]
      },
      {
       "output_type": "stream",
       "stream": "stdout",
       "text": [
        "\n",
        "chipExo-Crp_delAr2_glycerol_NH4Cl_O2_1_anti-crp.sorted.bam"
       ]
      },
      {
       "output_type": "stream",
       "stream": "stdout",
       "text": [
        "\n",
        "chipExo-Crp_delAr2_glycerol_NH4Cl_O2_2_anti-crp.sorted.bam"
       ]
      },
      {
       "output_type": "stream",
       "stream": "stdout",
       "text": [
        "\n",
        "chipExo-Crp_delAr2_glycerol_NH4Cl_O2_3_anti-crp.sorted.bam"
       ]
      },
      {
       "output_type": "stream",
       "stream": "stdout",
       "text": [
        "\n",
        "chipExo-Crp_wt_fructose_NH4Cl_O2_1_anti-crp.bam"
       ]
      },
      {
       "output_type": "stream",
       "stream": "stdout",
       "text": [
        "\n",
        "chipExo-Crp_wt_fructose_NH4Cl_O2_1_anti-mock-crp.bam"
       ]
      },
      {
       "output_type": "stream",
       "stream": "stdout",
       "text": [
        "\n",
        "chipExo-Crp_wt_fructose_NH4Cl_O2_2_anti-crp_S3_L001_R1_001_sorted.bam"
       ]
      },
      {
       "output_type": "stream",
       "stream": "stdout",
       "text": [
        "\n",
        "chipExo-Crp_wt_fructose_NH4Cl_O2_3_anti-crp.sorted.bam"
       ]
      },
      {
       "output_type": "stream",
       "stream": "stdout",
       "text": [
        "\n",
        "chipExo-Crp_wt_fructose_NH4Cl_O2_4_anti-crp.sorted.bam"
       ]
      },
      {
       "output_type": "stream",
       "stream": "stdout",
       "text": [
        "\n",
        "chipExo-Crp_wt_fructose_NH4Cl_O2_5_anti-crp.sorted.bam"
       ]
      },
      {
       "output_type": "stream",
       "stream": "stdout",
       "text": [
        "\n",
        "chipExo-Crp_wt_glucose_NH4Cl_O2_1_anti-crp_S4_L001_R1_001_sorted.bam"
       ]
      },
      {
       "output_type": "stream",
       "stream": "stdout",
       "text": [
        "\n",
        "chipExo-Crp_wt_glucose_NH4Cl_O2_2_anti-crp_1_10_S5_L001_R1_001_sorted.bam"
       ]
      },
      {
       "output_type": "stream",
       "stream": "stdout",
       "text": [
        "\n",
        "chipExo-Crp_wt_glycerol_NH4Cl_O2_1_anti-crp.bam"
       ]
      },
      {
       "output_type": "stream",
       "stream": "stdout",
       "text": [
        "\n",
        "chipExo-Crp_wt_glycerol_NH4Cl_O2_1_anti-mock-crp.bam"
       ]
      },
      {
       "output_type": "stream",
       "stream": "stdout",
       "text": [
        "\n",
        "chipExo-Crp_wt_glycerol_NH4Cl_O2_2_anti-crp_S1_L001_R1_001_sorted.bam"
       ]
      },
      {
       "output_type": "stream",
       "stream": "stdout",
       "text": [
        "\n",
        "chipExo-Crp_wt_glycerol_NH4Cl_O2_3_anti-crp_S2_L001_R1_001_sorted.bam"
       ]
      },
      {
       "output_type": "stream",
       "stream": "stdout",
       "text": [
        "\n",
        "chipExo-Crp_wt_glycerol_NH4Cl_O2_4_anti-crp.sorted.bam"
       ]
      },
      {
       "output_type": "stream",
       "stream": "stdout",
       "text": [
        "\n",
        "chipExo-Crp_wt_glycerol_NH4Cl_O2_5_anti-crp.sorted.bam"
       ]
      },
      {
       "output_type": "stream",
       "stream": "stdout",
       "text": [
        "\n",
        "chipExo-Crp_wt_glycerol_NH4Cl_O2_6_anti-crp.sorted.bam"
       ]
      },
      {
       "output_type": "stream",
       "stream": "stdout",
       "text": [
        "\n",
        "chipExo-Fnr_Fnr8myc_glucose_NH4Cl_anaerobic_2_anti-myc_S5_L001_R1_001_sorted.bam"
       ]
      },
      {
       "output_type": "stream",
       "stream": "stdout",
       "text": [
        "\n",
        "chipExo-Fnr_Fnr8myc_glucose_NH4Cl_anaerobic_3_anti-myc_S6_L001_R1_001_sorted.bam"
       ]
      },
      {
       "output_type": "stream",
       "stream": "stdout",
       "text": [
        "\n",
        "chipExo-RpoA_wt_glucose_NH4Cl_O2_1_anti-rpoA_S6_L001_R1_001_sorted.bam"
       ]
      },
      {
       "output_type": "stream",
       "stream": "stdout",
       "text": [
        "\n",
        "chipExo-RpoA_wt_glucose_NH4Cl_O2_2_anti-rpoA_S7_L001_R1_001_sorted.bam"
       ]
      },
      {
       "output_type": "stream",
       "stream": "stdout",
       "text": [
        "\n",
        "chipExo-RpoD_wt_fructose_NH4Cl_O2_1_anti-rpod.sorted.bam"
       ]
      },
      {
       "output_type": "stream",
       "stream": "stdout",
       "text": [
        "\n",
        "chipExo-RpoD_wt_fructose_NH4Cl_O2_2_anti-rpod.sorted.bam"
       ]
      },
      {
       "output_type": "stream",
       "stream": "stdout",
       "text": [
        "\n",
        "chipExo-RpoD_wt_fructose_NH4Cl_O2_3_anti-rpod.sorted.bam"
       ]
      },
      {
       "output_type": "stream",
       "stream": "stdout",
       "text": [
        "\n",
        "chipExo-RpoD_wt_glucose_NH4Cl_02_1_anti-rpod.sorted.bam"
       ]
      },
      {
       "output_type": "stream",
       "stream": "stdout",
       "text": [
        "\n",
        "chipExo-RpoD_wt_glucose_NH4Cl_O2_2_anti-rpod.sorted.bam"
       ]
      },
      {
       "output_type": "stream",
       "stream": "stdout",
       "text": [
        "\n",
        "chipExo-RpoD_wt_glucose_NH4Cl_O2_3_anti-rpod.sorted.bam"
       ]
      },
      {
       "output_type": "stream",
       "stream": "stdout",
       "text": [
        "\n",
        "chipExo-RpoD_wt_glycerol_NH4Cl_O2_1_anti-rpod.sorted.bam"
       ]
      },
      {
       "output_type": "stream",
       "stream": "stdout",
       "text": [
        "\n",
        "chipExo-RpoD_wt_glycerol_NH4Cl_O2_2_anti-rpod.sorted.bam"
       ]
      },
      {
       "output_type": "stream",
       "stream": "stdout",
       "text": [
        "\n",
        "chipExo-RpoD_wt_glycerol_NH4Cl_O2_3_anti-rpod.sorted.bam"
       ]
      },
      {
       "output_type": "stream",
       "stream": "stdout",
       "text": [
        "\n"
       ]
      }
     ],
     "prompt_number": 21
    },
    {
     "cell_type": "heading",
     "level": 4,
     "metadata": {},
     "source": [
      "Normalize all of the gff files"
     ]
    },
    {
     "cell_type": "code",
     "collapsed": false,
     "input": [
      "#First get read mapping statistics\n",
      "\n",
      "mapped_reads = {}\n",
      "\n",
      "for file_name in os.listdir(settings.dropbox_directory+'/crp/data/ChIP/bam'):\n",
      "    if file_name[-3:] != 'bam': continue\n",
      "    mapped_reads[file_name] = int(subprocess.check_output(['samtools', 'flagstat', file_name]).split('\\n')[2].split()[0])\n",
      "\n",
      "mean_read_count = np.array(mapped_reads.values()).mean()"
     ],
     "language": "python",
     "metadata": {},
     "outputs": [],
     "prompt_number": 35
    },
    {
     "cell_type": "code",
     "collapsed": false,
     "input": [
      "for file_name in os.listdir(settings.dropbox_directory+'/crp/data/ChIP/gff'):\n",
      "    try: \n",
      "        reads_mapped = mapped_reads[file_name[0:-3]+'bam']\n",
      "        \n",
      "    except: None"
     ],
     "language": "python",
     "metadata": {},
     "outputs": [
      {
       "output_type": "stream",
       "stream": "stdout",
       "text": [
        "3223084\n",
        "3977246\n",
        "2294107\n",
        "1548708\n",
        "2990481\n",
        "4848045\n",
        "4645511\n",
        "2388581\n",
        "2715099\n",
        "2417687\n",
        "2950355\n",
        "2176456\n",
        "915218\n",
        "2902667\n",
        "2324880\n",
        "1706205\n",
        "2485482\n",
        "3373815\n",
        "3848211\n",
        "3692993\n",
        "2185441\n",
        "2575115\n",
        "2692227\n",
        "1944417\n",
        "2079014\n",
        "3004792\n",
        "2496025\n",
        "2444983\n",
        "2124438\n",
        "1335814\n",
        "2058582\n",
        "1836597\n",
        "2903324\n",
        "9660913\n",
        "2602298\n",
        "1881168\n",
        "1750050\n",
        "1473210\n",
        "2884367\n",
        "2865966\n",
        "2107967\n",
        "3806257\n",
        "2166514\n",
        "1743677\n",
        "2821823\n",
        "2755637\n",
        "3304362\n",
        "3783344\n",
        "3732530\n",
        "3972085\n",
        "6681520\n",
        "4386115\n",
        "4423868\n",
        "4343067\n",
        "4310500\n",
        "4388044\n"
       ]
      }
     ],
     "prompt_number": 51
    },
    {
     "cell_type": "code",
     "collapsed": false,
     "input": [
      "pd = DataFrame(index=index,data=array(data).T)"
     ],
     "language": "python",
     "metadata": {},
     "outputs": [],
     "prompt_number": 26
    },
    {
     "cell_type": "code",
     "collapsed": false,
     "input": [
      "from IPython.core.display import HTML\n",
      "from pandas import DataFrame\n",
      "from numpy import array\n",
      "import math\n",
      "\n",
      "index = []\n",
      "data = [[],[]]\n",
      "for file_name in os.listdir(settings.dropbox_directory+'/crp/data/ChIP/gff'):\n",
      "    if file_name[-3:] == 'gff':\n",
      "        try:\n",
      "            variance = gff_variance(settings.dropbox_directory+'/crp/data/ChIP/gff/'+file_name)\n",
      "        except: \n",
      "            variance = 0\n",
      "            \n",
      "        index.append(file_name)\n",
      "        data[0].append(variance)\n",
      "        data[1].append(math.sqrt(variance))\n",
      "\n",
      "df = DataFrame(array(data).T,index) \n",
      "HTML(df.to_html())"
     ],
     "language": "python",
     "metadata": {},
     "outputs": [
      {
       "html": [
        "<table border=\"1\" class=\"dataframe\">\n",
        "  <thead>\n",
        "    <tr style=\"text-align: right;\">\n",
        "      <th></th>\n",
        "      <th>0</th>\n",
        "      <th>1</th>\n",
        "    </tr>\n",
        "  </thead>\n",
        "  <tbody>\n",
        "    <tr>\n",
        "      <th>chipExo-ArcA_ArcA8myc_glucose_NH4Cl_anaerobic_2_anti-myc_S3_L001_R1_001_sorted.gff</th>\n",
        "      <td> 30606.896943</td>\n",
        "      <td> 174.948269</td>\n",
        "    </tr>\n",
        "    <tr>\n",
        "      <th>chipExo-ArcA_ArcA8myc_glucose_NH4Cl_anaerobic_2_anti-myc_S3_L001_R1_001_sorted_5prime.gff</th>\n",
        "      <td>  7680.727149</td>\n",
        "      <td>  87.639758</td>\n",
        "    </tr>\n",
        "    <tr>\n",
        "      <th>chipExo-ArcA_ArcA8myc_glucose_NH4Cl_anaerobic_3_anti-myc_S4_L001_R1_001_sorted.gff</th>\n",
        "      <td> 67571.824531</td>\n",
        "      <td> 259.945811</td>\n",
        "    </tr>\n",
        "    <tr>\n",
        "      <th>chipExo-ArcA_ArcA8myc_glucose_NH4Cl_anaerobic_3_anti-myc_S4_L001_R1_001_sorted_5prime.gff</th>\n",
        "      <td> 14644.561259</td>\n",
        "      <td> 121.014715</td>\n",
        "    </tr>\n",
        "    <tr>\n",
        "      <th>chipExo-Crp_Ar3_glycerol_NH4Cl_O2_1_anti-crp.sorted.gff</th>\n",
        "      <td>   368.354660</td>\n",
        "      <td>  19.192568</td>\n",
        "    </tr>\n",
        "    <tr>\n",
        "      <th>chipExo-Crp_Ar3_glycerol_NH4Cl_O2_1_anti-crp.sorted_5prime.gff</th>\n",
        "      <td>    56.639644</td>\n",
        "      <td>   7.525931</td>\n",
        "    </tr>\n",
        "    <tr>\n",
        "      <th>chipExo-Crp_Ar3_glycerol_NH4Cl_O2_2_anti-crp.sorted.gff</th>\n",
        "      <td>   111.947331</td>\n",
        "      <td>  10.580517</td>\n",
        "    </tr>\n",
        "    <tr>\n",
        "      <th>chipExo-Crp_Ar3_glycerol_NH4Cl_O2_2_anti-crp.sorted_5prime.gff</th>\n",
        "      <td>     2.300534</td>\n",
        "      <td>   1.516751</td>\n",
        "    </tr>\n",
        "    <tr>\n",
        "      <th>chipExo-Crp_Ar3_glycerol_NH4Cl_O2_3_anti-crp.sorted.gff</th>\n",
        "      <td>   308.147548</td>\n",
        "      <td>  17.554132</td>\n",
        "    </tr>\n",
        "    <tr>\n",
        "      <th>chipExo-Crp_Ar3_glycerol_NH4Cl_O2_3_anti-crp.sorted_5prime.gff</th>\n",
        "      <td>     5.067378</td>\n",
        "      <td>   2.251084</td>\n",
        "    </tr>\n",
        "    <tr>\n",
        "      <th>chipExo-Crp_Crp8myc_fructose_NH4Cl_O2_1_anti-crp.sorted.gff</th>\n",
        "      <td>  1556.474607</td>\n",
        "      <td>  39.452181</td>\n",
        "    </tr>\n",
        "    <tr>\n",
        "      <th>chipExo-Crp_Crp8myc_fructose_NH4Cl_O2_1_anti-crp.sorted_5prime.gff</th>\n",
        "      <td>    96.208170</td>\n",
        "      <td>   9.808576</td>\n",
        "    </tr>\n",
        "    <tr>\n",
        "      <th>chipExo-Crp_Crp8myc_fructose_NH4Cl_O2_1_anti-myc.sorted.gff</th>\n",
        "      <td>   299.948952</td>\n",
        "      <td>  17.319034</td>\n",
        "    </tr>\n",
        "    <tr>\n",
        "      <th>chipExo-Crp_Crp8myc_fructose_NH4Cl_O2_1_anti-myc.sorted_5prime.gff</th>\n",
        "      <td>     7.139193</td>\n",
        "      <td>   2.671927</td>\n",
        "    </tr>\n",
        "    <tr>\n",
        "      <th>chipExo-Crp_Crp8myc_fructose_NH4Cl_O2_2_anti-crp_S6_L001_R1_001_sorted.gff</th>\n",
        "      <td>   609.151848</td>\n",
        "      <td>  24.681002</td>\n",
        "    </tr>\n",
        "    <tr>\n",
        "      <th>chipExo-Crp_Crp8myc_fructose_NH4Cl_O2_2_anti-crp_S6_L001_R1_001_sorted_5prime.gff</th>\n",
        "      <td>   138.918902</td>\n",
        "      <td>  11.786386</td>\n",
        "    </tr>\n",
        "    <tr>\n",
        "      <th>chipExo-Crp_Crp8myc_fructose_NH4Cl_O2_2_anti-myc_S1_L001_R1_001_sorted.gff</th>\n",
        "      <td>   145.758125</td>\n",
        "      <td>  12.073033</td>\n",
        "    </tr>\n",
        "    <tr>\n",
        "      <th>chipExo-Crp_Crp8myc_fructose_NH4Cl_O2_2_anti-myc_S1_L001_R1_001_sorted_5prime.gff</th>\n",
        "      <td>    25.274762</td>\n",
        "      <td>   5.027401</td>\n",
        "    </tr>\n",
        "    <tr>\n",
        "      <th>chipExo-Crp_Crp8myc_fructose_NH4Cl_O2_3_anti-crp_S7_L001_R1_001_sorted.gff</th>\n",
        "      <td>   713.483633</td>\n",
        "      <td>  26.711114</td>\n",
        "    </tr>\n",
        "    <tr>\n",
        "      <th>chipExo-Crp_Crp8myc_fructose_NH4Cl_O2_3_anti-crp_S7_L001_R1_001_sorted_5prime.gff</th>\n",
        "      <td>   173.477785</td>\n",
        "      <td>  13.171097</td>\n",
        "    </tr>\n",
        "    <tr>\n",
        "      <th>chipExo-Crp_Crp8myc_fructose_NH4Cl_O2_3_anti-myc_S2_L001_R1_001_sorted.gff</th>\n",
        "      <td>   164.996547</td>\n",
        "      <td>  12.845098</td>\n",
        "    </tr>\n",
        "    <tr>\n",
        "      <th>chipExo-Crp_Crp8myc_fructose_NH4Cl_O2_3_anti-myc_S2_L001_R1_001_sorted_5prime.gff</th>\n",
        "      <td>    23.565400</td>\n",
        "      <td>   4.854421</td>\n",
        "    </tr>\n",
        "    <tr>\n",
        "      <th>chipExo-Crp_Crp8myc_glucose_NH4Cl_O2_1_anti-myc_S2_L001_R1_001_sorted.gff</th>\n",
        "      <td>   103.937394</td>\n",
        "      <td>  10.194969</td>\n",
        "    </tr>\n",
        "    <tr>\n",
        "      <th>chipExo-Crp_Crp8myc_glucose_NH4Cl_O2_1_anti-myc_S2_L001_R1_001_sorted_5prime.gff</th>\n",
        "      <td>     3.594008</td>\n",
        "      <td>   1.895787</td>\n",
        "    </tr>\n",
        "    <tr>\n",
        "      <th>chipExo-Crp_Crp8myc_glucose_NH4Cl_O2_2_anti-myc_S3_L001_R1_001_sorted.gff</th>\n",
        "      <td>    15.339743</td>\n",
        "      <td>   3.916598</td>\n",
        "    </tr>\n",
        "    <tr>\n",
        "      <th>chipExo-Crp_Crp8myc_glucose_NH4Cl_O2_2_anti-myc_S3_L001_R1_001_sorted_5prime.gff</th>\n",
        "      <td>     0.857582</td>\n",
        "      <td>   0.926057</td>\n",
        "    </tr>\n",
        "    <tr>\n",
        "      <th>chipExo-Crp_Crp8myc_glycerol_NH4Cl_O2_1_anti-crp.gff</th>\n",
        "      <td>  1331.103765</td>\n",
        "      <td>  36.484295</td>\n",
        "    </tr>\n",
        "    <tr>\n",
        "      <th>chipExo-Crp_Crp8myc_glycerol_NH4Cl_O2_1_anti-crp_5prime.gff</th>\n",
        "      <td>    26.294861</td>\n",
        "      <td>   5.127852</td>\n",
        "    </tr>\n",
        "    <tr>\n",
        "      <th>chipExo-Crp_Crp8myc_glycerol_NH4Cl_O2_1_anti-mock-crp.gff</th>\n",
        "      <td>    53.621643</td>\n",
        "      <td>   7.322680</td>\n",
        "    </tr>\n",
        "    <tr>\n",
        "      <th>chipExo-Crp_Crp8myc_glycerol_NH4Cl_O2_1_anti-mock-crp_5prime.gff</th>\n",
        "      <td>     2.741449</td>\n",
        "      <td>   1.655732</td>\n",
        "    </tr>\n",
        "    <tr>\n",
        "      <th>chipExo-Crp_Crp8myc_glycerol_NH4Cl_O2_1_anti-mock-myc.gff</th>\n",
        "      <td>    34.818389</td>\n",
        "      <td>   5.900711</td>\n",
        "    </tr>\n",
        "    <tr>\n",
        "      <th>chipExo-Crp_Crp8myc_glycerol_NH4Cl_O2_1_anti-mock-myc_5prime.gff</th>\n",
        "      <td>     2.224755</td>\n",
        "      <td>   1.491561</td>\n",
        "    </tr>\n",
        "    <tr>\n",
        "      <th>chipExo-Crp_Crp8myc_glycerol_NH4Cl_O2_1_anti-myc.gff</th>\n",
        "      <td>   138.706322</td>\n",
        "      <td>  11.777365</td>\n",
        "    </tr>\n",
        "    <tr>\n",
        "      <th>chipExo-Crp_Crp8myc_glycerol_NH4Cl_O2_1_anti-myc_5prime.gff</th>\n",
        "      <td>     2.270379</td>\n",
        "      <td>   1.506778</td>\n",
        "    </tr>\n",
        "    <tr>\n",
        "      <th>chipExo-Crp_Crp8myc_glycerol_NH4Cl_O2_2_anti-crp_S4_L001_R1_001_sorted.gff</th>\n",
        "      <td>   713.978071</td>\n",
        "      <td>  26.720368</td>\n",
        "    </tr>\n",
        "    <tr>\n",
        "      <th>chipExo-Crp_Crp8myc_glycerol_NH4Cl_O2_2_anti-crp_S4_L001_R1_001_sorted_5prime.gff</th>\n",
        "      <td>   155.573883</td>\n",
        "      <td>  12.472926</td>\n",
        "    </tr>\n",
        "    <tr>\n",
        "      <th>chipExo-Crp_Crp8myc_glycerol_NH4Cl_O2_3_anti-myc_S5_L001_R1_001_sorted.gff</th>\n",
        "      <td>   335.128031</td>\n",
        "      <td>  18.306502</td>\n",
        "    </tr>\n",
        "    <tr>\n",
        "      <th>chipExo-Crp_Crp8myc_glycerol_NH4Cl_O2_3_anti-myc_S5_L001_R1_001_sorted_5prime.gff</th>\n",
        "      <td>    13.120859</td>\n",
        "      <td>   3.622273</td>\n",
        "    </tr>\n",
        "    <tr>\n",
        "      <th>chipExo-Crp_delAr1_glycerol_NH4Cl_O2_1_anti-crp.sorted.gff</th>\n",
        "      <td>  2962.618077</td>\n",
        "      <td>  54.429937</td>\n",
        "    </tr>\n",
        "    <tr>\n",
        "      <th>chipExo-Crp_delAr1_glycerol_NH4Cl_O2_1_anti-crp.sorted_5prime.gff</th>\n",
        "      <td>   168.848632</td>\n",
        "      <td>  12.994177</td>\n",
        "    </tr>\n",
        "    <tr>\n",
        "      <th>chipExo-Crp_delAr1_glycerol_NH4Cl_O2_2_anti-crp.sorted.gff</th>\n",
        "      <td>  1892.694469</td>\n",
        "      <td>  43.505109</td>\n",
        "    </tr>\n",
        "    <tr>\n",
        "      <th>chipExo-Crp_delAr1_glycerol_NH4Cl_O2_2_anti-crp.sorted_5prime.gff</th>\n",
        "      <td>   112.002104</td>\n",
        "      <td>  10.583105</td>\n",
        "    </tr>\n",
        "    <tr>\n",
        "      <th>chipExo-Crp_delAr1_glycerol_NH4Cl_O2_3_anti-crp.sorted.gff</th>\n",
        "      <td>  1542.598806</td>\n",
        "      <td>  39.275932</td>\n",
        "    </tr>\n",
        "    <tr>\n",
        "      <th>chipExo-Crp_delAr1_glycerol_NH4Cl_O2_3_anti-crp.sorted_5prime.gff</th>\n",
        "      <td>    66.135333</td>\n",
        "      <td>   8.132363</td>\n",
        "    </tr>\n",
        "    <tr>\n",
        "      <th>chipExo-Crp_delAr1delAr2_glycerol_NH4Cl_O2_1_anti-crp.sorted.gff</th>\n",
        "      <td>   492.796306</td>\n",
        "      <td>  22.199016</td>\n",
        "    </tr>\n",
        "    <tr>\n",
        "      <th>chipExo-Crp_delAr1delAr2_glycerol_NH4Cl_O2_1_anti-crp.sorted_5prime.gff</th>\n",
        "      <td>     6.540956</td>\n",
        "      <td>   2.557529</td>\n",
        "    </tr>\n",
        "    <tr>\n",
        "      <th>chipExo-Crp_delAr1delAr2_glycerol_NH4Cl_O2_2_anti-crp.sorted.gff</th>\n",
        "      <td>   315.717716</td>\n",
        "      <td>  17.768447</td>\n",
        "    </tr>\n",
        "    <tr>\n",
        "      <th>chipExo-Crp_delAr1delAr2_glycerol_NH4Cl_O2_2_anti-crp.sorted_5prime.gff</th>\n",
        "      <td>     4.668618</td>\n",
        "      <td>   2.160698</td>\n",
        "    </tr>\n",
        "    <tr>\n",
        "      <th>chipExo-Crp_delAr1delAr2_glycerol_NH4Cl_O2_3_anti-crp.sorted.gff</th>\n",
        "      <td>   265.854616</td>\n",
        "      <td>  16.305049</td>\n",
        "    </tr>\n",
        "    <tr>\n",
        "      <th>chipExo-Crp_delAr1delAr2_glycerol_NH4Cl_O2_3_anti-crp.sorted_5prime.gff</th>\n",
        "      <td>     5.610355</td>\n",
        "      <td>   2.368619</td>\n",
        "    </tr>\n",
        "    <tr>\n",
        "      <th>chipExo-Crp_delAr2_glycerol_NH4Cl_O2_1_anti-crp.sorted.gff</th>\n",
        "      <td>   149.517867</td>\n",
        "      <td>  12.227750</td>\n",
        "    </tr>\n",
        "    <tr>\n",
        "      <th>chipExo-Crp_delAr2_glycerol_NH4Cl_O2_1_anti-crp.sorted_5prime.gff</th>\n",
        "      <td>     1.159204</td>\n",
        "      <td>   1.076663</td>\n",
        "    </tr>\n",
        "    <tr>\n",
        "      <th>chipExo-Crp_delAr2_glycerol_NH4Cl_O2_2_anti-crp.sorted.gff</th>\n",
        "      <td>   108.727648</td>\n",
        "      <td>  10.427255</td>\n",
        "    </tr>\n",
        "    <tr>\n",
        "      <th>chipExo-Crp_delAr2_glycerol_NH4Cl_O2_2_anti-crp.sorted_5prime.gff</th>\n",
        "      <td>     0.726833</td>\n",
        "      <td>   0.852545</td>\n",
        "    </tr>\n",
        "    <tr>\n",
        "      <th>chipExo-Crp_delAr2_glycerol_NH4Cl_O2_3_anti-crp.sorted.gff</th>\n",
        "      <td>    87.635105</td>\n",
        "      <td>   9.361362</td>\n",
        "    </tr>\n",
        "    <tr>\n",
        "      <th>chipExo-Crp_delAr2_glycerol_NH4Cl_O2_3_anti-crp.sorted_5prime.gff</th>\n",
        "      <td>     0.900782</td>\n",
        "      <td>   0.949095</td>\n",
        "    </tr>\n",
        "    <tr>\n",
        "      <th>chipExo-Crp_wt_fructose_NH4Cl_O2_1_anti-crp.gff</th>\n",
        "      <td>   478.439000</td>\n",
        "      <td>  21.873248</td>\n",
        "    </tr>\n",
        "    <tr>\n",
        "      <th>chipExo-Crp_wt_fructose_NH4Cl_O2_1_anti-crp_5prime.gff</th>\n",
        "      <td>    12.276317</td>\n",
        "      <td>   3.503758</td>\n",
        "    </tr>\n",
        "    <tr>\n",
        "      <th>chipExo-Crp_wt_fructose_NH4Cl_O2_1_anti-mock-crp.gff</th>\n",
        "      <td>    53.494810</td>\n",
        "      <td>   7.314015</td>\n",
        "    </tr>\n",
        "    <tr>\n",
        "      <th>chipExo-Crp_wt_fructose_NH4Cl_O2_1_anti-mock-crp_5prime.gff</th>\n",
        "      <td>     5.213971</td>\n",
        "      <td>   2.283412</td>\n",
        "    </tr>\n",
        "    <tr>\n",
        "      <th>chipExo-Crp_wt_fructose_NH4Cl_O2_2_anti-crp_S3_L001_R1_001_sorted.gff</th>\n",
        "      <td>   837.643273</td>\n",
        "      <td>  28.942068</td>\n",
        "    </tr>\n",
        "    <tr>\n",
        "      <th>chipExo-Crp_wt_fructose_NH4Cl_O2_2_anti-crp_S3_L001_R1_001_sorted_5prime.gff</th>\n",
        "      <td>    71.567535</td>\n",
        "      <td>   8.459760</td>\n",
        "    </tr>\n",
        "    <tr>\n",
        "      <th>chipExo-Crp_wt_fructose_NH4Cl_O2_3_anti-crp.sorted.gff</th>\n",
        "      <td>   940.464304</td>\n",
        "      <td>  30.666990</td>\n",
        "    </tr>\n",
        "    <tr>\n",
        "      <th>chipExo-Crp_wt_fructose_NH4Cl_O2_3_anti-crp.sorted_5prime.gff</th>\n",
        "      <td>    11.943465</td>\n",
        "      <td>   3.455932</td>\n",
        "    </tr>\n",
        "    <tr>\n",
        "      <th>chipExo-Crp_wt_fructose_NH4Cl_O2_4_anti-crp.sorted.gff</th>\n",
        "      <td>  1892.833243</td>\n",
        "      <td>  43.506703</td>\n",
        "    </tr>\n",
        "    <tr>\n",
        "      <th>chipExo-Crp_wt_fructose_NH4Cl_O2_4_anti-crp.sorted_5prime.gff</th>\n",
        "      <td>    12.450556</td>\n",
        "      <td>   3.528535</td>\n",
        "    </tr>\n",
        "    <tr>\n",
        "      <th>chipExo-Crp_wt_fructose_NH4Cl_O2_5_anti-crp.sorted.gff</th>\n",
        "      <td> 20404.255253</td>\n",
        "      <td> 142.843464</td>\n",
        "    </tr>\n",
        "    <tr>\n",
        "      <th>chipExo-Crp_wt_fructose_NH4Cl_O2_5_anti-crp.sorted_5prime.gff</th>\n",
        "      <td>    73.205172</td>\n",
        "      <td>   8.556002</td>\n",
        "    </tr>\n",
        "    <tr>\n",
        "      <th>chipExo-Crp_wt_glucose_NH4Cl_O2_1_anti-crp_S4_L001_R1_001_sorted.gff</th>\n",
        "      <td>    89.576840</td>\n",
        "      <td>   9.464504</td>\n",
        "    </tr>\n",
        "    <tr>\n",
        "      <th>chipExo-Crp_wt_glucose_NH4Cl_O2_1_anti-crp_S4_L001_R1_001_sorted_5prime.gff</th>\n",
        "      <td>     1.784299</td>\n",
        "      <td>   1.335777</td>\n",
        "    </tr>\n",
        "    <tr>\n",
        "      <th>chipExo-Crp_wt_glucose_NH4Cl_O2_2_anti-crp_1_10_S5_L001_R1_001_sorted.gff</th>\n",
        "      <td>    48.097342</td>\n",
        "      <td>   6.935225</td>\n",
        "    </tr>\n",
        "    <tr>\n",
        "      <th>chipExo-Crp_wt_glucose_NH4Cl_O2_2_anti-crp_1_10_S5_L001_R1_001_sorted_5prime.gff</th>\n",
        "      <td>     1.209888</td>\n",
        "      <td>   1.099949</td>\n",
        "    </tr>\n",
        "    <tr>\n",
        "      <th>chipExo-Crp_wt_glycerol_NH4Cl_O2_1_anti-crp.gff</th>\n",
        "      <td>   388.585142</td>\n",
        "      <td>  19.712563</td>\n",
        "    </tr>\n",
        "    <tr>\n",
        "      <th>chipExo-Crp_wt_glycerol_NH4Cl_O2_1_anti-crp_5prime.gff</th>\n",
        "      <td>     7.823198</td>\n",
        "      <td>   2.796998</td>\n",
        "    </tr>\n",
        "    <tr>\n",
        "      <th>chipExo-Crp_wt_glycerol_NH4Cl_O2_1_anti-mock-crp.gff</th>\n",
        "      <td>    18.929613</td>\n",
        "      <td>   4.350818</td>\n",
        "    </tr>\n",
        "    <tr>\n",
        "      <th>chipExo-Crp_wt_glycerol_NH4Cl_O2_1_anti-mock-crp_5prime.gff</th>\n",
        "      <td>     1.593589</td>\n",
        "      <td>   1.262375</td>\n",
        "    </tr>\n",
        "    <tr>\n",
        "      <th>chipExo-Crp_wt_glycerol_NH4Cl_O2_2_anti-crp_S1_L001_R1_001_sorted.gff</th>\n",
        "      <td>   682.147852</td>\n",
        "      <td>  26.117960</td>\n",
        "    </tr>\n",
        "    <tr>\n",
        "      <th>chipExo-Crp_wt_glycerol_NH4Cl_O2_2_anti-crp_S1_L001_R1_001_sorted_5prime.gff</th>\n",
        "      <td>    36.798712</td>\n",
        "      <td>   6.066194</td>\n",
        "    </tr>\n",
        "    <tr>\n",
        "      <th>chipExo-Crp_wt_glycerol_NH4Cl_O2_3_anti-crp_S2_L001_R1_001_sorted.gff</th>\n",
        "      <td>  1024.681715</td>\n",
        "      <td>  32.010650</td>\n",
        "    </tr>\n",
        "    <tr>\n",
        "      <th>chipExo-Crp_wt_glycerol_NH4Cl_O2_3_anti-crp_S2_L001_R1_001_sorted_5prime.gff</th>\n",
        "      <td>    42.829604</td>\n",
        "      <td>   6.544433</td>\n",
        "    </tr>\n",
        "    <tr>\n",
        "      <th>chipExo-Crp_wt_glycerol_NH4Cl_O2_4_anti-crp.sorted.gff</th>\n",
        "      <td>  1098.850144</td>\n",
        "      <td>  33.148909</td>\n",
        "    </tr>\n",
        "    <tr>\n",
        "      <th>chipExo-Crp_wt_glycerol_NH4Cl_O2_4_anti-crp.sorted_5prime.gff</th>\n",
        "      <td>    10.539095</td>\n",
        "      <td>   3.246397</td>\n",
        "    </tr>\n",
        "    <tr>\n",
        "      <th>chipExo-Crp_wt_glycerol_NH4Cl_O2_5_anti-crp.sorted.gff</th>\n",
        "      <td>  5120.334876</td>\n",
        "      <td>  71.556515</td>\n",
        "    </tr>\n",
        "    <tr>\n",
        "      <th>chipExo-Crp_wt_glycerol_NH4Cl_O2_5_anti-crp.sorted_5prime.gff</th>\n",
        "      <td>    27.883079</td>\n",
        "      <td>   5.280443</td>\n",
        "    </tr>\n",
        "    <tr>\n",
        "      <th>chipExo-Crp_wt_glycerol_NH4Cl_O2_6_anti-crp.sorted.gff</th>\n",
        "      <td>   961.475027</td>\n",
        "      <td>  31.007661</td>\n",
        "    </tr>\n",
        "    <tr>\n",
        "      <th>chipExo-Crp_wt_glycerol_NH4Cl_O2_6_anti-crp.sorted_5prime.gff</th>\n",
        "      <td>    10.515507</td>\n",
        "      <td>   3.242762</td>\n",
        "    </tr>\n",
        "    <tr>\n",
        "      <th>chipExo-Fnr_Fnr8myc_glucose_NH4Cl_anaerobic_2_anti-myc_S5_L001_R1_001_sorted.gff</th>\n",
        "      <td>   936.686950</td>\n",
        "      <td>  30.605342</td>\n",
        "    </tr>\n",
        "    <tr>\n",
        "      <th>chipExo-Fnr_Fnr8myc_glucose_NH4Cl_anaerobic_2_anti-myc_S5_L001_R1_001_sorted_5prime.gff</th>\n",
        "      <td>    97.742308</td>\n",
        "      <td>   9.886471</td>\n",
        "    </tr>\n",
        "    <tr>\n",
        "      <th>chipExo-Fnr_Fnr8myc_glucose_NH4Cl_anaerobic_3_anti-myc_S6_L001_R1_001_sorted.gff</th>\n",
        "      <td>  4534.890069</td>\n",
        "      <td>  67.341592</td>\n",
        "    </tr>\n",
        "    <tr>\n",
        "      <th>chipExo-Fnr_Fnr8myc_glucose_NH4Cl_anaerobic_3_anti-myc_S6_L001_R1_001_sorted_5prime.gff</th>\n",
        "      <td>  1139.915349</td>\n",
        "      <td>  33.762632</td>\n",
        "    </tr>\n",
        "    <tr>\n",
        "      <th>chipExo-RpoA_wt_glucose_NH4Cl_O2_1_anti-rpoA_S6_L001_R1_001_sorted.gff</th>\n",
        "      <td>  1575.879746</td>\n",
        "      <td>  39.697352</td>\n",
        "    </tr>\n",
        "    <tr>\n",
        "      <th>chipExo-RpoA_wt_glucose_NH4Cl_O2_1_anti-rpoA_S6_L001_R1_001_sorted_5prime.gff</th>\n",
        "      <td>    13.564633</td>\n",
        "      <td>   3.683020</td>\n",
        "    </tr>\n",
        "    <tr>\n",
        "      <th>chipExo-RpoA_wt_glucose_NH4Cl_O2_2_anti-rpoA_S7_L001_R1_001_sorted.gff</th>\n",
        "      <td>  1737.007683</td>\n",
        "      <td>  41.677424</td>\n",
        "    </tr>\n",
        "    <tr>\n",
        "      <th>chipExo-RpoA_wt_glucose_NH4Cl_O2_2_anti-rpoA_S7_L001_R1_001_sorted_5prime.gff</th>\n",
        "      <td>    12.136759</td>\n",
        "      <td>   3.483785</td>\n",
        "    </tr>\n",
        "    <tr>\n",
        "      <th>chipExo-RpoD_wt_fructose_NH4Cl_O2_1_anti-rpod.sorted.gff</th>\n",
        "      <td> 25764.548097</td>\n",
        "      <td> 160.513389</td>\n",
        "    </tr>\n",
        "    <tr>\n",
        "      <th>chipExo-RpoD_wt_fructose_NH4Cl_O2_1_anti-rpod.sorted_5prime.gff</th>\n",
        "      <td>   120.599413</td>\n",
        "      <td>  10.981776</td>\n",
        "    </tr>\n",
        "    <tr>\n",
        "      <th>chipExo-RpoD_wt_fructose_NH4Cl_O2_2_anti-rpod.sorted.gff</th>\n",
        "      <td> 25997.217679</td>\n",
        "      <td> 161.236527</td>\n",
        "    </tr>\n",
        "    <tr>\n",
        "      <th>chipExo-RpoD_wt_fructose_NH4Cl_O2_2_anti-rpod.sorted_5prime.gff</th>\n",
        "      <td>   124.474266</td>\n",
        "      <td>  11.156804</td>\n",
        "    </tr>\n",
        "    <tr>\n",
        "      <th>chipExo-RpoD_wt_fructose_NH4Cl_O2_3_anti-rpod.sorted.gff</th>\n",
        "      <td> 28497.081409</td>\n",
        "      <td> 168.810786</td>\n",
        "    </tr>\n",
        "    <tr>\n",
        "      <th>chipExo-RpoD_wt_fructose_NH4Cl_O2_3_anti-rpod.sorted_5prime.gff</th>\n",
        "      <td>   126.095147</td>\n",
        "      <td>  11.229210</td>\n",
        "    </tr>\n",
        "    <tr>\n",
        "      <th>chipExo-RpoD_wt_glucose_NH4Cl_O2_1_anti-rpod.sorted.gff</th>\n",
        "      <td> 21979.889380</td>\n",
        "      <td> 148.256161</td>\n",
        "    </tr>\n",
        "    <tr>\n",
        "      <th>chipExo-RpoD_wt_glucose_NH4Cl_O2_1_anti-rpod.sorted_5prime.gff</th>\n",
        "      <td>   240.073731</td>\n",
        "      <td>  15.494313</td>\n",
        "    </tr>\n",
        "    <tr>\n",
        "      <th>chipExo-RpoD_wt_glucose_NH4Cl_O2_2_anti-rpod.sorted.gff</th>\n",
        "      <td> 31380.410780</td>\n",
        "      <td> 177.145169</td>\n",
        "    </tr>\n",
        "    <tr>\n",
        "      <th>chipExo-RpoD_wt_glucose_NH4Cl_O2_2_anti-rpod.sorted_5prime.gff</th>\n",
        "      <td>   124.965955</td>\n",
        "      <td>  11.178817</td>\n",
        "    </tr>\n",
        "    <tr>\n",
        "      <th>chipExo-RpoD_wt_glucose_NH4Cl_O2_3_anti-rpod.sorted.gff</th>\n",
        "      <td> 28173.084606</td>\n",
        "      <td> 167.848398</td>\n",
        "    </tr>\n",
        "    <tr>\n",
        "      <th>chipExo-RpoD_wt_glucose_NH4Cl_O2_3_anti-rpod.sorted_5prime.gff</th>\n",
        "      <td>   105.963594</td>\n",
        "      <td>  10.293862</td>\n",
        "    </tr>\n",
        "    <tr>\n",
        "      <th>chipExo-RpoD_wt_glycerol_NH4Cl_O2_1_anti-rpod.sorted.gff</th>\n",
        "      <td> 35253.596817</td>\n",
        "      <td> 187.759412</td>\n",
        "    </tr>\n",
        "    <tr>\n",
        "      <th>chipExo-RpoD_wt_glycerol_NH4Cl_O2_1_anti-rpod.sorted_5prime.gff</th>\n",
        "      <td>   153.061535</td>\n",
        "      <td>  12.371804</td>\n",
        "    </tr>\n",
        "    <tr>\n",
        "      <th>chipExo-RpoD_wt_glycerol_NH4Cl_O2_2_anti-rpod.sorted.gff</th>\n",
        "      <td> 36835.229054</td>\n",
        "      <td> 191.925061</td>\n",
        "    </tr>\n",
        "    <tr>\n",
        "      <th>chipExo-RpoD_wt_glycerol_NH4Cl_O2_2_anti-rpod.sorted_5prime.gff</th>\n",
        "      <td>   164.003142</td>\n",
        "      <td>  12.806371</td>\n",
        "    </tr>\n",
        "    <tr>\n",
        "      <th>chipExo-RpoD_wt_glycerol_NH4Cl_O2_3_anti-rpod.sorted.gff</th>\n",
        "      <td> 28901.266510</td>\n",
        "      <td> 170.003725</td>\n",
        "    </tr>\n",
        "    <tr>\n",
        "      <th>chipExo-RpoD_wt_glycerol_NH4Cl_O2_3_anti-rpod.sorted_5prime.gff</th>\n",
        "      <td>   120.175812</td>\n",
        "      <td>  10.962473</td>\n",
        "    </tr>\n",
        "  </tbody>\n",
        "</table>"
       ],
       "metadata": {},
       "output_type": "pyout",
       "prompt_number": 29,
       "text": [
        "<IPython.core.display.HTML at 0x1029eb410>"
       ]
      }
     ],
     "prompt_number": 29
    },
    {
     "cell_type": "code",
     "collapsed": false,
     "input": [
      "chipex = data.ChIPExperiment\n",
      "exp = ome.query(chipex).join(data.InVivoEnvironment).filter(data.InVivoEnvironment.carbon_source == 'glucose').first()\n",
      "'_'.join(exp.file_name.split('_')[0:5])"
     ],
     "language": "python",
     "metadata": {},
     "outputs": [
      {
       "metadata": {},
       "output_type": "pyout",
       "prompt_number": 36,
       "text": [
        "u'chipExo-ArcA_ArcA8myc_glucose_NH4Cl_anaerobic'"
       ]
      }
     ],
     "prompt_number": 36
    },
    {
     "cell_type": "code",
     "collapsed": false,
     "input": [
      "chipex = data.ChIPExperiment\n",
      "env = data.Environment\n",
      "peak_calling_sets = ome.query(func.array_agg(chipex.file_name),func.array_agg(chipex.name)).\\\n",
      "                group_by(chipex.strain_id,chipex.environment_id,chipex.antibody,chipex.protocol_type,chipex.target).all()\n",
      "\n",
      "bam_dir = settings.dropbox_directory+'/crp/data/ChIP/bam/'    \n",
      "    \n",
      "for entry in peak_calling_sets:\n",
      "    print entry"
     ],
     "language": "python",
     "metadata": {},
     "outputs": [],
     "prompt_number": 3
    },
    {
     "cell_type": "code",
     "collapsed": false,
     "input": [
      "for chip_exp in ome.query(data.ChIPExperiment).all():\n",
      "    print '_'.join(chip_exp.file_name.split('_')[0:5])"
     ],
     "language": "python",
     "metadata": {},
     "outputs": [
      {
       "output_type": "stream",
       "stream": "stdout",
       "text": [
        "chipExo-ArcA_ArcA8myc_glucose_NH4Cl_anaerobic\n",
        "chipExo-ArcA_ArcA8myc_glucose_NH4Cl_anaerobic\n",
        "chipExo-Crp_Ar3_glycerol_NH4Cl_O2\n",
        "chipExo-Crp_Ar3_glycerol_NH4Cl_O2\n",
        "chipExo-Crp_Ar3_glycerol_NH4Cl_O2\n",
        "chipExo-Crp_Crp8myc_fructose_NH4Cl_O2\n",
        "chipExo-Crp_Crp8myc_fructose_NH4Cl_O2\n",
        "chipExo-Crp_Crp8myc_fructose_NH4Cl_O2\n",
        "chipExo-Crp_Crp8myc_fructose_NH4Cl_O2\n",
        "chipExo-Crp_Crp8myc_fructose_NH4Cl_O2\n",
        "chipExo-Crp_Crp8myc_fructose_NH4Cl_O2\n",
        "chipExo-Crp_Crp8myc_glucose_NH4Cl_O2\n",
        "chipExo-Crp_Crp8myc_glucose_NH4Cl_O2\n",
        "chipExo-Crp_Crp8myc_glycerol_NH4Cl_O2\n",
        "chipExo-Crp_Crp8myc_glycerol_NH4Cl_O2\n",
        "chipExo-Crp_Crp8myc_glycerol_NH4Cl_O2\n",
        "chipExo-Crp_Crp8myc_glycerol_NH4Cl_O2\n",
        "chipExo-Crp_Crp8myc_glycerol_NH4Cl_O2\n",
        "chipExo-Crp_Crp8myc_glycerol_NH4Cl_O2\n",
        "chipExo-Crp_delAr1_glycerol_NH4Cl_O2\n",
        "chipExo-Crp_delAr1_glycerol_NH4Cl_O2\n",
        "chipExo-Crp_delAr1_glycerol_NH4Cl_O2\n",
        "chipExo-Crp_delAr1delAr2_glycerol_NH4Cl_O2\n",
        "chipExo-Crp_delAr1delAr2_glycerol_NH4Cl_O2\n",
        "chipExo-Crp_delAr1delAr2_glycerol_NH4Cl_O2\n",
        "chipExo-Crp_delAr2_glycerol_NH4Cl_O2\n",
        "chipExo-Crp_delAr2_glycerol_NH4Cl_O2\n",
        "chipExo-Crp_delAr2_glycerol_NH4Cl_O2\n",
        "chipExo-Crp_wt_fructose_NH4Cl_O2\n",
        "chipExo-Crp_wt_fructose_NH4Cl_O2\n",
        "chipExo-Crp_wt_fructose_NH4Cl_O2\n",
        "chipExo-Crp_wt_fructose_NH4Cl_O2\n",
        "chipExo-Crp_wt_fructose_NH4Cl_O2\n",
        "chipExo-Crp_wt_fructose_NH4Cl_O2\n",
        "chipExo-Crp_wt_glucose_NH4Cl_O2\n",
        "chipExo-Crp_wt_glucose_NH4Cl_O2\n",
        "chipExo-Crp_wt_glycerol_NH4Cl_O2\n",
        "chipExo-Crp_wt_glycerol_NH4Cl_O2\n",
        "chipExo-Crp_wt_glycerol_NH4Cl_O2\n",
        "chipExo-Crp_wt_glycerol_NH4Cl_O2\n",
        "chipExo-Crp_wt_glycerol_NH4Cl_O2\n",
        "chipExo-Crp_wt_glycerol_NH4Cl_O2\n",
        "chipExo-Crp_wt_glycerol_NH4Cl_O2\n",
        "chipExo-Fnr_Fnr8myc_glucose_NH4Cl_anaerobic\n",
        "chipExo-Fnr_Fnr8myc_glucose_NH4Cl_anaerobic\n",
        "chipExo-RpoA_wt_glucose_NH4Cl_O2\n",
        "chipExo-RpoA_wt_glucose_NH4Cl_O2\n",
        "chipExo-RpoD_wt_fructose_NH4Cl_O2\n",
        "chipExo-RpoD_wt_fructose_NH4Cl_O2\n",
        "chipExo-RpoD_wt_fructose_NH4Cl_O2\n",
        "chipExo-RpoD_wt_glucose_NH4Cl_O2\n",
        "chipExo-RpoD_wt_glucose_NH4Cl_O2\n",
        "chipExo-RpoD_wt_glucose_NH4Cl_O2\n",
        "chipExo-RpoD_wt_glycerol_NH4Cl_O2\n",
        "chipExo-RpoD_wt_glycerol_NH4Cl_O2\n",
        "chipExo-RpoD_wt_glycerol_NH4Cl_O2\n"
       ]
      }
     ],
     "prompt_number": 37
    },
    {
     "cell_type": "code",
     "collapsed": false,
     "input": [
      "peak_file = open('/Volumes/extra/Dropbox/crp/data/ChIP_peaks/gem/chipExo-Crp_wt_glycerol_NH4Cl_O2/out_GPS_events.narrowPeak','r')\n",
      "gff_file = open('/Volumes/extra/Dropbox/crp/data/ChIP_peaks/gem/chipExo-Crp_wt_glycerol_NH4Cl_O2/out_GPS_events_peak.gff','w')\n",
      "file_name = 'chipExo-Crp_wt_glycerol_NH4Cl_O2'\n",
      "for line in peak_file.readlines()[0:10]:\n",
      "    vals = line.split()\n",
      "    print vals\n",
      "    print vals[2]\n",
      "    ome.get_or_create(data.ChIPPeakData, \n",
      "    #print vals[0][3:]+'\\t.\\t'+file_name+'\\t'+vals[1]+'\\t'+vals[2]+'\\t'+vals[6]+'\\t+\\t.\\t.\\n'\n",
      "    #gff_file.write(vals[0][3:]+'\\t.\\t'+file_name+'\\t'+vals[1]+'\\t'+vals[2]+'\\t'+vals[6]+'\\t+\\t.\\t.\\n')"
     ],
     "language": "python",
     "metadata": {},
     "outputs": [
      {
       "output_type": "stream",
       "stream": "stdout",
       "text": [
        "['chrNC_000913', '62', '263', 'NC_000913:162', '1000', '.', '1735.5', '0.00', '112.49', '100']\n",
        "263\n",
        "['chrNC_000913', '165', '366', 'NC_000913:265', '660', '.', '1080.5', '0.00', '89.56', '100']\n",
        "366\n",
        "['chrNC_000913', '41931', '42132', 'NC_000913:42031', '1000', '.', '1835.6', '0.00', '28.05', '100']\n",
        "42132\n",
        "['chrNC_000913', '41950', '42151', 'NC_000913:42050', '1000', '.', '3201.7', '0.00', '154.79', '100']\n",
        "42151\n",
        "['chrNC_000913', '42005', '42206', 'NC_000913:42105', '1000', '.', '3525.4', '0.00', '136.74', '100']\n",
        "42206\n",
        "['chrNC_000913', '42088', '42289', 'NC_000913:42188', '1000', '.', '3795.0', '0.00', '90.19', '100']\n",
        "42289\n",
        "['chrNC_000913', '42116', '42317', 'NC_000913:42216', '845', '.', '1438.1', '0.00', '10.25', '100']\n",
        "42317\n",
        "['chrNC_000913', '42140', '42341', 'NC_000913:42240', '859', '.', '1464.5', '0.00', '18.41', '100']\n",
        "42341\n",
        "['chrNC_000913', '42182', '42383', 'NC_000913:42282', '756', '.', '1265.8', '0.00', '10.52', '100']\n",
        "42383\n",
        "['chrNC_000913', '42217', '42418', 'NC_000913:42317', '982', '.', '1702.0', '0.00', '42.85', '100']\n",
        "42418\n"
       ]
      }
     ],
     "prompt_number": 5
    },
    {
     "cell_type": "code",
     "collapsed": false,
     "input": [
      "exp = ome.query(data.ChIPExperiment).join(Strain).filter(Strain.name == 'wt').first()"
     ],
     "language": "python",
     "metadata": {},
     "outputs": [],
     "prompt_number": 3
    },
    {
     "cell_type": "code",
     "collapsed": false,
     "input": [
      "ome.query(ChIPPeak).first().children"
     ],
     "language": "python",
     "metadata": {},
     "outputs": [
      {
       "metadata": {},
       "output_type": "pyout",
       "prompt_number": 22,
       "text": [
        "[ChIPExperiment (#31, chipExo-Crp_Ar3_glycerol_NH4Cl_O2_1_anti-crp): chipExo Crp 1,\n",
        " ChIPExperiment (#32, chipExo-Crp_Ar3_glycerol_NH4Cl_O2_2_anti-crp): chipExo Crp 2,\n",
        " ChIPExperiment (#33, chipExo-Crp_Ar3_glycerol_NH4Cl_O2_3_anti-crp): chipExo Crp 3]"
       ]
      }
     ],
     "prompt_number": 22
    },
    {
     "cell_type": "code",
     "collapsed": false,
     "input": [
      "genome_data = base.omics_database.genome_data\n",
      "genome_data.count()"
     ],
     "language": "python",
     "metadata": {},
     "outputs": [
      {
       "metadata": {},
       "output_type": "pyout",
       "prompt_number": 13,
       "text": [
        "338335234"
       ]
      }
     ],
     "prompt_number": 13
    },
    {
     "cell_type": "code",
     "collapsed": false,
     "input": [
      "ome.query(Gene).filter_by(name='glpD').one().data"
     ],
     "language": "python",
     "metadata": {},
     "outputs": [
      {
       "metadata": {},
       "output_type": "pyout",
       "prompt_number": 13,
       "text": [
        "[Diff Exp Data: Gene: (b3426, glpD) 3560036-3561541 (+)  0.64  0.00,\n",
        " Diff Exp Data: Gene: (b3426, glpD) 3560036-3561541 (+)  0.67  0.00,\n",
        " Diff Exp Data: Gene: (b3426, glpD) 3560036-3561541 (+) -0.40  0.05,\n",
        " Diff Exp Data: Gene: (b3426, glpD) 3560036-3561541 (+) -0.38  0.06,\n",
        " Diff Exp Data: Gene: (b3426, glpD) 3560036-3561541 (+) -1.04  0.00,\n",
        " Diff Exp Data: Gene: (b3426, glpD) 3560036-3561541 (+)  0.81  0.00,\n",
        " Diff Exp Data: Gene: (b3426, glpD) 3560036-3561541 (+)  0.84  0.00,\n",
        " Diff Exp Data: Gene: (b3426, glpD) 3560036-3561541 (+)  1.21  0.00,\n",
        " Diff Exp Data: Gene: (b3426, glpD) 3560036-3561541 (+) -5.97  0.00,\n",
        " Diff Exp Data: Gene: (b3426, glpD) 3560036-3561541 (+)  0.59  0.01,\n",
        " Diff Exp Data: Gene: (b3426, glpD) 3560036-3561541 (+)  0.61  0.01,\n",
        " Diff Exp Data: Gene: (b3426, glpD) 3560036-3561541 (+)  0.99  0.00,\n",
        " Diff Exp Data: Gene: (b3426, glpD) 3560036-3561541 (+) -0.69  0.00,\n",
        " Diff Exp Data: Gene: (b3426, glpD) 3560036-3561541 (+) -6.34  0.00,\n",
        " Diff Exp Data: Gene: (b3426, glpD) 3560036-3561541 (+) -1.98  0.00,\n",
        " Diff Exp Data: Gene: (b3426, glpD) 3560036-3561541 (+) -7.72  0.00,\n",
        " Diff Exp Data: Gene: (b3426, glpD) 3560036-3561541 (+) -1.39  0.00,\n",
        " Gene: (b3426, glpD) 3560036-3561541 (+): 745.33 -- RNAseq_Ar3_glycerol_NH4Cl_O2_1,\n",
        " Gene: (b3426, glpD) 3560036-3561541 (+): 3164.36 -- RNAseq_Ar3_glycerol_NH4Cl_O2_2,\n",
        " Gene: (b3426, glpD) 3560036-3561541 (+): 2916.75 -- RNAseq_Ar3_glycerol_NH4Cl_O2_3,\n",
        " Gene: (b3426, glpD) 3560036-3561541 (+): 1844.70 -- RNAseq_delAr1_glycerol_NH4Cl_O2_1,\n",
        " Gene: (b3426, glpD) 3560036-3561541 (+): 3151.80 -- RNAseq_delAr1_glycerol_NH4Cl_O2_2,\n",
        " Gene: (b3426, glpD) 3560036-3561541 (+): 1045.60 -- RNAseq_delAr1_glycerol_NH4Cl_O2_3,\n",
        " Gene: (b3426, glpD) 3560036-3561541 (+): 3472.88 -- RNAseq_delAr1delAr2_glycerol_NH4Cl_O2_1,\n",
        " Gene: (b3426, glpD) 3560036-3561541 (+): 3433.95 -- RNAseq_delAr1delAr2_glycerol_NH4Cl_O2_2,\n",
        " Gene: (b3426, glpD) 3560036-3561541 (+): 3491.75 -- RNAseq_delAr1delAr2_glycerol_NH4Cl_O2_3,\n",
        " Gene: (b3426, glpD) 3560036-3561541 (+): 1728.42 -- RNAseq_delAr2_glycerol_NH4Cl_O2_1,\n",
        " Gene: (b3426, glpD) 3560036-3561541 (+): 1516.85 -- RNAseq_delAr2_glycerol_NH4Cl_O2_2,\n",
        " Gene: (b3426, glpD) 3560036-3561541 (+): 1621.57 -- RNAseq_delAr2_glycerol_NH4Cl_O2_3,\n",
        " Gene: (b3426, glpD) 3560036-3561541 (+): 4145.14 -- RNAseq_delta-crp_glycerol_NH4Cl_O2_1,\n",
        " Gene: (b3426, glpD) 3560036-3561541 (+): 4072.08 -- RNAseq_delta-crp_glycerol_NH4Cl_O2_2,\n",
        " Gene: (b3426, glpD) 3560036-3561541 (+): 4274.88 -- RNAseq_delta-crp_glycerol_NH4Cl_O2_3,\n",
        " Gene: (b3426, glpD) 3560036-3561541 (+): 64.72 -- RNAseq_delta-crp_fructose_NH4Cl_O2_1,\n",
        " Gene: (b3426, glpD) 3560036-3561541 (+): 72.39 -- RNAseq_delta-crp_fructose_NH4Cl_O2_2,\n",
        " Gene: (b3426, glpD) 3560036-3561541 (+): 71.19 -- RNAseq_delta-crp_fructose_NH4Cl_O2_3,\n",
        " Gene: (b3426, glpD) 3560036-3561541 (+): 62.94 -- RNAseq_delta-crp_glucose_NH4Cl_O2_1,\n",
        " Gene: (b3426, glpD) 3560036-3561541 (+): 57.62 -- RNAseq_delta-crp_glucose_NH4Cl_O2_2,\n",
        " Gene: (b3426, glpD) 3560036-3561541 (+): 66.55 -- RNAseq_delta-crp_glucose_NH4Cl_O2_3,\n",
        " Gene: (b3426, glpD) 3560036-3561541 (+): 3401.06 -- RNAseq_wt_glycerol_NH4Cl_O2_1,\n",
        " Gene: (b3426, glpD) 3560036-3561541 (+): 3546.05 -- RNAseq_wt_glycerol_NH4Cl_O2_2,\n",
        " Gene: (b3426, glpD) 3560036-3561541 (+): 54.01 -- RNAseq_wt_fructose_NH4Cl_O2_1,\n",
        " Gene: (b3426, glpD) 3560036-3561541 (+): 36.26 -- RNAseq_wt_fructose_NH4Cl_O2_2,\n",
        " Gene: (b3426, glpD) 3560036-3561541 (+): 15.70 -- RNAseq_wt_glucose_NH4Cl_O2_1,\n",
        " Gene: (b3426, glpD) 3560036-3561541 (+): 18.19 -- RNAseq_wt_glucose_NH4Cl_O2_2,\n",
        " Gene: (b3426, glpD) 3560036-3561541 (+): 20.95 -- RNAseq_wt_glucose_NH4Cl_O2_3,\n",
        " Gene: (b3426, glpD) 3560036-3561541 (+):  2.25 -- affyexp_delta-arcA_glucose_NH4Cl_O2_1,\n",
        " Gene: (b3426, glpD) 3560036-3561541 (+):  2.25 -- affyexp_delta-arcA_glucose_NH4Cl_O2_2,\n",
        " Gene: (b3426, glpD) 3560036-3561541 (+):  2.25 -- affyexp_delta-arcA_glucose_NH4Cl_O2_3,\n",
        " Gene: (b3426, glpD) 3560036-3561541 (+):  2.25 -- affyexp_delta-arcA_glucose_NH4Cl_anaerobic_1,\n",
        " Gene: (b3426, glpD) 3560036-3561541 (+):  2.25 -- affyexp_delta-arcA_glucose_NH4Cl_anaerobic_2,\n",
        " Gene: (b3426, glpD) 3560036-3561541 (+):  2.25 -- affyexp_delta-arcA_glucose_NH4Cl_anaerobic_3,\n",
        " Gene: (b3426, glpD) 3560036-3561541 (+):  2.25 -- affyexp_delta-arcAfnr_glucose_NH4Cl_O2_1,\n",
        " Gene: (b3426, glpD) 3560036-3561541 (+):  2.25 -- affyexp_delta-arcAfnr_glucose_NH4Cl_O2_2,\n",
        " Gene: (b3426, glpD) 3560036-3561541 (+):  2.25 -- affyexp_delta-arcAfnr_glucose_NH4Cl_O2_3,\n",
        " Gene: (b3426, glpD) 3560036-3561541 (+):  2.67 -- affyexp_delta-arcAfnr_glucose_NH4Cl_anaerobic_1,\n",
        " Gene: (b3426, glpD) 3560036-3561541 (+):  3.03 -- affyexp_delta-arcAfnr_glucose_NH4Cl_anaerobic_2,\n",
        " Gene: (b3426, glpD) 3560036-3561541 (+):  3.17 -- affyexp_delta-arcAfnr_glucose_NH4Cl_anaerobic_3,\n",
        " Gene: (b3426, glpD) 3560036-3561541 (+):  2.25 -- affyexp_delta-fnr_glucose_NH4Cl_O2_1,\n",
        " Gene: (b3426, glpD) 3560036-3561541 (+):  2.25 -- affyexp_delta-fnr_glucose_NH4Cl_O2_2,\n",
        " Gene: (b3426, glpD) 3560036-3561541 (+):  2.25 -- affyexp_delta-fnr_glucose_NH4Cl_O2_3,\n",
        " Gene: (b3426, glpD) 3560036-3561541 (+):  2.25 -- affyexp_delta-fnr_glucose_NH4Cl_anaerobic_1,\n",
        " Gene: (b3426, glpD) 3560036-3561541 (+):  2.25 -- affyexp_delta-fnr_glucose_NH4Cl_anaerobic_2,\n",
        " Gene: (b3426, glpD) 3560036-3561541 (+):  2.25 -- affyexp_delta-fnr_glucose_NH4Cl_anaerobic_3,\n",
        " Gene: (b3426, glpD) 3560036-3561541 (+):  2.25 -- affyexp_delta-narL_glucose_NH4Cl_anaerobic_1,\n",
        " Gene: (b3426, glpD) 3560036-3561541 (+):  2.25 -- affyexp_delta-narL_glucose_NH4Cl_anaerobic_2,\n",
        " Gene: (b3426, glpD) 3560036-3561541 (+):  2.25 -- affyexp_delta-narL_glucose_NH4Cl_anaerobic_3,\n",
        " Gene: (b3426, glpD) 3560036-3561541 (+):  2.25 -- affyexp_delta-narL_glucose_NH4Cl_NO3_1,\n",
        " Gene: (b3426, glpD) 3560036-3561541 (+):  2.25 -- affyexp_delta-narL_glucose_NH4Cl_NO3_2,\n",
        " Gene: (b3426, glpD) 3560036-3561541 (+):  2.25 -- affyexp_delta-narL_glucose_NH4Cl_NO3_3,\n",
        " Gene: (b3426, glpD) 3560036-3561541 (+):  2.25 -- affyexp_delta-narLnarP_glucose_NH4Cl_anaerobic_1,\n",
        " Gene: (b3426, glpD) 3560036-3561541 (+):  2.25 -- affyexp_delta-narLnarP_glucose_NH4Cl_anaerobic_2,\n",
        " Gene: (b3426, glpD) 3560036-3561541 (+):  2.25 -- affyexp_delta-narLnarP_glucose_NH4Cl_anaerobic_3,\n",
        " Gene: (b3426, glpD) 3560036-3561541 (+):  2.25 -- affyexp_delta-narLnarP_glucose_NH4Cl_NO3_1,\n",
        " Gene: (b3426, glpD) 3560036-3561541 (+):  2.25 -- affyexp_delta-narLnarP_glucose_NH4Cl_NO3_2,\n",
        " Gene: (b3426, glpD) 3560036-3561541 (+):  2.25 -- affyexp_delta-narLnarP_glucose_NH4Cl_NO3_3,\n",
        " Gene: (b3426, glpD) 3560036-3561541 (+):  2.25 -- affyexp_delta-narP_glucose_NH4Cl_anaerobic_1,\n",
        " Gene: (b3426, glpD) 3560036-3561541 (+):  2.25 -- affyexp_delta-narP_glucose_NH4Cl_anaerobic_2,\n",
        " Gene: (b3426, glpD) 3560036-3561541 (+):  2.25 -- affyexp_delta-narP_glucose_NH4Cl_anaerobic_3,\n",
        " Gene: (b3426, glpD) 3560036-3561541 (+):  2.25 -- affyexp_delta-narP_glucose_NH4Cl_NO3_2,\n",
        " Gene: (b3426, glpD) 3560036-3561541 (+):  2.25 -- affyexp_delta-narP_glucose_NH4Cl_NO3_3,\n",
        " Gene: (b3426, glpD) 3560036-3561541 (+):  2.25 -- affyexp_wt_glucose_NH4Cl_NO3_1,\n",
        " Gene: (b3426, glpD) 3560036-3561541 (+):  2.25 -- affyexp_wt_glucose_NH4Cl_NO3_2,\n",
        " Gene: (b3426, glpD) 3560036-3561541 (+):  2.25 -- affyexp_wt_glucose_NH4Cl_NO3_3,\n",
        " Gene: (b3426, glpD) 3560036-3561541 (+):  2.25 -- affyexp_wt_glucose_NH4Cl_O2_1,\n",
        " Gene: (b3426, glpD) 3560036-3561541 (+):  2.25 -- affyexp_wt_glucose_NH4Cl_O2_2,\n",
        " Gene: (b3426, glpD) 3560036-3561541 (+):  2.25 -- affyexp_wt_glucose_NH4Cl_O2_3,\n",
        " Gene: (b3426, glpD) 3560036-3561541 (+):  2.25 -- affyexp_wt_glucose_NH4Cl_anaerobic_1,\n",
        " Gene: (b3426, glpD) 3560036-3561541 (+):  2.25 -- affyexp_wt_glucose_NH4Cl_anaerobic_2,\n",
        " Gene: (b3426, glpD) 3560036-3561541 (+):  2.25 -- affyexp_wt_glucose_NH4Cl_anaerobic_3,\n",
        " Gene: (b3426, glpD) 3560036-3561541 (+):  2.25 -- affyexp_wt_glucose_NH4Cl_anaerobic_4,\n",
        " Gene: (b3426, glpD) 3560036-3561541 (+):  2.25 -- affyexp_wt_glucose_NH4Cl_anaerobic_5,\n",
        " Gene: (b3426, glpD) 3560036-3561541 (+):  2.25 -- affyexp_wt_glucose_NH4Cl_anaerobic_6,\n",
        " Gene: (b3426, glpD) 3560036-3561541 (+):  6.84 -- affyexp_delta-cra_acetate_NH4Cl_O2_1,\n",
        " Gene: (b3426, glpD) 3560036-3561541 (+):  6.93 -- affyexp_delta-cra_acetate_NH4Cl_O2_2,\n",
        " Gene: (b3426, glpD) 3560036-3561541 (+):  7.85 -- affyexp_delta-cra_acetate_NH4Cl_O2_3,\n",
        " Gene: (b3426, glpD) 3560036-3561541 (+):  4.71 -- affyexp_delta-cra_glucose_NH4Cl_O2_1,\n",
        " Gene: (b3426, glpD) 3560036-3561541 (+):  4.71 -- affyexp_delta-cra_glucose_NH4Cl_O2_2,\n",
        " Gene: (b3426, glpD) 3560036-3561541 (+):  4.47 -- affyexp_delta-cra_glucose_NH4Cl_O2_3,\n",
        " Gene: (b3426, glpD) 3560036-3561541 (+):  5.13 -- affyexp_delta-crp_fructose_NH4Cl_O2_1,\n",
        " Gene: (b3426, glpD) 3560036-3561541 (+):  5.11 -- affyexp_delta-crp_fructose_NH4Cl_O2_2,\n",
        " Gene: (b3426, glpD) 3560036-3561541 (+):  5.11 -- affyexp_delta-crp_fructose_NH4Cl_O2_3,\n",
        " Gene: (b3426, glpD) 3560036-3561541 (+):  4.86 -- affyexp_delta-crp_glucose_NH4Cl_O2_1,\n",
        " Gene: (b3426, glpD) 3560036-3561541 (+):  5.22 -- affyexp_delta-crp_glucose_NH4Cl_O2_2,\n",
        " Gene: (b3426, glpD) 3560036-3561541 (+):  4.99 -- affyexp_delta-crp_glucose_NH4Cl_O2_3,\n",
        " Gene: (b3426, glpD) 3560036-3561541 (+):  5.07 -- affyexp_delta-lrp_glucose_NH4Cl_O2_1,\n",
        " Gene: (b3426, glpD) 3560036-3561541 (+):  4.87 -- affyexp_delta-lrp_glucose_NH4Cl_O2_2,\n",
        " Gene: (b3426, glpD) 3560036-3561541 (+):  5.11 -- affyexp_delta-lrp_glucose_NH4Cl_O2_3,\n",
        " Gene: (b3426, glpD) 3560036-3561541 (+):  5.86 -- affyexp_delta-lrp_glucose_leucine_O2_1,\n",
        " Gene: (b3426, glpD) 3560036-3561541 (+):  5.22 -- affyexp_delta-lrp_glucose_leucine_O2_2,\n",
        " Gene: (b3426, glpD) 3560036-3561541 (+):  5.28 -- affyexp_delta-lrp_glucose_leucine_O2_3,\n",
        " Gene: (b3426, glpD) 3560036-3561541 (+):  4.96 -- affyexp_delta-purR_glucose_NH4Cl_O2_1,\n",
        " Gene: (b3426, glpD) 3560036-3561541 (+):  5.35 -- affyexp_delta-purR_glucose_NH4Cl_O2_2,\n",
        " Gene: (b3426, glpD) 3560036-3561541 (+):  4.31 -- affyexp_delta-purR_glucose_adenine_O2_1,\n",
        " Gene: (b3426, glpD) 3560036-3561541 (+):  4.84 -- affyexp_delta-purR_glucose_adenine_O2_2,\n",
        " Gene: (b3426, glpD) 3560036-3561541 (+):  6.75 -- affyexp_wt_acetate_NH4Cl_O2_1,\n",
        " Gene: (b3426, glpD) 3560036-3561541 (+):  6.95 -- affyexp_wt_acetate_NH4Cl_O2_2,\n",
        " Gene: (b3426, glpD) 3560036-3561541 (+):  7.07 -- affyexp_wt_acetate_NH4Cl_O2_3,\n",
        " Gene: (b3426, glpD) 3560036-3561541 (+):  6.17 -- affyexp_wt_fructose_NH4Cl_O2_1,\n",
        " Gene: (b3426, glpD) 3560036-3561541 (+):  5.60 -- affyexp_wt_fructose_NH4Cl_O2_2,\n",
        " Gene: (b3426, glpD) 3560036-3561541 (+):  8.79 -- affyexp_wt_fructose_NH4Cl_O2_3,\n",
        " Gene: (b3426, glpD) 3560036-3561541 (+):  5.62 -- affyexp_wt_glucose_adenine_O2_1,\n",
        " Gene: (b3426, glpD) 3560036-3561541 (+):  5.86 -- affyexp_wt_glucose_adenine_O2_2,\n",
        " Gene: (b3426, glpD) 3560036-3561541 (+):  5.94 -- affyexp_wt_glucose_leucine_O2_1,\n",
        " Gene: (b3426, glpD) 3560036-3561541 (+):  5.90 -- affyexp_wt_glucose_leucine_O2_2,\n",
        " Gene: (b3426, glpD) 3560036-3561541 (+):  5.74 -- affyexp_wt_glucose_leucine_O2_3]"
       ]
      }
     ],
     "prompt_number": 13
    },
    {
     "cell_type": "code",
     "collapsed": false,
     "input": [
      "from pymongo import ASCENDING, DESCENDING\n",
      "#genome_data.drop_indexes()\n",
      "#genome_data.create_index([(\"data_set_id\",ASCENDING), (\"leftpos\", ASCENDING)])"
     ],
     "language": "python",
     "metadata": {},
     "outputs": [
      {
       "metadata": {},
       "output_type": "pyout",
       "prompt_number": 3,
       "text": [
        "u'data_set_id_1_leftpos_1'"
       ]
      }
     ],
     "prompt_number": 3
    },
    {
     "cell_type": "code",
     "collapsed": false,
     "input": [
      "%%timeit\n",
      "[x['value'] for x in data.query_genome_data([exp.id])]"
     ],
     "language": "python",
     "metadata": {},
     "outputs": [
      {
       "output_type": "stream",
       "stream": "stdout",
       "text": [
        "100 loops, best of 3: 11.5 ms per loop\n"
       ]
      }
     ],
     "prompt_number": 15
    },
    {
     "cell_type": "code",
     "collapsed": false,
     "input": [
      "[x for x in query_genome_data([exp.id], 2000, 3000)]"
     ],
     "language": "python",
     "metadata": {},
     "outputs": [
      {
       "metadata": {},
       "output_type": "pyout",
       "prompt_number": 4,
       "text": [
        "[{u'_id': ObjectId('535d7b0b4eead3454cc78456'),\n",
        "  u'data_set_id': 29,\n",
        "  u'leftpos': 2000,\n",
        "  u'rightpos': 2000,\n",
        "  u'strand': u'+',\n",
        "  u'value': 31.0},\n",
        " {u'_id': ObjectId('535d7b564eead3457401994d'),\n",
        "  u'data_set_id': 29,\n",
        "  u'leftpos': 2000,\n",
        "  u'rightpos': 2000,\n",
        "  u'strand': u'+',\n",
        "  u'value': 31.0},\n",
        " {u'_id': ObjectId('535d7b0b4eead3454cc78457'),\n",
        "  u'data_set_id': 29,\n",
        "  u'leftpos': 2001,\n",
        "  u'rightpos': 2001,\n",
        "  u'strand': u'+',\n",
        "  u'value': 31.0},\n",
        " {u'_id': ObjectId('535d7b564eead3457401994e'),\n",
        "  u'data_set_id': 29,\n",
        "  u'leftpos': 2001,\n",
        "  u'rightpos': 2001,\n",
        "  u'strand': u'+',\n",
        "  u'value': 31.0},\n",
        " {u'_id': ObjectId('535d7b0b4eead3454cc78458'),\n",
        "  u'data_set_id': 29,\n",
        "  u'leftpos': 2002,\n",
        "  u'rightpos': 2002,\n",
        "  u'strand': u'+',\n",
        "  u'value': 31.0},\n",
        " {u'_id': ObjectId('535d7b564eead3457401994f'),\n",
        "  u'data_set_id': 29,\n",
        "  u'leftpos': 2002,\n",
        "  u'rightpos': 2002,\n",
        "  u'strand': u'+',\n",
        "  u'value': 31.0},\n",
        " {u'_id': ObjectId('535d7b0b4eead3454cc78459'),\n",
        "  u'data_set_id': 29,\n",
        "  u'leftpos': 2003,\n",
        "  u'rightpos': 2003,\n",
        "  u'strand': u'+',\n",
        "  u'value': 31.0},\n",
        " {u'_id': ObjectId('535d7b564eead34574019950'),\n",
        "  u'data_set_id': 29,\n",
        "  u'leftpos': 2003,\n",
        "  u'rightpos': 2003,\n",
        "  u'strand': u'+',\n",
        "  u'value': 31.0},\n",
        " {u'_id': ObjectId('535d7b0b4eead3454cc7845a'),\n",
        "  u'data_set_id': 29,\n",
        "  u'leftpos': 2004,\n",
        "  u'rightpos': 2004,\n",
        "  u'strand': u'+',\n",
        "  u'value': 31.0},\n",
        " {u'_id': ObjectId('535d7b564eead34574019951'),\n",
        "  u'data_set_id': 29,\n",
        "  u'leftpos': 2004,\n",
        "  u'rightpos': 2004,\n",
        "  u'strand': u'+',\n",
        "  u'value': 31.0},\n",
        " {u'_id': ObjectId('535d7b0b4eead3454cc7845b'),\n",
        "  u'data_set_id': 29,\n",
        "  u'leftpos': 2005,\n",
        "  u'rightpos': 2005,\n",
        "  u'strand': u'+',\n",
        "  u'value': 31.0},\n",
        " {u'_id': ObjectId('535d7b564eead34574019952'),\n",
        "  u'data_set_id': 29,\n",
        "  u'leftpos': 2005,\n",
        "  u'rightpos': 2005,\n",
        "  u'strand': u'+',\n",
        "  u'value': 31.0},\n",
        " {u'_id': ObjectId('535d7b0b4eead3454cc7845c'),\n",
        "  u'data_set_id': 29,\n",
        "  u'leftpos': 2006,\n",
        "  u'rightpos': 2006,\n",
        "  u'strand': u'+',\n",
        "  u'value': 31.0},\n",
        " {u'_id': ObjectId('535d7b564eead34574019953'),\n",
        "  u'data_set_id': 29,\n",
        "  u'leftpos': 2006,\n",
        "  u'rightpos': 2006,\n",
        "  u'strand': u'+',\n",
        "  u'value': 31.0},\n",
        " {u'_id': ObjectId('535d7b0b4eead3454cc7845d'),\n",
        "  u'data_set_id': 29,\n",
        "  u'leftpos': 2007,\n",
        "  u'rightpos': 2007,\n",
        "  u'strand': u'+',\n",
        "  u'value': 31.0},\n",
        " {u'_id': ObjectId('535d7b564eead34574019954'),\n",
        "  u'data_set_id': 29,\n",
        "  u'leftpos': 2007,\n",
        "  u'rightpos': 2007,\n",
        "  u'strand': u'+',\n",
        "  u'value': 31.0},\n",
        " {u'_id': ObjectId('535d7b0b4eead3454cc7845e'),\n",
        "  u'data_set_id': 29,\n",
        "  u'leftpos': 2008,\n",
        "  u'rightpos': 2008,\n",
        "  u'strand': u'+',\n",
        "  u'value': 31.0},\n",
        " {u'_id': ObjectId('535d7b564eead34574019955'),\n",
        "  u'data_set_id': 29,\n",
        "  u'leftpos': 2008,\n",
        "  u'rightpos': 2008,\n",
        "  u'strand': u'+',\n",
        "  u'value': 31.0},\n",
        " {u'_id': ObjectId('535d7b0b4eead3454cc7845f'),\n",
        "  u'data_set_id': 29,\n",
        "  u'leftpos': 2009,\n",
        "  u'rightpos': 2009,\n",
        "  u'strand': u'+',\n",
        "  u'value': 31.0},\n",
        " {u'_id': ObjectId('535d7b564eead34574019956'),\n",
        "  u'data_set_id': 29,\n",
        "  u'leftpos': 2009,\n",
        "  u'rightpos': 2009,\n",
        "  u'strand': u'+',\n",
        "  u'value': 31.0},\n",
        " {u'_id': ObjectId('535d7b0b4eead3454cc78460'),\n",
        "  u'data_set_id': 29,\n",
        "  u'leftpos': 2010,\n",
        "  u'rightpos': 2010,\n",
        "  u'strand': u'+',\n",
        "  u'value': 31.0},\n",
        " {u'_id': ObjectId('535d7b564eead34574019957'),\n",
        "  u'data_set_id': 29,\n",
        "  u'leftpos': 2010,\n",
        "  u'rightpos': 2010,\n",
        "  u'strand': u'+',\n",
        "  u'value': 31.0},\n",
        " {u'_id': ObjectId('535d7b0b4eead3454cc78461'),\n",
        "  u'data_set_id': 29,\n",
        "  u'leftpos': 2011,\n",
        "  u'rightpos': 2011,\n",
        "  u'strand': u'+',\n",
        "  u'value': 31.0},\n",
        " {u'_id': ObjectId('535d7b564eead34574019958'),\n",
        "  u'data_set_id': 29,\n",
        "  u'leftpos': 2011,\n",
        "  u'rightpos': 2011,\n",
        "  u'strand': u'+',\n",
        "  u'value': 31.0},\n",
        " {u'_id': ObjectId('535d7b0b4eead3454cc78462'),\n",
        "  u'data_set_id': 29,\n",
        "  u'leftpos': 2012,\n",
        "  u'rightpos': 2012,\n",
        "  u'strand': u'+',\n",
        "  u'value': 31.0},\n",
        " {u'_id': ObjectId('535d7b564eead34574019959'),\n",
        "  u'data_set_id': 29,\n",
        "  u'leftpos': 2012,\n",
        "  u'rightpos': 2012,\n",
        "  u'strand': u'+',\n",
        "  u'value': 31.0},\n",
        " {u'_id': ObjectId('535d7b0b4eead3454cc78463'),\n",
        "  u'data_set_id': 29,\n",
        "  u'leftpos': 2013,\n",
        "  u'rightpos': 2013,\n",
        "  u'strand': u'+',\n",
        "  u'value': 31.0},\n",
        " {u'_id': ObjectId('535d7b564eead3457401995a'),\n",
        "  u'data_set_id': 29,\n",
        "  u'leftpos': 2013,\n",
        "  u'rightpos': 2013,\n",
        "  u'strand': u'+',\n",
        "  u'value': 31.0},\n",
        " {u'_id': ObjectId('535d7b0b4eead3454cc78464'),\n",
        "  u'data_set_id': 29,\n",
        "  u'leftpos': 2014,\n",
        "  u'rightpos': 2014,\n",
        "  u'strand': u'+',\n",
        "  u'value': 31.0},\n",
        " {u'_id': ObjectId('535d7b564eead3457401995b'),\n",
        "  u'data_set_id': 29,\n",
        "  u'leftpos': 2014,\n",
        "  u'rightpos': 2014,\n",
        "  u'strand': u'+',\n",
        "  u'value': 31.0},\n",
        " {u'_id': ObjectId('535d7b0b4eead3454cc78465'),\n",
        "  u'data_set_id': 29,\n",
        "  u'leftpos': 2037,\n",
        "  u'rightpos': 2037,\n",
        "  u'strand': u'+',\n",
        "  u'value': 217.0},\n",
        " {u'_id': ObjectId('535d7b564eead3457401995c'),\n",
        "  u'data_set_id': 29,\n",
        "  u'leftpos': 2037,\n",
        "  u'rightpos': 2037,\n",
        "  u'strand': u'+',\n",
        "  u'value': 217.0},\n",
        " {u'_id': ObjectId('535d7b0b4eead3454cc78466'),\n",
        "  u'data_set_id': 29,\n",
        "  u'leftpos': 2038,\n",
        "  u'rightpos': 2038,\n",
        "  u'strand': u'+',\n",
        "  u'value': 217.0},\n",
        " {u'_id': ObjectId('535d7b564eead3457401995d'),\n",
        "  u'data_set_id': 29,\n",
        "  u'leftpos': 2038,\n",
        "  u'rightpos': 2038,\n",
        "  u'strand': u'+',\n",
        "  u'value': 217.0},\n",
        " {u'_id': ObjectId('535d7b0b4eead3454cc78467'),\n",
        "  u'data_set_id': 29,\n",
        "  u'leftpos': 2039,\n",
        "  u'rightpos': 2039,\n",
        "  u'strand': u'+',\n",
        "  u'value': 217.0},\n",
        " {u'_id': ObjectId('535d7b564eead3457401995e'),\n",
        "  u'data_set_id': 29,\n",
        "  u'leftpos': 2039,\n",
        "  u'rightpos': 2039,\n",
        "  u'strand': u'+',\n",
        "  u'value': 217.0},\n",
        " {u'_id': ObjectId('535d7b0b4eead3454cc78468'),\n",
        "  u'data_set_id': 29,\n",
        "  u'leftpos': 2040,\n",
        "  u'rightpos': 2040,\n",
        "  u'strand': u'+',\n",
        "  u'value': 217.0},\n",
        " {u'_id': ObjectId('535d7b564eead3457401995f'),\n",
        "  u'data_set_id': 29,\n",
        "  u'leftpos': 2040,\n",
        "  u'rightpos': 2040,\n",
        "  u'strand': u'+',\n",
        "  u'value': 217.0},\n",
        " {u'_id': ObjectId('535d7b0b4eead3454cc78469'),\n",
        "  u'data_set_id': 29,\n",
        "  u'leftpos': 2041,\n",
        "  u'rightpos': 2041,\n",
        "  u'strand': u'+',\n",
        "  u'value': 217.0},\n",
        " {u'_id': ObjectId('535d7b564eead34574019960'),\n",
        "  u'data_set_id': 29,\n",
        "  u'leftpos': 2041,\n",
        "  u'rightpos': 2041,\n",
        "  u'strand': u'+',\n",
        "  u'value': 217.0},\n",
        " {u'_id': ObjectId('535d7b0b4eead3454cc7846a'),\n",
        "  u'data_set_id': 29,\n",
        "  u'leftpos': 2042,\n",
        "  u'rightpos': 2042,\n",
        "  u'strand': u'+',\n",
        "  u'value': 217.0},\n",
        " {u'_id': ObjectId('535d7b564eead34574019961'),\n",
        "  u'data_set_id': 29,\n",
        "  u'leftpos': 2042,\n",
        "  u'rightpos': 2042,\n",
        "  u'strand': u'+',\n",
        "  u'value': 217.0},\n",
        " {u'_id': ObjectId('535d7b0b4eead3454cc7846b'),\n",
        "  u'data_set_id': 29,\n",
        "  u'leftpos': 2043,\n",
        "  u'rightpos': 2043,\n",
        "  u'strand': u'+',\n",
        "  u'value': 217.0},\n",
        " {u'_id': ObjectId('535d7b564eead34574019962'),\n",
        "  u'data_set_id': 29,\n",
        "  u'leftpos': 2043,\n",
        "  u'rightpos': 2043,\n",
        "  u'strand': u'+',\n",
        "  u'value': 217.0},\n",
        " {u'_id': ObjectId('535d7b0b4eead3454cc7846c'),\n",
        "  u'data_set_id': 29,\n",
        "  u'leftpos': 2044,\n",
        "  u'rightpos': 2044,\n",
        "  u'strand': u'+',\n",
        "  u'value': 217.0},\n",
        " {u'_id': ObjectId('535d7b564eead34574019963'),\n",
        "  u'data_set_id': 29,\n",
        "  u'leftpos': 2044,\n",
        "  u'rightpos': 2044,\n",
        "  u'strand': u'+',\n",
        "  u'value': 217.0},\n",
        " {u'_id': ObjectId('535d7b0b4eead3454cc7846d'),\n",
        "  u'data_set_id': 29,\n",
        "  u'leftpos': 2045,\n",
        "  u'rightpos': 2045,\n",
        "  u'strand': u'+',\n",
        "  u'value': 217.0},\n",
        " {u'_id': ObjectId('535d7b564eead34574019964'),\n",
        "  u'data_set_id': 29,\n",
        "  u'leftpos': 2045,\n",
        "  u'rightpos': 2045,\n",
        "  u'strand': u'+',\n",
        "  u'value': 217.0},\n",
        " {u'_id': ObjectId('535d7b0b4eead3454cc7846e'),\n",
        "  u'data_set_id': 29,\n",
        "  u'leftpos': 2046,\n",
        "  u'rightpos': 2046,\n",
        "  u'strand': u'+',\n",
        "  u'value': 217.0},\n",
        " {u'_id': ObjectId('535d7b564eead34574019965'),\n",
        "  u'data_set_id': 29,\n",
        "  u'leftpos': 2046,\n",
        "  u'rightpos': 2046,\n",
        "  u'strand': u'+',\n",
        "  u'value': 217.0},\n",
        " {u'_id': ObjectId('535d7b0b4eead3454cc7846f'),\n",
        "  u'data_set_id': 29,\n",
        "  u'leftpos': 2047,\n",
        "  u'rightpos': 2047,\n",
        "  u'strand': u'+',\n",
        "  u'value': 217.0},\n",
        " {u'_id': ObjectId('535d7b564eead34574019966'),\n",
        "  u'data_set_id': 29,\n",
        "  u'leftpos': 2047,\n",
        "  u'rightpos': 2047,\n",
        "  u'strand': u'+',\n",
        "  u'value': 217.0},\n",
        " {u'_id': ObjectId('535d7b0b4eead3454cc78470'),\n",
        "  u'data_set_id': 29,\n",
        "  u'leftpos': 2048,\n",
        "  u'rightpos': 2048,\n",
        "  u'strand': u'+',\n",
        "  u'value': 217.0},\n",
        " {u'_id': ObjectId('535d7b564eead34574019967'),\n",
        "  u'data_set_id': 29,\n",
        "  u'leftpos': 2048,\n",
        "  u'rightpos': 2048,\n",
        "  u'strand': u'+',\n",
        "  u'value': 217.0},\n",
        " {u'_id': ObjectId('535d7b0b4eead3454cc78471'),\n",
        "  u'data_set_id': 29,\n",
        "  u'leftpos': 2049,\n",
        "  u'rightpos': 2049,\n",
        "  u'strand': u'+',\n",
        "  u'value': 217.0},\n",
        " {u'_id': ObjectId('535d7b564eead34574019968'),\n",
        "  u'data_set_id': 29,\n",
        "  u'leftpos': 2049,\n",
        "  u'rightpos': 2049,\n",
        "  u'strand': u'+',\n",
        "  u'value': 217.0},\n",
        " {u'_id': ObjectId('535d7b0b4eead3454cc78472'),\n",
        "  u'data_set_id': 29,\n",
        "  u'leftpos': 2050,\n",
        "  u'rightpos': 2050,\n",
        "  u'strand': u'+',\n",
        "  u'value': 217.0},\n",
        " {u'_id': ObjectId('535d7b564eead34574019969'),\n",
        "  u'data_set_id': 29,\n",
        "  u'leftpos': 2050,\n",
        "  u'rightpos': 2050,\n",
        "  u'strand': u'+',\n",
        "  u'value': 217.0},\n",
        " {u'_id': ObjectId('535d7b0b4eead3454cc78473'),\n",
        "  u'data_set_id': 29,\n",
        "  u'leftpos': 2051,\n",
        "  u'rightpos': 2051,\n",
        "  u'strand': u'+',\n",
        "  u'value': 217.0},\n",
        " {u'_id': ObjectId('535d7b564eead3457401996a'),\n",
        "  u'data_set_id': 29,\n",
        "  u'leftpos': 2051,\n",
        "  u'rightpos': 2051,\n",
        "  u'strand': u'+',\n",
        "  u'value': 217.0},\n",
        " {u'_id': ObjectId('535d7b0b4eead3454cc78474'),\n",
        "  u'data_set_id': 29,\n",
        "  u'leftpos': 2052,\n",
        "  u'rightpos': 2052,\n",
        "  u'strand': u'+',\n",
        "  u'value': 217.0},\n",
        " {u'_id': ObjectId('535d7b564eead3457401996b'),\n",
        "  u'data_set_id': 29,\n",
        "  u'leftpos': 2052,\n",
        "  u'rightpos': 2052,\n",
        "  u'strand': u'+',\n",
        "  u'value': 217.0},\n",
        " {u'_id': ObjectId('535d7b0b4eead3454cc78475'),\n",
        "  u'data_set_id': 29,\n",
        "  u'leftpos': 2053,\n",
        "  u'rightpos': 2053,\n",
        "  u'strand': u'+',\n",
        "  u'value': 217.0},\n",
        " {u'_id': ObjectId('535d7b564eead3457401996c'),\n",
        "  u'data_set_id': 29,\n",
        "  u'leftpos': 2053,\n",
        "  u'rightpos': 2053,\n",
        "  u'strand': u'+',\n",
        "  u'value': 217.0},\n",
        " {u'_id': ObjectId('535d7b0b4eead3454cc78476'),\n",
        "  u'data_set_id': 29,\n",
        "  u'leftpos': 2054,\n",
        "  u'rightpos': 2054,\n",
        "  u'strand': u'+',\n",
        "  u'value': 217.0},\n",
        " {u'_id': ObjectId('535d7b564eead3457401996d'),\n",
        "  u'data_set_id': 29,\n",
        "  u'leftpos': 2054,\n",
        "  u'rightpos': 2054,\n",
        "  u'strand': u'+',\n",
        "  u'value': 217.0},\n",
        " {u'_id': ObjectId('535d7b0b4eead3454cc78477'),\n",
        "  u'data_set_id': 29,\n",
        "  u'leftpos': 2055,\n",
        "  u'rightpos': 2055,\n",
        "  u'strand': u'+',\n",
        "  u'value': 217.0},\n",
        " {u'_id': ObjectId('535d7b564eead3457401996e'),\n",
        "  u'data_set_id': 29,\n",
        "  u'leftpos': 2055,\n",
        "  u'rightpos': 2055,\n",
        "  u'strand': u'+',\n",
        "  u'value': 217.0},\n",
        " {u'_id': ObjectId('535d7b0b4eead3454cc78478'),\n",
        "  u'data_set_id': 29,\n",
        "  u'leftpos': 2056,\n",
        "  u'rightpos': 2056,\n",
        "  u'strand': u'+',\n",
        "  u'value': 217.0},\n",
        " {u'_id': ObjectId('535d7b564eead3457401996f'),\n",
        "  u'data_set_id': 29,\n",
        "  u'leftpos': 2056,\n",
        "  u'rightpos': 2056,\n",
        "  u'strand': u'+',\n",
        "  u'value': 217.0},\n",
        " {u'_id': ObjectId('535d7b0b4eead3454cc78479'),\n",
        "  u'data_set_id': 29,\n",
        "  u'leftpos': 2057,\n",
        "  u'rightpos': 2057,\n",
        "  u'strand': u'+',\n",
        "  u'value': 217.0},\n",
        " {u'_id': ObjectId('535d7b564eead34574019970'),\n",
        "  u'data_set_id': 29,\n",
        "  u'leftpos': 2057,\n",
        "  u'rightpos': 2057,\n",
        "  u'strand': u'+',\n",
        "  u'value': 217.0},\n",
        " {u'_id': ObjectId('535d7b0b4eead3454cc7847a'),\n",
        "  u'data_set_id': 29,\n",
        "  u'leftpos': 2058,\n",
        "  u'rightpos': 2058,\n",
        "  u'strand': u'+',\n",
        "  u'value': 217.0},\n",
        " {u'_id': ObjectId('535d7b564eead34574019971'),\n",
        "  u'data_set_id': 29,\n",
        "  u'leftpos': 2058,\n",
        "  u'rightpos': 2058,\n",
        "  u'strand': u'+',\n",
        "  u'value': 217.0},\n",
        " {u'_id': ObjectId('535d7b0b4eead3454cc7847b'),\n",
        "  u'data_set_id': 29,\n",
        "  u'leftpos': 2059,\n",
        "  u'rightpos': 2059,\n",
        "  u'strand': u'+',\n",
        "  u'value': 217.0},\n",
        " {u'_id': ObjectId('535d7b564eead34574019972'),\n",
        "  u'data_set_id': 29,\n",
        "  u'leftpos': 2059,\n",
        "  u'rightpos': 2059,\n",
        "  u'strand': u'+',\n",
        "  u'value': 217.0},\n",
        " {u'_id': ObjectId('535d7b0b4eead3454cc7847c'),\n",
        "  u'data_set_id': 29,\n",
        "  u'leftpos': 2060,\n",
        "  u'rightpos': 2060,\n",
        "  u'strand': u'+',\n",
        "  u'value': 217.0},\n",
        " {u'_id': ObjectId('535d7b564eead34574019973'),\n",
        "  u'data_set_id': 29,\n",
        "  u'leftpos': 2060,\n",
        "  u'rightpos': 2060,\n",
        "  u'strand': u'+',\n",
        "  u'value': 217.0},\n",
        " {u'_id': ObjectId('535d7b0b4eead3454cc7847d'),\n",
        "  u'data_set_id': 29,\n",
        "  u'leftpos': 2061,\n",
        "  u'rightpos': 2061,\n",
        "  u'strand': u'+',\n",
        "  u'value': 217.0},\n",
        " {u'_id': ObjectId('535d7b564eead34574019974'),\n",
        "  u'data_set_id': 29,\n",
        "  u'leftpos': 2061,\n",
        "  u'rightpos': 2061,\n",
        "  u'strand': u'+',\n",
        "  u'value': 217.0},\n",
        " {u'_id': ObjectId('535d7b0b4eead3454cc7847e'),\n",
        "  u'data_set_id': 29,\n",
        "  u'leftpos': 2062,\n",
        "  u'rightpos': 2062,\n",
        "  u'strand': u'+',\n",
        "  u'value': 217.0},\n",
        " {u'_id': ObjectId('535d7b564eead34574019975'),\n",
        "  u'data_set_id': 29,\n",
        "  u'leftpos': 2062,\n",
        "  u'rightpos': 2062,\n",
        "  u'strand': u'+',\n",
        "  u'value': 217.0},\n",
        " {u'_id': ObjectId('535d7b0b4eead3454cc7847f'),\n",
        "  u'data_set_id': 29,\n",
        "  u'leftpos': 2063,\n",
        "  u'rightpos': 2063,\n",
        "  u'strand': u'+',\n",
        "  u'value': 217.0},\n",
        " {u'_id': ObjectId('535d7b564eead34574019976'),\n",
        "  u'data_set_id': 29,\n",
        "  u'leftpos': 2063,\n",
        "  u'rightpos': 2063,\n",
        "  u'strand': u'+',\n",
        "  u'value': 217.0},\n",
        " {u'_id': ObjectId('535d7b0b4eead3454cc78480'),\n",
        "  u'data_set_id': 29,\n",
        "  u'leftpos': 2064,\n",
        "  u'rightpos': 2064,\n",
        "  u'strand': u'+',\n",
        "  u'value': 217.0},\n",
        " {u'_id': ObjectId('535d7b564eead34574019977'),\n",
        "  u'data_set_id': 29,\n",
        "  u'leftpos': 2064,\n",
        "  u'rightpos': 2064,\n",
        "  u'strand': u'+',\n",
        "  u'value': 217.0},\n",
        " {u'_id': ObjectId('535d7b0b4eead3454cc78481'),\n",
        "  u'data_set_id': 29,\n",
        "  u'leftpos': 2065,\n",
        "  u'rightpos': 2065,\n",
        "  u'strand': u'+',\n",
        "  u'value': 217.0},\n",
        " {u'_id': ObjectId('535d7b564eead34574019978'),\n",
        "  u'data_set_id': 29,\n",
        "  u'leftpos': 2065,\n",
        "  u'rightpos': 2065,\n",
        "  u'strand': u'+',\n",
        "  u'value': 217.0},\n",
        " {u'_id': ObjectId('535d7b0b4eead3454cc78482'),\n",
        "  u'data_set_id': 29,\n",
        "  u'leftpos': 2066,\n",
        "  u'rightpos': 2066,\n",
        "  u'strand': u'+',\n",
        "  u'value': 217.0},\n",
        " {u'_id': ObjectId('535d7b564eead34574019979'),\n",
        "  u'data_set_id': 29,\n",
        "  u'leftpos': 2066,\n",
        "  u'rightpos': 2066,\n",
        "  u'strand': u'+',\n",
        "  u'value': 217.0},\n",
        " {u'_id': ObjectId('535d7b0b4eead3454cc78483'),\n",
        "  u'data_set_id': 29,\n",
        "  u'leftpos': 2067,\n",
        "  u'rightpos': 2067,\n",
        "  u'strand': u'+',\n",
        "  u'value': 217.0},\n",
        " {u'_id': ObjectId('535d7b564eead3457401997a'),\n",
        "  u'data_set_id': 29,\n",
        "  u'leftpos': 2067,\n",
        "  u'rightpos': 2067,\n",
        "  u'strand': u'+',\n",
        "  u'value': 217.0},\n",
        " {u'_id': ObjectId('535d7b0b4eead3454cc78484'),\n",
        "  u'data_set_id': 29,\n",
        "  u'leftpos': 2937,\n",
        "  u'rightpos': 2937,\n",
        "  u'strand': u'+',\n",
        "  u'value': 68.0},\n",
        " {u'_id': ObjectId('535d7b564eead3457401997b'),\n",
        "  u'data_set_id': 29,\n",
        "  u'leftpos': 2937,\n",
        "  u'rightpos': 2937,\n",
        "  u'strand': u'+',\n",
        "  u'value': 68.0},\n",
        " {u'_id': ObjectId('535d7b0b4eead3454cc78485'),\n",
        "  u'data_set_id': 29,\n",
        "  u'leftpos': 2938,\n",
        "  u'rightpos': 2938,\n",
        "  u'strand': u'+',\n",
        "  u'value': 68.0},\n",
        " {u'_id': ObjectId('535d7b564eead3457401997c'),\n",
        "  u'data_set_id': 29,\n",
        "  u'leftpos': 2938,\n",
        "  u'rightpos': 2938,\n",
        "  u'strand': u'+',\n",
        "  u'value': 68.0},\n",
        " {u'_id': ObjectId('535d7b0b4eead3454cc78486'),\n",
        "  u'data_set_id': 29,\n",
        "  u'leftpos': 2939,\n",
        "  u'rightpos': 2939,\n",
        "  u'strand': u'+',\n",
        "  u'value': 68.0},\n",
        " {u'_id': ObjectId('535d7b564eead3457401997d'),\n",
        "  u'data_set_id': 29,\n",
        "  u'leftpos': 2939,\n",
        "  u'rightpos': 2939,\n",
        "  u'strand': u'+',\n",
        "  u'value': 68.0},\n",
        " {u'_id': ObjectId('535d7b0b4eead3454cc78487'),\n",
        "  u'data_set_id': 29,\n",
        "  u'leftpos': 2940,\n",
        "  u'rightpos': 2940,\n",
        "  u'strand': u'+',\n",
        "  u'value': 68.0},\n",
        " {u'_id': ObjectId('535d7b564eead3457401997e'),\n",
        "  u'data_set_id': 29,\n",
        "  u'leftpos': 2940,\n",
        "  u'rightpos': 2940,\n",
        "  u'strand': u'+',\n",
        "  u'value': 68.0},\n",
        " {u'_id': ObjectId('535d7b0b4eead3454cc78488'),\n",
        "  u'data_set_id': 29,\n",
        "  u'leftpos': 2941,\n",
        "  u'rightpos': 2941,\n",
        "  u'strand': u'+',\n",
        "  u'value': 68.0},\n",
        " {u'_id': ObjectId('535d7b564eead3457401997f'),\n",
        "  u'data_set_id': 29,\n",
        "  u'leftpos': 2941,\n",
        "  u'rightpos': 2941,\n",
        "  u'strand': u'+',\n",
        "  u'value': 68.0},\n",
        " {u'_id': ObjectId('535d7b0b4eead3454cc78489'),\n",
        "  u'data_set_id': 29,\n",
        "  u'leftpos': 2942,\n",
        "  u'rightpos': 2942,\n",
        "  u'strand': u'+',\n",
        "  u'value': 68.0},\n",
        " {u'_id': ObjectId('535d7b564eead34574019980'),\n",
        "  u'data_set_id': 29,\n",
        "  u'leftpos': 2942,\n",
        "  u'rightpos': 2942,\n",
        "  u'strand': u'+',\n",
        "  u'value': 68.0},\n",
        " {u'_id': ObjectId('535d7b0b4eead3454cc7848a'),\n",
        "  u'data_set_id': 29,\n",
        "  u'leftpos': 2943,\n",
        "  u'rightpos': 2943,\n",
        "  u'strand': u'+',\n",
        "  u'value': 68.0},\n",
        " {u'_id': ObjectId('535d7b564eead34574019981'),\n",
        "  u'data_set_id': 29,\n",
        "  u'leftpos': 2943,\n",
        "  u'rightpos': 2943,\n",
        "  u'strand': u'+',\n",
        "  u'value': 68.0},\n",
        " {u'_id': ObjectId('535d7b0b4eead3454cc7848b'),\n",
        "  u'data_set_id': 29,\n",
        "  u'leftpos': 2944,\n",
        "  u'rightpos': 2944,\n",
        "  u'strand': u'+',\n",
        "  u'value': 68.0},\n",
        " {u'_id': ObjectId('535d7b564eead34574019982'),\n",
        "  u'data_set_id': 29,\n",
        "  u'leftpos': 2944,\n",
        "  u'rightpos': 2944,\n",
        "  u'strand': u'+',\n",
        "  u'value': 68.0},\n",
        " {u'_id': ObjectId('535d7b0b4eead3454cc7848c'),\n",
        "  u'data_set_id': 29,\n",
        "  u'leftpos': 2945,\n",
        "  u'rightpos': 2945,\n",
        "  u'strand': u'+',\n",
        "  u'value': 68.0},\n",
        " {u'_id': ObjectId('535d7b564eead34574019983'),\n",
        "  u'data_set_id': 29,\n",
        "  u'leftpos': 2945,\n",
        "  u'rightpos': 2945,\n",
        "  u'strand': u'+',\n",
        "  u'value': 68.0},\n",
        " {u'_id': ObjectId('535d7b0b4eead3454cc7848d'),\n",
        "  u'data_set_id': 29,\n",
        "  u'leftpos': 2946,\n",
        "  u'rightpos': 2946,\n",
        "  u'strand': u'+',\n",
        "  u'value': 68.0},\n",
        " {u'_id': ObjectId('535d7b564eead34574019984'),\n",
        "  u'data_set_id': 29,\n",
        "  u'leftpos': 2946,\n",
        "  u'rightpos': 2946,\n",
        "  u'strand': u'+',\n",
        "  u'value': 68.0},\n",
        " {u'_id': ObjectId('535d7b0b4eead3454cc7848e'),\n",
        "  u'data_set_id': 29,\n",
        "  u'leftpos': 2947,\n",
        "  u'rightpos': 2947,\n",
        "  u'strand': u'+',\n",
        "  u'value': 68.0},\n",
        " {u'_id': ObjectId('535d7b564eead34574019985'),\n",
        "  u'data_set_id': 29,\n",
        "  u'leftpos': 2947,\n",
        "  u'rightpos': 2947,\n",
        "  u'strand': u'+',\n",
        "  u'value': 68.0},\n",
        " {u'_id': ObjectId('535d7b0b4eead3454cc7848f'),\n",
        "  u'data_set_id': 29,\n",
        "  u'leftpos': 2948,\n",
        "  u'rightpos': 2948,\n",
        "  u'strand': u'+',\n",
        "  u'value': 68.0},\n",
        " {u'_id': ObjectId('535d7b564eead34574019986'),\n",
        "  u'data_set_id': 29,\n",
        "  u'leftpos': 2948,\n",
        "  u'rightpos': 2948,\n",
        "  u'strand': u'+',\n",
        "  u'value': 68.0},\n",
        " {u'_id': ObjectId('535d7b0b4eead3454cc78490'),\n",
        "  u'data_set_id': 29,\n",
        "  u'leftpos': 2949,\n",
        "  u'rightpos': 2949,\n",
        "  u'strand': u'+',\n",
        "  u'value': 68.0},\n",
        " {u'_id': ObjectId('535d7b564eead34574019987'),\n",
        "  u'data_set_id': 29,\n",
        "  u'leftpos': 2949,\n",
        "  u'rightpos': 2949,\n",
        "  u'strand': u'+',\n",
        "  u'value': 68.0},\n",
        " {u'_id': ObjectId('535d7b0b4eead3454cc78491'),\n",
        "  u'data_set_id': 29,\n",
        "  u'leftpos': 2950,\n",
        "  u'rightpos': 2950,\n",
        "  u'strand': u'+',\n",
        "  u'value': 68.0},\n",
        " {u'_id': ObjectId('535d7b564eead34574019988'),\n",
        "  u'data_set_id': 29,\n",
        "  u'leftpos': 2950,\n",
        "  u'rightpos': 2950,\n",
        "  u'strand': u'+',\n",
        "  u'value': 68.0},\n",
        " {u'_id': ObjectId('535d7b0b4eead3454cc78492'),\n",
        "  u'data_set_id': 29,\n",
        "  u'leftpos': 2951,\n",
        "  u'rightpos': 2951,\n",
        "  u'strand': u'+',\n",
        "  u'value': 68.0},\n",
        " {u'_id': ObjectId('535d7b564eead34574019989'),\n",
        "  u'data_set_id': 29,\n",
        "  u'leftpos': 2951,\n",
        "  u'rightpos': 2951,\n",
        "  u'strand': u'+',\n",
        "  u'value': 68.0},\n",
        " {u'_id': ObjectId('535d7b0b4eead3454cc78493'),\n",
        "  u'data_set_id': 29,\n",
        "  u'leftpos': 2952,\n",
        "  u'rightpos': 2952,\n",
        "  u'strand': u'+',\n",
        "  u'value': 68.0},\n",
        " {u'_id': ObjectId('535d7b564eead3457401998a'),\n",
        "  u'data_set_id': 29,\n",
        "  u'leftpos': 2952,\n",
        "  u'rightpos': 2952,\n",
        "  u'strand': u'+',\n",
        "  u'value': 68.0},\n",
        " {u'_id': ObjectId('535d7b0b4eead3454cc78494'),\n",
        "  u'data_set_id': 29,\n",
        "  u'leftpos': 2953,\n",
        "  u'rightpos': 2953,\n",
        "  u'strand': u'+',\n",
        "  u'value': 68.0},\n",
        " {u'_id': ObjectId('535d7b564eead3457401998b'),\n",
        "  u'data_set_id': 29,\n",
        "  u'leftpos': 2953,\n",
        "  u'rightpos': 2953,\n",
        "  u'strand': u'+',\n",
        "  u'value': 68.0},\n",
        " {u'_id': ObjectId('535d7b0b4eead3454cc78495'),\n",
        "  u'data_set_id': 29,\n",
        "  u'leftpos': 2954,\n",
        "  u'rightpos': 2954,\n",
        "  u'strand': u'+',\n",
        "  u'value': 68.0},\n",
        " {u'_id': ObjectId('535d7b564eead3457401998c'),\n",
        "  u'data_set_id': 29,\n",
        "  u'leftpos': 2954,\n",
        "  u'rightpos': 2954,\n",
        "  u'strand': u'+',\n",
        "  u'value': 68.0},\n",
        " {u'_id': ObjectId('535d7b0b4eead3454cc78496'),\n",
        "  u'data_set_id': 29,\n",
        "  u'leftpos': 2955,\n",
        "  u'rightpos': 2955,\n",
        "  u'strand': u'+',\n",
        "  u'value': 68.0},\n",
        " {u'_id': ObjectId('535d7b564eead3457401998d'),\n",
        "  u'data_set_id': 29,\n",
        "  u'leftpos': 2955,\n",
        "  u'rightpos': 2955,\n",
        "  u'strand': u'+',\n",
        "  u'value': 68.0},\n",
        " {u'_id': ObjectId('535d7b0b4eead3454cc78497'),\n",
        "  u'data_set_id': 29,\n",
        "  u'leftpos': 2956,\n",
        "  u'rightpos': 2956,\n",
        "  u'strand': u'+',\n",
        "  u'value': 68.0},\n",
        " {u'_id': ObjectId('535d7b564eead3457401998e'),\n",
        "  u'data_set_id': 29,\n",
        "  u'leftpos': 2956,\n",
        "  u'rightpos': 2956,\n",
        "  u'strand': u'+',\n",
        "  u'value': 68.0},\n",
        " {u'_id': ObjectId('535d7b0b4eead3454cc78498'),\n",
        "  u'data_set_id': 29,\n",
        "  u'leftpos': 2957,\n",
        "  u'rightpos': 2957,\n",
        "  u'strand': u'+',\n",
        "  u'value': 69.0},\n",
        " {u'_id': ObjectId('535d7b564eead3457401998f'),\n",
        "  u'data_set_id': 29,\n",
        "  u'leftpos': 2957,\n",
        "  u'rightpos': 2957,\n",
        "  u'strand': u'+',\n",
        "  u'value': 69.0},\n",
        " {u'_id': ObjectId('535d7b0b4eead3454cc78499'),\n",
        "  u'data_set_id': 29,\n",
        "  u'leftpos': 2958,\n",
        "  u'rightpos': 2958,\n",
        "  u'strand': u'+',\n",
        "  u'value': 69.0},\n",
        " {u'_id': ObjectId('535d7b564eead34574019990'),\n",
        "  u'data_set_id': 29,\n",
        "  u'leftpos': 2958,\n",
        "  u'rightpos': 2958,\n",
        "  u'strand': u'+',\n",
        "  u'value': 69.0},\n",
        " {u'_id': ObjectId('535d7b0b4eead3454cc7849a'),\n",
        "  u'data_set_id': 29,\n",
        "  u'leftpos': 2959,\n",
        "  u'rightpos': 2959,\n",
        "  u'strand': u'+',\n",
        "  u'value': 69.0},\n",
        " {u'_id': ObjectId('535d7b564eead34574019991'),\n",
        "  u'data_set_id': 29,\n",
        "  u'leftpos': 2959,\n",
        "  u'rightpos': 2959,\n",
        "  u'strand': u'+',\n",
        "  u'value': 69.0},\n",
        " {u'_id': ObjectId('535d7b0b4eead3454cc7849b'),\n",
        "  u'data_set_id': 29,\n",
        "  u'leftpos': 2960,\n",
        "  u'rightpos': 2960,\n",
        "  u'strand': u'+',\n",
        "  u'value': 69.0},\n",
        " {u'_id': ObjectId('535d7b564eead34574019992'),\n",
        "  u'data_set_id': 29,\n",
        "  u'leftpos': 2960,\n",
        "  u'rightpos': 2960,\n",
        "  u'strand': u'+',\n",
        "  u'value': 69.0},\n",
        " {u'_id': ObjectId('535d7b0b4eead3454cc7849c'),\n",
        "  u'data_set_id': 29,\n",
        "  u'leftpos': 2961,\n",
        "  u'rightpos': 2961,\n",
        "  u'strand': u'+',\n",
        "  u'value': 69.0},\n",
        " {u'_id': ObjectId('535d7b564eead34574019993'),\n",
        "  u'data_set_id': 29,\n",
        "  u'leftpos': 2961,\n",
        "  u'rightpos': 2961,\n",
        "  u'strand': u'+',\n",
        "  u'value': 69.0},\n",
        " {u'_id': ObjectId('535d7b0b4eead3454cc7849d'),\n",
        "  u'data_set_id': 29,\n",
        "  u'leftpos': 2962,\n",
        "  u'rightpos': 2962,\n",
        "  u'strand': u'+',\n",
        "  u'value': 69.0},\n",
        " {u'_id': ObjectId('535d7b564eead34574019994'),\n",
        "  u'data_set_id': 29,\n",
        "  u'leftpos': 2962,\n",
        "  u'rightpos': 2962,\n",
        "  u'strand': u'+',\n",
        "  u'value': 69.0},\n",
        " {u'_id': ObjectId('535d7b0b4eead3454cc7849e'),\n",
        "  u'data_set_id': 29,\n",
        "  u'leftpos': 2963,\n",
        "  u'rightpos': 2963,\n",
        "  u'strand': u'+',\n",
        "  u'value': 69.0},\n",
        " {u'_id': ObjectId('535d7b564eead34574019995'),\n",
        "  u'data_set_id': 29,\n",
        "  u'leftpos': 2963,\n",
        "  u'rightpos': 2963,\n",
        "  u'strand': u'+',\n",
        "  u'value': 69.0},\n",
        " {u'_id': ObjectId('535d7b0b4eead3454cc7849f'),\n",
        "  u'data_set_id': 29,\n",
        "  u'leftpos': 2964,\n",
        "  u'rightpos': 2964,\n",
        "  u'strand': u'+',\n",
        "  u'value': 69.0},\n",
        " {u'_id': ObjectId('535d7b564eead34574019996'),\n",
        "  u'data_set_id': 29,\n",
        "  u'leftpos': 2964,\n",
        "  u'rightpos': 2964,\n",
        "  u'strand': u'+',\n",
        "  u'value': 69.0},\n",
        " {u'_id': ObjectId('535d7b0b4eead3454cc784a0'),\n",
        "  u'data_set_id': 29,\n",
        "  u'leftpos': 2965,\n",
        "  u'rightpos': 2965,\n",
        "  u'strand': u'+',\n",
        "  u'value': 69.0},\n",
        " {u'_id': ObjectId('535d7b564eead34574019997'),\n",
        "  u'data_set_id': 29,\n",
        "  u'leftpos': 2965,\n",
        "  u'rightpos': 2965,\n",
        "  u'strand': u'+',\n",
        "  u'value': 69.0},\n",
        " {u'_id': ObjectId('535d7b0b4eead3454cc784a1'),\n",
        "  u'data_set_id': 29,\n",
        "  u'leftpos': 2966,\n",
        "  u'rightpos': 2966,\n",
        "  u'strand': u'+',\n",
        "  u'value': 69.0},\n",
        " {u'_id': ObjectId('535d7b564eead34574019998'),\n",
        "  u'data_set_id': 29,\n",
        "  u'leftpos': 2966,\n",
        "  u'rightpos': 2966,\n",
        "  u'strand': u'+',\n",
        "  u'value': 69.0},\n",
        " {u'_id': ObjectId('535d7b0b4eead3454cc784a2'),\n",
        "  u'data_set_id': 29,\n",
        "  u'leftpos': 2967,\n",
        "  u'rightpos': 2967,\n",
        "  u'strand': u'+',\n",
        "  u'value': 69.0},\n",
        " {u'_id': ObjectId('535d7b564eead34574019999'),\n",
        "  u'data_set_id': 29,\n",
        "  u'leftpos': 2967,\n",
        "  u'rightpos': 2967,\n",
        "  u'strand': u'+',\n",
        "  u'value': 69.0}]"
       ]
      }
     ],
     "prompt_number": 4
    },
    {
     "cell_type": "code",
     "collapsed": false,
     "input": [],
     "language": "python",
     "metadata": {},
     "outputs": []
    }
   ],
   "metadata": {}
  }
 ]
}