{
 "metadata": {
  "name": "",
  "signature": "sha256:41b9b1fd5f59130a4aeacf59b6d1007b3835947faf9777689e51afd0c6a81b27"
 },
 "nbformat": 3,
 "nbformat_minor": 0,
 "worksheets": [
  {
   "cells": [
    {
     "cell_type": "code",
     "collapsed": false,
     "input": [
      "from om import base, settings\n",
      "from om.data import *\n",
      "from om.components import *\n",
      "\n",
      "from IPython.display import HTML\n",
      "from matplotlib import pylab as plt\n",
      "from math import log\n",
      "from itertools import combinations\n",
      "import pandas as pd\n",
      "\n",
      "ome = base.Session()\n",
      "genome_data = omics_database.genome_data\n",
      "%matplotlib inline"
     ],
     "language": "python",
     "metadata": {},
     "outputs": [],
     "prompt_number": 1
    },
    {
     "cell_type": "code",
     "collapsed": false,
     "input": [
      "experiment_conditions = {}\n",
      "for experiment in experiments:\n",
      "    experiment_conditions[(experiment.strain, experiment.environment)] = experiment.id\n",
      "for c in combinations(experiment_conditions.keys(), 2):\n",
      "    e1, e2 = sorted(c, key=str)\n",
      "    s1, c1 = e1\n",
      "    s2, c2 = e2\n",
      "    if s1 == s2:  # if the strains are the same\n",
      "       # single shift only\n",
      "        differences = (c1.carbon_source != c2.carbon_source) + \\\n",
      "                      (c1.nitrogen_source != c2.nitrogen_source) + \\\n",
      "                      (c1.electron_acceptor != c2.electron_acceptor)\n",
      "        if differences != 1:\n",
      "            continue\n",
      "    else:  # if the strains are different\n",
      "        if not (s1.name == \"wt\" or s2.name == \"wt\"):\n",
      "            continue\n",
      "        if c1 != c2:  # make sure the conditions are the same\n",
      "            continue\n",
      "    exp_id_1 = experiment_conditions[(s1, c1)]\n",
      "    exp_id_2 = experiment_conditions[(s2, c2)]\n",
      "    print ome.query(NormalizedExpression).filter_by(id=exp_id_1).one()\n",
      "    print ome.query(NormalizedExpression).filter_by(id=exp_id_2).one()\n",
      "    print"
     ],
     "language": "python",
     "metadata": {},
     "outputs": [
      {
       "output_type": "stream",
       "stream": "stdout",
       "text": [
        "Expression Data (#282):  RNAseq_delAr1_glycerol_NH4Cl_O2\n",
        "Expression Data (#284):  RNAseq_wt_glycerol_NH4Cl_O2\n",
        "\n",
        "Expression Data (#285):  RNAseq_delAr1delAr2_glycerol_NH4Cl_O2\n",
        "Expression Data (#284):  RNAseq_wt_glycerol_NH4Cl_O2\n",
        "\n",
        "Expression Data (#281):  RNAseq_delAr2_glycerol_NH4Cl_O2\n",
        "Expression Data (#284):  RNAseq_wt_glycerol_NH4Cl_O2\n",
        "\n",
        "Expression Data (#288):  RNAseq_wt_glucose_NH4Cl_O2\n",
        "Expression Data (#284):  RNAseq_wt_glycerol_NH4Cl_O2\n",
        "\n",
        "Expression Data (#286):  RNAseq_Ar3_glycerol_NH4Cl_O2\n",
        "Expression Data (#284):  RNAseq_wt_glycerol_NH4Cl_O2\n",
        "\n",
        "Expression Data (#283):  RNAseq_delta-crp_glycerol_NH4Cl_O2\n",
        "Expression Data (#284):  RNAseq_wt_glycerol_NH4Cl_O2\n",
        "\n",
        "Expression Data (#287):  RNAseq_wt_fructose_NH4Cl_O2\n",
        "Expression Data (#284):  RNAseq_wt_glycerol_NH4Cl_O2\n",
        "\n",
        "Expression Data (#287):  RNAseq_wt_fructose_NH4Cl_O2\n",
        "Expression Data (#288):  RNAseq_wt_glucose_NH4Cl_O2\n",
        "\n",
        "Expression Data (#280):  RNAseq_delta-crp_glucose_NH4Cl_O2\n",
        "Expression Data (#288):  RNAseq_wt_glucose_NH4Cl_O2\n",
        "\n",
        "Expression Data (#279):  RNAseq_delta-crp_fructose_NH4Cl_O2\n",
        "Expression Data (#283):  RNAseq_delta-crp_glycerol_NH4Cl_O2\n",
        "\n",
        "Expression Data (#279):  RNAseq_delta-crp_fructose_NH4Cl_O2\n",
        "Expression Data (#287):  RNAseq_wt_fructose_NH4Cl_O2\n",
        "\n",
        "Expression Data (#279):  RNAseq_delta-crp_fructose_NH4Cl_O2\n",
        "Expression Data (#280):  RNAseq_delta-crp_glucose_NH4Cl_O2\n",
        "\n",
        "Expression Data (#280):  RNAseq_delta-crp_glucose_NH4Cl_O2\n",
        "Expression Data (#283):  RNAseq_delta-crp_glycerol_NH4Cl_O2\n",
        "\n"
       ]
      }
     ],
     "prompt_number": 15
    },
    {
     "cell_type": "code",
     "collapsed": false,
     "input": [
      "e1"
     ],
     "language": "python",
     "metadata": {},
     "outputs": [
      {
       "metadata": {},
       "output_type": "pyout",
       "prompt_number": 8,
       "text": [
        "(Strain: delta-crp, Environment: C:glucose, N:NH4Cl, e:O2 )"
       ]
      }
     ],
     "prompt_number": 8
    },
    {
     "cell_type": "code",
     "collapsed": false,
     "input": [
      "e2"
     ],
     "language": "python",
     "metadata": {},
     "outputs": [
      {
       "metadata": {},
       "output_type": "pyout",
       "prompt_number": 9,
       "text": [
        "(Strain: wt, Environment: C:fructose, N:NH4Cl, e:O2 )"
       ]
      }
     ],
     "prompt_number": 9
    },
    {
     "cell_type": "code",
     "collapsed": false,
     "input": [
      "experiments = ome.query(NormalizedExpression).join(AnalysisComposition, NormalizedExpression.id == AnalysisComposition.analysis_id).\\\n",
      "                                join(RNASeqExperiment, RNASeqExperiment.id == AnalysisComposition.data_set_id).all()"
     ],
     "language": "python",
     "metadata": {},
     "outputs": [],
     "prompt_number": 2
    },
    {
     "cell_type": "code",
     "collapsed": false,
     "input": [
      "ome.query(func.array_agg(RNASeqExperiment.name),func.array_agg(RNASeqExperiment.file_name)).\\\n",
      "                                          filter(RNASeqExperiment.normalization_factor == 1.).\\\n",
      "                                          group_by(RNASeqExperiment.strain_id, RNASeqExperiment.environment_id,\\\n",
      "                                          RNASeqExperiment.machine_id,RNASeqExperiment.sequencing_type).all()"
     ],
     "language": "python",
     "metadata": {},
     "outputs": [
      {
       "metadata": {},
       "output_type": "pyout",
       "prompt_number": 6,
       "text": [
        "[(['RNAseq_delta-crp_fructose_NH4Cl_O2_1_1.0',\n",
        "   'RNAseq_delta-crp_fructose_NH4Cl_O2_2_1.0',\n",
        "   'RNAseq_delta-crp_fructose_NH4Cl_O2_3_1.0'],\n",
        "  ['RNAseq_delta-crp_fructose_NH4Cl_O2_1.sorted.bam',\n",
        "   'RNAseq_delta-crp_fructose_NH4Cl_O2_2.sorted.bam',\n",
        "   'RNAseq_delta-crp_fructose_NH4Cl_O2_3.sorted.bam']),\n",
        " (['RNAseq_delAr1_glycerol_NH4Cl_O2_1_1.0',\n",
        "   'RNAseq_delAr1_glycerol_NH4Cl_O2_2_1.0',\n",
        "   'RNAseq_delAr1_glycerol_NH4Cl_O2_3_1.0'],\n",
        "  ['RNAseq_delAr1_glycerol_NH4Cl_O2_1.sorted.bam',\n",
        "   'RNAseq_delAr1_glycerol_NH4Cl_O2_2.sorted.bam',\n",
        "   'RNAseq_delAr1_glycerol_NH4Cl_O2_3.sorted.bam']),\n",
        " (['RNAseq_delta-crp_glycerol_NH4Cl_O2_1_1.0',\n",
        "   'RNAseq_delta-crp_glycerol_NH4Cl_O2_2_1.0',\n",
        "   'RNAseq_delta-crp_glycerol_NH4Cl_O2_3_1.0'],\n",
        "  ['RNAseq_delta-crp_glycerol_NH4Cl_O2_1.sorted.bam',\n",
        "   'RNAseq_delta-crp_glycerol_NH4Cl_O2_2.sorted.bam',\n",
        "   'RNAseq_delta-crp_glycerol_NH4Cl_O2_3.sorted.bam']),\n",
        " (['RNAseq_Ar3_glycerol_NH4Cl_O2_1_1.0',\n",
        "   'RNAseq_Ar3_glycerol_NH4Cl_O2_2_1.0',\n",
        "   'RNAseq_Ar3_glycerol_NH4Cl_O2_3_1.0'],\n",
        "  ['RNAseq_Ar3_glycerol_NH4Cl_O2_1.sorted.bam',\n",
        "   'RNAseq_Ar3_glycerol_NH4Cl_O2_2.sorted.bam',\n",
        "   'RNAseq_Ar3_glycerol_NH4Cl_O2_3.sorted.bam']),\n",
        " (['RNAseq_wt_glucose_NH4Cl_O2_1_1.0',\n",
        "   'RNAseq_wt_glucose_NH4Cl_O2_2_1.0',\n",
        "   'RNAseq_wt_glucose_NH4Cl_O2_3_1.0'],\n",
        "  ['RNAseq_wt_glucose_NH4Cl_O2_1.bam',\n",
        "   'RNAseq_wt_glucose_NH4Cl_O2_2.bam',\n",
        "   'RNAseq_wt_glucose_NH4Cl_O2_3.bam']),\n",
        " (['RNAseq_delta-crp_glucose_NH4Cl_O2_1_1.0',\n",
        "   'RNAseq_delta-crp_glucose_NH4Cl_O2_2_1.0',\n",
        "   'RNAseq_delta-crp_glucose_NH4Cl_O2_3_1.0'],\n",
        "  ['RNAseq_delta-crp_glucose_NH4Cl_O2_1.sorted.bam',\n",
        "   'RNAseq_delta-crp_glucose_NH4Cl_O2_2.sorted.bam',\n",
        "   'RNAseq_delta-crp_glucose_NH4Cl_O2_3.sorted.bam']),\n",
        " (['RNAseq_wt_fructose_NH4Cl_O2_1_1.0', 'RNAseq_wt_fructose_NH4Cl_O2_2_1.0'],\n",
        "  ['RNAseq_wt_fructose_NH4Cl_O2_1.sorted.bam',\n",
        "   'RNAseq_wt_fructose_NH4Cl_O2_2.sorted.bam']),\n",
        " (['RNAseq_delAr2_glycerol_NH4Cl_O2_1_1.0',\n",
        "   'RNAseq_delAr2_glycerol_NH4Cl_O2_2_1.0',\n",
        "   'RNAseq_delAr2_glycerol_NH4Cl_O2_3_1.0'],\n",
        "  ['RNAseq_delAr2_glycerol_NH4Cl_O2_1.sorted.bam',\n",
        "   'RNAseq_delAr2_glycerol_NH4Cl_O2_2.sorted.bam',\n",
        "   'RNAseq_delAr2_glycerol_NH4Cl_O2_3.sorted.bam']),\n",
        " (['RNAseq_wt_glycerol_NH4Cl_O2_1_1.0', 'RNAseq_wt_glycerol_NH4Cl_O2_2_1.0'],\n",
        "  ['RNAseq_wt_glycerol_NH4Cl_O2_1.sorted.bam',\n",
        "   'RNAseq_wt_glycerol_NH4Cl_O2_2.sorted.bam']),\n",
        " (['RNAseq_delAr1delAr2_glycerol_NH4Cl_O2_1_1.0',\n",
        "   'RNAseq_delAr1delAr2_glycerol_NH4Cl_O2_2_1.0',\n",
        "   'RNAseq_delAr1delAr2_glycerol_NH4Cl_O2_3_1.0'],\n",
        "  ['RNAseq_delAr1delAr2_glycerol_NH4Cl_O2_1.sorted.bam',\n",
        "   'RNAseq_delAr1delAr2_glycerol_NH4Cl_O2_2.sorted.bam',\n",
        "   'RNAseq_delAr1delAr2_glycerol_NH4Cl_O2_3.sorted.bam'])]"
       ]
      }
     ],
     "prompt_number": 6
    },
    {
     "cell_type": "code",
     "collapsed": false,
     "input": [],
     "language": "python",
     "metadata": {},
     "outputs": []
    }
   ],
   "metadata": {}
  }
 ]
}