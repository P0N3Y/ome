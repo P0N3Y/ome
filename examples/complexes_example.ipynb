{
 "metadata": {
  "name": "",
  "signature": "sha256:b00e7c8c3c7d290dfca53200bc72942ae3c7317b94189cc2f37b6ec77b6e5331"
 },
 "nbformat": 3,
 "nbformat_minor": 0,
 "worksheets": [
  {
   "cells": [
    {
     "cell_type": "code",
     "collapsed": false,
     "input": [
      "from ome import base\n",
      "from ome.components import *\n",
      "\n",
      "ome = base.Session()"
     ],
     "language": "python",
     "metadata": {},
     "outputs": [],
     "prompt_number": 3
    },
    {
     "cell_type": "raw",
     "metadata": {},
     "source": [
      "G --+---> H\n",
      "    +---> F --+--> D\n",
      "    |         +--> E\n",
      "    +---> C --+--> A\n",
      "              +--> B --+--> I\n",
      "                       +--> J\n",
      "\n",
      "A + B = C\n",
      "D + E = F\n",
      "H + F + C = G\n",
      "I + J = B"
     ]
    },
    {
     "cell_type": "code",
     "collapsed": false,
     "input": [
      "G = ome.get_or_create(Complex, name='G')\n",
      "H = ome.get_or_create(Complex, name='H')\n",
      "F = ome.get_or_create(Complex, name='F')\n",
      "C = ome.get_or_create(Complex, name='C')\n",
      "\n",
      "ome.get_or_create(ComplexComposition, complex_id=G.id, component_id=H.id, stoichiometry=1.)\n",
      "ome.get_or_create(ComplexComposition, complex_id=G.id, component_id=F.id, stoichiometry=1.)\n",
      "ome.get_or_create(ComplexComposition, complex_id=G.id, component_id=C.id, stoichiometry=1.)\n",
      "\n",
      "D = ome.get_or_create(Protein, name='D')\n",
      "E = ome.get_or_create(Protein, name='E')\n",
      "\n",
      "ome.get_or_create(ComplexComposition, complex_id=F.id, component_id=D.id, stoichiometry=1.)\n",
      "ome.get_or_create(ComplexComposition, complex_id=F.id, component_id=E.id, stoichiometry=1.)\n",
      "\n",
      "A = ome.get_or_create(Protein, name='A')\n",
      "B = ome.get_or_create(Complex, name='B')\n",
      "\n",
      "ome.get_or_create(ComplexComposition, complex_id=C.id, component_id=A.id, stoichiometry=1.)\n",
      "ome.get_or_create(ComplexComposition, complex_id=C.id, component_id=B.id, stoichiometry=1.)\n",
      "\n",
      "I = ome.get_or_create(Protein, name='I')\n",
      "J = ome.get_or_create(Protein, name='J')\n",
      "\n",
      "ome.get_or_create(ComplexComposition, complex_id=B.id, component_id=I.id, stoichiometry=1.)\n",
      "ome.get_or_create(ComplexComposition, complex_id=B.id, component_id=J.id, stoichiometry=1.)"
     ],
     "language": "python",
     "metadata": {},
     "outputs": [
      {
       "metadata": {},
       "output_type": "pyout",
       "prompt_number": 4,
       "text": [
        "<ome.components.ComplexComposition at 0x105ec83d0>"
       ]
      }
     ],
     "prompt_number": 4
    },
    {
     "cell_type": "code",
     "collapsed": false,
     "input": [
      "C.children"
     ],
     "language": "python",
     "metadata": {},
     "outputs": [
      {
       "metadata": {},
       "output_type": "pyout",
       "prompt_number": 6,
       "text": [
        "[Protein (#106732, None), Complex (#106733):  None]"
       ]
      }
     ],
     "prompt_number": 6
    },
    {
     "cell_type": "code",
     "collapsed": false,
     "input": [
      "C.all_children"
     ],
     "language": "python",
     "metadata": {},
     "outputs": [
      {
       "metadata": {},
       "output_type": "pyout",
       "prompt_number": 5,
       "text": [
        "[Protein (#106732, None),\n",
        " Complex (#106733):  None,\n",
        " Protein (#106734, None),\n",
        " Protein (#106735, None)]"
       ]
      }
     ],
     "prompt_number": 5
    },
    {
     "cell_type": "code",
     "collapsed": false,
     "input": [
      "C.parent"
     ],
     "language": "python",
     "metadata": {},
     "outputs": [
      {
       "metadata": {},
       "output_type": "pyout",
       "prompt_number": 7,
       "text": [
        "[Complex (#106726):  None]"
       ]
      }
     ],
     "prompt_number": 7
    },
    {
     "cell_type": "code",
     "collapsed": false,
     "input": [],
     "language": "python",
     "metadata": {},
     "outputs": []
    }
   ],
   "metadata": {}
  }
 ]
}