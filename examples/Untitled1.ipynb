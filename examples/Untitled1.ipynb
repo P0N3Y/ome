{
 "metadata": {
  "name": "",
  "signature": "sha256:574a523a2e7e60620429854cea048914299d5bc9f53a35e9984db5a6630c8051"
 },
 "nbformat": 3,
 "nbformat_minor": 0,
 "worksheets": [
  {
   "cells": [
    {
     "cell_type": "code",
     "collapsed": false,
     "input": [
      "%%html\n",
      "\n",
      "<div id=\"d3-example\"></div>"
     ],
     "language": "python",
     "metadata": {},
     "outputs": [
      {
       "html": [
        "\n",
        "<div id=\"d3-example\"></div>"
       ],
       "metadata": {},
       "output_type": "display_data",
       "text": [
        "<IPython.core.display.HTML at 0x10c35da50>"
       ]
      }
     ],
     "prompt_number": 1
    },
    {
     "cell_type": "code",
     "collapsed": false,
     "input": [
      "%%javascript\n",
      "\n",
      "require.config({paths: {d3: \"https://brassica.ucsd.edu:4443/d3.min\", venn: \"https://brassica.ucsd.edu:4443/venn\"}});\n",
      "\n",
      "require([\"d3\",\"venn\"], function(d3, venn) {\n",
      "    \n",
      "    console.log(d3.version);\n",
      "    window.d3 = d3;\n",
      "    \n",
      "    window.circleIntersection = venn.circleIntersection();\n",
      "    \n",
      "    var sets = [{label: \"A\", size: 10}, {label: \"B\", size: 10}],\n",
      "    overlaps = [{sets: [0,1], size: 2}];\n",
      "\n",
      "    console.log(overlaps);\n",
      "    // get positions for each set\n",
      "    sets = venn.venn().venn(sets, overlaps);\n",
      "    //window.venn = venn.venn();\n",
      "    //console.log(sets);\n",
      "    // draw the diagram in the 'simple_example' div\n",
      "    venn.venn().drawD3Diagram(d3.select(\"#d3-example\"), sets, 300, 300);\n",
      "    \n",
      "});\n"
     ],
     "language": "python",
     "metadata": {},
     "outputs": [
      {
       "javascript": [
        "\n",
        "require.config({paths: {d3: \"https://brassica.ucsd.edu:4443/d3.min\", venn: \"https://brassica.ucsd.edu:4443/venn\"}});\n",
        "\n",
        "require([\"d3\",\"venn\"], function(d3, venn) {\n",
        "    \n",
        "    console.log(d3.version);\n",
        "    window.d3 = d3;\n",
        "    \n",
        "    window.circleIntersection = venn.circleIntersection();\n",
        "    \n",
        "    var sets = [{label: \"A\", size: 10}, {label: \"B\", size: 10}],\n",
        "    overlaps = [{sets: [0,1], size: 2}];\n",
        "\n",
        "    console.log(overlaps);\n",
        "    // get positions for each set\n",
        "    sets = venn.venn().venn(sets, overlaps);\n",
        "    //window.venn = venn.venn();\n",
        "    //console.log(sets);\n",
        "    // draw the diagram in the 'simple_example' div\n",
        "    venn.venn().drawD3Diagram(d3.select(\"#d3-example\"), sets, 300, 300);\n",
        "    \n",
        "});"
       ],
       "metadata": {},
       "output_type": "display_data",
       "text": [
        "<IPython.core.display.Javascript at 0x10c343a10>"
       ]
      }
     ],
     "prompt_number": 2
    },
    {
     "cell_type": "code",
     "collapsed": false,
     "input": [],
     "language": "python",
     "metadata": {},
     "outputs": [],
     "prompt_number": 2
    },
    {
     "cell_type": "code",
     "collapsed": false,
     "input": [
      "from IPython.display import HTML"
     ],
     "language": "python",
     "metadata": {},
     "outputs": [],
     "prompt_number": 3
    },
    {
     "cell_type": "code",
     "collapsed": false,
     "input": [],
     "language": "python",
     "metadata": {},
     "outputs": []
    }
   ],
   "metadata": {}
  }
 ]
}