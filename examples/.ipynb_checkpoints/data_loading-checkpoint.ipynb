{
 "metadata": {
  "name": "",
  "signature": "sha256:2f9da2dd53413a6236ac158480f9bd672df152710e653a736565c0dc2bd19ed4"
 },
 "nbformat": 3,
 "nbformat_minor": 0,
 "worksheets": [
  {
   "cells": [
    {
     "cell_type": "markdown",
     "metadata": {},
     "source": [
      "***\n",
      "##This notebook demonstrates loading and unloading of datasets into the OME Framework\n",
      "***"
     ]
    },
    {
     "cell_type": "markdown",
     "metadata": {},
     "source": [
      "1. Import the **data_loading** module from **ome.loading** along with the **datasets** module"
     ]
    },
    {
     "cell_type": "code",
     "collapsed": false,
     "input": [
      "from ome.loading import data_loading\n",
      "from ome.data import *"
     ],
     "language": "python",
     "metadata": {},
     "outputs": [],
     "prompt_number": 1
    },
    {
     "cell_type": "markdown",
     "metadata": {},
     "source": [
      "Also don't forget to create a session for the database"
     ]
    },
    {
     "cell_type": "code",
     "collapsed": false,
     "input": [
      "from ome import base\n",
      "\n",
      "session = base.Session()"
     ],
     "language": "python",
     "metadata": {},
     "outputs": [],
     "prompt_number": 2
    },
    {
     "cell_type": "code",
     "collapsed": false,
     "input": [
      "data_loading.load_extra_analyses"
     ],
     "language": "python",
     "metadata": {},
     "outputs": [
      {
       "metadata": {},
       "output_type": "pyout",
       "prompt_number": 3,
       "text": [
        "<function ome.wrapper>"
       ]
      }
     ],
     "prompt_number": 3
    },
    {
     "cell_type": "code",
     "collapsed": false,
     "input": [],
     "language": "python",
     "metadata": {},
     "outputs": []
    }
   ],
   "metadata": {}
  }
 ]
}