{
 "metadata": {
  "name": "",
  "signature": "sha256:d397d847423eab389c725f0e3ff55b7fed19e48f7ae929c86e080f48929510e4"
 },
 "nbformat": 3,
 "nbformat_minor": 0,
 "worksheets": [
  {
   "cells": [
    {
     "cell_type": "code",
     "collapsed": false,
     "input": [
      "from om import base, settings\n",
      "from om.util import *\n",
      "\n",
      "import pandas as pd\n",
      "import cobra\n",
      "\n",
      "ome = base.Session()\n",
      "model = cobra.io.read_sbml_model('/Users/dbuser/Dropbox/om_data/annotation/iJO1366.xml')"
     ],
     "language": "python",
     "metadata": {},
     "outputs": [],
     "prompt_number": 4
    },
    {
     "cell_type": "code",
     "collapsed": false,
     "input": [
      "get_regulation_data(model.reactions.GAPD.id, expanded_dataset=True)"
     ],
     "language": "python",
     "metadata": {},
     "outputs": [
      {
       "metadata": {},
       "output_type": "pyout",
       "prompt_number": 9,
       "text": [
        "[{'carbon_source': u'glycerol',\n",
        "  'dataset': 348,\n",
        "  'electron_acceptor': u'O2',\n",
        "  'gene': u'gapA',\n",
        "  'nitrogen_source': u'NH4Cl',\n",
        "  'regulator': u'Crp',\n",
        "  'type': 'transcriptional',\n",
        "  'value': -0.597566}]"
       ]
      }
     ],
     "prompt_number": 9
    },
    {
     "cell_type": "code",
     "collapsed": false,
     "input": [
      "pd.DataFrame(get_regulation_data(model.reactions.GAPD.id, expanded_dataset=True))"
     ],
     "language": "python",
     "metadata": {},
     "outputs": [
      {
       "html": [
        "<div style=\"max-height:1000px;max-width:1500px;overflow:auto;\">\n",
        "<table border=\"1\" class=\"dataframe\">\n",
        "  <thead>\n",
        "    <tr style=\"text-align: right;\">\n",
        "      <th></th>\n",
        "      <th>carbon_source</th>\n",
        "      <th>dataset</th>\n",
        "      <th>electron_acceptor</th>\n",
        "      <th>gene</th>\n",
        "      <th>nitrogen_source</th>\n",
        "      <th>regulator</th>\n",
        "      <th>type</th>\n",
        "      <th>value</th>\n",
        "    </tr>\n",
        "  </thead>\n",
        "  <tbody>\n",
        "    <tr>\n",
        "      <th>0</th>\n",
        "      <td> glycerol</td>\n",
        "      <td> 348</td>\n",
        "      <td> O2</td>\n",
        "      <td> gapA</td>\n",
        "      <td> NH4Cl</td>\n",
        "      <td> Crp</td>\n",
        "      <td> transcriptional</td>\n",
        "      <td>-0.597566</td>\n",
        "    </tr>\n",
        "  </tbody>\n",
        "</table>\n",
        "</div>"
       ],
       "metadata": {},
       "output_type": "pyout",
       "prompt_number": 10,
       "text": [
        "  carbon_source  dataset electron_acceptor  gene nitrogen_source regulator  \\\n",
        "0      glycerol      348                O2  gapA           NH4Cl       Crp   \n",
        "\n",
        "              type     value  \n",
        "0  transcriptional -0.597566  "
       ]
      }
     ],
     "prompt_number": 10
    },
    {
     "cell_type": "code",
     "collapsed": false,
     "input": [],
     "language": "python",
     "metadata": {},
     "outputs": []
    }
   ],
   "metadata": {}
  }
 ]
}