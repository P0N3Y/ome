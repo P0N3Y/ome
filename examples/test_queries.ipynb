{
 "metadata": {
  "name": "",
  "signature": "sha256:89541e2de646a7348d19535b95d97cde345ac6284cb4c1214805839e89cd6d5c"
 },
 "nbformat": 3,
 "nbformat_minor": 0,
 "worksheets": [
  {
   "cells": [
    {
     "cell_type": "code",
     "collapsed": false,
     "input": [
      "from ome import base, settings\n",
      "from ome.data import *\n",
      "from ome.components import *\n",
      "from ome.model import *\n",
      "\n",
      "session = base.Session()"
     ],
     "language": "python",
     "metadata": {},
     "outputs": [],
     "prompt_number": 5
    },
    {
     "cell_type": "code",
     "collapsed": false,
     "input": [
      "session.query(Model).all()"
     ],
     "language": "python",
     "metadata": {},
     "outputs": [
      {
       "metadata": {},
       "output_type": "pyout",
       "prompt_number": 6,
       "text": [
        "[<ome.model.Model at 0x1124f5cd0>,\n",
        " <ome.model.Model at 0x1124f5e90>,\n",
        " <ome.model.Model at 0x1124f5f10>,\n",
        " <ome.model.Model at 0x1124f5f90>,\n",
        " <ome.model.Model at 0x11251b050>,\n",
        " <ome.model.Model at 0x11251b0d0>]"
       ]
      }
     ],
     "prompt_number": 6
    },
    {
     "cell_type": "code",
     "collapsed": false,
     "input": [],
     "language": "python",
     "metadata": {},
     "outputs": []
    }
   ],
   "metadata": {}
  }
 ]
}