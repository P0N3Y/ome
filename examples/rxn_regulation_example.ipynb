{
 "metadata": {
  "name": "",
  "signature": "sha256:1a360bfa4bfe6f07cfe403321c119c91cfe5f23e4c86647698868a3e87efcb2c"
 },
 "nbformat": 3,
 "nbformat_minor": 0,
 "worksheets": [
  {
   "cells": [
    {
     "cell_type": "code",
     "collapsed": false,
     "input": [
      "from om import base, settings\n",
      "from om.util import *\n",
      "\n",
      "import pandas as pd\n",
      "import cobra\n",
      "\n",
      "ome = base.Session()\n",
      "model = cobra.io.read_sbml_model('/Users/dbuser/Dropbox/om_data/annotation/iJO1366.xml')"
     ],
     "language": "python",
     "metadata": {},
     "outputs": [
      {
       "output_type": "stream",
       "stream": "stderr",
       "text": [
        "cobra/io/__init__.py:17 \u001b[1;31mUserWarning\u001b[0m: cobra.io.sbml requires libsbml\n"
       ]
      },
      {
       "ename": "AttributeError",
       "evalue": "'module' object has no attribute 'read_sbml_model'",
       "output_type": "pyerr",
       "traceback": [
        "\u001b[0;31m---------------------------------------------------------------------------\u001b[0m\n\u001b[0;31mAttributeError\u001b[0m                            Traceback (most recent call last)",
        "\u001b[0;32m<ipython-input-1-0accedd4b1f3>\u001b[0m in \u001b[0;36m<module>\u001b[0;34m()\u001b[0m\n\u001b[1;32m      1\u001b[0m \u001b[0;32mfrom\u001b[0m \u001b[0mom\u001b[0m \u001b[0;32mimport\u001b[0m \u001b[0mbase\u001b[0m\u001b[0;34m,\u001b[0m \u001b[0msettings\u001b[0m\u001b[0;34m\u001b[0m\u001b[0m\n\u001b[0;32m----> 2\u001b[0;31m \u001b[0;32mfrom\u001b[0m \u001b[0mom\u001b[0m\u001b[0;34m.\u001b[0m\u001b[0mutil\u001b[0m \u001b[0;32mimport\u001b[0m \u001b[0;34m*\u001b[0m\u001b[0;34m\u001b[0m\u001b[0m\n\u001b[0m\u001b[1;32m      3\u001b[0m \u001b[0;34m\u001b[0m\u001b[0m\n\u001b[1;32m      4\u001b[0m \u001b[0;32mimport\u001b[0m \u001b[0mpandas\u001b[0m \u001b[0;32mas\u001b[0m \u001b[0mpd\u001b[0m\u001b[0;34m\u001b[0m\u001b[0m\n\u001b[1;32m      5\u001b[0m \u001b[0;32mimport\u001b[0m \u001b[0mcobra\u001b[0m\u001b[0;34m\u001b[0m\u001b[0m\n",
        "\u001b[0;32m/Users/sfederow/ome/om/om/util.py\u001b[0m in \u001b[0;36m<module>\u001b[0;34m()\u001b[0m\n\u001b[1;32m      9\u001b[0m \u001b[0;34m\u001b[0m\u001b[0m\n\u001b[1;32m     10\u001b[0m \u001b[0;34m\u001b[0m\u001b[0m\n\u001b[0;32m---> 11\u001b[0;31m \u001b[0mmodel\u001b[0m \u001b[0;34m=\u001b[0m \u001b[0mcobra\u001b[0m\u001b[0;34m.\u001b[0m\u001b[0mio\u001b[0m\u001b[0;34m.\u001b[0m\u001b[0mread_sbml_model\u001b[0m\u001b[0;34m(\u001b[0m\u001b[0msettings\u001b[0m\u001b[0;34m.\u001b[0m\u001b[0mdropbox_directory\u001b[0m\u001b[0;34m+\u001b[0m\u001b[0;34m'/om_data/annotation/iJO1366.xml'\u001b[0m\u001b[0;34m)\u001b[0m\u001b[0;34m\u001b[0m\u001b[0m\n\u001b[0m\u001b[1;32m     12\u001b[0m \u001b[0;34m\u001b[0m\u001b[0m\n\u001b[1;32m     13\u001b[0m \u001b[0;34m\u001b[0m\u001b[0m\n",
        "\u001b[0;31mAttributeError\u001b[0m: 'module' object has no attribute 'read_sbml_model'"
       ]
      }
     ],
     "prompt_number": 1
    },
    {
     "cell_type": "code",
     "collapsed": false,
     "input": [
      "get_regulation_data(model.reactions.GAPD, expanded_dataset=True)"
     ],
     "language": "python",
     "metadata": {},
     "outputs": [
      {
       "metadata": {},
       "output_type": "pyout",
       "prompt_number": 2,
       "text": [
        "[{'carbon_source': u'glycerol',\n",
        "  'dataset': 348,\n",
        "  'electron_acceptor': u'O2',\n",
        "  'gene': u'gapA',\n",
        "  'nitrogen_source': u'NH4Cl',\n",
        "  'regulator': u'Crp',\n",
        "  'type': 'transcriptional',\n",
        "  'value': -0.597566}]"
       ]
      }
     ],
     "prompt_number": 2
    },
    {
     "cell_type": "code",
     "collapsed": false,
     "input": [
      "pd.DataFrame(get_regulation_data(model.reactions.SUCDi.id, expanded_dataset=True))"
     ],
     "language": "python",
     "metadata": {},
     "outputs": [
      {
       "html": [
        "<div style=\"max-height:1000px;max-width:1500px;overflow:auto;\">\n",
        "<table border=\"1\" class=\"dataframe\">\n",
        "  <thead>\n",
        "    <tr style=\"text-align: right;\">\n",
        "      <th></th>\n",
        "      <th>carbon_source</th>\n",
        "      <th>dataset</th>\n",
        "      <th>electron_acceptor</th>\n",
        "      <th>gene</th>\n",
        "      <th>nitrogen_source</th>\n",
        "      <th>regulator</th>\n",
        "      <th>type</th>\n",
        "      <th>value</th>\n",
        "    </tr>\n",
        "  </thead>\n",
        "  <tbody>\n",
        "    <tr>\n",
        "      <th>0</th>\n",
        "      <td> fructose</td>\n",
        "      <td> 353</td>\n",
        "      <td> O2</td>\n",
        "      <td> sdhA</td>\n",
        "      <td> NH4Cl</td>\n",
        "      <td> Crp</td>\n",
        "      <td> transcriptional</td>\n",
        "      <td> 3.34091</td>\n",
        "    </tr>\n",
        "    <tr>\n",
        "      <th>1</th>\n",
        "      <td> glycerol</td>\n",
        "      <td> 348</td>\n",
        "      <td> O2</td>\n",
        "      <td> sdhC</td>\n",
        "      <td> NH4Cl</td>\n",
        "      <td> Crp</td>\n",
        "      <td> transcriptional</td>\n",
        "      <td> 4.83934</td>\n",
        "    </tr>\n",
        "    <tr>\n",
        "      <th>2</th>\n",
        "      <td> glycerol</td>\n",
        "      <td> 348</td>\n",
        "      <td> O2</td>\n",
        "      <td> sdhA</td>\n",
        "      <td> NH4Cl</td>\n",
        "      <td> Crp</td>\n",
        "      <td> transcriptional</td>\n",
        "      <td> 4.56710</td>\n",
        "    </tr>\n",
        "    <tr>\n",
        "      <th>3</th>\n",
        "      <td> fructose</td>\n",
        "      <td> 353</td>\n",
        "      <td> O2</td>\n",
        "      <td> sdhC</td>\n",
        "      <td> NH4Cl</td>\n",
        "      <td> Crp</td>\n",
        "      <td> transcriptional</td>\n",
        "      <td> 4.05329</td>\n",
        "    </tr>\n",
        "    <tr>\n",
        "      <th>4</th>\n",
        "      <td> glycerol</td>\n",
        "      <td> 348</td>\n",
        "      <td> O2</td>\n",
        "      <td> sdhB</td>\n",
        "      <td> NH4Cl</td>\n",
        "      <td> Crp</td>\n",
        "      <td> transcriptional</td>\n",
        "      <td> 4.87014</td>\n",
        "    </tr>\n",
        "    <tr>\n",
        "      <th>5</th>\n",
        "      <td> glycerol</td>\n",
        "      <td> 348</td>\n",
        "      <td> O2</td>\n",
        "      <td> sdhD</td>\n",
        "      <td> NH4Cl</td>\n",
        "      <td> Crp</td>\n",
        "      <td> transcriptional</td>\n",
        "      <td> 5.26012</td>\n",
        "    </tr>\n",
        "    <tr>\n",
        "      <th>6</th>\n",
        "      <td> fructose</td>\n",
        "      <td> 353</td>\n",
        "      <td> O2</td>\n",
        "      <td> sdhB</td>\n",
        "      <td> NH4Cl</td>\n",
        "      <td> Crp</td>\n",
        "      <td> transcriptional</td>\n",
        "      <td> 3.70510</td>\n",
        "    </tr>\n",
        "    <tr>\n",
        "      <th>7</th>\n",
        "      <td> fructose</td>\n",
        "      <td> 353</td>\n",
        "      <td> O2</td>\n",
        "      <td> sdhD</td>\n",
        "      <td> NH4Cl</td>\n",
        "      <td> Crp</td>\n",
        "      <td> transcriptional</td>\n",
        "      <td> 3.74934</td>\n",
        "    </tr>\n",
        "  </tbody>\n",
        "</table>\n",
        "</div>"
       ],
       "metadata": {},
       "output_type": "pyout",
       "prompt_number": 4,
       "text": [
        "  carbon_source  dataset electron_acceptor  gene nitrogen_source regulator  \\\n",
        "0      fructose      353                O2  sdhA           NH4Cl       Crp   \n",
        "1      glycerol      348                O2  sdhC           NH4Cl       Crp   \n",
        "2      glycerol      348                O2  sdhA           NH4Cl       Crp   \n",
        "3      fructose      353                O2  sdhC           NH4Cl       Crp   \n",
        "4      glycerol      348                O2  sdhB           NH4Cl       Crp   \n",
        "5      glycerol      348                O2  sdhD           NH4Cl       Crp   \n",
        "6      fructose      353                O2  sdhB           NH4Cl       Crp   \n",
        "7      fructose      353                O2  sdhD           NH4Cl       Crp   \n",
        "\n",
        "              type    value  \n",
        "0  transcriptional  3.34091  \n",
        "1  transcriptional  4.83934  \n",
        "2  transcriptional  4.56710  \n",
        "3  transcriptional  4.05329  \n",
        "4  transcriptional  4.87014  \n",
        "5  transcriptional  5.26012  \n",
        "6  transcriptional  3.70510  \n",
        "7  transcriptional  3.74934  "
       ]
      }
     ],
     "prompt_number": 4
    },
    {
     "cell_type": "code",
     "collapsed": false,
     "input": [
      "s = model.reactions.SUCDi"
     ],
     "language": "python",
     "metadata": {},
     "outputs": [],
     "prompt_number": 12
    },
    {
     "cell_type": "code",
     "collapsed": false,
     "input": [
      "from om.data import *"
     ],
     "language": "python",
     "metadata": {},
     "outputs": [],
     "prompt_number": 2
    },
    {
     "cell_type": "code",
     "collapsed": false,
     "input": [],
     "language": "python",
     "metadata": {},
     "outputs": []
    }
   ],
   "metadata": {}
  }
 ]
}