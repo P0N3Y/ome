{
 "metadata": {
  "name": "",
  "signature": "sha256:7093ad2721391a27d84ca95ba8af1de282baa037ef4266a3ed8b19edd8111b57"
 },
 "nbformat": 3,
 "nbformat_minor": 0,
 "worksheets": [
  {
   "cells": [
    {
     "cell_type": "markdown",
     "metadata": {},
     "source": [
      "***\n",
      "##This notebook demonstrates loading and unloading of datasets into the OME Framework\n",
      "***"
     ]
    },
    {
     "cell_type": "markdown",
     "metadata": {},
     "source": [
      "1. Import the **data_loading** module from **ome.loading** along with the **datasets** module"
     ]
    },
    {
     "cell_type": "code",
     "collapsed": false,
     "input": [
      "from ome.loading import data_loading\n",
      "from ome.data import *"
     ],
     "language": "python",
     "metadata": {},
     "outputs": [],
     "prompt_number": 1
    },
    {
     "cell_type": "markdown",
     "metadata": {},
     "source": [
      "Also don't forget to create a session for the database"
     ]
    },
    {
     "cell_type": "code",
     "collapsed": false,
     "input": [
      "from ome import base\n",
      "\n",
      "session = base.Session()"
     ],
     "language": "python",
     "metadata": {},
     "outputs": [],
     "prompt_number": 2
    },
    {
     "cell_type": "code",
     "collapsed": false,
     "input": [
      "data_loading.load_extra_analyses"
     ],
     "language": "python",
     "metadata": {},
     "outputs": [
      {
       "ename": "NameError",
       "evalue": "name 'data_loading' is not defined",
       "output_type": "pyerr",
       "traceback": [
        "\u001b[0;31m---------------------------------------------------------------------------\u001b[0m\n\u001b[0;31mNameError\u001b[0m                                 Traceback (most recent call last)",
        "\u001b[0;32m<ipython-input-2-7721d21a1fc0>\u001b[0m in \u001b[0;36m<module>\u001b[0;34m()\u001b[0m\n\u001b[0;32m----> 1\u001b[0;31m \u001b[0mdata_loading\u001b[0m\u001b[0;34m.\u001b[0m\u001b[0mload_extra_analyses\u001b[0m\u001b[0;34m\u001b[0m\u001b[0m\n\u001b[0m",
        "\u001b[0;31mNameError\u001b[0m: name 'data_loading' is not defined"
       ]
      }
     ],
     "prompt_number": 2
    },
    {
     "cell_type": "code",
     "collapsed": false,
     "input": [],
     "language": "python",
     "metadata": {},
     "outputs": []
    }
   ],
   "metadata": {}
  }
 ]
}