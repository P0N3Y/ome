{
 "metadata": {
  "name": "",
  "signature": "sha256:14f96b4255a2dd82a6263c795924ad2c7d12e5c0e125af8261970ed01eb93e61"
 },
 "nbformat": 3,
 "nbformat_minor": 0,
 "worksheets": [
  {
   "cells": [
    {
     "cell_type": "markdown",
     "metadata": {},
     "source": [
      "***\n",
      "##This notebook demonstrates loading and unloading of datasets into the OME Framework\n",
      "***"
     ]
    },
    {
     "cell_type": "markdown",
     "metadata": {},
     "source": [
      "1. Import the **data_loading** module from **ome.loading** along with the **datasets** module"
     ]
    },
    {
     "cell_type": "code",
     "collapsed": false,
     "input": [
      "from ome.loading import data_loading\n",
      "from ome.data import *"
     ],
     "language": "python",
     "metadata": {},
     "outputs": [],
     "prompt_number": 1
    },
    {
     "cell_type": "markdown",
     "metadata": {},
     "source": [
      "Also don't forget to create a session for the database"
     ]
    },
    {
     "cell_type": "code",
     "collapsed": false,
     "input": [
      "from ome import base\n",
      "\n",
      "session = base.Session()"
     ],
     "language": "python",
     "metadata": {},
     "outputs": [],
     "prompt_number": 1
    },
    {
     "cell_type": "code",
     "collapsed": false,
     "input": [
      "data_loading.load_extra_analyses"
     ],
     "language": "python",
     "metadata": {},
     "outputs": [
      {
       "metadata": {},
       "output_type": "pyout",
       "prompt_number": 3,
       "text": [
        "<function ome.wrapper>"
       ]
      }
     ],
     "prompt_number": 3
    },
    {
     "cell_type": "code",
     "collapsed": false,
     "input": [],
     "language": "python",
     "metadata": {},
     "outputs": []
    },
    {
     "cell_type": "code",
     "collapsed": false,
     "input": [],
     "language": "python",
     "metadata": {},
     "outputs": []
    },
    {
     "cell_type": "heading",
     "level": 3,
     "metadata": {},
     "source": [
      "Loading groups"
     ]
    },
    {
     "cell_type": "code",
     "collapsed": false,
     "input": [
      "from ome import util\n",
      "from ome.components import *\n",
      "\n",
      "ecoli_k12 = session.query(base.Chromosome).filter(base.Chromosome.ncbi_id == 'NC_000913.2').one()\n",
      "util.add_gene_group('fermentation_targets', ['adhE','hyfA','pdhR'], ecoli_k12)\n",
      "util.add_gene_group('aa_biosynth', ['leuA','tyrB','pheA','aroH'], ecoli_k12)\n"
     ],
     "language": "python",
     "metadata": {},
     "outputs": [],
     "prompt_number": 6
    },
    {
     "cell_type": "code",
     "collapsed": false,
     "input": [
      "session.query(GeneGroup).all()"
     ],
     "language": "python",
     "metadata": {},
     "outputs": [
      {
       "metadata": {},
       "output_type": "pyout",
       "prompt_number": 7,
       "text": [
        "[Gene Group (#1, fermentation_targets): adhE, hyfA, pdhR,\n",
        " Gene Group (#2, aa_biosynth): leuA, tyrB, pheA, aroH]"
       ]
      }
     ],
     "prompt_number": 7
    },
    {
     "cell_type": "code",
     "collapsed": false,
     "input": [
      "gg = session.query(GeneGroup).first()\n",
      "session.delete(gg)"
     ],
     "language": "python",
     "metadata": {},
     "outputs": [],
     "prompt_number": 10
    },
    {
     "cell_type": "code",
     "collapsed": false,
     "input": [
      "session.query(GeneGroup).all()"
     ],
     "language": "python",
     "metadata": {},
     "outputs": [
      {
       "metadata": {},
       "output_type": "pyout",
       "prompt_number": 11,
       "text": [
        "[Gene Group (#2, aa_biosynth): leuA, tyrB, pheA, aroH]"
       ]
      }
     ],
     "prompt_number": 11
    },
    {
     "cell_type": "code",
     "collapsed": false,
     "input": [],
     "language": "python",
     "metadata": {},
     "outputs": []
    }
   ],
   "metadata": {}
  }
 ]
}